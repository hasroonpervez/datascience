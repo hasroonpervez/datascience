{
  "nbformat": 4,
  "nbformat_minor": 0,
  "metadata": {
    "colab": {
      "name": "boosting models challenge Which model?.ipynb",
      "provenance": [],
      "authorship_tag": "ABX9TyOlkdiBO0gdiNkv8cPOoJDJ",
      "include_colab_link": true
    },
    "kernelspec": {
      "name": "python3",
      "display_name": "Python 3"
    }
  },
  "cells": [
    {
      "cell_type": "markdown",
      "metadata": {
        "id": "view-in-github",
        "colab_type": "text"
      },
      "source": [
        "<a href=\"https://colab.research.google.com/github/hasroonpervez/datascience/blob/master/boosting%20models%20challenge%20Which%20model%3F.ipynb\" target=\"_parent\"><img src=\"https://colab.research.google.com/assets/colab-badge.svg\" alt=\"Open In Colab\"/></a>"
      ]
    },
    {
      "cell_type": "markdown",
      "metadata": {
        "id": "ZOHZrhWBnk9x",
        "colab_type": "text"
      },
      "source": [
        "**You now have a fairly substantial starting toolbox of supervised learning methods that you can use to tackle a host of exciting problems. To make sure all of these ideas are organized in your mind, please go through the list of problems below. For each, identify which supervised learning method(s) would be best for addressing that particular problem. Explain your reasoning and discuss your answers with your mentor.**"
      ]
    },
    {
      "cell_type": "markdown",
      "metadata": {
        "id": "rkapKvG2nn3U",
        "colab_type": "text"
      },
      "source": [
        "#**1. Predict the running times of prospective Olympic sprinters using data from the last 20 Olympics.**"
      ]
    },
    {
      "cell_type": "markdown",
      "metadata": {
        "id": "_T_IHEdUoVWX",
        "colab_type": "text"
      },
      "source": [
        "What I imagine would be the most important inputs--Olympics year, runner age and weight, maybe bodyfat composition or some other measure of body composition/muscle mass?, VO2 max or some measure of lung capacity--and target (run time) are all continuous. If gender is important, it can easily be encoded. Basic OLS regression is well-suited to the task.\n",
        "\n",
        "It's possible that future run times will be faster than those from previous Olympics--this puts them outside of the ability of a random forest for instance, which can only predict values within a range it has already seen."
      ]
    },
    {
      "cell_type": "markdown",
      "metadata": {
        "id": "q-1MfuKEns6t",
        "colab_type": "text"
      },
      "source": [
        "#**2. You have more features (columns) than rows in your dataset.**"
      ]
    },
    {
      "cell_type": "markdown",
      "metadata": {
        "id": "m0mhrjd3oWA3",
        "colab_type": "text"
      },
      "source": [
        "It's not clear whether the dataset here is small, or whether there are simply more columns than rows (meaning potentially a lot of columns).\n",
        "\n",
        "Ridge or Lasso can help reduce the number/influence of insignificant features. They both work by minimizing the coefficients of features that don't contribute a lot, ideally reducing those coefficients to zero and effectively eliminating the features from consideration.\n",
        "\n",
        "A random forest will not necessarily care about all of the features and may be able to handle this dataset without a lot of problems."
      ]
    },
    {
      "cell_type": "markdown",
      "metadata": {
        "id": "8JY2Xwbinw95",
        "colab_type": "text"
      },
      "source": [
        "#**3. Identify the most important characteristic predicting likelihood of being jailed before age 20.**"
      ]
    },
    {
      "cell_type": "markdown",
      "metadata": {
        "id": "ncWFGnz9oW4R",
        "colab_type": "text"
      },
      "source": [
        "A classifier model would be most useful here.\n",
        "\n",
        "A decision tree could be a good candidate:\n",
        "\n",
        "Being jailed or not is a binary outcome.\n",
        "I imagine a lot of the data here would be categorical in nature, or could be easily converted to categorical via one-hot encoding, or label encoding.\n",
        "The ID3 algorithm often used to generate a decision tree would identify the most important features, in order to create rules to split the data on those features first.\n",
        "Logistic regression may also be a good choice here."
      ]
    },
    {
      "cell_type": "markdown",
      "metadata": {
        "id": "RrKcRLRwn2XV",
        "colab_type": "text"
      },
      "source": [
        "#**4. Implement a filter to “highlight” emails that might be important to the recipient**"
      ]
    },
    {
      "cell_type": "markdown",
      "metadata": {
        "id": "ARLC2ZUQoXlB",
        "colab_type": "text"
      },
      "source": [
        "A Naive Bayes classifier can work from a list of keywords or key phrases, with a binary output (either \"important\" or not)."
      ]
    },
    {
      "cell_type": "markdown",
      "metadata": {
        "id": "cLZ_Rm_Vn7Sd",
        "colab_type": "text"
      },
      "source": [
        "#**5. You have 1000+ features.**"
      ]
    },
    {
      "cell_type": "markdown",
      "metadata": {
        "id": "k6JFJGWEoYM1",
        "colab_type": "text"
      },
      "source": [
        "Again, Ridge or Lasso may help reduce the features.\n",
        "\n",
        "If maintaining the features as-is is not a concern, Principal Component Analysis can combine features with similar variance, allowing you to reduce the set of features to something more manageable and significant.\n",
        "\n",
        "I also chatted with my mentor about this one--he suggested a random forest may be good here. Each individual tree won't necessarily look at all of the features, but together the forest will likely cover them all, and collectively, they will be able to sort through and find the most important features."
      ]
    },
    {
      "cell_type": "markdown",
      "metadata": {
        "id": "MNIMAlWgn_Z6",
        "colab_type": "text"
      },
      "source": [
        "#**6. Predict whether someone who adds items to their cart on a website will purchase the items.**"
      ]
    },
    {
      "cell_type": "markdown",
      "metadata": {
        "id": "jSJ1YBjRoZdu",
        "colab_type": "text"
      },
      "source": [
        "KNN or SVC? The Support Vector Classifier should allow us to find a hyperplane that divides the two classes (will purchase vs. won't purchase). Similarly, KNN would likely show us that past purchasers have some similar attributes that group them together.\n",
        "\n",
        "A decision tree or random forest could also handle this--maybe a random forest, since the task doesn't specify that we need to know which features the model deems most important."
      ]
    },
    {
      "cell_type": "markdown",
      "metadata": {
        "id": "pTfi4STKoF4X",
        "colab_type": "text"
      },
      "source": [
        "#**7. Your dataset dimensions are 982400 x 500**"
      ]
    },
    {
      "cell_type": "markdown",
      "metadata": {
        "id": "KoTmCbh0oaLq",
        "colab_type": "text"
      },
      "source": [
        "Ridge or Lasso, or PCA, to reduce features?\n",
        "\n",
        "This feels kind of similar to #5 above, so I'm not sure if there is another tool I should mention...?"
      ]
    },
    {
      "cell_type": "markdown",
      "metadata": {
        "id": "y9C9bH6ToKi9",
        "colab_type": "text"
      },
      "source": [
        "#**8. Identify faces in an image.**"
      ]
    },
    {
      "cell_type": "markdown",
      "metadata": {
        "id": "HAx7QXCVoalb",
        "colab_type": "text"
      },
      "source": [
        "This is a task for a classifier. Honestly I don't know much about facial recognition, but I imagine it involves applying some standard patterns to the image to see which are a match, then using the results of those pattern matches to say 1) whether there is a face and 2) where it is in the image.\n",
        "\n",
        "Whether anything else happens after this depends on the definition of \"identify\" here--are we looking for a face? Or by \"identify\", should we understand that we need to decide whose face we found?\n",
        "\n",
        "If we need to figure out whose face we found, that would be another classifier--I imagine some implementation of either a random forest, or a KNN classifier, to use known attributes (and probably a user's friend circle, if this is on any of the social media platforms) to whittle down the possibilities to a best candidate."
      ]
    },
    {
      "cell_type": "markdown",
      "metadata": {
        "id": "v3b0Zd5eoOrI",
        "colab_type": "text"
      },
      "source": [
        "#**9. Predict which of three flavors of ice cream will be most popular with boys vs girls.**"
      ]
    },
    {
      "cell_type": "markdown",
      "metadata": {
        "id": "2rBsHh2QoTxs",
        "colab_type": "text"
      },
      "source": [
        "Ice cream flavors and gender are both categorical, so a classifier is the best fit here.\n",
        "\n",
        "What additional data about the ice cream is available, to help drive the predictions?\n",
        "\n",
        "KNN may be a good choice...?"
      ]
    },
    {
      "cell_type": "code",
      "metadata": {
        "id": "Ngg7T9SCqliw",
        "colab_type": "code",
        "colab": {}
      },
      "source": [
        ""
      ],
      "execution_count": null,
      "outputs": []
    }
  ]
}