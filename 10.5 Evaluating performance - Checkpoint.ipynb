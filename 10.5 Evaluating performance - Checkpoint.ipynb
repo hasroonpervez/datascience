{
  "nbformat": 4,
  "nbformat_minor": 0,
  "metadata": {
    "colab": {
      "name": "Evaluating performance - Checkpoint.ipynb",
      "provenance": [],
      "toc_visible": true,
      "authorship_tag": "ABX9TyNx7ZEpSWUA0QKQxj6+3ly8"
    },
    "kernelspec": {
      "name": "python3",
      "display_name": "Python 3"
    }
  },
  "cells": [
    {
      "cell_type": "markdown",
      "metadata": {
        "id": "nCldX4CF9GNw",
        "colab_type": "text"
      },
      "source": [
        "#Exercise 1: Weather model\n",
        "\n",
        "**1.1** First, load the dataset from the weatherinszeged table from Thinkful's database.\n",
        "\n",
        "**1.2** Like in the previous checkpoint, build a linear regression model where your target variable is the difference between the apparenttemperature and the temperature. As explanatory variables, use humidity and windspeed. Now, estimate your model using OLS. What are the R-squared and adjusted R-squared values? Do you think they are satisfactory? Why?\n",
        "\n",
        "**1.3** Next, include the interaction of humidity and windspeed to the model above and estimate the model using OLS. Now, what is the R-squared of this model? Does this model improve upon the previous one?\n",
        "\n",
        "**1.4** Add visibility as an additional explanatory variable to the first model and estimate it. Did R-squared increase? What about adjusted R-squared? Compare the differences put on the table by the interaction term and the visibility in terms of the improvement in the adjusted R-squared. Which one is more useful?\n",
        "\n",
        "**1.5** Choose the best one from the three models above with respect to their AIC and BIC scores. Validate your choice by discussing your justification with your mentor."
      ]
    },
    {
      "cell_type": "markdown",
      "metadata": {
        "id": "rZI4xC4a9wyj",
        "colab_type": "text"
      },
      "source": [
        "* **1.1 First, load the dataset from the weatherinszeged table from Thinkful's database.**"
      ]
    },
    {
      "cell_type": "code",
      "metadata": {
        "id": "BD59eVHZ90gR",
        "colab_type": "code",
        "colab": {
          "base_uri": "https://localhost:8080/",
          "height": 71
        },
        "outputId": "3638c1c4-4db3-48e9-cc93-ff200fbc05c0"
      },
      "source": [
        "import matplotlib.pyplot as plt\n",
        "import numpy as np\n",
        "import pandas as pd\n",
        "import seaborn as sns\n",
        "from sklearn import linear_model\n",
        "import statsmodels.api as sm\n",
        "import statsmodels.formula.api as smf\n",
        "from sqlalchemy import create_engine\n",
        "\n",
        "\n",
        "import warnings\n",
        "warnings.filterwarnings('ignore')\n"
      ],
      "execution_count": 1,
      "outputs": [
        {
          "output_type": "stream",
          "text": [
            "/usr/local/lib/python3.6/dist-packages/statsmodels/tools/_testing.py:19: FutureWarning: pandas.util.testing is deprecated. Use the functions in the public API at pandas.testing instead.\n",
            "  import pandas.util.testing as tm\n"
          ],
          "name": "stderr"
        }
      ]
    },
    {
      "cell_type": "code",
      "metadata": {
        "id": "SuvjPd6U-MgB",
        "colab_type": "code",
        "colab": {
          "base_uri": "https://localhost:8080/",
          "height": 374
        },
        "outputId": "36cd8985-1c29-4c13-e24c-31ef7521b12c"
      },
      "source": [
        "postgres_user = 'dsbc_student'\n",
        "postgres_pw = '7*.8G9QH21'\n",
        "postgres_host = '142.93.121.174'\n",
        "postgres_port = '5432'\n",
        "postgres_db = 'weatherinszeged'\n",
        "engine = create_engine('postgresql://{}:{}@{}:{}/{}'.format(\n",
        "    postgres_user, postgres_pw, postgres_host, postgres_port, postgres_db))\n",
        "weather_df = pd.read_sql_query('select * from weatherinszeged',con=engine)\n",
        "\n",
        "# no need for an open connection, as we're only doing a single query\n",
        "engine.dispose()\n",
        "\n",
        "weather_df.head()\n"
      ],
      "execution_count": 2,
      "outputs": [
        {
          "output_type": "execute_result",
          "data": {
            "text/html": [
              "<div>\n",
              "<style scoped>\n",
              "    .dataframe tbody tr th:only-of-type {\n",
              "        vertical-align: middle;\n",
              "    }\n",
              "\n",
              "    .dataframe tbody tr th {\n",
              "        vertical-align: top;\n",
              "    }\n",
              "\n",
              "    .dataframe thead th {\n",
              "        text-align: right;\n",
              "    }\n",
              "</style>\n",
              "<table border=\"1\" class=\"dataframe\">\n",
              "  <thead>\n",
              "    <tr style=\"text-align: right;\">\n",
              "      <th></th>\n",
              "      <th>date</th>\n",
              "      <th>summary</th>\n",
              "      <th>preciptype</th>\n",
              "      <th>temperature</th>\n",
              "      <th>apparenttemperature</th>\n",
              "      <th>humidity</th>\n",
              "      <th>windspeed</th>\n",
              "      <th>windbearing</th>\n",
              "      <th>visibility</th>\n",
              "      <th>loudcover</th>\n",
              "      <th>pressure</th>\n",
              "      <th>dailysummary</th>\n",
              "    </tr>\n",
              "  </thead>\n",
              "  <tbody>\n",
              "    <tr>\n",
              "      <th>0</th>\n",
              "      <td>2006-03-31 22:00:00+00:00</td>\n",
              "      <td>Partly Cloudy</td>\n",
              "      <td>rain</td>\n",
              "      <td>9.472222</td>\n",
              "      <td>7.388889</td>\n",
              "      <td>0.89</td>\n",
              "      <td>14.1197</td>\n",
              "      <td>251.0</td>\n",
              "      <td>15.8263</td>\n",
              "      <td>0.0</td>\n",
              "      <td>1015.13</td>\n",
              "      <td>Partly cloudy throughout the day.</td>\n",
              "    </tr>\n",
              "    <tr>\n",
              "      <th>1</th>\n",
              "      <td>2006-03-31 23:00:00+00:00</td>\n",
              "      <td>Partly Cloudy</td>\n",
              "      <td>rain</td>\n",
              "      <td>9.355556</td>\n",
              "      <td>7.227778</td>\n",
              "      <td>0.86</td>\n",
              "      <td>14.2646</td>\n",
              "      <td>259.0</td>\n",
              "      <td>15.8263</td>\n",
              "      <td>0.0</td>\n",
              "      <td>1015.63</td>\n",
              "      <td>Partly cloudy throughout the day.</td>\n",
              "    </tr>\n",
              "    <tr>\n",
              "      <th>2</th>\n",
              "      <td>2006-04-01 00:00:00+00:00</td>\n",
              "      <td>Mostly Cloudy</td>\n",
              "      <td>rain</td>\n",
              "      <td>9.377778</td>\n",
              "      <td>9.377778</td>\n",
              "      <td>0.89</td>\n",
              "      <td>3.9284</td>\n",
              "      <td>204.0</td>\n",
              "      <td>14.9569</td>\n",
              "      <td>0.0</td>\n",
              "      <td>1015.94</td>\n",
              "      <td>Partly cloudy throughout the day.</td>\n",
              "    </tr>\n",
              "    <tr>\n",
              "      <th>3</th>\n",
              "      <td>2006-04-01 01:00:00+00:00</td>\n",
              "      <td>Partly Cloudy</td>\n",
              "      <td>rain</td>\n",
              "      <td>8.288889</td>\n",
              "      <td>5.944444</td>\n",
              "      <td>0.83</td>\n",
              "      <td>14.1036</td>\n",
              "      <td>269.0</td>\n",
              "      <td>15.8263</td>\n",
              "      <td>0.0</td>\n",
              "      <td>1016.41</td>\n",
              "      <td>Partly cloudy throughout the day.</td>\n",
              "    </tr>\n",
              "    <tr>\n",
              "      <th>4</th>\n",
              "      <td>2006-04-01 02:00:00+00:00</td>\n",
              "      <td>Mostly Cloudy</td>\n",
              "      <td>rain</td>\n",
              "      <td>8.755556</td>\n",
              "      <td>6.977778</td>\n",
              "      <td>0.83</td>\n",
              "      <td>11.0446</td>\n",
              "      <td>259.0</td>\n",
              "      <td>15.8263</td>\n",
              "      <td>0.0</td>\n",
              "      <td>1016.51</td>\n",
              "      <td>Partly cloudy throughout the day.</td>\n",
              "    </tr>\n",
              "  </tbody>\n",
              "</table>\n",
              "</div>"
            ],
            "text/plain": [
              "                       date  ...                       dailysummary\n",
              "0 2006-03-31 22:00:00+00:00  ...  Partly cloudy throughout the day.\n",
              "1 2006-03-31 23:00:00+00:00  ...  Partly cloudy throughout the day.\n",
              "2 2006-04-01 00:00:00+00:00  ...  Partly cloudy throughout the day.\n",
              "3 2006-04-01 01:00:00+00:00  ...  Partly cloudy throughout the day.\n",
              "4 2006-04-01 02:00:00+00:00  ...  Partly cloudy throughout the day.\n",
              "\n",
              "[5 rows x 12 columns]"
            ]
          },
          "metadata": {
            "tags": []
          },
          "execution_count": 2
        }
      ]
    },
    {
      "cell_type": "markdown",
      "metadata": {
        "id": "LtNIlbbD-ZgK",
        "colab_type": "text"
      },
      "source": [
        "* **1.2 Like in the previous checkpoint, build a linear regression model where your target variable is the difference between the apparenttemperature and the temperature. As explanatory variables, use humidity and windspeed. Now, estimate your model using OLS. What are the R-squared and adjusted R-squared values? Do you think they are satisfactory? Why?**"
      ]
    },
    {
      "cell_type": "code",
      "metadata": {
        "id": "bCYwVr66-Xbe",
        "colab_type": "code",
        "colab": {
          "base_uri": "https://localhost:8080/",
          "height": 465
        },
        "outputId": "133ffb1a-e7d8-4f9d-f8c7-e4f57b9cf4ab"
      },
      "source": [
        "# Y is the target variable\n",
        "Y = weather_df['apparenttemperature'] - weather_df['temperature']\n",
        "# X is the feature set\n",
        "X = weather_df[['humidity','windspeed']]\n",
        "\n",
        "# add a constant to the features\n",
        "X = sm.add_constant(X)\n",
        "\n",
        "results = sm.OLS(Y, X).fit()\n",
        "\n",
        "results.summary()"
      ],
      "execution_count": 3,
      "outputs": [
        {
          "output_type": "execute_result",
          "data": {
            "text/html": [
              "<table class=\"simpletable\">\n",
              "<caption>OLS Regression Results</caption>\n",
              "<tr>\n",
              "  <th>Dep. Variable:</th>            <td>y</td>        <th>  R-squared:         </th>  <td>   0.288</td>  \n",
              "</tr>\n",
              "<tr>\n",
              "  <th>Model:</th>                   <td>OLS</td>       <th>  Adj. R-squared:    </th>  <td>   0.288</td>  \n",
              "</tr>\n",
              "<tr>\n",
              "  <th>Method:</th>             <td>Least Squares</td>  <th>  F-statistic:       </th>  <td>1.949e+04</td> \n",
              "</tr>\n",
              "<tr>\n",
              "  <th>Date:</th>             <td>Sun, 19 Jul 2020</td> <th>  Prob (F-statistic):</th>   <td>  0.00</td>   \n",
              "</tr>\n",
              "<tr>\n",
              "  <th>Time:</th>                 <td>05:10:59</td>     <th>  Log-Likelihood:    </th> <td>-1.7046e+05</td>\n",
              "</tr>\n",
              "<tr>\n",
              "  <th>No. Observations:</th>      <td> 96453</td>      <th>  AIC:               </th>  <td>3.409e+05</td> \n",
              "</tr>\n",
              "<tr>\n",
              "  <th>Df Residuals:</th>          <td> 96450</td>      <th>  BIC:               </th>  <td>3.409e+05</td> \n",
              "</tr>\n",
              "<tr>\n",
              "  <th>Df Model:</th>              <td>     2</td>      <th>                     </th>      <td> </td>     \n",
              "</tr>\n",
              "<tr>\n",
              "  <th>Covariance Type:</th>      <td>nonrobust</td>    <th>                     </th>      <td> </td>     \n",
              "</tr>\n",
              "</table>\n",
              "<table class=\"simpletable\">\n",
              "<tr>\n",
              "      <td></td>         <th>coef</th>     <th>std err</th>      <th>t</th>      <th>P>|t|</th>  <th>[0.025</th>    <th>0.975]</th>  \n",
              "</tr>\n",
              "<tr>\n",
              "  <th>const</th>     <td>    2.4381</td> <td>    0.021</td> <td>  115.948</td> <td> 0.000</td> <td>    2.397</td> <td>    2.479</td>\n",
              "</tr>\n",
              "<tr>\n",
              "  <th>humidity</th>  <td>   -3.0292</td> <td>    0.024</td> <td> -126.479</td> <td> 0.000</td> <td>   -3.076</td> <td>   -2.982</td>\n",
              "</tr>\n",
              "<tr>\n",
              "  <th>windspeed</th> <td>   -0.1193</td> <td>    0.001</td> <td> -176.164</td> <td> 0.000</td> <td>   -0.121</td> <td>   -0.118</td>\n",
              "</tr>\n",
              "</table>\n",
              "<table class=\"simpletable\">\n",
              "<tr>\n",
              "  <th>Omnibus:</th>       <td>3935.747</td> <th>  Durbin-Watson:     </th> <td>   0.267</td>\n",
              "</tr>\n",
              "<tr>\n",
              "  <th>Prob(Omnibus):</th>  <td> 0.000</td>  <th>  Jarque-Bera (JB):  </th> <td>4613.311</td>\n",
              "</tr>\n",
              "<tr>\n",
              "  <th>Skew:</th>           <td>-0.478</td>  <th>  Prob(JB):          </th> <td>    0.00</td>\n",
              "</tr>\n",
              "<tr>\n",
              "  <th>Kurtosis:</th>       <td> 3.484</td>  <th>  Cond. No.          </th> <td>    88.1</td>\n",
              "</tr>\n",
              "</table><br/><br/>Warnings:<br/>[1] Standard Errors assume that the covariance matrix of the errors is correctly specified."
            ],
            "text/plain": [
              "<class 'statsmodels.iolib.summary.Summary'>\n",
              "\"\"\"\n",
              "                            OLS Regression Results                            \n",
              "==============================================================================\n",
              "Dep. Variable:                      y   R-squared:                       0.288\n",
              "Model:                            OLS   Adj. R-squared:                  0.288\n",
              "Method:                 Least Squares   F-statistic:                 1.949e+04\n",
              "Date:                Sun, 19 Jul 2020   Prob (F-statistic):               0.00\n",
              "Time:                        05:10:59   Log-Likelihood:            -1.7046e+05\n",
              "No. Observations:               96453   AIC:                         3.409e+05\n",
              "Df Residuals:                   96450   BIC:                         3.409e+05\n",
              "Df Model:                           2                                         \n",
              "Covariance Type:            nonrobust                                         \n",
              "==============================================================================\n",
              "                 coef    std err          t      P>|t|      [0.025      0.975]\n",
              "------------------------------------------------------------------------------\n",
              "const          2.4381      0.021    115.948      0.000       2.397       2.479\n",
              "humidity      -3.0292      0.024   -126.479      0.000      -3.076      -2.982\n",
              "windspeed     -0.1193      0.001   -176.164      0.000      -0.121      -0.118\n",
              "==============================================================================\n",
              "Omnibus:                     3935.747   Durbin-Watson:                   0.267\n",
              "Prob(Omnibus):                  0.000   Jarque-Bera (JB):             4613.311\n",
              "Skew:                          -0.478   Prob(JB):                         0.00\n",
              "Kurtosis:                       3.484   Cond. No.                         88.1\n",
              "==============================================================================\n",
              "\n",
              "Warnings:\n",
              "[1] Standard Errors assume that the covariance matrix of the errors is correctly specified.\n",
              "\"\"\""
            ]
          },
          "metadata": {
            "tags": []
          },
          "execution_count": 3
        }
      ]
    },
    {
      "cell_type": "markdown",
      "metadata": {
        "id": "tfH_TW3CAdzn",
        "colab_type": "text"
      },
      "source": [
        "**R-squared** and **adjusted R-squared** is not satisfactory at 0.288, both are low and therefore explain little variance in the model."
      ]
    },
    {
      "cell_type": "markdown",
      "metadata": {
        "id": "TarTy9CKBOgV",
        "colab_type": "text"
      },
      "source": [
        "* **1.2 Next, include the interaction of humidity and windspeed to the model above and estimate the model using OLS. Now, what is the R-squared of this model? Does this model improve upon the previous one?**"
      ]
    },
    {
      "cell_type": "code",
      "metadata": {
        "id": "fZBH5Qlq-9hH",
        "colab_type": "code",
        "colab": {
          "base_uri": "https://localhost:8080/",
          "height": 486
        },
        "outputId": "52047a73-ed5d-4b94-b9dd-0a89ce173849"
      },
      "source": [
        "weather_df['humidity_windspeed_interaction'] = weather_df.humidity * weather_df.windspeed\n",
        "\n",
        "Y = weather_df['apparenttemperature'] - weather_df['temperature'] \n",
        "\n",
        "X = weather_df[['humidity', 'windspeed', 'humidity_windspeed_interaction']]\n",
        "\n",
        "X = sm.add_constant(X)\n",
        "\n",
        "results = sm.OLS(Y, X).fit()\n",
        "\n",
        "results.summary()"
      ],
      "execution_count": 4,
      "outputs": [
        {
          "output_type": "execute_result",
          "data": {
            "text/html": [
              "<table class=\"simpletable\">\n",
              "<caption>OLS Regression Results</caption>\n",
              "<tr>\n",
              "  <th>Dep. Variable:</th>            <td>y</td>        <th>  R-squared:         </th>  <td>   0.341</td>  \n",
              "</tr>\n",
              "<tr>\n",
              "  <th>Model:</th>                   <td>OLS</td>       <th>  Adj. R-squared:    </th>  <td>   0.341</td>  \n",
              "</tr>\n",
              "<tr>\n",
              "  <th>Method:</th>             <td>Least Squares</td>  <th>  F-statistic:       </th>  <td>1.666e+04</td> \n",
              "</tr>\n",
              "<tr>\n",
              "  <th>Date:</th>             <td>Sun, 19 Jul 2020</td> <th>  Prob (F-statistic):</th>   <td>  0.00</td>   \n",
              "</tr>\n",
              "<tr>\n",
              "  <th>Time:</th>                 <td>05:10:59</td>     <th>  Log-Likelihood:    </th> <td>-1.6669e+05</td>\n",
              "</tr>\n",
              "<tr>\n",
              "  <th>No. Observations:</th>      <td> 96453</td>      <th>  AIC:               </th>  <td>3.334e+05</td> \n",
              "</tr>\n",
              "<tr>\n",
              "  <th>Df Residuals:</th>          <td> 96449</td>      <th>  BIC:               </th>  <td>3.334e+05</td> \n",
              "</tr>\n",
              "<tr>\n",
              "  <th>Df Model:</th>              <td>     3</td>      <th>                     </th>      <td> </td>     \n",
              "</tr>\n",
              "<tr>\n",
              "  <th>Covariance Type:</th>      <td>nonrobust</td>    <th>                     </th>      <td> </td>     \n",
              "</tr>\n",
              "</table>\n",
              "<table class=\"simpletable\">\n",
              "<tr>\n",
              "                 <td></td>                   <th>coef</th>     <th>std err</th>      <th>t</th>      <th>P>|t|</th>  <th>[0.025</th>    <th>0.975]</th>  \n",
              "</tr>\n",
              "<tr>\n",
              "  <th>const</th>                          <td>    0.0839</td> <td>    0.033</td> <td>    2.511</td> <td> 0.012</td> <td>    0.018</td> <td>    0.149</td>\n",
              "</tr>\n",
              "<tr>\n",
              "  <th>humidity</th>                       <td>    0.1775</td> <td>    0.043</td> <td>    4.133</td> <td> 0.000</td> <td>    0.093</td> <td>    0.262</td>\n",
              "</tr>\n",
              "<tr>\n",
              "  <th>windspeed</th>                      <td>    0.0905</td> <td>    0.002</td> <td>   36.797</td> <td> 0.000</td> <td>    0.086</td> <td>    0.095</td>\n",
              "</tr>\n",
              "<tr>\n",
              "  <th>humidity_windspeed_interaction</th> <td>   -0.2971</td> <td>    0.003</td> <td>  -88.470</td> <td> 0.000</td> <td>   -0.304</td> <td>   -0.291</td>\n",
              "</tr>\n",
              "</table>\n",
              "<table class=\"simpletable\">\n",
              "<tr>\n",
              "  <th>Omnibus:</th>       <td>4849.937</td> <th>  Durbin-Watson:     </th> <td>   0.265</td>\n",
              "</tr>\n",
              "<tr>\n",
              "  <th>Prob(Omnibus):</th>  <td> 0.000</td>  <th>  Jarque-Bera (JB):  </th> <td>9295.404</td>\n",
              "</tr>\n",
              "<tr>\n",
              "  <th>Skew:</th>           <td>-0.378</td>  <th>  Prob(JB):          </th> <td>    0.00</td>\n",
              "</tr>\n",
              "<tr>\n",
              "  <th>Kurtosis:</th>       <td> 4.320</td>  <th>  Cond. No.          </th> <td>    193.</td>\n",
              "</tr>\n",
              "</table><br/><br/>Warnings:<br/>[1] Standard Errors assume that the covariance matrix of the errors is correctly specified."
            ],
            "text/plain": [
              "<class 'statsmodels.iolib.summary.Summary'>\n",
              "\"\"\"\n",
              "                            OLS Regression Results                            \n",
              "==============================================================================\n",
              "Dep. Variable:                      y   R-squared:                       0.341\n",
              "Model:                            OLS   Adj. R-squared:                  0.341\n",
              "Method:                 Least Squares   F-statistic:                 1.666e+04\n",
              "Date:                Sun, 19 Jul 2020   Prob (F-statistic):               0.00\n",
              "Time:                        05:10:59   Log-Likelihood:            -1.6669e+05\n",
              "No. Observations:               96453   AIC:                         3.334e+05\n",
              "Df Residuals:                   96449   BIC:                         3.334e+05\n",
              "Df Model:                           3                                         \n",
              "Covariance Type:            nonrobust                                         \n",
              "==================================================================================================\n",
              "                                     coef    std err          t      P>|t|      [0.025      0.975]\n",
              "--------------------------------------------------------------------------------------------------\n",
              "const                              0.0839      0.033      2.511      0.012       0.018       0.149\n",
              "humidity                           0.1775      0.043      4.133      0.000       0.093       0.262\n",
              "windspeed                          0.0905      0.002     36.797      0.000       0.086       0.095\n",
              "humidity_windspeed_interaction    -0.2971      0.003    -88.470      0.000      -0.304      -0.291\n",
              "==============================================================================\n",
              "Omnibus:                     4849.937   Durbin-Watson:                   0.265\n",
              "Prob(Omnibus):                  0.000   Jarque-Bera (JB):             9295.404\n",
              "Skew:                          -0.378   Prob(JB):                         0.00\n",
              "Kurtosis:                       4.320   Cond. No.                         193.\n",
              "==============================================================================\n",
              "\n",
              "Warnings:\n",
              "[1] Standard Errors assume that the covariance matrix of the errors is correctly specified.\n",
              "\"\"\""
            ]
          },
          "metadata": {
            "tags": []
          },
          "execution_count": 4
        }
      ]
    },
    {
      "cell_type": "markdown",
      "metadata": {
        "id": "5jD9xXoQDbET",
        "colab_type": "text"
      },
      "source": [
        "**Now, what is the R-squared of this model? Does this model improve upon the previous one?**\n",
        "\n",
        "**R-squared** and **adjusted R-squared** are higher, meaning this model did improve on the previous one."
      ]
    },
    {
      "cell_type": "markdown",
      "metadata": {
        "id": "3Kx8AAzDDkFT",
        "colab_type": "text"
      },
      "source": [
        "* **1.3 Add visibility as an additional explanatory variable to the first model and estimate it. Did R-squared increase? What about adjusted R-squared? Compare the differences put on the table by the interaction term and the visibility in terms of the improvement in the adjusted R-squared. Which one is more useful?**"
      ]
    },
    {
      "cell_type": "code",
      "metadata": {
        "id": "X62M3dxRCyYx",
        "colab_type": "code",
        "colab": {
          "base_uri": "https://localhost:8080/",
          "height": 486
        },
        "outputId": "46d46b0c-34a0-4ba0-a748-1f68cb40a7d7"
      },
      "source": [
        "# Y is the target variable\n",
        "Y = weather_df['apparenttemperature'] - weather_df['temperature']\n",
        "# X is the feature set\n",
        "X = weather_df[['humidity','windspeed', 'visibility']]\n",
        "\n",
        "# add a constant to the features\n",
        "X = sm.add_constant(X)\n",
        "\n",
        "results = sm.OLS(Y, X).fit()\n",
        "\n",
        "results.summary()"
      ],
      "execution_count": 5,
      "outputs": [
        {
          "output_type": "execute_result",
          "data": {
            "text/html": [
              "<table class=\"simpletable\">\n",
              "<caption>OLS Regression Results</caption>\n",
              "<tr>\n",
              "  <th>Dep. Variable:</th>            <td>y</td>        <th>  R-squared:         </th>  <td>   0.304</td>  \n",
              "</tr>\n",
              "<tr>\n",
              "  <th>Model:</th>                   <td>OLS</td>       <th>  Adj. R-squared:    </th>  <td>   0.303</td>  \n",
              "</tr>\n",
              "<tr>\n",
              "  <th>Method:</th>             <td>Least Squares</td>  <th>  F-statistic:       </th>  <td>1.401e+04</td> \n",
              "</tr>\n",
              "<tr>\n",
              "  <th>Date:</th>             <td>Sun, 19 Jul 2020</td> <th>  Prob (F-statistic):</th>   <td>  0.00</td>   \n",
              "</tr>\n",
              "<tr>\n",
              "  <th>Time:</th>                 <td>05:10:59</td>     <th>  Log-Likelihood:    </th> <td>-1.6938e+05</td>\n",
              "</tr>\n",
              "<tr>\n",
              "  <th>No. Observations:</th>      <td> 96453</td>      <th>  AIC:               </th>  <td>3.388e+05</td> \n",
              "</tr>\n",
              "<tr>\n",
              "  <th>Df Residuals:</th>          <td> 96449</td>      <th>  BIC:               </th>  <td>3.388e+05</td> \n",
              "</tr>\n",
              "<tr>\n",
              "  <th>Df Model:</th>              <td>     3</td>      <th>                     </th>      <td> </td>     \n",
              "</tr>\n",
              "<tr>\n",
              "  <th>Covariance Type:</th>      <td>nonrobust</td>    <th>                     </th>      <td> </td>     \n",
              "</tr>\n",
              "</table>\n",
              "<table class=\"simpletable\">\n",
              "<tr>\n",
              "       <td></td>         <th>coef</th>     <th>std err</th>      <th>t</th>      <th>P>|t|</th>  <th>[0.025</th>    <th>0.975]</th>  \n",
              "</tr>\n",
              "<tr>\n",
              "  <th>const</th>      <td>    1.5756</td> <td>    0.028</td> <td>   56.605</td> <td> 0.000</td> <td>    1.521</td> <td>    1.630</td>\n",
              "</tr>\n",
              "<tr>\n",
              "  <th>humidity</th>   <td>   -2.6066</td> <td>    0.025</td> <td> -102.784</td> <td> 0.000</td> <td>   -2.656</td> <td>   -2.557</td>\n",
              "</tr>\n",
              "<tr>\n",
              "  <th>windspeed</th>  <td>   -0.1199</td> <td>    0.001</td> <td> -179.014</td> <td> 0.000</td> <td>   -0.121</td> <td>   -0.119</td>\n",
              "</tr>\n",
              "<tr>\n",
              "  <th>visibility</th> <td>    0.0540</td> <td>    0.001</td> <td>   46.614</td> <td> 0.000</td> <td>    0.052</td> <td>    0.056</td>\n",
              "</tr>\n",
              "</table>\n",
              "<table class=\"simpletable\">\n",
              "<tr>\n",
              "  <th>Omnibus:</th>       <td>3833.895</td> <th>  Durbin-Watson:     </th> <td>   0.282</td>\n",
              "</tr>\n",
              "<tr>\n",
              "  <th>Prob(Omnibus):</th>  <td> 0.000</td>  <th>  Jarque-Bera (JB):  </th> <td>4584.022</td>\n",
              "</tr>\n",
              "<tr>\n",
              "  <th>Skew:</th>           <td>-0.459</td>  <th>  Prob(JB):          </th> <td>    0.00</td>\n",
              "</tr>\n",
              "<tr>\n",
              "  <th>Kurtosis:</th>       <td> 3.545</td>  <th>  Cond. No.          </th> <td>    131.</td>\n",
              "</tr>\n",
              "</table><br/><br/>Warnings:<br/>[1] Standard Errors assume that the covariance matrix of the errors is correctly specified."
            ],
            "text/plain": [
              "<class 'statsmodels.iolib.summary.Summary'>\n",
              "\"\"\"\n",
              "                            OLS Regression Results                            \n",
              "==============================================================================\n",
              "Dep. Variable:                      y   R-squared:                       0.304\n",
              "Model:                            OLS   Adj. R-squared:                  0.303\n",
              "Method:                 Least Squares   F-statistic:                 1.401e+04\n",
              "Date:                Sun, 19 Jul 2020   Prob (F-statistic):               0.00\n",
              "Time:                        05:10:59   Log-Likelihood:            -1.6938e+05\n",
              "No. Observations:               96453   AIC:                         3.388e+05\n",
              "Df Residuals:                   96449   BIC:                         3.388e+05\n",
              "Df Model:                           3                                         \n",
              "Covariance Type:            nonrobust                                         \n",
              "==============================================================================\n",
              "                 coef    std err          t      P>|t|      [0.025      0.975]\n",
              "------------------------------------------------------------------------------\n",
              "const          1.5756      0.028     56.605      0.000       1.521       1.630\n",
              "humidity      -2.6066      0.025   -102.784      0.000      -2.656      -2.557\n",
              "windspeed     -0.1199      0.001   -179.014      0.000      -0.121      -0.119\n",
              "visibility     0.0540      0.001     46.614      0.000       0.052       0.056\n",
              "==============================================================================\n",
              "Omnibus:                     3833.895   Durbin-Watson:                   0.282\n",
              "Prob(Omnibus):                  0.000   Jarque-Bera (JB):             4584.022\n",
              "Skew:                          -0.459   Prob(JB):                         0.00\n",
              "Kurtosis:                       3.545   Cond. No.                         131.\n",
              "==============================================================================\n",
              "\n",
              "Warnings:\n",
              "[1] Standard Errors assume that the covariance matrix of the errors is correctly specified.\n",
              "\"\"\""
            ]
          },
          "metadata": {
            "tags": []
          },
          "execution_count": 5
        }
      ]
    },
    {
      "cell_type": "markdown",
      "metadata": {
        "id": "IlLe-eiEFUMj",
        "colab_type": "text"
      },
      "source": [
        "**Did R-squared increase? What about adjusted R-squared?**\n",
        "\n",
        "Both increased over the first model, but decreased compared to the second.\n",
        "\n",
        "**Compare the differences put on the table by the interaction term and the visibility in terms of the improvement in the adjusted R-squared. Which one is more useful?**\n",
        "\n",
        "The interaction term did better in explaining model variance; while the visibility did enhance R2 by 0.02, the interaction term improved R2 by 0.06."
      ]
    },
    {
      "cell_type": "markdown",
      "metadata": {
        "id": "b5FGngpTGEIZ",
        "colab_type": "text"
      },
      "source": [
        "* **1.4 Choose the best one from the three models above with respect to their AIC and BIC scores. Validate your choice by discussing your justification with your mentor.**"
      ]
    },
    {
      "cell_type": "markdown",
      "metadata": {
        "id": "Y1bB11DvGMid",
        "colab_type": "text"
      },
      "source": [
        "Even with respect to AIC and BIC, the second model performs best. It has the lowest values of AIC and BIC in all of the three models, though not significantly better."
      ]
    },
    {
      "cell_type": "markdown",
      "metadata": {
        "id": "KDWz4MqtGbc3",
        "colab_type": "text"
      },
      "source": [
        "# Exercise 2: House prices model\n",
        "\n",
        "**2.1** Load the houseprices data from Thinkful's database.\n",
        "\n",
        "**2.2** Run your house prices model again and assess the goodness of fit of your model using F-test, R-squared, adjusted R-squared, AIC and BIC.\n",
        "\n",
        "**2.3** Do you think your model is satisfactory? If so, why?\n",
        "\n",
        "**2.4** In order to improve the goodness of fit of your model, try different model specifications by adding or removing some variables.\n",
        "\n",
        "**2.5** For each model you try, get the goodness of fit metrics and compare your models with each other. Which model is the best and why?"
      ]
    },
    {
      "cell_type": "markdown",
      "metadata": {
        "id": "Lcw8BP_3HAxM",
        "colab_type": "text"
      },
      "source": [
        "* **2.1 Load the houseprices data from Thinkful's database.**"
      ]
    },
    {
      "cell_type": "code",
      "metadata": {
        "id": "FiGrvpuzGZf_",
        "colab_type": "code",
        "colab": {}
      },
      "source": [
        "import numpy as np\n",
        "import pandas as pd\n",
        "import matplotlib.pyplot as plt\n",
        "from sqlalchemy import create_engine\n",
        "import statsmodels.api as sm\n",
        "\n",
        "import warnings\n",
        "warnings.filterwarnings('ignore')"
      ],
      "execution_count": 6,
      "outputs": []
    },
    {
      "cell_type": "code",
      "metadata": {
        "id": "_Ksvwy8oHM8x",
        "colab_type": "code",
        "colab": {}
      },
      "source": [
        "postgres_user = 'dsbc_student'\n",
        "postgres_pw = '7*.8G9QH21'\n",
        "postgres_host = '142.93.121.174'\n",
        "postgres_port = '5432'\n",
        "postgres_db = 'houseprices'\n",
        "\n",
        "engine = create_engine('postgresql://{}:{}@{}:{}/{}'.format(\n",
        "    postgres_user, postgres_pw, postgres_host, postgres_port, postgres_db))\n",
        "house_prices_df = pd.read_sql_query('select * from houseprices',con=engine)\n",
        "\n",
        "# no need for an open connection, as we're only doing a single query\n",
        "engine.dispose()"
      ],
      "execution_count": 7,
      "outputs": []
    },
    {
      "cell_type": "markdown",
      "metadata": {
        "id": "NKgUC6n8HWeY",
        "colab_type": "text"
      },
      "source": [
        "* **2.2 Run your house prices model again and assess the goodness of fit of your model using F-test, R-squared, adjusted R-squared, AIC and BIC.**"
      ]
    },
    {
      "cell_type": "markdown",
      "metadata": {
        "id": "Ob5hQ2FeLiOa",
        "colab_type": "text"
      },
      "source": [
        "##Model 1"
      ]
    },
    {
      "cell_type": "code",
      "metadata": {
        "id": "x5GNxCrYIdZU",
        "colab_type": "code",
        "colab": {
          "base_uri": "https://localhost:8080/",
          "height": 604
        },
        "outputId": "a10e915d-21a6-4653-de4f-d8942572f35e"
      },
      "source": [
        "# Y is the target variable\n",
        "Y = house_prices_df['saleprice']\n",
        "\n",
        "# X is the feature set\n",
        "\n",
        "# Let's add renovperiod instead of yearremodadd and yearbuilt\n",
        "X = house_prices_df[['overallqual', 'grlivarea', 'garagecars', 'garagearea', 'totalbsmtsf', 'yearremodadd', 'yearbuilt']]\n",
        "\n",
        "X = sm.add_constant(X)\n",
        "\n",
        "results = sm.OLS(Y, X).fit()\n",
        "\n",
        "results.summary()"
      ],
      "execution_count": 8,
      "outputs": [
        {
          "output_type": "execute_result",
          "data": {
            "text/html": [
              "<table class=\"simpletable\">\n",
              "<caption>OLS Regression Results</caption>\n",
              "<tr>\n",
              "  <th>Dep. Variable:</th>        <td>saleprice</td>    <th>  R-squared:         </th> <td>   0.771</td> \n",
              "</tr>\n",
              "<tr>\n",
              "  <th>Model:</th>                   <td>OLS</td>       <th>  Adj. R-squared:    </th> <td>   0.770</td> \n",
              "</tr>\n",
              "<tr>\n",
              "  <th>Method:</th>             <td>Least Squares</td>  <th>  F-statistic:       </th> <td>   700.3</td> \n",
              "</tr>\n",
              "<tr>\n",
              "  <th>Date:</th>             <td>Sun, 19 Jul 2020</td> <th>  Prob (F-statistic):</th>  <td>  0.00</td>  \n",
              "</tr>\n",
              "<tr>\n",
              "  <th>Time:</th>                 <td>05:11:00</td>     <th>  Log-Likelihood:    </th> <td> -17466.</td> \n",
              "</tr>\n",
              "<tr>\n",
              "  <th>No. Observations:</th>      <td>  1460</td>      <th>  AIC:               </th> <td>3.495e+04</td>\n",
              "</tr>\n",
              "<tr>\n",
              "  <th>Df Residuals:</th>          <td>  1452</td>      <th>  BIC:               </th> <td>3.499e+04</td>\n",
              "</tr>\n",
              "<tr>\n",
              "  <th>Df Model:</th>              <td>     7</td>      <th>                     </th>     <td> </td>    \n",
              "</tr>\n",
              "<tr>\n",
              "  <th>Covariance Type:</th>      <td>nonrobust</td>    <th>                     </th>     <td> </td>    \n",
              "</tr>\n",
              "</table>\n",
              "<table class=\"simpletable\">\n",
              "<tr>\n",
              "        <td></td>          <th>coef</th>     <th>std err</th>      <th>t</th>      <th>P>|t|</th>  <th>[0.025</th>    <th>0.975]</th>  \n",
              "</tr>\n",
              "<tr>\n",
              "  <th>const</th>        <td> -1.06e+06</td> <td> 1.22e+05</td> <td>   -8.705</td> <td> 0.000</td> <td> -1.3e+06</td> <td>-8.21e+05</td>\n",
              "</tr>\n",
              "<tr>\n",
              "  <th>overallqual</th>  <td> 1.916e+04</td> <td> 1185.187</td> <td>   16.170</td> <td> 0.000</td> <td> 1.68e+04</td> <td> 2.15e+04</td>\n",
              "</tr>\n",
              "<tr>\n",
              "  <th>grlivarea</th>    <td>   50.0491</td> <td>    2.554</td> <td>   19.598</td> <td> 0.000</td> <td>   45.040</td> <td>   55.059</td>\n",
              "</tr>\n",
              "<tr>\n",
              "  <th>garagecars</th>   <td> 9793.4571</td> <td> 3029.048</td> <td>    3.233</td> <td> 0.001</td> <td> 3851.679</td> <td> 1.57e+04</td>\n",
              "</tr>\n",
              "<tr>\n",
              "  <th>garagearea</th>   <td>   19.4099</td> <td>   10.249</td> <td>    1.894</td> <td> 0.058</td> <td>   -0.695</td> <td>   39.515</td>\n",
              "</tr>\n",
              "<tr>\n",
              "  <th>totalbsmtsf</th>  <td>   29.7000</td> <td>    2.874</td> <td>   10.333</td> <td> 0.000</td> <td>   24.062</td> <td>   35.338</td>\n",
              "</tr>\n",
              "<tr>\n",
              "  <th>yearremodadd</th> <td>  278.0744</td> <td>   63.483</td> <td>    4.380</td> <td> 0.000</td> <td>  153.546</td> <td>  402.602</td>\n",
              "</tr>\n",
              "<tr>\n",
              "  <th>yearbuilt</th>    <td>  222.1412</td> <td>   47.985</td> <td>    4.629</td> <td> 0.000</td> <td>  128.013</td> <td>  316.269</td>\n",
              "</tr>\n",
              "</table>\n",
              "<table class=\"simpletable\">\n",
              "<tr>\n",
              "  <th>Omnibus:</th>       <td>460.314</td> <th>  Durbin-Watson:     </th> <td>   1.973</td> \n",
              "</tr>\n",
              "<tr>\n",
              "  <th>Prob(Omnibus):</th> <td> 0.000</td>  <th>  Jarque-Bera (JB):  </th> <td>54609.883</td>\n",
              "</tr>\n",
              "<tr>\n",
              "  <th>Skew:</th>          <td>-0.338</td>  <th>  Prob(JB):          </th> <td>    0.00</td> \n",
              "</tr>\n",
              "<tr>\n",
              "  <th>Kurtosis:</th>      <td>32.954</td>  <th>  Cond. No.          </th> <td>4.16e+05</td> \n",
              "</tr>\n",
              "</table><br/><br/>Warnings:<br/>[1] Standard Errors assume that the covariance matrix of the errors is correctly specified.<br/>[2] The condition number is large, 4.16e+05. This might indicate that there are<br/>strong multicollinearity or other numerical problems."
            ],
            "text/plain": [
              "<class 'statsmodels.iolib.summary.Summary'>\n",
              "\"\"\"\n",
              "                            OLS Regression Results                            \n",
              "==============================================================================\n",
              "Dep. Variable:              saleprice   R-squared:                       0.771\n",
              "Model:                            OLS   Adj. R-squared:                  0.770\n",
              "Method:                 Least Squares   F-statistic:                     700.3\n",
              "Date:                Sun, 19 Jul 2020   Prob (F-statistic):               0.00\n",
              "Time:                        05:11:00   Log-Likelihood:                -17466.\n",
              "No. Observations:                1460   AIC:                         3.495e+04\n",
              "Df Residuals:                    1452   BIC:                         3.499e+04\n",
              "Df Model:                           7                                         \n",
              "Covariance Type:            nonrobust                                         \n",
              "================================================================================\n",
              "                   coef    std err          t      P>|t|      [0.025      0.975]\n",
              "--------------------------------------------------------------------------------\n",
              "const         -1.06e+06   1.22e+05     -8.705      0.000    -1.3e+06   -8.21e+05\n",
              "overallqual   1.916e+04   1185.187     16.170      0.000    1.68e+04    2.15e+04\n",
              "grlivarea       50.0491      2.554     19.598      0.000      45.040      55.059\n",
              "garagecars    9793.4571   3029.048      3.233      0.001    3851.679    1.57e+04\n",
              "garagearea      19.4099     10.249      1.894      0.058      -0.695      39.515\n",
              "totalbsmtsf     29.7000      2.874     10.333      0.000      24.062      35.338\n",
              "yearremodadd   278.0744     63.483      4.380      0.000     153.546     402.602\n",
              "yearbuilt      222.1412     47.985      4.629      0.000     128.013     316.269\n",
              "==============================================================================\n",
              "Omnibus:                      460.314   Durbin-Watson:                   1.973\n",
              "Prob(Omnibus):                  0.000   Jarque-Bera (JB):            54609.883\n",
              "Skew:                          -0.338   Prob(JB):                         0.00\n",
              "Kurtosis:                      32.954   Cond. No.                     4.16e+05\n",
              "==============================================================================\n",
              "\n",
              "Warnings:\n",
              "[1] Standard Errors assume that the covariance matrix of the errors is correctly specified.\n",
              "[2] The condition number is large, 4.16e+05. This might indicate that there are\n",
              "strong multicollinearity or other numerical problems.\n",
              "\"\"\""
            ]
          },
          "metadata": {
            "tags": []
          },
          "execution_count": 8
        }
      ]
    },
    {
      "cell_type": "markdown",
      "metadata": {
        "id": "EweQfa5fLZsu",
        "colab_type": "text"
      },
      "source": [
        "**Do you think your model is satisfactory? If so, why? In order to improve the goodness of fit of your model, try different model specifications by adding or removing some variables. For each model you try, get the goodness of fit metrics and compare your models with each other. Which model is the best and why?**\n",
        "\n",
        "\n",
        "The f-statistic is 700.3 witha p-value of 0, meaning that our model does add to an empty model.\n",
        "\n",
        "R-squared and Adjusted R-squared are relatively useful, explaining about 77% of variance in the data by the model.\n",
        "\n",
        "The difference between AIC and BIC says that the model may have had overfitting, because the BIC value is higher which means it may have penalized the model for excessive features.\n",
        "\n",
        "This gives the hint that additional feature engineering may be needed:"
      ]
    },
    {
      "cell_type": "markdown",
      "metadata": {
        "id": "i-k9wKK1LxHB",
        "colab_type": "text"
      },
      "source": [
        "##Model 2\n",
        "\n"
      ]
    },
    {
      "cell_type": "markdown",
      "metadata": {
        "id": "S_qJjtmuM0ei",
        "colab_type": "text"
      },
      "source": [
        "This model will consider the period between year built and renovation year:"
      ]
    },
    {
      "cell_type": "code",
      "metadata": {
        "id": "xvW0iTS8MuNC",
        "colab_type": "code",
        "colab": {
          "base_uri": "https://localhost:8080/",
          "height": 583
        },
        "outputId": "092e0e47-738c-4894-a5b6-3206edf4118d"
      },
      "source": [
        "house_prices_df['renovperiod'] = house_prices_df.yearremodadd - house_prices_df.yearbuilt\n",
        "\n",
        "# Y is the target variable\n",
        "Y = house_prices_df['saleprice']\n",
        "\n",
        "# X is the feature set\n",
        "\n",
        "# Let's add renovperiod instead of yearremodadd and yearbuilt\n",
        "X = house_prices_df[['overallqual', 'grlivarea', 'garagecars', 'garagearea', 'totalbsmtsf', 'renovperiod']]\n",
        "\n",
        "X = sm.add_constant(X)\n",
        "\n",
        "results = sm.OLS(Y, X).fit()\n",
        "\n",
        "results.summary()"
      ],
      "execution_count": 9,
      "outputs": [
        {
          "output_type": "execute_result",
          "data": {
            "text/html": [
              "<table class=\"simpletable\">\n",
              "<caption>OLS Regression Results</caption>\n",
              "<tr>\n",
              "  <th>Dep. Variable:</th>        <td>saleprice</td>    <th>  R-squared:         </th> <td>   0.762</td> \n",
              "</tr>\n",
              "<tr>\n",
              "  <th>Model:</th>                   <td>OLS</td>       <th>  Adj. R-squared:    </th> <td>   0.761</td> \n",
              "</tr>\n",
              "<tr>\n",
              "  <th>Method:</th>             <td>Least Squares</td>  <th>  F-statistic:       </th> <td>   773.7</td> \n",
              "</tr>\n",
              "<tr>\n",
              "  <th>Date:</th>             <td>Sun, 19 Jul 2020</td> <th>  Prob (F-statistic):</th>  <td>  0.00</td>  \n",
              "</tr>\n",
              "<tr>\n",
              "  <th>Time:</th>                 <td>05:11:00</td>     <th>  Log-Likelihood:    </th> <td> -17497.</td> \n",
              "</tr>\n",
              "<tr>\n",
              "  <th>No. Observations:</th>      <td>  1460</td>      <th>  AIC:               </th> <td>3.501e+04</td>\n",
              "</tr>\n",
              "<tr>\n",
              "  <th>Df Residuals:</th>          <td>  1453</td>      <th>  BIC:               </th> <td>3.505e+04</td>\n",
              "</tr>\n",
              "<tr>\n",
              "  <th>Df Model:</th>              <td>     6</td>      <th>                     </th>     <td> </td>    \n",
              "</tr>\n",
              "<tr>\n",
              "  <th>Covariance Type:</th>      <td>nonrobust</td>    <th>                     </th>     <td> </td>    \n",
              "</tr>\n",
              "</table>\n",
              "<table class=\"simpletable\">\n",
              "<tr>\n",
              "       <td></td>          <th>coef</th>     <th>std err</th>      <th>t</th>      <th>P>|t|</th>  <th>[0.025</th>    <th>0.975]</th>  \n",
              "</tr>\n",
              "<tr>\n",
              "  <th>const</th>       <td>-9.618e+04</td> <td> 4914.597</td> <td>  -19.571</td> <td> 0.000</td> <td>-1.06e+05</td> <td>-8.65e+04</td>\n",
              "</tr>\n",
              "<tr>\n",
              "  <th>overallqual</th> <td>  2.34e+04</td> <td> 1079.694</td> <td>   21.676</td> <td> 0.000</td> <td> 2.13e+04</td> <td> 2.55e+04</td>\n",
              "</tr>\n",
              "<tr>\n",
              "  <th>grlivarea</th>   <td>   46.4634</td> <td>    2.566</td> <td>   18.106</td> <td> 0.000</td> <td>   41.429</td> <td>   51.497</td>\n",
              "</tr>\n",
              "<tr>\n",
              "  <th>garagecars</th>  <td> 1.381e+04</td> <td> 3049.177</td> <td>    4.528</td> <td> 0.000</td> <td> 7825.057</td> <td> 1.98e+04</td>\n",
              "</tr>\n",
              "<tr>\n",
              "  <th>garagearea</th>  <td>   17.1455</td> <td>   10.461</td> <td>    1.639</td> <td> 0.101</td> <td>   -3.374</td> <td>   37.665</td>\n",
              "</tr>\n",
              "<tr>\n",
              "  <th>totalbsmtsf</th> <td>   30.7628</td> <td>    2.932</td> <td>   10.493</td> <td> 0.000</td> <td>   25.012</td> <td>   36.514</td>\n",
              "</tr>\n",
              "<tr>\n",
              "  <th>renovperiod</th> <td>  -80.3766</td> <td>   45.459</td> <td>   -1.768</td> <td> 0.077</td> <td> -169.549</td> <td>    8.796</td>\n",
              "</tr>\n",
              "</table>\n",
              "<table class=\"simpletable\">\n",
              "<tr>\n",
              "  <th>Omnibus:</th>       <td>440.159</td> <th>  Durbin-Watson:     </th> <td>   1.972</td> \n",
              "</tr>\n",
              "<tr>\n",
              "  <th>Prob(Omnibus):</th> <td> 0.000</td>  <th>  Jarque-Bera (JB):  </th> <td>41271.525</td>\n",
              "</tr>\n",
              "<tr>\n",
              "  <th>Skew:</th>          <td>-0.344</td>  <th>  Prob(JB):          </th> <td>    0.00</td> \n",
              "</tr>\n",
              "<tr>\n",
              "  <th>Kurtosis:</th>      <td>29.038</td>  <th>  Cond. No.          </th> <td>9.77e+03</td> \n",
              "</tr>\n",
              "</table><br/><br/>Warnings:<br/>[1] Standard Errors assume that the covariance matrix of the errors is correctly specified.<br/>[2] The condition number is large, 9.77e+03. This might indicate that there are<br/>strong multicollinearity or other numerical problems."
            ],
            "text/plain": [
              "<class 'statsmodels.iolib.summary.Summary'>\n",
              "\"\"\"\n",
              "                            OLS Regression Results                            \n",
              "==============================================================================\n",
              "Dep. Variable:              saleprice   R-squared:                       0.762\n",
              "Model:                            OLS   Adj. R-squared:                  0.761\n",
              "Method:                 Least Squares   F-statistic:                     773.7\n",
              "Date:                Sun, 19 Jul 2020   Prob (F-statistic):               0.00\n",
              "Time:                        05:11:00   Log-Likelihood:                -17497.\n",
              "No. Observations:                1460   AIC:                         3.501e+04\n",
              "Df Residuals:                    1453   BIC:                         3.505e+04\n",
              "Df Model:                           6                                         \n",
              "Covariance Type:            nonrobust                                         \n",
              "===============================================================================\n",
              "                  coef    std err          t      P>|t|      [0.025      0.975]\n",
              "-------------------------------------------------------------------------------\n",
              "const       -9.618e+04   4914.597    -19.571      0.000   -1.06e+05   -8.65e+04\n",
              "overallqual   2.34e+04   1079.694     21.676      0.000    2.13e+04    2.55e+04\n",
              "grlivarea      46.4634      2.566     18.106      0.000      41.429      51.497\n",
              "garagecars   1.381e+04   3049.177      4.528      0.000    7825.057    1.98e+04\n",
              "garagearea     17.1455     10.461      1.639      0.101      -3.374      37.665\n",
              "totalbsmtsf    30.7628      2.932     10.493      0.000      25.012      36.514\n",
              "renovperiod   -80.3766     45.459     -1.768      0.077    -169.549       8.796\n",
              "==============================================================================\n",
              "Omnibus:                      440.159   Durbin-Watson:                   1.972\n",
              "Prob(Omnibus):                  0.000   Jarque-Bera (JB):            41271.525\n",
              "Skew:                          -0.344   Prob(JB):                         0.00\n",
              "Kurtosis:                      29.038   Cond. No.                     9.77e+03\n",
              "==============================================================================\n",
              "\n",
              "Warnings:\n",
              "[1] Standard Errors assume that the covariance matrix of the errors is correctly specified.\n",
              "[2] The condition number is large, 9.77e+03. This might indicate that there are\n",
              "strong multicollinearity or other numerical problems.\n",
              "\"\"\""
            ]
          },
          "metadata": {
            "tags": []
          },
          "execution_count": 9
        }
      ]
    },
    {
      "cell_type": "markdown",
      "metadata": {
        "id": "QqLYfoQBUHJ6",
        "colab_type": "text"
      },
      "source": [
        "By removing year built and year renovated and adding the difference in between, R-squared, Adjusted R-squaredare lower, while AIC, BIC and  F-statistic are higher. \n",
        "\n",
        "This model is not better than the first one. Still, we may can do some more feature engineering for this model. Let's take a look at its confusion matrix:"
      ]
    },
    {
      "cell_type": "code",
      "metadata": {
        "id": "ahf-iUgkVT8-",
        "colab_type": "code",
        "colab": {
          "base_uri": "https://localhost:8080/",
          "height": 416
        },
        "outputId": "300f323d-ad65-4b75-a6b6-be684de660d1"
      },
      "source": [
        "house_prices_df1 = house_prices_df[['saleprice', 'overallqual', 'grlivarea', 'garagecars', 'garagearea', 'totalbsmtsf', 'yearremodadd', 'yearbuilt']]\n",
        "\n",
        "num_corr = house_prices_df1.corr()\n",
        "corr = num_corr[num_corr > .7]\n",
        "\n",
        "plt.figure(figsize=(10,5))\n",
        "plt.title('High Correlation')\n",
        "sns.heatmap(corr ,square=True, annot=True)"
      ],
      "execution_count": 10,
      "outputs": [
        {
          "output_type": "execute_result",
          "data": {
            "text/plain": [
              "<matplotlib.axes._subplots.AxesSubplot at 0x7f998d917080>"
            ]
          },
          "metadata": {
            "tags": []
          },
          "execution_count": 10
        },
        {
          "output_type": "display_data",
          "data": {
            "image/png": "[encoded data removed]",
            "text/plain": [
              "<Figure size 720x360 with 2 Axes>"
            ]
          },
          "metadata": {
            "tags": [],
            "needs_background": "light"
          }
        }
      ]
    },
    {
      "cell_type": "markdown",
      "metadata": {
        "id": "yXBslEyEVIkd",
        "colab_type": "text"
      },
      "source": [
        "##Model 3\n"
      ]
    },
    {
      "cell_type": "markdown",
      "metadata": {
        "id": "WJsbOUsvcQvF",
        "colab_type": "text"
      },
      "source": [
        "We see that garagecars and garagearea are strongly correlated and therefore one of them should be removed. Let's try to combine them and see whether that can help our model:"
      ]
    },
    {
      "cell_type": "code",
      "metadata": {
        "id": "DZukkbZpaOzz",
        "colab_type": "code",
        "colab": {
          "base_uri": "https://localhost:8080/",
          "height": 583
        },
        "outputId": "86b6571c-2d0b-4759-da55-d8cf9cb83fb7"
      },
      "source": [
        "house_prices_df['areapercar'] = house_prices_df.garagearea / house_prices_df.garagecars\n",
        "\n",
        "house_prices_df['areapercar'] = house_prices_df.areapercar.apply(np.nan_to_num)\n",
        "\n",
        "# Y is the target variable\n",
        "Y = house_prices_df['saleprice']\n",
        "\n",
        "# X is the feature set\n",
        "\n",
        "# Let's add renovperiod instead of yearremodadd and yearbuilt\n",
        "X = house_prices_df[['overallqual', 'grlivarea', 'areapercar', 'totalbsmtsf', 'yearremodadd', 'yearbuilt']]\n",
        "\n",
        "X = sm.add_constant(X)\n",
        "\n",
        "results = sm.OLS(Y, X).fit()\n",
        "\n",
        "results.summary()"
      ],
      "execution_count": 11,
      "outputs": [
        {
          "output_type": "execute_result",
          "data": {
            "text/html": [
              "<table class=\"simpletable\">\n",
              "<caption>OLS Regression Results</caption>\n",
              "<tr>\n",
              "  <th>Dep. Variable:</th>        <td>saleprice</td>    <th>  R-squared:         </th> <td>   0.761</td> \n",
              "</tr>\n",
              "<tr>\n",
              "  <th>Model:</th>                   <td>OLS</td>       <th>  Adj. R-squared:    </th> <td>   0.760</td> \n",
              "</tr>\n",
              "<tr>\n",
              "  <th>Method:</th>             <td>Least Squares</td>  <th>  F-statistic:       </th> <td>   772.2</td> \n",
              "</tr>\n",
              "<tr>\n",
              "  <th>Date:</th>             <td>Sun, 19 Jul 2020</td> <th>  Prob (F-statistic):</th>  <td>  0.00</td>  \n",
              "</tr>\n",
              "<tr>\n",
              "  <th>Time:</th>                 <td>05:11:01</td>     <th>  Log-Likelihood:    </th> <td> -17498.</td> \n",
              "</tr>\n",
              "<tr>\n",
              "  <th>No. Observations:</th>      <td>  1460</td>      <th>  AIC:               </th> <td>3.501e+04</td>\n",
              "</tr>\n",
              "<tr>\n",
              "  <th>Df Residuals:</th>          <td>  1453</td>      <th>  BIC:               </th> <td>3.505e+04</td>\n",
              "</tr>\n",
              "<tr>\n",
              "  <th>Df Model:</th>              <td>     6</td>      <th>                     </th>     <td> </td>    \n",
              "</tr>\n",
              "<tr>\n",
              "  <th>Covariance Type:</th>      <td>nonrobust</td>    <th>                     </th>     <td> </td>    \n",
              "</tr>\n",
              "</table>\n",
              "<table class=\"simpletable\">\n",
              "<tr>\n",
              "        <td></td>          <th>coef</th>     <th>std err</th>      <th>t</th>      <th>P>|t|</th>  <th>[0.025</th>    <th>0.975]</th>  \n",
              "</tr>\n",
              "<tr>\n",
              "  <th>const</th>        <td>-1.299e+06</td> <td> 1.21e+05</td> <td>  -10.743</td> <td> 0.000</td> <td>-1.54e+06</td> <td>-1.06e+06</td>\n",
              "</tr>\n",
              "<tr>\n",
              "  <th>overallqual</th>  <td> 2.088e+04</td> <td> 1188.978</td> <td>   17.561</td> <td> 0.000</td> <td> 1.85e+04</td> <td> 2.32e+04</td>\n",
              "</tr>\n",
              "<tr>\n",
              "  <th>grlivarea</th>    <td>   54.9200</td> <td>    2.536</td> <td>   21.657</td> <td> 0.000</td> <td>   49.946</td> <td>   59.894</td>\n",
              "</tr>\n",
              "<tr>\n",
              "  <th>areapercar</th>   <td>   15.2361</td> <td>   11.863</td> <td>    1.284</td> <td> 0.199</td> <td>   -8.034</td> <td>   38.507</td>\n",
              "</tr>\n",
              "<tr>\n",
              "  <th>totalbsmtsf</th>  <td>   32.2710</td> <td>    2.882</td> <td>   11.199</td> <td> 0.000</td> <td>   26.618</td> <td>   37.924</td>\n",
              "</tr>\n",
              "<tr>\n",
              "  <th>yearremodadd</th> <td>  290.9937</td> <td>   65.120</td> <td>    4.469</td> <td> 0.000</td> <td>  163.254</td> <td>  418.734</td>\n",
              "</tr>\n",
              "<tr>\n",
              "  <th>yearbuilt</th>    <td>  331.7965</td> <td>   46.858</td> <td>    7.081</td> <td> 0.000</td> <td>  239.880</td> <td>  423.713</td>\n",
              "</tr>\n",
              "</table>\n",
              "<table class=\"simpletable\">\n",
              "<tr>\n",
              "  <th>Omnibus:</th>       <td>526.448</td> <th>  Durbin-Watson:     </th> <td>   1.973</td> \n",
              "</tr>\n",
              "<tr>\n",
              "  <th>Prob(Omnibus):</th> <td> 0.000</td>  <th>  Jarque-Bera (JB):  </th> <td>63100.491</td>\n",
              "</tr>\n",
              "<tr>\n",
              "  <th>Skew:</th>          <td>-0.627</td>  <th>  Prob(JB):          </th> <td>    0.00</td> \n",
              "</tr>\n",
              "<tr>\n",
              "  <th>Kurtosis:</th>      <td>35.182</td>  <th>  Cond. No.          </th> <td>4.02e+05</td> \n",
              "</tr>\n",
              "</table><br/><br/>Warnings:<br/>[1] Standard Errors assume that the covariance matrix of the errors is correctly specified.<br/>[2] The condition number is large, 4.02e+05. This might indicate that there are<br/>strong multicollinearity or other numerical problems."
            ],
            "text/plain": [
              "<class 'statsmodels.iolib.summary.Summary'>\n",
              "\"\"\"\n",
              "                            OLS Regression Results                            \n",
              "==============================================================================\n",
              "Dep. Variable:              saleprice   R-squared:                       0.761\n",
              "Model:                            OLS   Adj. R-squared:                  0.760\n",
              "Method:                 Least Squares   F-statistic:                     772.2\n",
              "Date:                Sun, 19 Jul 2020   Prob (F-statistic):               0.00\n",
              "Time:                        05:11:01   Log-Likelihood:                -17498.\n",
              "No. Observations:                1460   AIC:                         3.501e+04\n",
              "Df Residuals:                    1453   BIC:                         3.505e+04\n",
              "Df Model:                           6                                         \n",
              "Covariance Type:            nonrobust                                         \n",
              "================================================================================\n",
              "                   coef    std err          t      P>|t|      [0.025      0.975]\n",
              "--------------------------------------------------------------------------------\n",
              "const        -1.299e+06   1.21e+05    -10.743      0.000   -1.54e+06   -1.06e+06\n",
              "overallqual   2.088e+04   1188.978     17.561      0.000    1.85e+04    2.32e+04\n",
              "grlivarea       54.9200      2.536     21.657      0.000      49.946      59.894\n",
              "areapercar      15.2361     11.863      1.284      0.199      -8.034      38.507\n",
              "totalbsmtsf     32.2710      2.882     11.199      0.000      26.618      37.924\n",
              "yearremodadd   290.9937     65.120      4.469      0.000     163.254     418.734\n",
              "yearbuilt      331.7965     46.858      7.081      0.000     239.880     423.713\n",
              "==============================================================================\n",
              "Omnibus:                      526.448   Durbin-Watson:                   1.973\n",
              "Prob(Omnibus):                  0.000   Jarque-Bera (JB):            63100.491\n",
              "Skew:                          -0.627   Prob(JB):                         0.00\n",
              "Kurtosis:                      35.182   Cond. No.                     4.02e+05\n",
              "==============================================================================\n",
              "\n",
              "Warnings:\n",
              "[1] Standard Errors assume that the covariance matrix of the errors is correctly specified.\n",
              "[2] The condition number is large, 4.02e+05. This might indicate that there are\n",
              "strong multicollinearity or other numerical problems.\n",
              "\"\"\""
            ]
          },
          "metadata": {
            "tags": []
          },
          "execution_count": 11
        }
      ]
    },
    {
      "cell_type": "markdown",
      "metadata": {
        "id": "q6zg_t_HcS4R",
        "colab_type": "text"
      },
      "source": [
        "That did not help the model. We will remove areapercar"
      ]
    },
    {
      "cell_type": "markdown",
      "metadata": {
        "id": "NXR1cOQ-bJ1Z",
        "colab_type": "text"
      },
      "source": [
        "##Model 4"
      ]
    },
    {
      "cell_type": "markdown",
      "metadata": {
        "id": "puAW27pdd07t",
        "colab_type": "text"
      },
      "source": [
        "Lets try remove garagearea and keep garagecars in other words try one feature less than the original Model 1\n"
      ]
    },
    {
      "cell_type": "code",
      "metadata": {
        "id": "N8C3WeawRN0M",
        "colab_type": "code",
        "colab": {
          "base_uri": "https://localhost:8080/",
          "height": 583
        },
        "outputId": "ca7f147d-b064-4cec-96d4-611ff69f4b81"
      },
      "source": [
        "# Y is the target variable\n",
        "Y = house_prices_df['saleprice']\n",
        "\n",
        "# X is the feature set\n",
        "\n",
        "# Let's add renovperiod instead of yearremodadd and yearbuilt\n",
        "X = house_prices_df[['overallqual', 'grlivarea', 'garagecars', 'totalbsmtsf', 'yearremodadd', 'yearbuilt']]\n",
        "\n",
        "X = sm.add_constant(X)\n",
        "\n",
        "results = sm.OLS(Y, X).fit()\n",
        "\n",
        "results.summary()"
      ],
      "execution_count": 12,
      "outputs": [
        {
          "output_type": "execute_result",
          "data": {
            "text/html": [
              "<table class=\"simpletable\">\n",
              "<caption>OLS Regression Results</caption>\n",
              "<tr>\n",
              "  <th>Dep. Variable:</th>        <td>saleprice</td>    <th>  R-squared:         </th> <td>   0.771</td> \n",
              "</tr>\n",
              "<tr>\n",
              "  <th>Model:</th>                   <td>OLS</td>       <th>  Adj. R-squared:    </th> <td>   0.770</td> \n",
              "</tr>\n",
              "<tr>\n",
              "  <th>Method:</th>             <td>Least Squares</td>  <th>  F-statistic:       </th> <td>   815.0</td> \n",
              "</tr>\n",
              "<tr>\n",
              "  <th>Date:</th>             <td>Sun, 19 Jul 2020</td> <th>  Prob (F-statistic):</th>  <td>  0.00</td>  \n",
              "</tr>\n",
              "<tr>\n",
              "  <th>Time:</th>                 <td>05:11:01</td>     <th>  Log-Likelihood:    </th> <td> -17468.</td> \n",
              "</tr>\n",
              "<tr>\n",
              "  <th>No. Observations:</th>      <td>  1460</td>      <th>  AIC:               </th> <td>3.495e+04</td>\n",
              "</tr>\n",
              "<tr>\n",
              "  <th>Df Residuals:</th>          <td>  1453</td>      <th>  BIC:               </th> <td>3.499e+04</td>\n",
              "</tr>\n",
              "<tr>\n",
              "  <th>Df Model:</th>              <td>     6</td>      <th>                     </th>     <td> </td>    \n",
              "</tr>\n",
              "<tr>\n",
              "  <th>Covariance Type:</th>      <td>nonrobust</td>    <th>                     </th>     <td> </td>    \n",
              "</tr>\n",
              "</table>\n",
              "<table class=\"simpletable\">\n",
              "<tr>\n",
              "        <td></td>          <th>coef</th>     <th>std err</th>      <th>t</th>      <th>P>|t|</th>  <th>[0.025</th>    <th>0.975]</th>  \n",
              "</tr>\n",
              "<tr>\n",
              "  <th>const</th>        <td>-1.053e+06</td> <td> 1.22e+05</td> <td>   -8.650</td> <td> 0.000</td> <td>-1.29e+06</td> <td>-8.14e+05</td>\n",
              "</tr>\n",
              "<tr>\n",
              "  <th>overallqual</th>  <td> 1.912e+04</td> <td> 1186.027</td> <td>   16.123</td> <td> 0.000</td> <td> 1.68e+04</td> <td> 2.14e+04</td>\n",
              "</tr>\n",
              "<tr>\n",
              "  <th>grlivarea</th>    <td>   50.3610</td> <td>    2.551</td> <td>   19.743</td> <td> 0.000</td> <td>   45.357</td> <td>   55.365</td>\n",
              "</tr>\n",
              "<tr>\n",
              "  <th>garagecars</th>   <td> 1.439e+04</td> <td> 1812.667</td> <td>    7.939</td> <td> 0.000</td> <td> 1.08e+04</td> <td> 1.79e+04</td>\n",
              "</tr>\n",
              "<tr>\n",
              "  <th>totalbsmtsf</th>  <td>   30.8610</td> <td>    2.811</td> <td>   10.979</td> <td> 0.000</td> <td>   25.347</td> <td>   36.375</td>\n",
              "</tr>\n",
              "<tr>\n",
              "  <th>yearremodadd</th> <td>  275.7394</td> <td>   63.527</td> <td>    4.340</td> <td> 0.000</td> <td>  151.124</td> <td>  400.355</td>\n",
              "</tr>\n",
              "<tr>\n",
              "  <th>yearbuilt</th>    <td>  221.1405</td> <td>   48.025</td> <td>    4.605</td> <td> 0.000</td> <td>  126.934</td> <td>  315.347</td>\n",
              "</tr>\n",
              "</table>\n",
              "<table class=\"simpletable\">\n",
              "<tr>\n",
              "  <th>Omnibus:</th>       <td>440.903</td> <th>  Durbin-Watson:     </th> <td>   1.971</td> \n",
              "</tr>\n",
              "<tr>\n",
              "  <th>Prob(Omnibus):</th> <td> 0.000</td>  <th>  Jarque-Bera (JB):  </th> <td>48686.121</td>\n",
              "</tr>\n",
              "<tr>\n",
              "  <th>Skew:</th>          <td>-0.258</td>  <th>  Prob(JB):          </th> <td>    0.00</td> \n",
              "</tr>\n",
              "<tr>\n",
              "  <th>Kurtosis:</th>      <td>31.285</td>  <th>  Cond. No.          </th> <td>4.12e+05</td> \n",
              "</tr>\n",
              "</table><br/><br/>Warnings:<br/>[1] Standard Errors assume that the covariance matrix of the errors is correctly specified.<br/>[2] The condition number is large, 4.12e+05. This might indicate that there are<br/>strong multicollinearity or other numerical problems."
            ],
            "text/plain": [
              "<class 'statsmodels.iolib.summary.Summary'>\n",
              "\"\"\"\n",
              "                            OLS Regression Results                            \n",
              "==============================================================================\n",
              "Dep. Variable:              saleprice   R-squared:                       0.771\n",
              "Model:                            OLS   Adj. R-squared:                  0.770\n",
              "Method:                 Least Squares   F-statistic:                     815.0\n",
              "Date:                Sun, 19 Jul 2020   Prob (F-statistic):               0.00\n",
              "Time:                        05:11:01   Log-Likelihood:                -17468.\n",
              "No. Observations:                1460   AIC:                         3.495e+04\n",
              "Df Residuals:                    1453   BIC:                         3.499e+04\n",
              "Df Model:                           6                                         \n",
              "Covariance Type:            nonrobust                                         \n",
              "================================================================================\n",
              "                   coef    std err          t      P>|t|      [0.025      0.975]\n",
              "--------------------------------------------------------------------------------\n",
              "const        -1.053e+06   1.22e+05     -8.650      0.000   -1.29e+06   -8.14e+05\n",
              "overallqual   1.912e+04   1186.027     16.123      0.000    1.68e+04    2.14e+04\n",
              "grlivarea       50.3610      2.551     19.743      0.000      45.357      55.365\n",
              "garagecars    1.439e+04   1812.667      7.939      0.000    1.08e+04    1.79e+04\n",
              "totalbsmtsf     30.8610      2.811     10.979      0.000      25.347      36.375\n",
              "yearremodadd   275.7394     63.527      4.340      0.000     151.124     400.355\n",
              "yearbuilt      221.1405     48.025      4.605      0.000     126.934     315.347\n",
              "==============================================================================\n",
              "Omnibus:                      440.903   Durbin-Watson:                   1.971\n",
              "Prob(Omnibus):                  0.000   Jarque-Bera (JB):            48686.121\n",
              "Skew:                          -0.258   Prob(JB):                         0.00\n",
              "Kurtosis:                      31.285   Cond. No.                     4.12e+05\n",
              "==============================================================================\n",
              "\n",
              "Warnings:\n",
              "[1] Standard Errors assume that the covariance matrix of the errors is correctly specified.\n",
              "[2] The condition number is large, 4.12e+05. This might indicate that there are\n",
              "strong multicollinearity or other numerical problems.\n",
              "\"\"\""
            ]
          },
          "metadata": {
            "tags": []
          },
          "execution_count": 12
        }
      ]
    },
    {
      "cell_type": "markdown",
      "metadata": {
        "id": "89acGIl0bWNI",
        "colab_type": "text"
      },
      "source": [
        "With one less feature we were able to get back to the best evaluation metrics; those of the original model. Moreover, the F-statistic is higher, meaning it is superior to the original model."
      ]
    },
    {
      "cell_type": "code",
      "metadata": {
        "id": "2KlwdVf1e0Ou",
        "colab_type": "code",
        "colab": {}
      },
      "source": [
        ""
      ],
      "execution_count": 12,
      "outputs": []
    }
  ]
}
