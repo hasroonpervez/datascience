{
  "nbformat": 4,
  "nbformat_minor": 0,
  "metadata": {
    "colab": {
      "name": "Overfitting and regularization - checkpoint.ipynb",
      "provenance": [],
      "authorship_tag": "ABX9TyNQGvVvw6cRJdM45ZWeUeEp"
    },
    "kernelspec": {
      "name": "python3",
      "display_name": "Python 3"
    }
  },
  "cells": [
    {
      "cell_type": "markdown",
      "metadata": {
        "id": "D5Uyvj9ZKjll",
        "colab_type": "text"
      },
      "source": [
        "#In this assignment, you'll continue working with the house prices data.\n",
        "\n",
        "**1.** Load the houseprices data from Thinkful's database.\n",
        "\n",
        "**2.** Reimplement your model from the previous checkpoint.\n",
        "\n",
        "**3.** Try OLS, Lasso, Ridge, and ElasticNet regression using the same model specification. This time, you need to do k-fold cross-validation to choose the best hyperparameter values for your models. Scikit-learn has RidgeCV, LassoCV, and ElasticNetCV that you can utilize to do this. Which model is the best? Why?"
      ]
    },
    {
      "cell_type": "markdown",
      "metadata": {
        "id": "asU0l8NzMHRK",
        "colab_type": "text"
      },
      "source": [
        "## **1. Load the housing prices data from Thinkful's database.**"
      ]
    },
    {
      "cell_type": "code",
      "metadata": {
        "id": "vHsW2Rg1Kfli",
        "colab_type": "code",
        "colab": {}
      },
      "source": [
        "import matplotlib.pyplot as plt\n",
        "import numpy as np\n",
        "import pandas as pd\n",
        "from sklearn.linear_model import LinearRegression\n",
        "from sklearn.model_selection import train_test_split\n",
        "from sklearn.metrics import mean_absolute_error\n",
        "import statsmodels.api as sm\n",
        "from statsmodels.tools.eval_measures import mse, rmse\n",
        "from sqlalchemy import create_engine\n",
        "import seaborn as sns\n",
        "\n",
        "import warnings\n",
        "warnings.filterwarnings(action=\"ignore\")"
      ],
      "execution_count": null,
      "outputs": []
    },
    {
      "cell_type": "code",
      "metadata": {
        "id": "mX2TCCCMLsAI",
        "colab_type": "code",
        "colab": {
          "base_uri": "https://localhost:8080/",
          "height": 253
        },
        "outputId": "a3d99d76-1832-4f8c-c3e1-4a60892d17e8"
      },
      "source": [
        "postgres_user = 'dsbc_student'\n",
        "postgres_pw = '7*.8G9QH21'\n",
        "postgres_host = '142.93.121.174'\n",
        "postgres_port = '5432'\n",
        "postgres_db = 'houseprices'\n",
        "\n",
        "engine = create_engine('postgresql://{}:{}@{}:{}/{}'.format(\n",
        "    postgres_user, postgres_pw, postgres_host, postgres_port, postgres_db))\n",
        "\n",
        "house_prices_df = pd.read_sql_query('select * from houseprices',con=engine)\n",
        "\n",
        "# no need for an open connection, as we're only doing a single query\n",
        "engine.dispose()\n",
        "\n",
        "house_prices_df.head()\n"
      ],
      "execution_count": 2,
      "outputs": [
        {
          "output_type": "execute_result",
          "data": {
            "text/html": [
              "<div>\n",
              "<style scoped>\n",
              "    .dataframe tbody tr th:only-of-type {\n",
              "        vertical-align: middle;\n",
              "    }\n",
              "\n",
              "    .dataframe tbody tr th {\n",
              "        vertical-align: top;\n",
              "    }\n",
              "\n",
              "    .dataframe thead th {\n",
              "        text-align: right;\n",
              "    }\n",
              "</style>\n",
              "<table border=\"1\" class=\"dataframe\">\n",
              "  <thead>\n",
              "    <tr style=\"text-align: right;\">\n",
              "      <th></th>\n",
              "      <th>id</th>\n",
              "      <th>mssubclass</th>\n",
              "      <th>mszoning</th>\n",
              "      <th>lotfrontage</th>\n",
              "      <th>lotarea</th>\n",
              "      <th>street</th>\n",
              "      <th>alley</th>\n",
              "      <th>lotshape</th>\n",
              "      <th>landcontour</th>\n",
              "      <th>utilities</th>\n",
              "      <th>lotconfig</th>\n",
              "      <th>landslope</th>\n",
              "      <th>neighborhood</th>\n",
              "      <th>condition1</th>\n",
              "      <th>condition2</th>\n",
              "      <th>bldgtype</th>\n",
              "      <th>housestyle</th>\n",
              "      <th>overallqual</th>\n",
              "      <th>overallcond</th>\n",
              "      <th>yearbuilt</th>\n",
              "      <th>yearremodadd</th>\n",
              "      <th>roofstyle</th>\n",
              "      <th>roofmatl</th>\n",
              "      <th>exterior1st</th>\n",
              "      <th>exterior2nd</th>\n",
              "      <th>masvnrtype</th>\n",
              "      <th>masvnrarea</th>\n",
              "      <th>exterqual</th>\n",
              "      <th>extercond</th>\n",
              "      <th>foundation</th>\n",
              "      <th>bsmtqual</th>\n",
              "      <th>bsmtcond</th>\n",
              "      <th>bsmtexposure</th>\n",
              "      <th>bsmtfintype1</th>\n",
              "      <th>bsmtfinsf1</th>\n",
              "      <th>bsmtfintype2</th>\n",
              "      <th>bsmtfinsf2</th>\n",
              "      <th>bsmtunfsf</th>\n",
              "      <th>totalbsmtsf</th>\n",
              "      <th>heating</th>\n",
              "      <th>...</th>\n",
              "      <th>centralair</th>\n",
              "      <th>electrical</th>\n",
              "      <th>firstflrsf</th>\n",
              "      <th>secondflrsf</th>\n",
              "      <th>lowqualfinsf</th>\n",
              "      <th>grlivarea</th>\n",
              "      <th>bsmtfullbath</th>\n",
              "      <th>bsmthalfbath</th>\n",
              "      <th>fullbath</th>\n",
              "      <th>halfbath</th>\n",
              "      <th>bedroomabvgr</th>\n",
              "      <th>kitchenabvgr</th>\n",
              "      <th>kitchenqual</th>\n",
              "      <th>totrmsabvgrd</th>\n",
              "      <th>functional</th>\n",
              "      <th>fireplaces</th>\n",
              "      <th>fireplacequ</th>\n",
              "      <th>garagetype</th>\n",
              "      <th>garageyrblt</th>\n",
              "      <th>garagefinish</th>\n",
              "      <th>garagecars</th>\n",
              "      <th>garagearea</th>\n",
              "      <th>garagequal</th>\n",
              "      <th>garagecond</th>\n",
              "      <th>paveddrive</th>\n",
              "      <th>wooddecksf</th>\n",
              "      <th>openporchsf</th>\n",
              "      <th>enclosedporch</th>\n",
              "      <th>threessnporch</th>\n",
              "      <th>screenporch</th>\n",
              "      <th>poolarea</th>\n",
              "      <th>poolqc</th>\n",
              "      <th>fence</th>\n",
              "      <th>miscfeature</th>\n",
              "      <th>miscval</th>\n",
              "      <th>mosold</th>\n",
              "      <th>yrsold</th>\n",
              "      <th>saletype</th>\n",
              "      <th>salecondition</th>\n",
              "      <th>saleprice</th>\n",
              "    </tr>\n",
              "  </thead>\n",
              "  <tbody>\n",
              "    <tr>\n",
              "      <th>0</th>\n",
              "      <td>1</td>\n",
              "      <td>60</td>\n",
              "      <td>RL</td>\n",
              "      <td>65.0</td>\n",
              "      <td>8450</td>\n",
              "      <td>Pave</td>\n",
              "      <td>None</td>\n",
              "      <td>Reg</td>\n",
              "      <td>Lvl</td>\n",
              "      <td>AllPub</td>\n",
              "      <td>Inside</td>\n",
              "      <td>Gtl</td>\n",
              "      <td>CollgCr</td>\n",
              "      <td>Norm</td>\n",
              "      <td>Norm</td>\n",
              "      <td>1Fam</td>\n",
              "      <td>2Story</td>\n",
              "      <td>7</td>\n",
              "      <td>5</td>\n",
              "      <td>2003</td>\n",
              "      <td>2003</td>\n",
              "      <td>Gable</td>\n",
              "      <td>CompShg</td>\n",
              "      <td>VinylSd</td>\n",
              "      <td>VinylSd</td>\n",
              "      <td>BrkFace</td>\n",
              "      <td>196.0</td>\n",
              "      <td>Gd</td>\n",
              "      <td>TA</td>\n",
              "      <td>PConc</td>\n",
              "      <td>Gd</td>\n",
              "      <td>TA</td>\n",
              "      <td>No</td>\n",
              "      <td>GLQ</td>\n",
              "      <td>706</td>\n",
              "      <td>Unf</td>\n",
              "      <td>0</td>\n",
              "      <td>150</td>\n",
              "      <td>856</td>\n",
              "      <td>GasA</td>\n",
              "      <td>...</td>\n",
              "      <td>Y</td>\n",
              "      <td>SBrkr</td>\n",
              "      <td>856</td>\n",
              "      <td>854</td>\n",
              "      <td>0</td>\n",
              "      <td>1710</td>\n",
              "      <td>1</td>\n",
              "      <td>0</td>\n",
              "      <td>2</td>\n",
              "      <td>1</td>\n",
              "      <td>3</td>\n",
              "      <td>1</td>\n",
              "      <td>Gd</td>\n",
              "      <td>8</td>\n",
              "      <td>Typ</td>\n",
              "      <td>0</td>\n",
              "      <td>None</td>\n",
              "      <td>Attchd</td>\n",
              "      <td>2003.0</td>\n",
              "      <td>RFn</td>\n",
              "      <td>2</td>\n",
              "      <td>548</td>\n",
              "      <td>TA</td>\n",
              "      <td>TA</td>\n",
              "      <td>Y</td>\n",
              "      <td>0</td>\n",
              "      <td>61</td>\n",
              "      <td>0</td>\n",
              "      <td>0</td>\n",
              "      <td>0</td>\n",
              "      <td>0</td>\n",
              "      <td>None</td>\n",
              "      <td>None</td>\n",
              "      <td>None</td>\n",
              "      <td>0</td>\n",
              "      <td>2</td>\n",
              "      <td>2008</td>\n",
              "      <td>WD</td>\n",
              "      <td>Normal</td>\n",
              "      <td>208500</td>\n",
              "    </tr>\n",
              "    <tr>\n",
              "      <th>1</th>\n",
              "      <td>2</td>\n",
              "      <td>20</td>\n",
              "      <td>RL</td>\n",
              "      <td>80.0</td>\n",
              "      <td>9600</td>\n",
              "      <td>Pave</td>\n",
              "      <td>None</td>\n",
              "      <td>Reg</td>\n",
              "      <td>Lvl</td>\n",
              "      <td>AllPub</td>\n",
              "      <td>FR2</td>\n",
              "      <td>Gtl</td>\n",
              "      <td>Veenker</td>\n",
              "      <td>Feedr</td>\n",
              "      <td>Norm</td>\n",
              "      <td>1Fam</td>\n",
              "      <td>1Story</td>\n",
              "      <td>6</td>\n",
              "      <td>8</td>\n",
              "      <td>1976</td>\n",
              "      <td>1976</td>\n",
              "      <td>Gable</td>\n",
              "      <td>CompShg</td>\n",
              "      <td>MetalSd</td>\n",
              "      <td>MetalSd</td>\n",
              "      <td>None</td>\n",
              "      <td>0.0</td>\n",
              "      <td>TA</td>\n",
              "      <td>TA</td>\n",
              "      <td>CBlock</td>\n",
              "      <td>Gd</td>\n",
              "      <td>TA</td>\n",
              "      <td>Gd</td>\n",
              "      <td>ALQ</td>\n",
              "      <td>978</td>\n",
              "      <td>Unf</td>\n",
              "      <td>0</td>\n",
              "      <td>284</td>\n",
              "      <td>1262</td>\n",
              "      <td>GasA</td>\n",
              "      <td>...</td>\n",
              "      <td>Y</td>\n",
              "      <td>SBrkr</td>\n",
              "      <td>1262</td>\n",
              "      <td>0</td>\n",
              "      <td>0</td>\n",
              "      <td>1262</td>\n",
              "      <td>0</td>\n",
              "      <td>1</td>\n",
              "      <td>2</td>\n",
              "      <td>0</td>\n",
              "      <td>3</td>\n",
              "      <td>1</td>\n",
              "      <td>TA</td>\n",
              "      <td>6</td>\n",
              "      <td>Typ</td>\n",
              "      <td>1</td>\n",
              "      <td>TA</td>\n",
              "      <td>Attchd</td>\n",
              "      <td>1976.0</td>\n",
              "      <td>RFn</td>\n",
              "      <td>2</td>\n",
              "      <td>460</td>\n",
              "      <td>TA</td>\n",
              "      <td>TA</td>\n",
              "      <td>Y</td>\n",
              "      <td>298</td>\n",
              "      <td>0</td>\n",
              "      <td>0</td>\n",
              "      <td>0</td>\n",
              "      <td>0</td>\n",
              "      <td>0</td>\n",
              "      <td>None</td>\n",
              "      <td>None</td>\n",
              "      <td>None</td>\n",
              "      <td>0</td>\n",
              "      <td>5</td>\n",
              "      <td>2007</td>\n",
              "      <td>WD</td>\n",
              "      <td>Normal</td>\n",
              "      <td>181500</td>\n",
              "    </tr>\n",
              "    <tr>\n",
              "      <th>2</th>\n",
              "      <td>3</td>\n",
              "      <td>60</td>\n",
              "      <td>RL</td>\n",
              "      <td>68.0</td>\n",
              "      <td>11250</td>\n",
              "      <td>Pave</td>\n",
              "      <td>None</td>\n",
              "      <td>IR1</td>\n",
              "      <td>Lvl</td>\n",
              "      <td>AllPub</td>\n",
              "      <td>Inside</td>\n",
              "      <td>Gtl</td>\n",
              "      <td>CollgCr</td>\n",
              "      <td>Norm</td>\n",
              "      <td>Norm</td>\n",
              "      <td>1Fam</td>\n",
              "      <td>2Story</td>\n",
              "      <td>7</td>\n",
              "      <td>5</td>\n",
              "      <td>2001</td>\n",
              "      <td>2002</td>\n",
              "      <td>Gable</td>\n",
              "      <td>CompShg</td>\n",
              "      <td>VinylSd</td>\n",
              "      <td>VinylSd</td>\n",
              "      <td>BrkFace</td>\n",
              "      <td>162.0</td>\n",
              "      <td>Gd</td>\n",
              "      <td>TA</td>\n",
              "      <td>PConc</td>\n",
              "      <td>Gd</td>\n",
              "      <td>TA</td>\n",
              "      <td>Mn</td>\n",
              "      <td>GLQ</td>\n",
              "      <td>486</td>\n",
              "      <td>Unf</td>\n",
              "      <td>0</td>\n",
              "      <td>434</td>\n",
              "      <td>920</td>\n",
              "      <td>GasA</td>\n",
              "      <td>...</td>\n",
              "      <td>Y</td>\n",
              "      <td>SBrkr</td>\n",
              "      <td>920</td>\n",
              "      <td>866</td>\n",
              "      <td>0</td>\n",
              "      <td>1786</td>\n",
              "      <td>1</td>\n",
              "      <td>0</td>\n",
              "      <td>2</td>\n",
              "      <td>1</td>\n",
              "      <td>3</td>\n",
              "      <td>1</td>\n",
              "      <td>Gd</td>\n",
              "      <td>6</td>\n",
              "      <td>Typ</td>\n",
              "      <td>1</td>\n",
              "      <td>TA</td>\n",
              "      <td>Attchd</td>\n",
              "      <td>2001.0</td>\n",
              "      <td>RFn</td>\n",
              "      <td>2</td>\n",
              "      <td>608</td>\n",
              "      <td>TA</td>\n",
              "      <td>TA</td>\n",
              "      <td>Y</td>\n",
              "      <td>0</td>\n",
              "      <td>42</td>\n",
              "      <td>0</td>\n",
              "      <td>0</td>\n",
              "      <td>0</td>\n",
              "      <td>0</td>\n",
              "      <td>None</td>\n",
              "      <td>None</td>\n",
              "      <td>None</td>\n",
              "      <td>0</td>\n",
              "      <td>9</td>\n",
              "      <td>2008</td>\n",
              "      <td>WD</td>\n",
              "      <td>Normal</td>\n",
              "      <td>223500</td>\n",
              "    </tr>\n",
              "    <tr>\n",
              "      <th>3</th>\n",
              "      <td>4</td>\n",
              "      <td>70</td>\n",
              "      <td>RL</td>\n",
              "      <td>60.0</td>\n",
              "      <td>9550</td>\n",
              "      <td>Pave</td>\n",
              "      <td>None</td>\n",
              "      <td>IR1</td>\n",
              "      <td>Lvl</td>\n",
              "      <td>AllPub</td>\n",
              "      <td>Corner</td>\n",
              "      <td>Gtl</td>\n",
              "      <td>Crawfor</td>\n",
              "      <td>Norm</td>\n",
              "      <td>Norm</td>\n",
              "      <td>1Fam</td>\n",
              "      <td>2Story</td>\n",
              "      <td>7</td>\n",
              "      <td>5</td>\n",
              "      <td>1915</td>\n",
              "      <td>1970</td>\n",
              "      <td>Gable</td>\n",
              "      <td>CompShg</td>\n",
              "      <td>Wd Sdng</td>\n",
              "      <td>Wd Shng</td>\n",
              "      <td>None</td>\n",
              "      <td>0.0</td>\n",
              "      <td>TA</td>\n",
              "      <td>TA</td>\n",
              "      <td>BrkTil</td>\n",
              "      <td>TA</td>\n",
              "      <td>Gd</td>\n",
              "      <td>No</td>\n",
              "      <td>ALQ</td>\n",
              "      <td>216</td>\n",
              "      <td>Unf</td>\n",
              "      <td>0</td>\n",
              "      <td>540</td>\n",
              "      <td>756</td>\n",
              "      <td>GasA</td>\n",
              "      <td>...</td>\n",
              "      <td>Y</td>\n",
              "      <td>SBrkr</td>\n",
              "      <td>961</td>\n",
              "      <td>756</td>\n",
              "      <td>0</td>\n",
              "      <td>1717</td>\n",
              "      <td>1</td>\n",
              "      <td>0</td>\n",
              "      <td>1</td>\n",
              "      <td>0</td>\n",
              "      <td>3</td>\n",
              "      <td>1</td>\n",
              "      <td>Gd</td>\n",
              "      <td>7</td>\n",
              "      <td>Typ</td>\n",
              "      <td>1</td>\n",
              "      <td>Gd</td>\n",
              "      <td>Detchd</td>\n",
              "      <td>1998.0</td>\n",
              "      <td>Unf</td>\n",
              "      <td>3</td>\n",
              "      <td>642</td>\n",
              "      <td>TA</td>\n",
              "      <td>TA</td>\n",
              "      <td>Y</td>\n",
              "      <td>0</td>\n",
              "      <td>35</td>\n",
              "      <td>272</td>\n",
              "      <td>0</td>\n",
              "      <td>0</td>\n",
              "      <td>0</td>\n",
              "      <td>None</td>\n",
              "      <td>None</td>\n",
              "      <td>None</td>\n",
              "      <td>0</td>\n",
              "      <td>2</td>\n",
              "      <td>2006</td>\n",
              "      <td>WD</td>\n",
              "      <td>Abnorml</td>\n",
              "      <td>140000</td>\n",
              "    </tr>\n",
              "    <tr>\n",
              "      <th>4</th>\n",
              "      <td>5</td>\n",
              "      <td>60</td>\n",
              "      <td>RL</td>\n",
              "      <td>84.0</td>\n",
              "      <td>14260</td>\n",
              "      <td>Pave</td>\n",
              "      <td>None</td>\n",
              "      <td>IR1</td>\n",
              "      <td>Lvl</td>\n",
              "      <td>AllPub</td>\n",
              "      <td>FR2</td>\n",
              "      <td>Gtl</td>\n",
              "      <td>NoRidge</td>\n",
              "      <td>Norm</td>\n",
              "      <td>Norm</td>\n",
              "      <td>1Fam</td>\n",
              "      <td>2Story</td>\n",
              "      <td>8</td>\n",
              "      <td>5</td>\n",
              "      <td>2000</td>\n",
              "      <td>2000</td>\n",
              "      <td>Gable</td>\n",
              "      <td>CompShg</td>\n",
              "      <td>VinylSd</td>\n",
              "      <td>VinylSd</td>\n",
              "      <td>BrkFace</td>\n",
              "      <td>350.0</td>\n",
              "      <td>Gd</td>\n",
              "      <td>TA</td>\n",
              "      <td>PConc</td>\n",
              "      <td>Gd</td>\n",
              "      <td>TA</td>\n",
              "      <td>Av</td>\n",
              "      <td>GLQ</td>\n",
              "      <td>655</td>\n",
              "      <td>Unf</td>\n",
              "      <td>0</td>\n",
              "      <td>490</td>\n",
              "      <td>1145</td>\n",
              "      <td>GasA</td>\n",
              "      <td>...</td>\n",
              "      <td>Y</td>\n",
              "      <td>SBrkr</td>\n",
              "      <td>1145</td>\n",
              "      <td>1053</td>\n",
              "      <td>0</td>\n",
              "      <td>2198</td>\n",
              "      <td>1</td>\n",
              "      <td>0</td>\n",
              "      <td>2</td>\n",
              "      <td>1</td>\n",
              "      <td>4</td>\n",
              "      <td>1</td>\n",
              "      <td>Gd</td>\n",
              "      <td>9</td>\n",
              "      <td>Typ</td>\n",
              "      <td>1</td>\n",
              "      <td>TA</td>\n",
              "      <td>Attchd</td>\n",
              "      <td>2000.0</td>\n",
              "      <td>RFn</td>\n",
              "      <td>3</td>\n",
              "      <td>836</td>\n",
              "      <td>TA</td>\n",
              "      <td>TA</td>\n",
              "      <td>Y</td>\n",
              "      <td>192</td>\n",
              "      <td>84</td>\n",
              "      <td>0</td>\n",
              "      <td>0</td>\n",
              "      <td>0</td>\n",
              "      <td>0</td>\n",
              "      <td>None</td>\n",
              "      <td>None</td>\n",
              "      <td>None</td>\n",
              "      <td>0</td>\n",
              "      <td>12</td>\n",
              "      <td>2008</td>\n",
              "      <td>WD</td>\n",
              "      <td>Normal</td>\n",
              "      <td>250000</td>\n",
              "    </tr>\n",
              "  </tbody>\n",
              "</table>\n",
              "<p>5 rows × 81 columns</p>\n",
              "</div>"
            ],
            "text/plain": [
              "   id  mssubclass mszoning  ...  saletype  salecondition saleprice\n",
              "0   1          60       RL  ...        WD         Normal    208500\n",
              "1   2          20       RL  ...        WD         Normal    181500\n",
              "2   3          60       RL  ...        WD         Normal    223500\n",
              "3   4          70       RL  ...        WD        Abnorml    140000\n",
              "4   5          60       RL  ...        WD         Normal    250000\n",
              "\n",
              "[5 rows x 81 columns]"
            ]
          },
          "metadata": {
            "tags": []
          },
          "execution_count": 2
        }
      ]
    },
    {
      "cell_type": "markdown",
      "metadata": {
        "id": "PG-I_ReVMIwt",
        "colab_type": "text"
      },
      "source": [
        "## **2. Reimplement your model from the previous checkpoint.**"
      ]
    },
    {
      "cell_type": "code",
      "metadata": {
        "id": "eLc0GwnELukz",
        "colab_type": "code",
        "colab": {
          "base_uri": "https://localhost:8080/",
          "height": 583
        },
        "outputId": "881ff3ee-2ae5-42ff-f481-76ea9fac2484"
      },
      "source": [
        "house_prices_df1 = house_prices_df.loc[house_prices_df['saleprice'] < 350000]\n",
        "\n",
        "# Y is the target variable\n",
        "Y = house_prices_df1['saleprice']\n",
        "\n",
        "# X is the feature set\n",
        "X = house_prices_df1[['overallqual', 'grlivarea', 'garagecars', 'totalbsmtsf', 'yearremodadd', 'yearbuilt']]\n",
        "\n",
        "# add a constant to the model\n",
        "X = sm.add_constant(X)\n",
        "\n",
        "X_train, X_test, y_train, y_test = train_test_split(X, Y, test_size = 0.2, random_state = 465)\n",
        "\n",
        "#print(\"The number of observations in training set is {}\".format(X_train.shape[0]))\n",
        "#print(\"The number of observations in test set is {}\".format(X_test.shape[0]))\n",
        "\n",
        "# add a constant to the model, the “baseline” of the data in case all of your features values are 0.\n",
        "\n",
        "X_train = sm.add_constant(X_train)\n",
        "\n",
        "# Let's train the model\n",
        "\n",
        "results = sm.OLS(y_train, X_train).fit()\n",
        "\n",
        "results.summary()"
      ],
      "execution_count": 3,
      "outputs": [
        {
          "output_type": "execute_result",
          "data": {
            "text/html": [
              "<table class=\"simpletable\">\n",
              "<caption>OLS Regression Results</caption>\n",
              "<tr>\n",
              "  <th>Dep. Variable:</th>        <td>saleprice</td>    <th>  R-squared:         </th> <td>   0.773</td> \n",
              "</tr>\n",
              "<tr>\n",
              "  <th>Model:</th>                   <td>OLS</td>       <th>  Adj. R-squared:    </th> <td>   0.771</td> \n",
              "</tr>\n",
              "<tr>\n",
              "  <th>Method:</th>             <td>Least Squares</td>  <th>  F-statistic:       </th> <td>   632.2</td> \n",
              "</tr>\n",
              "<tr>\n",
              "  <th>Date:</th>             <td>Tue, 21 Jul 2020</td> <th>  Prob (F-statistic):</th>  <td>  0.00</td>  \n",
              "</tr>\n",
              "<tr>\n",
              "  <th>Time:</th>                 <td>01:36:15</td>     <th>  Log-Likelihood:    </th> <td> -13112.</td> \n",
              "</tr>\n",
              "<tr>\n",
              "  <th>No. Observations:</th>      <td>  1123</td>      <th>  AIC:               </th> <td>2.624e+04</td>\n",
              "</tr>\n",
              "<tr>\n",
              "  <th>Df Residuals:</th>          <td>  1116</td>      <th>  BIC:               </th> <td>2.627e+04</td>\n",
              "</tr>\n",
              "<tr>\n",
              "  <th>Df Model:</th>              <td>     6</td>      <th>                     </th>     <td> </td>    \n",
              "</tr>\n",
              "<tr>\n",
              "  <th>Covariance Type:</th>      <td>nonrobust</td>    <th>                     </th>     <td> </td>    \n",
              "</tr>\n",
              "</table>\n",
              "<table class=\"simpletable\">\n",
              "<tr>\n",
              "        <td></td>          <th>coef</th>     <th>std err</th>      <th>t</th>      <th>P>|t|</th>  <th>[0.025</th>    <th>0.975]</th>  \n",
              "</tr>\n",
              "<tr>\n",
              "  <th>const</th>        <td>-1.157e+06</td> <td> 1.03e+05</td> <td>  -11.223</td> <td> 0.000</td> <td>-1.36e+06</td> <td>-9.54e+05</td>\n",
              "</tr>\n",
              "<tr>\n",
              "  <th>overallqual</th>  <td> 1.618e+04</td> <td> 1018.238</td> <td>   15.886</td> <td> 0.000</td> <td> 1.42e+04</td> <td> 1.82e+04</td>\n",
              "</tr>\n",
              "<tr>\n",
              "  <th>grlivarea</th>    <td>   36.3774</td> <td>    2.259</td> <td>   16.106</td> <td> 0.000</td> <td>   31.946</td> <td>   40.809</td>\n",
              "</tr>\n",
              "<tr>\n",
              "  <th>garagecars</th>   <td> 1.384e+04</td> <td> 1512.212</td> <td>    9.155</td> <td> 0.000</td> <td> 1.09e+04</td> <td> 1.68e+04</td>\n",
              "</tr>\n",
              "<tr>\n",
              "  <th>totalbsmtsf</th>  <td>   17.5254</td> <td>    2.466</td> <td>    7.107</td> <td> 0.000</td> <td>   12.687</td> <td>   22.364</td>\n",
              "</tr>\n",
              "<tr>\n",
              "  <th>yearremodadd</th> <td>  316.5483</td> <td>   52.585</td> <td>    6.020</td> <td> 0.000</td> <td>  213.372</td> <td>  419.724</td>\n",
              "</tr>\n",
              "<tr>\n",
              "  <th>yearbuilt</th>    <td>  257.2559</td> <td>   40.398</td> <td>    6.368</td> <td> 0.000</td> <td>  177.991</td> <td>  336.521</td>\n",
              "</tr>\n",
              "</table>\n",
              "<table class=\"simpletable\">\n",
              "<tr>\n",
              "  <th>Omnibus:</th>       <td>583.428</td> <th>  Durbin-Watson:     </th> <td>   2.037</td> \n",
              "</tr>\n",
              "<tr>\n",
              "  <th>Prob(Omnibus):</th> <td> 0.000</td>  <th>  Jarque-Bera (JB):  </th> <td>22861.124</td>\n",
              "</tr>\n",
              "<tr>\n",
              "  <th>Skew:</th>          <td>-1.716</td>  <th>  Prob(JB):          </th> <td>    0.00</td> \n",
              "</tr>\n",
              "<tr>\n",
              "  <th>Kurtosis:</th>      <td>24.836</td>  <th>  Cond. No.          </th> <td>4.03e+05</td> \n",
              "</tr>\n",
              "</table><br/><br/>Warnings:<br/>[1] Standard Errors assume that the covariance matrix of the errors is correctly specified.<br/>[2] The condition number is large, 4.03e+05. This might indicate that there are<br/>strong multicollinearity or other numerical problems."
            ],
            "text/plain": [
              "<class 'statsmodels.iolib.summary.Summary'>\n",
              "\"\"\"\n",
              "                            OLS Regression Results                            \n",
              "==============================================================================\n",
              "Dep. Variable:              saleprice   R-squared:                       0.773\n",
              "Model:                            OLS   Adj. R-squared:                  0.771\n",
              "Method:                 Least Squares   F-statistic:                     632.2\n",
              "Date:                Tue, 21 Jul 2020   Prob (F-statistic):               0.00\n",
              "Time:                        01:36:15   Log-Likelihood:                -13112.\n",
              "No. Observations:                1123   AIC:                         2.624e+04\n",
              "Df Residuals:                    1116   BIC:                         2.627e+04\n",
              "Df Model:                           6                                         \n",
              "Covariance Type:            nonrobust                                         \n",
              "================================================================================\n",
              "                   coef    std err          t      P>|t|      [0.025      0.975]\n",
              "--------------------------------------------------------------------------------\n",
              "const        -1.157e+06   1.03e+05    -11.223      0.000   -1.36e+06   -9.54e+05\n",
              "overallqual   1.618e+04   1018.238     15.886      0.000    1.42e+04    1.82e+04\n",
              "grlivarea       36.3774      2.259     16.106      0.000      31.946      40.809\n",
              "garagecars    1.384e+04   1512.212      9.155      0.000    1.09e+04    1.68e+04\n",
              "totalbsmtsf     17.5254      2.466      7.107      0.000      12.687      22.364\n",
              "yearremodadd   316.5483     52.585      6.020      0.000     213.372     419.724\n",
              "yearbuilt      257.2559     40.398      6.368      0.000     177.991     336.521\n",
              "==============================================================================\n",
              "Omnibus:                      583.428   Durbin-Watson:                   2.037\n",
              "Prob(Omnibus):                  0.000   Jarque-Bera (JB):            22861.124\n",
              "Skew:                          -1.716   Prob(JB):                         0.00\n",
              "Kurtosis:                      24.836   Cond. No.                     4.03e+05\n",
              "==============================================================================\n",
              "\n",
              "Warnings:\n",
              "[1] Standard Errors assume that the covariance matrix of the errors is correctly specified.\n",
              "[2] The condition number is large, 4.03e+05. This might indicate that there are\n",
              "strong multicollinearity or other numerical problems.\n",
              "\"\"\""
            ]
          },
          "metadata": {
            "tags": []
          },
          "execution_count": 3
        }
      ]
    },
    {
      "cell_type": "markdown",
      "metadata": {
        "id": "97ia4xl1MeSe",
        "colab_type": "text"
      },
      "source": [
        "## **3. Try OLS, Lasso, Ridge, and ElasticNet regression using the same model specification. This time, you need to do k-fold cross-validation to choose the best hyperparameter values for your models. Scikit-learn has RidgeCV, LassoCV, and ElasticNetCV that you can utilize to do this. Which model is the best? Why?**"
      ]
    },
    {
      "cell_type": "markdown",
      "metadata": {
        "id": "k2apqorqMoCH",
        "colab_type": "text"
      },
      "source": [
        "###**3.1. OLS**"
      ]
    },
    {
      "cell_type": "code",
      "metadata": {
        "id": "z-YbHEzaMYBd",
        "colab_type": "code",
        "colab": {
          "base_uri": "https://localhost:8080/",
          "height": 136
        },
        "outputId": "8c7c251e-b8dc-4240-a03f-26e233bf9765"
      },
      "source": [
        "# We fit an OLS model using sklearn\n",
        "lrm = LinearRegression()\n",
        "lrm.fit(X_train, y_train)\n",
        "\n",
        "\n",
        "# We are making predictions here\n",
        "y_preds_train = lrm.predict(X_train)\n",
        "y_preds_test = lrm.predict(X_test)\n",
        "\n",
        "print(\"R-squared of the model in the training set is: {}\".format(lrm.score(X_train, y_train)))\n",
        "print(\"-----Test set statistics-----\")\n",
        "print(\"R-squared of the model in the test set is: {}\".format(lrm.score(X_test, y_test)))\n",
        "print(\"Mean absolute error of the prediction is: {}\".format(mean_absolute_error(y_test, y_preds_test)))\n",
        "print(\"Mean squared error of the prediction is: {}\".format(mse(y_test, y_preds_test)))\n",
        "print(\"Root mean squared error of the prediction is: {}\".format(rmse(y_test, y_preds_test)))\n",
        "print(\"Mean absolute percentage error of the prediction is: {}\".format(np.mean(np.abs((y_test - y_preds_test) / y_test)) * 100))"
      ],
      "execution_count": 4,
      "outputs": [
        {
          "output_type": "stream",
          "text": [
            "R-squared of the model in the training set is: 0.7726742305375318\n",
            "-----Test set statistics-----\n",
            "R-squared of the model in the test set is: 0.7916420600437634\n",
            "Mean absolute error of the prediction is: 20096.91847046615\n",
            "Mean squared error of the prediction is: 775513252.369483\n",
            "Root mean squared error of the prediction is: 27848.038573111087\n",
            "Mean absolute percentage error of the prediction is: 12.48903979765544\n"
          ],
          "name": "stdout"
        }
      ]
    },
    {
      "cell_type": "markdown",
      "metadata": {
        "id": "wNnx0IwbWcck",
        "colab_type": "text"
      },
      "source": [
        "Let's perform a log transformation on the dependent variable (saleprice)"
      ]
    },
    {
      "cell_type": "code",
      "metadata": {
        "id": "HyU4Dtr5VDlK",
        "colab_type": "code",
        "colab": {
          "base_uri": "https://localhost:8080/",
          "height": 170
        },
        "outputId": "4f844b1b-5719-407b-b199-a49bd88115d2"
      },
      "source": [
        "# Y is the target variable\n",
        "Y = np.log(house_prices_df1['saleprice'])\n",
        "\n",
        "# X is the feature set\n",
        "X = house_prices_df1[['overallqual', 'grlivarea', 'garagecars', 'totalbsmtsf', 'yearremodadd', 'yearbuilt']]\n",
        "\n",
        "# add a constant to the model\n",
        "X = sm.add_constant(X)\n",
        "\n",
        "X_train, X_test, y_train, y_test = train_test_split(X, Y, test_size = 0.2, random_state = 465)\n",
        "\n",
        "print(\"The number of observations in training set is {}\".format(X_train.shape[0]))\n",
        "print(\"The number of observations in test set is {}\".format(X_test.shape[0]))\n",
        "\n",
        "# add a constant to the model, the “baseline” of the data in case all of your features values are 0.\n",
        "\n",
        "X_train = sm.add_constant(X_train)\n",
        "\n",
        "# Let's train the model\n",
        "\n",
        "results = sm.OLS(y_train, X_train).fit()\n",
        "\n",
        "#results.summary()\n",
        "\n",
        "\n",
        "\n",
        "# We fit an OLS model using sklearn\n",
        "lrm = LinearRegression()\n",
        "lrm.fit(X_train, y_train)\n",
        "\n",
        "\n",
        "# We are making predictions here\n",
        "y_preds_train = lrm.predict(X_train)\n",
        "y_preds_test = lrm.predict(X_test)\n",
        "\n",
        "print(\"R-squared of the model in the training set is: {}\".format(lrm.score(X_train, y_train)))\n",
        "print(\"-----Test set statistics-----\")\n",
        "print(\"R-squared of the model in the test set is: {}\".format(lrm.score(X_test, y_test)))\n",
        "print(\"Mean absolute error of the prediction is: {}\".format(mean_absolute_error(y_test, y_preds_test)))\n",
        "print(\"Mean squared error of the prediction is: {}\".format(mse(y_test, y_preds_test)))\n",
        "print(\"Root mean squared error of the prediction is: {}\".format(rmse(y_test, y_preds_test)))\n",
        "print(\"Mean absolute percentage error of the prediction is: {}\".format(np.mean(np.abs((y_test - y_preds_test) / y_test)) * 100))"
      ],
      "execution_count": 5,
      "outputs": [
        {
          "output_type": "stream",
          "text": [
            "The number of observations in training set is 1123\n",
            "The number of observations in test set is 281\n",
            "R-squared of the model in the training set is: 0.7767246618024104\n",
            "-----Test set statistics-----\n",
            "R-squared of the model in the test set is: 0.801893701601791\n",
            "Mean absolute error of the prediction is: 0.1140673129907533\n",
            "Mean squared error of the prediction is: 0.0260109072541379\n",
            "Root mean squared error of the prediction is: 0.1612789733788565\n",
            "Mean absolute percentage error of the prediction is: 0.9579298561011598\n"
          ],
          "name": "stdout"
        }
      ]
    },
    {
      "cell_type": "code",
      "metadata": {
        "id": "aZJtuBpUZX_E",
        "colab_type": "code",
        "colab": {
          "base_uri": "https://localhost:8080/",
          "height": 68
        },
        "outputId": "75568c6e-d272-4e3d-a1bc-2d706e2d410b"
      },
      "source": [
        "from sklearn.model_selection import cross_val_score\n",
        "ols_result = cross_val_score(lrm, X_train, y_train, cv=10)\n",
        "print(ols_result)\n",
        "\n",
        "print(\"Accuracy:\",ols_result.mean()*100)"
      ],
      "execution_count": 6,
      "outputs": [
        {
          "output_type": "stream",
          "text": [
            "[0.84154629 0.83390049 0.82340118 0.47554602 0.76459214 0.69967769\n",
            " 0.75771762 0.76485706 0.75386617 0.8494306 ]\n",
            "Accuracy: 75.64535251203512\n"
          ],
          "name": "stdout"
        }
      ]
    },
    {
      "cell_type": "markdown",
      "metadata": {
        "id": "uOvMa0WrWNi7",
        "colab_type": "text"
      },
      "source": [
        "### **3.2 Ridge regression**"
      ]
    },
    {
      "cell_type": "markdown",
      "metadata": {
        "id": "JQwtHkkThu9e",
        "colab_type": "text"
      },
      "source": [
        "Selecting The Best Alpha Value In Ridge Regression"
      ]
    },
    {
      "cell_type": "code",
      "metadata": {
        "id": "S2mJtG8qgYky",
        "colab_type": "code",
        "colab": {
          "base_uri": "https://localhost:8080/",
          "height": 34
        },
        "outputId": "405913db-f738-4e2d-8b79-5a8473723825"
      },
      "source": [
        "#Selecting The Best Alpha Value In Ridge Regression\n",
        "\n",
        "from sklearn.linear_model import RidgeCV\n",
        "\n",
        "# Create ridge regression with three possible alpha values\n",
        "regr_cv = RidgeCV(alphas=[0.1, 1.0, 10.0])\n",
        "\n",
        "# Fit the linear regression\n",
        "model_cv = regr_cv.fit(X, Y)\n",
        "\n",
        "# View alpha\n",
        "model_cv.alpha_"
      ],
      "execution_count": 7,
      "outputs": [
        {
          "output_type": "execute_result",
          "data": {
            "text/plain": [
              "0.1"
            ]
          },
          "metadata": {
            "tags": []
          },
          "execution_count": 7
        }
      ]
    },
    {
      "cell_type": "code",
      "metadata": {
        "id": "k4wSCtsaVv-i",
        "colab_type": "code",
        "colab": {
          "base_uri": "https://localhost:8080/",
          "height": 136
        },
        "outputId": "c21fa0fe-2240-4068-dd5d-655e48059207"
      },
      "source": [
        "from sklearn.linear_model import Ridge\n",
        "\n",
        "# Fitting a ridge regression model. Alpha is the regularization\n",
        "# parameter (usually called lambda). As alpha gets larger, parameter\n",
        "# shrinkage grows more pronounced.\n",
        "ridgeregr = Ridge(alpha = model_cv.alpha_) \n",
        "ridgeregr.fit(X_train, y_train)\n",
        "\n",
        "# We are making predictions here\n",
        "y_preds_train = ridgeregr.predict(X_train)\n",
        "y_preds_test = ridgeregr.predict(X_test)\n",
        "\n",
        "print(\"R-squared of the model on the training set is: {}\".format(ridgeregr.score(X_train, y_train)))\n",
        "print(\"-----Test set statistics-----\")\n",
        "print(\"R-squared of the model on the test set is: {}\".format(ridgeregr.score(X_test, y_test)))\n",
        "print(\"Mean absolute error of the prediction is: {}\".format(mean_absolute_error(y_test, y_preds_test)))\n",
        "print(\"Mean squared error of the prediction is: {}\".format(mse(y_test, y_preds_test)))\n",
        "print(\"Root mean squared error of the prediction is: {}\".format(rmse(y_test, y_preds_test)))\n",
        "print(\"Mean absolute percentage error of the prediction is: {}\".format(np.mean(np.abs((y_test - y_preds_test) / y_test)) * 100))"
      ],
      "execution_count": 8,
      "outputs": [
        {
          "output_type": "stream",
          "text": [
            "R-squared of the model on the training set is: 0.7767246599947509\n",
            "-----Test set statistics-----\n",
            "R-squared of the model on the test set is: 0.8018978442057729\n",
            "Mean absolute error of the prediction is: 0.1140652991499132\n",
            "Mean squared error of the prediction is: 0.026010363339639287\n",
            "Root mean squared error of the prediction is: 0.16127728711644207\n",
            "Mean absolute percentage error of the prediction is: 0.9579132318211231\n"
          ],
          "name": "stdout"
        }
      ]
    },
    {
      "cell_type": "code",
      "metadata": {
        "id": "5_E5JxgMnIBS",
        "colab_type": "code",
        "colab": {
          "base_uri": "https://localhost:8080/",
          "height": 68
        },
        "outputId": "ce5c789b-756b-4ae0-9708-d2bdee04d37c"
      },
      "source": [
        "regr_result = cross_val_score(ridgeregr, X_train, y_train, cv=10)\n",
        "print(regr_result)\n",
        "\n",
        "print(\"Accuracy:\",regr_result.mean()*100)"
      ],
      "execution_count": 9,
      "outputs": [
        {
          "output_type": "stream",
          "text": [
            "[0.84155209 0.83389876 0.82341709 0.4755066  0.76459155 0.6996682\n",
            " 0.75773123 0.76487466 0.75386258 0.84942945]\n",
            "Accuracy: 75.64532214584486\n"
          ],
          "name": "stdout"
        }
      ]
    },
    {
      "cell_type": "markdown",
      "metadata": {
        "id": "A-xmiW-7iLiR",
        "colab_type": "text"
      },
      "source": [
        "### **3.3 Lasso**"
      ]
    },
    {
      "cell_type": "code",
      "metadata": {
        "id": "2PPUa5L2hWiZ",
        "colab_type": "code",
        "colab": {
          "base_uri": "https://localhost:8080/",
          "height": 34
        },
        "outputId": "0cc33860-28cc-46c9-db03-3a2ca1545dc3"
      },
      "source": [
        "#Selecting The Best Alpha Value In Ridge Regression\n",
        "\n",
        "from sklearn.linear_model import LassoCV\n",
        "\n",
        "# Create ridge regression with three possible alpha values\n",
        "lasso_cv = LassoCV(alphas=[0.1, 1.0, 10.0])\n",
        "\n",
        "# Fit the linear regression\n",
        "model_cv = lasso_cv.fit(X, Y)\n",
        "\n",
        "# View alpha\n",
        "model_cv.alpha_"
      ],
      "execution_count": 10,
      "outputs": [
        {
          "output_type": "execute_result",
          "data": {
            "text/plain": [
              "0.1"
            ]
          },
          "metadata": {
            "tags": []
          },
          "execution_count": 10
        }
      ]
    },
    {
      "cell_type": "code",
      "metadata": {
        "id": "jEIXBcd4jah7",
        "colab_type": "code",
        "colab": {
          "base_uri": "https://localhost:8080/",
          "height": 136
        },
        "outputId": "dbfd1f1c-4f38-4ed6-cbc3-644afda00baa"
      },
      "source": [
        "from sklearn.linear_model import Lasso\n",
        "\n",
        "lassoregr = Lasso(alpha=model_cv.alpha_) \n",
        "lassoregr.fit(X_train, y_train)\n",
        "\n",
        "# We are making predictions here\n",
        "y_preds_train = lassoregr.predict(X_train)\n",
        "y_preds_test = lassoregr.predict(X_test)\n",
        "\n",
        "print(\"R-squared of the model on the training set is: {}\".format(lassoregr.score(X_train, y_train)))\n",
        "print(\"-----Test set statistics-----\")\n",
        "print(\"R-squared of the model on the test set is: {}\".format(lassoregr.score(X_test, y_test)))\n",
        "print(\"Mean absolute error of the prediction is: {}\".format(mean_absolute_error(y_test, y_preds_test)))\n",
        "print(\"Mean squared error of the prediction is: {}\".format(mse(y_test, y_preds_test)))\n",
        "print(\"Root mean squared error of the prediction is: {}\".format(rmse(y_test, y_preds_test)))\n",
        "print(\"Mean absolute percentage error of the prediction is: {}\".format(np.mean(np.abs((y_test - y_preds_test) / y_test)) * 100))"
      ],
      "execution_count": 11,
      "outputs": [
        {
          "output_type": "stream",
          "text": [
            "R-squared of the model on the training set is: 0.7011984475001538\n",
            "-----Test set statistics-----\n",
            "R-squared of the model on the test set is: 0.7614062376009454\n",
            "Mean absolute error of the prediction is: 0.12904881216828087\n",
            "Mean squared error of the prediction is: 0.0313268193659497\n",
            "Root mean squared error of the prediction is: 0.17699383990961295\n",
            "Mean absolute percentage error of the prediction is: 1.0837660976369103\n"
          ],
          "name": "stdout"
        }
      ]
    },
    {
      "cell_type": "code",
      "metadata": {
        "id": "2QyUoiZ8m-pM",
        "colab_type": "code",
        "colab": {
          "base_uri": "https://localhost:8080/",
          "height": 68
        },
        "outputId": "e0badd74-3ea5-4c47-d9b6-563ac9eea3e5"
      },
      "source": [
        "lassoregr_result = cross_val_score(lassoregr, X_train, y_train, cv=10)\n",
        "print(lassoregr_result)\n",
        "\n",
        "print(\"Accuracy:\",lassoregr_result.mean()*100)"
      ],
      "execution_count": 12,
      "outputs": [
        {
          "output_type": "stream",
          "text": [
            "[0.81124397 0.72998743 0.814911   0.1653036  0.70754073 0.57999542\n",
            " 0.7286915  0.75927826 0.67433712 0.77531493]\n",
            "Accuracy: 67.46603974655208\n"
          ],
          "name": "stdout"
        }
      ]
    },
    {
      "cell_type": "markdown",
      "metadata": {
        "id": "e803RX9Ypykv",
        "colab_type": "text"
      },
      "source": [
        "### **3.4 ElasticNet regression**"
      ]
    },
    {
      "cell_type": "code",
      "metadata": {
        "id": "Nd2YYg0_nuOD",
        "colab_type": "code",
        "colab": {
          "base_uri": "https://localhost:8080/",
          "height": 136
        },
        "outputId": "139f2fbd-ab2a-4862-8966-3ef79e0351e6"
      },
      "source": [
        "from sklearn.linear_model import ElasticNet\n",
        "\n",
        "elasticregr = ElasticNet(alpha=model_cv.alpha_, l1_ratio=0.5) \n",
        "elasticregr.fit(X_train, y_train)\n",
        "\n",
        "# We are making predictions here\n",
        "y_preds_train = elasticregr.predict(X_train)\n",
        "y_preds_test = elasticregr.predict(X_test)\n",
        "\n",
        "print(\"R-squared of the model on the training set is: {}\".format(elasticregr.score(X_train, y_train)))\n",
        "print(\"-----Test set statistics-----\")\n",
        "print(\"R-squared of the model on the test set is: {}\".format(elasticregr.score(X_test, y_test)))\n",
        "print(\"Mean absolute error of the prediction is: {}\".format(mean_absolute_error(y_test, y_preds_test)))\n",
        "print(\"Mean squared error of the prediction is: {}\".format(mse(y_test, y_preds_test)))\n",
        "print(\"Root mean squared error of the prediction is: {}\".format(rmse(y_test, y_preds_test)))\n",
        "print(\"Mean absolute percentage error of the prediction is: {}\".format(np.mean(np.abs((y_test - y_preds_test) / y_test)) * 100))"
      ],
      "execution_count": 13,
      "outputs": [
        {
          "output_type": "stream",
          "text": [
            "R-squared of the model on the training set is: 0.7316751042544716\n",
            "-----Test set statistics-----\n",
            "R-squared of the model on the test set is: 0.7819703034286623\n",
            "Mean absolute error of the prediction is: 0.12247662908520171\n",
            "Mean squared error of the prediction is: 0.028626804205717074\n",
            "Root mean squared error of the prediction is: 0.1691945749890258\n",
            "Mean absolute percentage error of the prediction is: 1.0290257187812024\n"
          ],
          "name": "stdout"
        }
      ]
    },
    {
      "cell_type": "code",
      "metadata": {
        "id": "0sgoytOo2vaK",
        "colab_type": "code",
        "colab": {
          "base_uri": "https://localhost:8080/",
          "height": 68
        },
        "outputId": "9419ca5e-ff19-4dfe-9c68-366b7fbbbea3"
      },
      "source": [
        "elasticregr_result = cross_val_score(elasticregr, X_train, y_train, cv=10)\n",
        "print(elasticregr_result)\n",
        "\n",
        "print(\"Accuracy:\",elasticregr_result.mean()*100)"
      ],
      "execution_count": 14,
      "outputs": [
        {
          "output_type": "stream",
          "text": [
            "[0.83009087 0.77002611 0.83844208 0.22065907 0.73015296 0.61611491\n",
            " 0.75572864 0.78353941 0.70413833 0.80229811]\n",
            "Accuracy: 70.51190499891374\n"
          ],
          "name": "stdout"
        }
      ]
    },
    {
      "cell_type": "markdown",
      "metadata": {
        "id": "jmrh8E56zUb9",
        "colab_type": "text"
      },
      "source": [
        "###**Which model is the best? Why?**"
      ]
    },
    {
      "cell_type": "code",
      "metadata": {
        "id": "1fHPTttE3PLK",
        "colab_type": "code",
        "colab": {
          "base_uri": "https://localhost:8080/",
          "height": 173
        },
        "outputId": "5e3b5453-6fed-4176-9931-84ece80d995e"
      },
      "source": [
        "fold = pd.DataFrame([ols_result*100, regr_result*100, lassoregr_result*100, elasticregr_result*100], index = ['OLS Model', 'Lasso Model', 'Ridge Model', 'ElasticNet Model'])\n",
        "\n",
        "fold.columns = ['Fold_1','Fold_2','Fold_3','Fold_4','Fold_5','Fold_6','Fold_7','Fold_8','Fold_8','Fold_10']\n",
        "\n",
        "fold['avg_score'] = fold.mean(axis=1)\n",
        "\n",
        "fold.sort_values(['avg_score'],ascending=False)"
      ],
      "execution_count": 15,
      "outputs": [
        {
          "output_type": "execute_result",
          "data": {
            "text/html": [
              "<div>\n",
              "<style scoped>\n",
              "    .dataframe tbody tr th:only-of-type {\n",
              "        vertical-align: middle;\n",
              "    }\n",
              "\n",
              "    .dataframe tbody tr th {\n",
              "        vertical-align: top;\n",
              "    }\n",
              "\n",
              "    .dataframe thead th {\n",
              "        text-align: right;\n",
              "    }\n",
              "</style>\n",
              "<table border=\"1\" class=\"dataframe\">\n",
              "  <thead>\n",
              "    <tr style=\"text-align: right;\">\n",
              "      <th></th>\n",
              "      <th>Fold_1</th>\n",
              "      <th>Fold_2</th>\n",
              "      <th>Fold_3</th>\n",
              "      <th>Fold_4</th>\n",
              "      <th>Fold_5</th>\n",
              "      <th>Fold_6</th>\n",
              "      <th>Fold_7</th>\n",
              "      <th>Fold_8</th>\n",
              "      <th>Fold_8</th>\n",
              "      <th>Fold_10</th>\n",
              "      <th>avg_score</th>\n",
              "    </tr>\n",
              "  </thead>\n",
              "  <tbody>\n",
              "    <tr>\n",
              "      <th>OLS Model</th>\n",
              "      <td>84.154629</td>\n",
              "      <td>83.390049</td>\n",
              "      <td>82.340118</td>\n",
              "      <td>47.554602</td>\n",
              "      <td>76.459214</td>\n",
              "      <td>69.967769</td>\n",
              "      <td>75.771762</td>\n",
              "      <td>76.485706</td>\n",
              "      <td>75.386617</td>\n",
              "      <td>84.943060</td>\n",
              "      <td>75.645353</td>\n",
              "    </tr>\n",
              "    <tr>\n",
              "      <th>Lasso Model</th>\n",
              "      <td>84.155209</td>\n",
              "      <td>83.389876</td>\n",
              "      <td>82.341709</td>\n",
              "      <td>47.550660</td>\n",
              "      <td>76.459155</td>\n",
              "      <td>69.966820</td>\n",
              "      <td>75.773123</td>\n",
              "      <td>76.487466</td>\n",
              "      <td>75.386258</td>\n",
              "      <td>84.942945</td>\n",
              "      <td>75.645322</td>\n",
              "    </tr>\n",
              "    <tr>\n",
              "      <th>ElasticNet Model</th>\n",
              "      <td>83.009087</td>\n",
              "      <td>77.002611</td>\n",
              "      <td>83.844208</td>\n",
              "      <td>22.065907</td>\n",
              "      <td>73.015296</td>\n",
              "      <td>61.611491</td>\n",
              "      <td>75.572864</td>\n",
              "      <td>78.353941</td>\n",
              "      <td>70.413833</td>\n",
              "      <td>80.229811</td>\n",
              "      <td>70.511905</td>\n",
              "    </tr>\n",
              "    <tr>\n",
              "      <th>Ridge Model</th>\n",
              "      <td>81.124397</td>\n",
              "      <td>72.998743</td>\n",
              "      <td>81.491100</td>\n",
              "      <td>16.530360</td>\n",
              "      <td>70.754073</td>\n",
              "      <td>57.999542</td>\n",
              "      <td>72.869150</td>\n",
              "      <td>75.927826</td>\n",
              "      <td>67.433712</td>\n",
              "      <td>77.531493</td>\n",
              "      <td>67.466040</td>\n",
              "    </tr>\n",
              "  </tbody>\n",
              "</table>\n",
              "</div>"
            ],
            "text/plain": [
              "                     Fold_1     Fold_2  ...    Fold_10  avg_score\n",
              "OLS Model         84.154629  83.390049  ...  84.943060  75.645353\n",
              "Lasso Model       84.155209  83.389876  ...  84.942945  75.645322\n",
              "ElasticNet Model  83.009087  77.002611  ...  80.229811  70.511905\n",
              "Ridge Model       81.124397  72.998743  ...  77.531493  67.466040\n",
              "\n",
              "[4 rows x 11 columns]"
            ]
          },
          "metadata": {
            "tags": []
          },
          "execution_count": 15
        }
      ]
    },
    {
      "cell_type": "markdown",
      "metadata": {
        "id": "3uKymEuw-gjK",
        "colab_type": "text"
      },
      "source": [
        "**OLS**\n",
        "\n",
        "```\n",
        "R-squared of the model in the training set is: 0.7767246618024104\n",
        "-----Test set statistics-----\n",
        "R-squared of the model in the test set is: 0.801893701601791\n",
        "Mean absolute error of the prediction is: 0.1140673129907533\n",
        "Mean squared error of the prediction is: 0.0260109072541379\n",
        "Root mean squared error of the prediction is: 0.1612789733788565\n",
        "Mean absolute percentage error of the prediction is: 0.9579298561011598\n",
        "```\n",
        " **Ridge**  \n",
        "```\n",
        "R-squared of the model on the training set is: 0.7767246599947509\n",
        "-----Test set statistics-----\n",
        "R-squared of the model on the test set is: 0.8018978442057729\n",
        "Mean absolute error of the prediction is: 0.1140652991499132\n",
        "Mean squared error of the prediction is: 0.026010363339639287\n",
        "Root mean squared error of the prediction is: 0.16127728711644207\n",
        "Mean absolute percentage error of the prediction is: 0.9579132318211231\n",
        "```\n",
        "**Lasso** \n",
        "```\n",
        "R-squared of the model on the training set is: 0.7011984475001538\n",
        "-----Test set statistics-----\n",
        "R-squared of the model on the test set is: 0.7614062376009454\n",
        "Mean absolute error of the prediction is: 0.12904881216828087\n",
        "Mean squared error of the prediction is: 0.0313268193659497\n",
        "Root mean squared error of the prediction is: 0.17699383990961295\n",
        "Mean absolute percentage error of the prediction is: 1.0837660976369103\n",
        "```\n",
        " **ElasticNet**\n",
        "```\n",
        "R-squared of the model on the training set is: 0.7316751042544716\n",
        "-----Test set statistics-----\n",
        "R-squared of the model on the test set is: 0.7819703034286623\n",
        "Mean absolute error of the prediction is: 0.12247662908520171\n",
        "Mean squared error of the prediction is: 0.028626804205717074\n",
        "Root mean squared error of the prediction is: 0.1691945749890258\n",
        "Mean absolute percentage error of the prediction is: 1.0290257187812024\n",
        "```"
      ]
    },
    {
      "cell_type": "markdown",
      "metadata": {
        "id": "s2yLPFzp_36w",
        "colab_type": "text"
      },
      "source": [
        "The cross-validation scores made it easy to pick out the best model.\n",
        "Linear regression and Ridge are identical and comes out on top"
      ]
    }
  ]
}