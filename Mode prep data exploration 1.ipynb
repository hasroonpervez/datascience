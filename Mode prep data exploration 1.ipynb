{
  "nbformat": 4,
  "nbformat_minor": 0,
  "metadata": {
    "colab": {
      "name": "Model prep data exploration 1.ipynb",
      "provenance": [],
      "collapsed_sections": [],
      "authorship_tag": "ABX9TyODN/HyXIvtugoctOnKfmZA"
    },
    "kernelspec": {
      "name": "python3",
      "display_name": "Python 3"
    }
  },
  "cells": [
    {
      "cell_type": "markdown",
      "metadata": {
        "id": "j_tTmFOxhzzX",
        "colab_type": "text"
      },
      "source": [
        "1. Derive the descriptive statistics of the data and discuss the points that you think remarkable.\n",
        "2. Choose a state (e.g. California) and draw a line graph of its total revenues and total expenditures along the years. How do these two variables evolve during the years? Try to explain the peaks and troughs with some state-wise news and informations around those dates.\n",
        "3. In your chosen state, which one of the lessons the students are more successful, math or reading?\n",
        "4. What are the distributions of the math and reading scores in the sample?\n",
        "5. Notice that there are too many missing values for math and reading scores. Fill out the missing values using mean, median and linear interpolation. Then compare the effects of these techniques on the distributions of the score variables."
      ]
    },
    {
      "cell_type": "code",
      "metadata": {
        "id": "YOrMz6r3iDbt",
        "colab_type": "code",
        "colab": {}
      },
      "source": [
        "import pandas as pd\n",
        "import matplotlib.pyplot as plt\n",
        "from sqlalchemy import create_engine\n",
        "import warnings\n",
        "\n",
        "warnings.filterwarnings('ignore')"
      ],
      "execution_count": 0,
      "outputs": []
    },
    {
      "cell_type": "code",
      "metadata": {
        "id": "4nlBOELziaKT",
        "colab_type": "code",
        "colab": {
          "base_uri": "https://localhost:8080/",
          "height": 224
        },
        "outputId": "2d9346ae-a92f-4fca-e5ac-178d6983a430"
      },
      "source": [
        "postgres_user = 'dsbc_student'\n",
        "postgres_pw = '7*.8G9QH21'\n",
        "postgres_host = '142.93.121.174'\n",
        "postgres_port = '5432'\n",
        "postgres_db = 'useducation'\n",
        "\n",
        "engine = create_engine('postgresql://{}:{}@{}:{}/{}'.format(\n",
        "    postgres_user, postgres_pw, postgres_host, postgres_port, postgres_db))\n",
        "\n",
        "education_df = pd.read_sql_query('select * from useducation',con=engine)\n",
        "\n",
        "education_df.head()"
      ],
      "execution_count": 52,
      "outputs": [
        {
          "output_type": "execute_result",
          "data": {
            "text/html": [
              "<div>\n",
              "<style scoped>\n",
              "    .dataframe tbody tr th:only-of-type {\n",
              "        vertical-align: middle;\n",
              "    }\n",
              "\n",
              "    .dataframe tbody tr th {\n",
              "        vertical-align: top;\n",
              "    }\n",
              "\n",
              "    .dataframe thead th {\n",
              "        text-align: right;\n",
              "    }\n",
              "</style>\n",
              "<table border=\"1\" class=\"dataframe\">\n",
              "  <thead>\n",
              "    <tr style=\"text-align: right;\">\n",
              "      <th></th>\n",
              "      <th>PRIMARY_KEY</th>\n",
              "      <th>STATE</th>\n",
              "      <th>YEAR</th>\n",
              "      <th>ENROLL</th>\n",
              "      <th>TOTAL_REVENUE</th>\n",
              "      <th>FEDERAL_REVENUE</th>\n",
              "      <th>STATE_REVENUE</th>\n",
              "      <th>LOCAL_REVENUE</th>\n",
              "      <th>TOTAL_EXPENDITURE</th>\n",
              "      <th>INSTRUCTION_EXPENDITURE</th>\n",
              "      <th>SUPPORT_SERVICES_EXPENDITURE</th>\n",
              "      <th>OTHER_EXPENDITURE</th>\n",
              "      <th>CAPITAL_OUTLAY_EXPENDITURE</th>\n",
              "      <th>GRADES_PK_G</th>\n",
              "      <th>GRADES_KG_G</th>\n",
              "      <th>GRADES_4_G</th>\n",
              "      <th>GRADES_8_G</th>\n",
              "      <th>GRADES_12_G</th>\n",
              "      <th>GRADES_1_8_G</th>\n",
              "      <th>GRADES_9_12_G</th>\n",
              "      <th>GRADES_ALL_G</th>\n",
              "      <th>AVG_MATH_4_SCORE</th>\n",
              "      <th>AVG_MATH_8_SCORE</th>\n",
              "      <th>AVG_READING_4_SCORE</th>\n",
              "      <th>AVG_READING_8_SCORE</th>\n",
              "    </tr>\n",
              "  </thead>\n",
              "  <tbody>\n",
              "    <tr>\n",
              "      <th>0</th>\n",
              "      <td>1992_ALABAMA</td>\n",
              "      <td>ALABAMA</td>\n",
              "      <td>1992</td>\n",
              "      <td>NaN</td>\n",
              "      <td>2678885.0</td>\n",
              "      <td>304177.0</td>\n",
              "      <td>1659028.0</td>\n",
              "      <td>715680.0</td>\n",
              "      <td>2653798.0</td>\n",
              "      <td>1481703.0</td>\n",
              "      <td>735036.0</td>\n",
              "      <td>NaN</td>\n",
              "      <td>174053.0</td>\n",
              "      <td>8224.0</td>\n",
              "      <td>55460.0</td>\n",
              "      <td>57948.0</td>\n",
              "      <td>58025.0</td>\n",
              "      <td>41167.0</td>\n",
              "      <td>471564.0</td>\n",
              "      <td>196386.0</td>\n",
              "      <td>676174.0</td>\n",
              "      <td>208.327876</td>\n",
              "      <td>252.187522</td>\n",
              "      <td>207.963517</td>\n",
              "      <td>NaN</td>\n",
              "    </tr>\n",
              "    <tr>\n",
              "      <th>1</th>\n",
              "      <td>1992_ALASKA</td>\n",
              "      <td>ALASKA</td>\n",
              "      <td>1992</td>\n",
              "      <td>NaN</td>\n",
              "      <td>1049591.0</td>\n",
              "      <td>106780.0</td>\n",
              "      <td>720711.0</td>\n",
              "      <td>222100.0</td>\n",
              "      <td>972488.0</td>\n",
              "      <td>498362.0</td>\n",
              "      <td>350902.0</td>\n",
              "      <td>NaN</td>\n",
              "      <td>37451.0</td>\n",
              "      <td>2371.0</td>\n",
              "      <td>10152.0</td>\n",
              "      <td>9748.0</td>\n",
              "      <td>8789.0</td>\n",
              "      <td>6714.0</td>\n",
              "      <td>79117.0</td>\n",
              "      <td>30847.0</td>\n",
              "      <td>112335.0</td>\n",
              "      <td>NaN</td>\n",
              "      <td>NaN</td>\n",
              "      <td>NaN</td>\n",
              "      <td>258.859712</td>\n",
              "    </tr>\n",
              "    <tr>\n",
              "      <th>2</th>\n",
              "      <td>1992_ARIZONA</td>\n",
              "      <td>ARIZONA</td>\n",
              "      <td>1992</td>\n",
              "      <td>NaN</td>\n",
              "      <td>3258079.0</td>\n",
              "      <td>297888.0</td>\n",
              "      <td>1369815.0</td>\n",
              "      <td>1590376.0</td>\n",
              "      <td>3401580.0</td>\n",
              "      <td>1435908.0</td>\n",
              "      <td>1007732.0</td>\n",
              "      <td>NaN</td>\n",
              "      <td>609114.0</td>\n",
              "      <td>2544.0</td>\n",
              "      <td>53497.0</td>\n",
              "      <td>55433.0</td>\n",
              "      <td>49081.0</td>\n",
              "      <td>37410.0</td>\n",
              "      <td>437127.0</td>\n",
              "      <td>175210.0</td>\n",
              "      <td>614881.0</td>\n",
              "      <td>215.253932</td>\n",
              "      <td>265.366278</td>\n",
              "      <td>206.212716</td>\n",
              "      <td>262.169895</td>\n",
              "    </tr>\n",
              "    <tr>\n",
              "      <th>3</th>\n",
              "      <td>1992_ARKANSAS</td>\n",
              "      <td>ARKANSAS</td>\n",
              "      <td>1992</td>\n",
              "      <td>NaN</td>\n",
              "      <td>1711959.0</td>\n",
              "      <td>178571.0</td>\n",
              "      <td>958785.0</td>\n",
              "      <td>574603.0</td>\n",
              "      <td>1743022.0</td>\n",
              "      <td>964323.0</td>\n",
              "      <td>483488.0</td>\n",
              "      <td>NaN</td>\n",
              "      <td>145212.0</td>\n",
              "      <td>808.0</td>\n",
              "      <td>33511.0</td>\n",
              "      <td>34632.0</td>\n",
              "      <td>36011.0</td>\n",
              "      <td>27651.0</td>\n",
              "      <td>281338.0</td>\n",
              "      <td>123113.0</td>\n",
              "      <td>405259.0</td>\n",
              "      <td>210.206028</td>\n",
              "      <td>256.312090</td>\n",
              "      <td>208.634458</td>\n",
              "      <td>264.619665</td>\n",
              "    </tr>\n",
              "    <tr>\n",
              "      <th>4</th>\n",
              "      <td>1992_CALIFORNIA</td>\n",
              "      <td>CALIFORNIA</td>\n",
              "      <td>1992</td>\n",
              "      <td>NaN</td>\n",
              "      <td>26260025.0</td>\n",
              "      <td>2072470.0</td>\n",
              "      <td>16546514.0</td>\n",
              "      <td>7641041.0</td>\n",
              "      <td>27138832.0</td>\n",
              "      <td>14358922.0</td>\n",
              "      <td>8520926.0</td>\n",
              "      <td>NaN</td>\n",
              "      <td>2044688.0</td>\n",
              "      <td>59067.0</td>\n",
              "      <td>431763.0</td>\n",
              "      <td>418418.0</td>\n",
              "      <td>363296.0</td>\n",
              "      <td>270675.0</td>\n",
              "      <td>3286034.0</td>\n",
              "      <td>1372011.0</td>\n",
              "      <td>4717112.0</td>\n",
              "      <td>208.398961</td>\n",
              "      <td>260.892247</td>\n",
              "      <td>196.764414</td>\n",
              "      <td>NaN</td>\n",
              "    </tr>\n",
              "  </tbody>\n",
              "</table>\n",
              "</div>"
            ],
            "text/plain": [
              "       PRIMARY_KEY       STATE  ...  AVG_READING_4_SCORE  AVG_READING_8_SCORE\n",
              "0     1992_ALABAMA     ALABAMA  ...           207.963517                  NaN\n",
              "1      1992_ALASKA      ALASKA  ...                  NaN           258.859712\n",
              "2     1992_ARIZONA     ARIZONA  ...           206.212716           262.169895\n",
              "3    1992_ARKANSAS    ARKANSAS  ...           208.634458           264.619665\n",
              "4  1992_CALIFORNIA  CALIFORNIA  ...           196.764414                  NaN\n",
              "\n",
              "[5 rows x 25 columns]"
            ]
          },
          "metadata": {
            "tags": []
          },
          "execution_count": 52
        }
      ]
    },
    {
      "cell_type": "code",
      "metadata": {
        "id": "2tFcE0B0ibqb",
        "colab_type": "code",
        "colab": {}
      },
      "source": [
        "#We fill in the missing values using interpolation since our data is a time series data:\n",
        "fill_list = [\"ENROLL\", \"TOTAL_REVENUE\", \"FEDERAL_REVENUE\",\n",
        "             \"STATE_REVENUE\", \"LOCAL_REVENUE\", \"TOTAL_EXPENDITURE\",\n",
        "             \"INSTRUCTION_EXPENDITURE\", \"SUPPORT_SERVICES_EXPENDITURE\",\n",
        "             \"OTHER_EXPENDITURE\", \"CAPITAL_OUTLAY_EXPENDITURE\", \"GRADES_PK_G\",\n",
        "             \"GRADES_KG_G\", \"GRADES_4_G\", \"GRADES_8_G\", \"GRADES_12_G\", \"GRADES_1_8_G\",\n",
        "             \"GRADES_9_12_G\", \"GRADES_ALL_G\"]\n",
        "\n",
        "states = education_df[\"STATE\"].unique()\n",
        "\n",
        "for state in states:\n",
        "    education_df.loc[education_df[\"STATE\"] == state, fill_list] = education_df.loc[education_df[\"STATE\"] == state, fill_list].interpolate()\n",
        "\n",
        "# we drop the null values after interpolation\n",
        "education_df.dropna(inplace=True)"
      ],
      "execution_count": 0,
      "outputs": []
    },
    {
      "cell_type": "code",
      "metadata": {
        "id": "HZFsm7Tqitus",
        "colab_type": "code",
        "colab": {
          "base_uri": "https://localhost:8080/",
          "height": 317
        },
        "outputId": "83016570-deea-45da-a897-58522e9e2d9b"
      },
      "source": [
        "#1. Derive the descriptive statistics of the data and discuss the points that you think remarkable.\n",
        "education_df.describe()"
      ],
      "execution_count": 42,
      "outputs": [
        {
          "output_type": "execute_result",
          "data": {
            "text/html": [
              "<div>\n",
              "<style scoped>\n",
              "    .dataframe tbody tr th:only-of-type {\n",
              "        vertical-align: middle;\n",
              "    }\n",
              "\n",
              "    .dataframe tbody tr th {\n",
              "        vertical-align: top;\n",
              "    }\n",
              "\n",
              "    .dataframe thead th {\n",
              "        text-align: right;\n",
              "    }\n",
              "</style>\n",
              "<table border=\"1\" class=\"dataframe\">\n",
              "  <thead>\n",
              "    <tr style=\"text-align: right;\">\n",
              "      <th></th>\n",
              "      <th>YEAR</th>\n",
              "      <th>ENROLL</th>\n",
              "      <th>TOTAL_REVENUE</th>\n",
              "      <th>FEDERAL_REVENUE</th>\n",
              "      <th>STATE_REVENUE</th>\n",
              "      <th>LOCAL_REVENUE</th>\n",
              "      <th>TOTAL_EXPENDITURE</th>\n",
              "      <th>INSTRUCTION_EXPENDITURE</th>\n",
              "      <th>SUPPORT_SERVICES_EXPENDITURE</th>\n",
              "      <th>OTHER_EXPENDITURE</th>\n",
              "      <th>CAPITAL_OUTLAY_EXPENDITURE</th>\n",
              "      <th>GRADES_PK_G</th>\n",
              "      <th>GRADES_KG_G</th>\n",
              "      <th>GRADES_4_G</th>\n",
              "      <th>GRADES_8_G</th>\n",
              "      <th>GRADES_12_G</th>\n",
              "      <th>GRADES_1_8_G</th>\n",
              "      <th>GRADES_9_12_G</th>\n",
              "      <th>GRADES_ALL_G</th>\n",
              "      <th>AVG_MATH_4_SCORE</th>\n",
              "      <th>AVG_MATH_8_SCORE</th>\n",
              "      <th>AVG_READING_4_SCORE</th>\n",
              "      <th>AVG_READING_8_SCORE</th>\n",
              "    </tr>\n",
              "  </thead>\n",
              "  <tbody>\n",
              "    <tr>\n",
              "      <th>count</th>\n",
              "      <td>466.000000</td>\n",
              "      <td>4.660000e+02</td>\n",
              "      <td>4.660000e+02</td>\n",
              "      <td>4.660000e+02</td>\n",
              "      <td>4.660000e+02</td>\n",
              "      <td>4.660000e+02</td>\n",
              "      <td>4.660000e+02</td>\n",
              "      <td>4.660000e+02</td>\n",
              "      <td>4.660000e+02</td>\n",
              "      <td>4.660000e+02</td>\n",
              "      <td>4.660000e+02</td>\n",
              "      <td>466.000000</td>\n",
              "      <td>466.000000</td>\n",
              "      <td>466.00000</td>\n",
              "      <td>466.00000</td>\n",
              "      <td>466.000000</td>\n",
              "      <td>4.660000e+02</td>\n",
              "      <td>4.660000e+02</td>\n",
              "      <td>4.660000e+02</td>\n",
              "      <td>466.000000</td>\n",
              "      <td>466.000000</td>\n",
              "      <td>466.000000</td>\n",
              "      <td>466.000000</td>\n",
              "    </tr>\n",
              "    <tr>\n",
              "      <th>mean</th>\n",
              "      <td>2008.577253</td>\n",
              "      <td>9.442125e+05</td>\n",
              "      <td>1.078853e+07</td>\n",
              "      <td>9.568659e+05</td>\n",
              "      <td>4.999548e+06</td>\n",
              "      <td>4.832112e+06</td>\n",
              "      <td>1.086947e+07</td>\n",
              "      <td>5.638251e+06</td>\n",
              "      <td>3.181222e+06</td>\n",
              "      <td>4.913261e+05</td>\n",
              "      <td>1.038843e+06</td>\n",
              "      <td>22874.634120</td>\n",
              "      <td>72083.415236</td>\n",
              "      <td>72515.82618</td>\n",
              "      <td>72917.07618</td>\n",
              "      <td>64773.880901</td>\n",
              "      <td>5.836186e+05</td>\n",
              "      <td>2.867026e+05</td>\n",
              "      <td>8.933042e+05</td>\n",
              "      <td>236.909728</td>\n",
              "      <td>279.802668</td>\n",
              "      <td>219.508638</td>\n",
              "      <td>263.789943</td>\n",
              "    </tr>\n",
              "    <tr>\n",
              "      <th>std</th>\n",
              "      <td>5.779779</td>\n",
              "      <td>1.122051e+06</td>\n",
              "      <td>1.356335e+07</td>\n",
              "      <td>1.330702e+06</td>\n",
              "      <td>6.405481e+06</td>\n",
              "      <td>6.325995e+06</td>\n",
              "      <td>1.373667e+07</td>\n",
              "      <td>7.255903e+06</td>\n",
              "      <td>3.840941e+06</td>\n",
              "      <td>6.009649e+05</td>\n",
              "      <td>1.482245e+06</td>\n",
              "      <td>34605.068547</td>\n",
              "      <td>87006.137056</td>\n",
              "      <td>86463.95300</td>\n",
              "      <td>85835.16237</td>\n",
              "      <td>77557.604833</td>\n",
              "      <td>6.925615e+05</td>\n",
              "      <td>3.408161e+05</td>\n",
              "      <td>1.060080e+06</td>\n",
              "      <td>8.695903</td>\n",
              "      <td>9.381511</td>\n",
              "      <td>7.426546</td>\n",
              "      <td>6.875627</td>\n",
              "    </tr>\n",
              "    <tr>\n",
              "      <th>min</th>\n",
              "      <td>1996.000000</td>\n",
              "      <td>4.417900e+04</td>\n",
              "      <td>6.788740e+05</td>\n",
              "      <td>5.787000e+04</td>\n",
              "      <td>0.000000e+00</td>\n",
              "      <td>2.853100e+04</td>\n",
              "      <td>7.032450e+05</td>\n",
              "      <td>3.182600e+05</td>\n",
              "      <td>2.041170e+05</td>\n",
              "      <td>2.310700e+04</td>\n",
              "      <td>1.545200e+04</td>\n",
              "      <td>91.000000</td>\n",
              "      <td>4528.000000</td>\n",
              "      <td>3423.00000</td>\n",
              "      <td>2860.00000</td>\n",
              "      <td>2188.000000</td>\n",
              "      <td>2.676200e+04</td>\n",
              "      <td>9.970000e+03</td>\n",
              "      <td>3.682300e+04</td>\n",
              "      <td>187.134670</td>\n",
              "      <td>232.831510</td>\n",
              "      <td>181.626990</td>\n",
              "      <td>236.379102</td>\n",
              "    </tr>\n",
              "    <tr>\n",
              "      <th>25%</th>\n",
              "      <td>2005.000000</td>\n",
              "      <td>2.794832e+05</td>\n",
              "      <td>2.712660e+06</td>\n",
              "      <td>2.614470e+05</td>\n",
              "      <td>1.491747e+06</td>\n",
              "      <td>9.513430e+05</td>\n",
              "      <td>2.670300e+06</td>\n",
              "      <td>1.416288e+06</td>\n",
              "      <td>8.472295e+05</td>\n",
              "      <td>1.296515e+05</td>\n",
              "      <td>2.443388e+05</td>\n",
              "      <td>3753.000000</td>\n",
              "      <td>20988.000000</td>\n",
              "      <td>20489.75000</td>\n",
              "      <td>20880.25000</td>\n",
              "      <td>18527.750000</td>\n",
              "      <td>1.666395e+05</td>\n",
              "      <td>8.194400e+04</td>\n",
              "      <td>2.596278e+05</td>\n",
              "      <td>232.760641</td>\n",
              "      <td>274.707118</td>\n",
              "      <td>215.338956</td>\n",
              "      <td>259.661771</td>\n",
              "    </tr>\n",
              "    <tr>\n",
              "      <th>50%</th>\n",
              "      <td>2009.000000</td>\n",
              "      <td>6.639415e+05</td>\n",
              "      <td>6.106834e+06</td>\n",
              "      <td>5.544340e+05</td>\n",
              "      <td>3.021544e+06</td>\n",
              "      <td>2.442983e+06</td>\n",
              "      <td>6.249671e+06</td>\n",
              "      <td>3.186679e+06</td>\n",
              "      <td>1.899310e+06</td>\n",
              "      <td>3.271845e+05</td>\n",
              "      <td>6.059525e+05</td>\n",
              "      <td>13068.500000</td>\n",
              "      <td>51156.500000</td>\n",
              "      <td>50918.00000</td>\n",
              "      <td>50114.50000</td>\n",
              "      <td>41543.000000</td>\n",
              "      <td>4.067475e+05</td>\n",
              "      <td>1.868900e+05</td>\n",
              "      <td>6.264775e+05</td>\n",
              "      <td>238.394124</td>\n",
              "      <td>281.531587</td>\n",
              "      <td>221.130461</td>\n",
              "      <td>265.217081</td>\n",
              "    </tr>\n",
              "    <tr>\n",
              "      <th>75%</th>\n",
              "      <td>2013.000000</td>\n",
              "      <td>1.018588e+06</td>\n",
              "      <td>1.222407e+07</td>\n",
              "      <td>1.033414e+06</td>\n",
              "      <td>6.240349e+06</td>\n",
              "      <td>5.488079e+06</td>\n",
              "      <td>1.195951e+07</td>\n",
              "      <td>6.154768e+06</td>\n",
              "      <td>3.667420e+06</td>\n",
              "      <td>5.609385e+05</td>\n",
              "      <td>1.046753e+06</td>\n",
              "      <td>28808.500000</td>\n",
              "      <td>79618.000000</td>\n",
              "      <td>79929.50000</td>\n",
              "      <td>80949.75000</td>\n",
              "      <td>75641.250000</td>\n",
              "      <td>6.424952e+05</td>\n",
              "      <td>3.234915e+05</td>\n",
              "      <td>9.758625e+05</td>\n",
              "      <td>242.602566</td>\n",
              "      <td>286.197041</td>\n",
              "      <td>224.531280</td>\n",
              "      <td>268.307884</td>\n",
              "    </tr>\n",
              "    <tr>\n",
              "      <th>max</th>\n",
              "      <td>2017.000000</td>\n",
              "      <td>6.307022e+06</td>\n",
              "      <td>8.921726e+07</td>\n",
              "      <td>9.990221e+06</td>\n",
              "      <td>5.090457e+07</td>\n",
              "      <td>3.610526e+07</td>\n",
              "      <td>8.532013e+07</td>\n",
              "      <td>4.396452e+07</td>\n",
              "      <td>2.605802e+07</td>\n",
              "      <td>3.995951e+06</td>\n",
              "      <td>1.022366e+07</td>\n",
              "      <td>249524.000000</td>\n",
              "      <td>530531.000000</td>\n",
              "      <td>493415.00000</td>\n",
              "      <td>500143.00000</td>\n",
              "      <td>498403.000000</td>\n",
              "      <td>3.929869e+06</td>\n",
              "      <td>2.011865e+06</td>\n",
              "      <td>5.926631e+06</td>\n",
              "      <td>253.420961</td>\n",
              "      <td>300.568235</td>\n",
              "      <td>236.773867</td>\n",
              "      <td>280.499130</td>\n",
              "    </tr>\n",
              "  </tbody>\n",
              "</table>\n",
              "</div>"
            ],
            "text/plain": [
              "              YEAR        ENROLL  ...  AVG_READING_4_SCORE  AVG_READING_8_SCORE\n",
              "count   466.000000  4.660000e+02  ...           466.000000           466.000000\n",
              "mean   2008.577253  9.442125e+05  ...           219.508638           263.789943\n",
              "std       5.779779  1.122051e+06  ...             7.426546             6.875627\n",
              "min    1996.000000  4.417900e+04  ...           181.626990           236.379102\n",
              "25%    2005.000000  2.794832e+05  ...           215.338956           259.661771\n",
              "50%    2009.000000  6.639415e+05  ...           221.130461           265.217081\n",
              "75%    2013.000000  1.018588e+06  ...           224.531280           268.307884\n",
              "max    2017.000000  6.307022e+06  ...           236.773867           280.499130\n",
              "\n",
              "[8 rows x 23 columns]"
            ]
          },
          "metadata": {
            "tags": []
          },
          "execution_count": 42
        }
      ]
    },
    {
      "cell_type": "markdown",
      "metadata": {
        "id": "BMn-yAMKjYzd",
        "colab_type": "text"
      },
      "source": [
        "1.Average TOTAL_REVENUE is less than TOTAL_EXPENDITURE. This means that states run budget deficit on education on average.\n",
        "\n",
        "2.INSTRUCTION_EXPENDITURE makes up almost half of the total expenditures on education.\n",
        "\n",
        "3.Average math scores are higher than average reading scores but the standard deviation of the average math scores is also higher than the that of the average reading scores."
      ]
    },
    {
      "cell_type": "code",
      "metadata": {
        "id": "Q8xyquEbjb69",
        "colab_type": "code",
        "colab": {
          "base_uri": "https://localhost:8080/",
          "height": 298
        },
        "outputId": "c839013f-e4e8-4295-e91c-db5e7525e363"
      },
      "source": [
        " #2. Choose a state (e.g. California) and draw a line graph of its total revenues and total expenditures along the years. How do these two variables evolve during the years? Try to explain the peaks and troughs with some state-wise news and informations around those dates.\n",
        "plt.plot(education_df.loc[education_df.STATE == 'CALIFORNIA', 'YEAR'], education_df.loc[education_df.STATE == 'CALIFORNIA', 'TOTAL_REVENUE'], label = 'total revenue')\n",
        "\n",
        "plt.plot(education_df.loc[education_df.STATE == 'CALIFORNIA', 'YEAR'], education_df.loc[education_df.STATE == 'CALIFORNIA', 'TOTAL_EXPENDITURE'], label = 'total expenditure')\n",
        "\n",
        "plt.title('total revenue and total expenditure')\n",
        "plt.legend()"
      ],
      "execution_count": 43,
      "outputs": [
        {
          "output_type": "execute_result",
          "data": {
            "text/plain": [
              "<matplotlib.legend.Legend at 0x7fcde3b082e8>"
            ]
          },
          "metadata": {
            "tags": []
          },
          "execution_count": 43
        },
        {
          "output_type": "display_data",
          "data": {
            "image/png": "[encoded data removed]",
            "text/plain": [
              "<Figure size 432x288 with 1 Axes>"
            ]
          },
          "metadata": {
            "tags": [],
            "needs_background": "light"
          }
        }
      ]
    },
    {
      "cell_type": "code",
      "metadata": {
        "id": "EUwwCvQHk9u6",
        "colab_type": "code",
        "colab": {
          "base_uri": "https://localhost:8080/",
          "height": 328
        },
        "outputId": "0f12d115-746a-4bf0-da45-f11b36e08154"
      },
      "source": [
        "# 3. In your chosen state, which one of the lessons the students are more successful, math or reading?\n",
        "plt.figure(figsize=(25,5))\n",
        "plt.subplot(1,2,1)\n",
        "plt.bar(education_df.loc[education_df.STATE == 'CALIFORNIA', 'YEAR'],\n",
        "         education_df.loc[education_df.STATE == 'CALIFORNIA', 'AVG_MATH_4_SCORE'] - education_df.loc[education_df.STATE == 'CALIFORNIA', 'AVG_READING_4_SCORE'])\n",
        "\n",
        "plt.title(\"difference between math and reading scores (4)\")\n",
        "\n",
        "plt.subplot(1,2,2)\n",
        "plt.bar(education_df.loc[education_df.STATE == 'CALIFORNIA', 'YEAR'],\n",
        "         education_df.loc[education_df.STATE == 'CALIFORNIA', 'AVG_MATH_8_SCORE'] - education_df.loc[education_df.STATE == 'CALIFORNIA', 'AVG_READING_8_SCORE'])\n"
      ],
      "execution_count": 45,
      "outputs": [
        {
          "output_type": "execute_result",
          "data": {
            "text/plain": [
              "<BarContainer object of 10 artists>"
            ]
          },
          "metadata": {
            "tags": []
          },
          "execution_count": 45
        },
        {
          "output_type": "display_data",
          "data": {
            "image/png": "[encoded data removed]",
            "text/plain": [
              "<Figure size 1800x360 with 2 Axes>"
            ]
          },
          "metadata": {
            "tags": [],
            "needs_background": "light"
          }
        }
      ]
    },
    {
      "cell_type": "code",
      "metadata": {
        "id": "E_lsEIrPnLLD",
        "colab_type": "code",
        "colab": {
          "base_uri": "https://localhost:8080/",
          "height": 442
        },
        "outputId": "618ef109-4b4a-4132-ad0e-2b720c1a9059"
      },
      "source": [
        "print(\"difference between math and reading scores (4)\")\n",
        "print(education_df.loc[education_df.STATE == 'CALIFORNIA', 'AVG_MATH_4_SCORE'] - education_df.loc[education_df.STATE == 'CALIFORNIA', 'AVG_READING_4_SCORE'],'\\n')\n",
        "print(\"difference between math and reading scores (8)\")\n",
        "print(education_df.loc[education_df.STATE == 'CALIFORNIA', 'AVG_MATH_8_SCORE'] - education_df.loc[education_df.STATE == 'CALIFORNIA', 'AVG_READING_8_SCORE'])\n"
      ],
      "execution_count": 47,
      "outputs": [
        {
          "output_type": "stream",
          "text": [
            "difference between math and reading scores (4)\n",
            "213      7.216492\n",
            "420      7.648537\n",
            "576     21.822545\n",
            "680     23.854931\n",
            "784     21.511905\n",
            "891     21.912522\n",
            "997     22.806357\n",
            "1101    21.108497\n",
            "1203    18.871396\n",
            "1451    16.841127\n",
            "dtype: float64 \n",
            "\n",
            "difference between math and reading scores (8)\n",
            "213     -6.424972\n",
            "420     -2.323040\n",
            "576     11.976121\n",
            "680      4.373619\n",
            "784      2.222356\n",
            "891     15.553342\n",
            "997     11.484551\n",
            "1101    15.453063\n",
            "1203    16.556305\n",
            "1451    14.117570\n",
            "dtype: float64\n"
          ],
          "name": "stdout"
        }
      ]
    },
    {
      "cell_type": "markdown",
      "metadata": {
        "id": "DXxU4XQyrgB9",
        "colab_type": "text"
      },
      "source": [
        "\n",
        "In California, students are more successful at math than reading."
      ]
    },
    {
      "cell_type": "code",
      "metadata": {
        "id": "JHxPZZ30riRf",
        "colab_type": "code",
        "colab": {
          "base_uri": "https://localhost:8080/",
          "height": 327
        },
        "outputId": "83233ba7-2bbe-496a-cb5b-a80030281875"
      },
      "source": [
        "#4. What are the distributions of the math and reading scores in the sample?\n",
        "plt.figure(figsize=(25,5))\n",
        "plt.subplot(1,4,1)\n",
        "plt.hist(education_df.AVG_MATH_4_SCORE.dropna())\n",
        "plt.title('AVG_MATH_4_SCORE')\n",
        "\n",
        "plt.subplot(1,4,2)\n",
        "plt.hist(education_df.AVG_MATH_8_SCORE.dropna())\n",
        "plt.title('AVG_MATH_8_SCORE')\n",
        "\n",
        "plt.subplot(1,4,3)\n",
        "plt.hist(education_df.AVG_READING_4_SCORE.dropna())\n",
        "plt.title('AVG_READING_4_SCORE')\n",
        "\n",
        "plt.subplot(1,4,4)\n",
        "plt.hist(education_df.AVG_READING_8_SCORE.dropna())\n",
        "plt.title('AVG_READING_8_SCORE')"
      ],
      "execution_count": 50,
      "outputs": [
        {
          "output_type": "execute_result",
          "data": {
            "text/plain": [
              "Text(0.5, 1.0, 'AVG_READING_8_SCORE')"
            ]
          },
          "metadata": {
            "tags": []
          },
          "execution_count": 50
        },
        {
          "output_type": "display_data",
          "data": {
            "image/png": "[encoded data removed]",
            "text/plain": [
              "<Figure size 1800x360 with 4 Axes>"
            ]
          },
          "metadata": {
            "tags": [],
            "needs_background": "light"
          }
        }
      ]
    },
    {
      "cell_type": "markdown",
      "metadata": {
        "id": "VWWe5_mNtJNq",
        "colab_type": "text"
      },
      "source": [
        "The distributions are not normal distribution but slightly skewed to the left both for reading and writing. This means that average of the scores are lower than the median."
      ]
    },
    {
      "cell_type": "code",
      "metadata": {
        "id": "owJgFS7msL0W",
        "colab_type": "code",
        "colab": {}
      },
      "source": [
        "#5. Notice that there are too many missing values for math and reading scores. Fill out the missing values using mean, median and linear interpolation. Then compare the effects of these techniques on the distributions of the score variables.\n",
        "\n",
        "#Since, in the begginning of this solution notebook we filled in the missing values and then dropped the rows that have missing values, we need to load our dataset once again to answer this question:\n",
        "\n",
        "education_df = pd.read_sql_query('select * from useducation',con=engine)\n",
        "\n",
        "engine.dispose()\n",
        "\n"
      ],
      "execution_count": 0,
      "outputs": []
    },
    {
      "cell_type": "code",
      "metadata": {
        "id": "wjrq6k8Muze4",
        "colab_type": "code",
        "colab": {
          "base_uri": "https://localhost:8080/",
          "height": 1000
        },
        "outputId": "1bca2ad2-f597-4adc-bb93-d2a5150172e2"
      },
      "source": [
        "plt.figure(figsize=(25,25))\n",
        "\n",
        "plt.subplot(4,4,1)\n",
        "plt.hist(education_df.AVG_MATH_4_SCORE.dropna())\n",
        "plt.title(\"histogram of {} (original)\".format(\"AVG_MATH_4_SCORE\"))\n",
        "\n",
        "plt.subplot(4,4,2)\n",
        "plt.hist(education_df.AVG_MATH_4_SCORE.interpolate())\n",
        "plt.title(\"histogram of {} (interpolated)\".format(\"AVG_READING_4_SCORE\"))\n",
        "\n",
        "plt.subplot(4,4,3)\n",
        "plt.hist(education_df.AVG_MATH_4_SCORE.fillna(education_df.AVG_MATH_4_SCORE.median()))\n",
        "plt.title(\"histogram of {} (filled with median)\".format(\"AVG_MATH_4_SCORE\"))\n",
        "\n",
        "plt.subplot(4,4,4)\n",
        "plt.hist(education_df.AVG_MATH_4_SCORE.fillna(education_df.AVG_MATH_4_SCORE.mean()))\n",
        "plt.title(\"histogram of {} (filled with mean)\".format(\"AVG_MATH_4_SCORE\"))\n",
        "\n",
        "\n",
        "plt.subplot(4,4,5)\n",
        "plt.hist(education_df.AVG_READING_4_SCORE.dropna())\n",
        "plt.title(\"histogram of {} (original)\".format(\"AVG_READING_4_SCORE\"))\n",
        "\n",
        "plt.subplot(4,4,6)\n",
        "plt.hist(education_df.AVG_READING_4_SCORE.interpolate())\n",
        "plt.title(\"histogram of {} (interpolated)\".format(\"AVG_READING_4_SCORE\"))\n",
        "\n",
        "plt.subplot(4,4,7)\n",
        "plt.hist(education_df.AVG_READING_4_SCORE.fillna(education_df.AVG_READING_4_SCORE.median()))\n",
        "plt.title(\"histogram of {} (filled with median)\".format(\"AVG_READING_4_SCORE\"))\n",
        "\n",
        "plt.subplot(4,4,8)\n",
        "plt.hist(education_df.AVG_READING_4_SCORE.fillna(education_df.AVG_READING_4_SCORE.mean()))\n",
        "plt.title(\"histogram of {} (filled with mean)\".format(\"AVG_READING_4_SCORE\"))\n",
        "\n",
        "\n",
        "plt.subplot(4,4,9)\n",
        "plt.hist(education_df.AVG_MATH_8_SCORE.dropna())\n",
        "plt.title(\"histogram of {} (original)\".format(\"AVG_MATH_8_SCORE\"))\n",
        "\n",
        "plt.subplot(4,4,10)\n",
        "plt.hist(education_df.AVG_MATH_8_SCORE.interpolate())\n",
        "plt.title(\"histogram of {} (interpolated)\".format(\"AVG_MATH_8_SCORE\"))\n",
        "\n",
        "plt.subplot(4,4,11)\n",
        "plt.hist(education_df.AVG_MATH_8_SCORE.fillna(education_df.AVG_MATH_8_SCORE.median()))\n",
        "plt.title(\"histogram of {} (filled with median)\".format(\"AVG_MATH_8_SCORE\"))\n",
        "\n",
        "plt.subplot(4,4,12)\n",
        "plt.hist(education_df.AVG_MATH_8_SCORE.fillna(education_df.AVG_MATH_8_SCORE.mean()))\n",
        "plt.title(\"histogram of {} (filled with mean)\".format(\"AVG_MATH_8_SCORE\"))\n",
        "\n",
        "\n",
        "plt.subplot(4,4,13)\n",
        "plt.hist(education_df.AVG_READING_8_SCORE.dropna())\n",
        "plt.title(\"histogram of {} (original)\".format(\"AVG_READING_8_SCORE\"))\n",
        "\n",
        "plt.subplot(4,4,14)\n",
        "plt.hist(education_df.AVG_READING_8_SCORE.interpolate().dropna())\n",
        "plt.title(\"histogram of {} (interpolated)\".format(\"AVG_READING_8_SCORE\"))\n",
        "\n",
        "plt.subplot(4,4,15)\n",
        "plt.hist(education_df.AVG_READING_8_SCORE.fillna(education_df.AVG_READING_8_SCORE.median()))\n",
        "plt.title(\"histogram of {} (filled with median)\".format(\"AVG_READING_8_SCORE\"))\n",
        "\n",
        "plt.subplot(4,4,16)\n",
        "plt.hist(education_df.AVG_READING_8_SCORE.fillna(education_df.AVG_READING_8_SCORE.mean()))\n",
        "plt.title(\"histogram of {} (filled with mean)\".format(\"AVG_READING_8_SCORE\"))\n",
        "\n",
        "plt.tight_layout()\n"
      ],
      "execution_count": 58,
      "outputs": [
        {
          "output_type": "display_data",
          "data": {
            "image/png": "[encoded data removed]",
            "text/plain": [
              "<Figure size 1800x1800 with 16 Axes>"
            ]
          },
          "metadata": {
            "tags": [],
            "needs_background": "light"
          }
        }
      ]
    },
    {
      "cell_type": "markdown",
      "metadata": {
        "id": "XrrfmEj3vn-s",
        "colab_type": "text"
      },
      "source": [
        "\n",
        "The technique for filling in the missing values substantially affects the distributions of the variables. Especially in our case, filling with mean or median has the strongest effect. This is probably due to the fact that we have a lot of missing values in our data.\n",
        "\n",
        "The change in the distribution might have some serious effects on our model results. Hence, instead of filling in the missing values with mean or median, we may fill them in using interpolation or we may just discard the missing values."
      ]
    },
    {
      "cell_type": "code",
      "metadata": {
        "id": "R1Bd_-eXvykA",
        "colab_type": "code",
        "colab": {}
      },
      "source": [
        ""
      ],
      "execution_count": 0,
      "outputs": []
    }
  ]
}