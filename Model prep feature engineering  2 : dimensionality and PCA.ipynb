{
  "nbformat": 4,
  "nbformat_minor": 0,
  "metadata": {
    "colab": {
      "name": "Model prep feature engineering  2 : dimensionality and PCA.ipynb",
      "provenance": [],
      "collapsed_sections": [],
      "authorship_tag": "ABX9TyO+thNtR26X+gjQtXvXkvG6"
    },
    "kernelspec": {
      "name": "python3",
      "display_name": "Python 3"
    }
  },
  "cells": [
    {
      "cell_type": "markdown",
      "metadata": {
        "id": "ZWPWNwWeDsSU",
        "colab_type": "text"
      },
      "source": [
        "1. Create a new score variable from the weighted averages of the all score variables in the datasets. Notice that the number of students in the fourth grade isn't the same with the number of students in the eighth grade. So, you should weight the scores appropriately.\n",
        "\n",
        "2. What are the correlations between this newly created score variable and the expenditure types? Which one of the expenditure type is more correlated than the others?\n",
        "\n",
        "3. Now, apply PCA to the four expenditure types. How much of the total variance is explained by the first component?\n",
        "\n",
        "4. What is the correlation between the overall score variable and the first principal component?\n",
        "\n",
        "5. If you were to choose the best variables for your model, would you prefer using the first principal component instead of the expenditure variables? Why?"
      ]
    },
    {
      "cell_type": "code",
      "metadata": {
        "id": "NWhoXV2TD9ne",
        "colab_type": "code",
        "colab": {}
      },
      "source": [
        "import pandas as pd\n",
        "import matplotlib.pyplot as plt\n",
        "import seaborn as sns\n",
        "from sqlalchemy import create_engine\n",
        "import warnings\n",
        "\n",
        "warnings.filterwarnings('ignore')\n",
        "sns.set(style=\"whitegrid\")"
      ],
      "execution_count": 0,
      "outputs": []
    },
    {
      "cell_type": "code",
      "metadata": {
        "id": "DeEYim4MEMEi",
        "colab_type": "code",
        "colab": {
          "base_uri": "https://localhost:8080/",
          "height": 224
        },
        "outputId": "8f62af77-d833-461d-c0e8-2dbcf415b62f"
      },
      "source": [
        "postgres_user = 'dsbc_student'\n",
        "postgres_pw = '7*.8G9QH21'\n",
        "postgres_host = '142.93.121.174'\n",
        "postgres_port = '5432'\n",
        "postgres_db = 'useducation'\n",
        "\n",
        "engine = create_engine('postgresql://{}:{}@{}:{}/{}'.format(\n",
        "    postgres_user, postgres_pw, postgres_host, postgres_port, postgres_db))\n",
        "\n",
        "education_df = pd.read_sql_query('select * from useducation',con=engine)\n",
        "\n",
        "engine.dispose()\n",
        "education_df.head()"
      ],
      "execution_count": 79,
      "outputs": [
        {
          "output_type": "execute_result",
          "data": {
            "text/html": [
              "<div>\n",
              "<style scoped>\n",
              "    .dataframe tbody tr th:only-of-type {\n",
              "        vertical-align: middle;\n",
              "    }\n",
              "\n",
              "    .dataframe tbody tr th {\n",
              "        vertical-align: top;\n",
              "    }\n",
              "\n",
              "    .dataframe thead th {\n",
              "        text-align: right;\n",
              "    }\n",
              "</style>\n",
              "<table border=\"1\" class=\"dataframe\">\n",
              "  <thead>\n",
              "    <tr style=\"text-align: right;\">\n",
              "      <th></th>\n",
              "      <th>PRIMARY_KEY</th>\n",
              "      <th>STATE</th>\n",
              "      <th>YEAR</th>\n",
              "      <th>ENROLL</th>\n",
              "      <th>TOTAL_REVENUE</th>\n",
              "      <th>FEDERAL_REVENUE</th>\n",
              "      <th>STATE_REVENUE</th>\n",
              "      <th>LOCAL_REVENUE</th>\n",
              "      <th>TOTAL_EXPENDITURE</th>\n",
              "      <th>INSTRUCTION_EXPENDITURE</th>\n",
              "      <th>SUPPORT_SERVICES_EXPENDITURE</th>\n",
              "      <th>OTHER_EXPENDITURE</th>\n",
              "      <th>CAPITAL_OUTLAY_EXPENDITURE</th>\n",
              "      <th>GRADES_PK_G</th>\n",
              "      <th>GRADES_KG_G</th>\n",
              "      <th>GRADES_4_G</th>\n",
              "      <th>GRADES_8_G</th>\n",
              "      <th>GRADES_12_G</th>\n",
              "      <th>GRADES_1_8_G</th>\n",
              "      <th>GRADES_9_12_G</th>\n",
              "      <th>GRADES_ALL_G</th>\n",
              "      <th>AVG_MATH_4_SCORE</th>\n",
              "      <th>AVG_MATH_8_SCORE</th>\n",
              "      <th>AVG_READING_4_SCORE</th>\n",
              "      <th>AVG_READING_8_SCORE</th>\n",
              "    </tr>\n",
              "  </thead>\n",
              "  <tbody>\n",
              "    <tr>\n",
              "      <th>0</th>\n",
              "      <td>1992_ALABAMA</td>\n",
              "      <td>ALABAMA</td>\n",
              "      <td>1992</td>\n",
              "      <td>NaN</td>\n",
              "      <td>2678885.0</td>\n",
              "      <td>304177.0</td>\n",
              "      <td>1659028.0</td>\n",
              "      <td>715680.0</td>\n",
              "      <td>2653798.0</td>\n",
              "      <td>1481703.0</td>\n",
              "      <td>735036.0</td>\n",
              "      <td>NaN</td>\n",
              "      <td>174053.0</td>\n",
              "      <td>8224.0</td>\n",
              "      <td>55460.0</td>\n",
              "      <td>57948.0</td>\n",
              "      <td>58025.0</td>\n",
              "      <td>41167.0</td>\n",
              "      <td>471564.0</td>\n",
              "      <td>196386.0</td>\n",
              "      <td>676174.0</td>\n",
              "      <td>208.327876</td>\n",
              "      <td>252.187522</td>\n",
              "      <td>207.963517</td>\n",
              "      <td>NaN</td>\n",
              "    </tr>\n",
              "    <tr>\n",
              "      <th>1</th>\n",
              "      <td>1992_ALASKA</td>\n",
              "      <td>ALASKA</td>\n",
              "      <td>1992</td>\n",
              "      <td>NaN</td>\n",
              "      <td>1049591.0</td>\n",
              "      <td>106780.0</td>\n",
              "      <td>720711.0</td>\n",
              "      <td>222100.0</td>\n",
              "      <td>972488.0</td>\n",
              "      <td>498362.0</td>\n",
              "      <td>350902.0</td>\n",
              "      <td>NaN</td>\n",
              "      <td>37451.0</td>\n",
              "      <td>2371.0</td>\n",
              "      <td>10152.0</td>\n",
              "      <td>9748.0</td>\n",
              "      <td>8789.0</td>\n",
              "      <td>6714.0</td>\n",
              "      <td>79117.0</td>\n",
              "      <td>30847.0</td>\n",
              "      <td>112335.0</td>\n",
              "      <td>NaN</td>\n",
              "      <td>NaN</td>\n",
              "      <td>NaN</td>\n",
              "      <td>258.859712</td>\n",
              "    </tr>\n",
              "    <tr>\n",
              "      <th>2</th>\n",
              "      <td>1992_ARIZONA</td>\n",
              "      <td>ARIZONA</td>\n",
              "      <td>1992</td>\n",
              "      <td>NaN</td>\n",
              "      <td>3258079.0</td>\n",
              "      <td>297888.0</td>\n",
              "      <td>1369815.0</td>\n",
              "      <td>1590376.0</td>\n",
              "      <td>3401580.0</td>\n",
              "      <td>1435908.0</td>\n",
              "      <td>1007732.0</td>\n",
              "      <td>NaN</td>\n",
              "      <td>609114.0</td>\n",
              "      <td>2544.0</td>\n",
              "      <td>53497.0</td>\n",
              "      <td>55433.0</td>\n",
              "      <td>49081.0</td>\n",
              "      <td>37410.0</td>\n",
              "      <td>437127.0</td>\n",
              "      <td>175210.0</td>\n",
              "      <td>614881.0</td>\n",
              "      <td>215.253932</td>\n",
              "      <td>265.366278</td>\n",
              "      <td>206.212716</td>\n",
              "      <td>262.169895</td>\n",
              "    </tr>\n",
              "    <tr>\n",
              "      <th>3</th>\n",
              "      <td>1992_ARKANSAS</td>\n",
              "      <td>ARKANSAS</td>\n",
              "      <td>1992</td>\n",
              "      <td>NaN</td>\n",
              "      <td>1711959.0</td>\n",
              "      <td>178571.0</td>\n",
              "      <td>958785.0</td>\n",
              "      <td>574603.0</td>\n",
              "      <td>1743022.0</td>\n",
              "      <td>964323.0</td>\n",
              "      <td>483488.0</td>\n",
              "      <td>NaN</td>\n",
              "      <td>145212.0</td>\n",
              "      <td>808.0</td>\n",
              "      <td>33511.0</td>\n",
              "      <td>34632.0</td>\n",
              "      <td>36011.0</td>\n",
              "      <td>27651.0</td>\n",
              "      <td>281338.0</td>\n",
              "      <td>123113.0</td>\n",
              "      <td>405259.0</td>\n",
              "      <td>210.206028</td>\n",
              "      <td>256.312090</td>\n",
              "      <td>208.634458</td>\n",
              "      <td>264.619665</td>\n",
              "    </tr>\n",
              "    <tr>\n",
              "      <th>4</th>\n",
              "      <td>1992_CALIFORNIA</td>\n",
              "      <td>CALIFORNIA</td>\n",
              "      <td>1992</td>\n",
              "      <td>NaN</td>\n",
              "      <td>26260025.0</td>\n",
              "      <td>2072470.0</td>\n",
              "      <td>16546514.0</td>\n",
              "      <td>7641041.0</td>\n",
              "      <td>27138832.0</td>\n",
              "      <td>14358922.0</td>\n",
              "      <td>8520926.0</td>\n",
              "      <td>NaN</td>\n",
              "      <td>2044688.0</td>\n",
              "      <td>59067.0</td>\n",
              "      <td>431763.0</td>\n",
              "      <td>418418.0</td>\n",
              "      <td>363296.0</td>\n",
              "      <td>270675.0</td>\n",
              "      <td>3286034.0</td>\n",
              "      <td>1372011.0</td>\n",
              "      <td>4717112.0</td>\n",
              "      <td>208.398961</td>\n",
              "      <td>260.892247</td>\n",
              "      <td>196.764414</td>\n",
              "      <td>NaN</td>\n",
              "    </tr>\n",
              "  </tbody>\n",
              "</table>\n",
              "</div>"
            ],
            "text/plain": [
              "       PRIMARY_KEY       STATE  ...  AVG_READING_4_SCORE  AVG_READING_8_SCORE\n",
              "0     1992_ALABAMA     ALABAMA  ...           207.963517                  NaN\n",
              "1      1992_ALASKA      ALASKA  ...                  NaN           258.859712\n",
              "2     1992_ARIZONA     ARIZONA  ...           206.212716           262.169895\n",
              "3    1992_ARKANSAS    ARKANSAS  ...           208.634458           264.619665\n",
              "4  1992_CALIFORNIA  CALIFORNIA  ...           196.764414                  NaN\n",
              "\n",
              "[5 rows x 25 columns]"
            ]
          },
          "metadata": {
            "tags": []
          },
          "execution_count": 79
        }
      ]
    },
    {
      "cell_type": "code",
      "metadata": {
        "id": "I2EkheZ6E50O",
        "colab_type": "code",
        "colab": {
          "base_uri": "https://localhost:8080/",
          "height": 224
        },
        "outputId": "3b12eb6b-a253-4db5-fe9f-30a3efccd020"
      },
      "source": [
        "education_df.dropna(inplace=True)\n",
        "education_df.head()"
      ],
      "execution_count": 80,
      "outputs": [
        {
          "output_type": "execute_result",
          "data": {
            "text/html": [
              "<div>\n",
              "<style scoped>\n",
              "    .dataframe tbody tr th:only-of-type {\n",
              "        vertical-align: middle;\n",
              "    }\n",
              "\n",
              "    .dataframe tbody tr th {\n",
              "        vertical-align: top;\n",
              "    }\n",
              "\n",
              "    .dataframe thead th {\n",
              "        text-align: right;\n",
              "    }\n",
              "</style>\n",
              "<table border=\"1\" class=\"dataframe\">\n",
              "  <thead>\n",
              "    <tr style=\"text-align: right;\">\n",
              "      <th></th>\n",
              "      <th>PRIMARY_KEY</th>\n",
              "      <th>STATE</th>\n",
              "      <th>YEAR</th>\n",
              "      <th>ENROLL</th>\n",
              "      <th>TOTAL_REVENUE</th>\n",
              "      <th>FEDERAL_REVENUE</th>\n",
              "      <th>STATE_REVENUE</th>\n",
              "      <th>LOCAL_REVENUE</th>\n",
              "      <th>TOTAL_EXPENDITURE</th>\n",
              "      <th>INSTRUCTION_EXPENDITURE</th>\n",
              "      <th>SUPPORT_SERVICES_EXPENDITURE</th>\n",
              "      <th>OTHER_EXPENDITURE</th>\n",
              "      <th>CAPITAL_OUTLAY_EXPENDITURE</th>\n",
              "      <th>GRADES_PK_G</th>\n",
              "      <th>GRADES_KG_G</th>\n",
              "      <th>GRADES_4_G</th>\n",
              "      <th>GRADES_8_G</th>\n",
              "      <th>GRADES_12_G</th>\n",
              "      <th>GRADES_1_8_G</th>\n",
              "      <th>GRADES_9_12_G</th>\n",
              "      <th>GRADES_ALL_G</th>\n",
              "      <th>AVG_MATH_4_SCORE</th>\n",
              "      <th>AVG_MATH_8_SCORE</th>\n",
              "      <th>AVG_READING_4_SCORE</th>\n",
              "      <th>AVG_READING_8_SCORE</th>\n",
              "    </tr>\n",
              "  </thead>\n",
              "  <tbody>\n",
              "    <tr>\n",
              "      <th>209</th>\n",
              "      <td>1996_ALABAMA</td>\n",
              "      <td>ALABAMA</td>\n",
              "      <td>1996</td>\n",
              "      <td>735912.0</td>\n",
              "      <td>3365113.0</td>\n",
              "      <td>334858.0</td>\n",
              "      <td>2138717.0</td>\n",
              "      <td>891538.0</td>\n",
              "      <td>3572283.0</td>\n",
              "      <td>1987018.0</td>\n",
              "      <td>935115.0</td>\n",
              "      <td>322883.0</td>\n",
              "      <td>286699.0</td>\n",
              "      <td>9633.0</td>\n",
              "      <td>60949.0</td>\n",
              "      <td>57098.0</td>\n",
              "      <td>58305.0</td>\n",
              "      <td>42510.0</td>\n",
              "      <td>469370.0</td>\n",
              "      <td>207980.0</td>\n",
              "      <td>686983.0</td>\n",
              "      <td>211.646974</td>\n",
              "      <td>256.594863</td>\n",
              "      <td>210.920767</td>\n",
              "      <td>260.276441</td>\n",
              "    </tr>\n",
              "    <tr>\n",
              "      <th>211</th>\n",
              "      <td>1996_ARIZONA</td>\n",
              "      <td>ARIZONA</td>\n",
              "      <td>1996</td>\n",
              "      <td>764681.0</td>\n",
              "      <td>4143304.0</td>\n",
              "      <td>378917.0</td>\n",
              "      <td>1798363.0</td>\n",
              "      <td>1966024.0</td>\n",
              "      <td>4391555.0</td>\n",
              "      <td>1860007.0</td>\n",
              "      <td>1193260.0</td>\n",
              "      <td>220650.0</td>\n",
              "      <td>877190.0</td>\n",
              "      <td>4495.0</td>\n",
              "      <td>64613.0</td>\n",
              "      <td>62793.0</td>\n",
              "      <td>60514.0</td>\n",
              "      <td>42041.0</td>\n",
              "      <td>511925.0</td>\n",
              "      <td>210289.0</td>\n",
              "      <td>726709.0</td>\n",
              "      <td>217.575940</td>\n",
              "      <td>267.874834</td>\n",
              "      <td>206.529788</td>\n",
              "      <td>263.283638</td>\n",
              "    </tr>\n",
              "    <tr>\n",
              "      <th>212</th>\n",
              "      <td>1996_ARKANSAS</td>\n",
              "      <td>ARKANSAS</td>\n",
              "      <td>1996</td>\n",
              "      <td>452907.0</td>\n",
              "      <td>2183384.0</td>\n",
              "      <td>192152.0</td>\n",
              "      <td>1296247.0</td>\n",
              "      <td>694985.0</td>\n",
              "      <td>2297381.0</td>\n",
              "      <td>1264275.0</td>\n",
              "      <td>636106.0</td>\n",
              "      <td>127007.0</td>\n",
              "      <td>203555.0</td>\n",
              "      <td>1980.0</td>\n",
              "      <td>36442.0</td>\n",
              "      <td>33855.0</td>\n",
              "      <td>37064.0</td>\n",
              "      <td>27613.0</td>\n",
              "      <td>283883.0</td>\n",
              "      <td>131997.0</td>\n",
              "      <td>417860.0</td>\n",
              "      <td>215.846436</td>\n",
              "      <td>261.652745</td>\n",
              "      <td>208.837716</td>\n",
              "      <td>271.834590</td>\n",
              "    </tr>\n",
              "    <tr>\n",
              "      <th>213</th>\n",
              "      <td>1996_CALIFORNIA</td>\n",
              "      <td>CALIFORNIA</td>\n",
              "      <td>1996</td>\n",
              "      <td>5460484.0</td>\n",
              "      <td>31282981.0</td>\n",
              "      <td>2603882.0</td>\n",
              "      <td>17061474.0</td>\n",
              "      <td>11617625.0</td>\n",
              "      <td>31561692.0</td>\n",
              "      <td>16880730.0</td>\n",
              "      <td>9222569.0</td>\n",
              "      <td>2362407.0</td>\n",
              "      <td>2580639.0</td>\n",
              "      <td>73233.0</td>\n",
              "      <td>469965.0</td>\n",
              "      <td>435217.0</td>\n",
              "      <td>406456.0</td>\n",
              "      <td>298669.0</td>\n",
              "      <td>3516572.0</td>\n",
              "      <td>1525618.0</td>\n",
              "      <td>5115423.0</td>\n",
              "      <td>209.129083</td>\n",
              "      <td>262.772478</td>\n",
              "      <td>201.912591</td>\n",
              "      <td>269.197451</td>\n",
              "    </tr>\n",
              "    <tr>\n",
              "      <th>214</th>\n",
              "      <td>1996_COLORADO</td>\n",
              "      <td>COLORADO</td>\n",
              "      <td>1996</td>\n",
              "      <td>655679.0</td>\n",
              "      <td>3891203.0</td>\n",
              "      <td>194998.0</td>\n",
              "      <td>1664676.0</td>\n",
              "      <td>2031529.0</td>\n",
              "      <td>4075165.0</td>\n",
              "      <td>2052264.0</td>\n",
              "      <td>1127563.0</td>\n",
              "      <td>143767.0</td>\n",
              "      <td>588209.0</td>\n",
              "      <td>12520.0</td>\n",
              "      <td>50707.0</td>\n",
              "      <td>52524.0</td>\n",
              "      <td>52269.0</td>\n",
              "      <td>37179.0</td>\n",
              "      <td>423510.0</td>\n",
              "      <td>185700.0</td>\n",
              "      <td>621730.0</td>\n",
              "      <td>225.805858</td>\n",
              "      <td>275.608214</td>\n",
              "      <td>221.653243</td>\n",
              "      <td>268.168154</td>\n",
              "    </tr>\n",
              "  </tbody>\n",
              "</table>\n",
              "</div>"
            ],
            "text/plain": [
              "         PRIMARY_KEY       STATE  ...  AVG_READING_4_SCORE  AVG_READING_8_SCORE\n",
              "209     1996_ALABAMA     ALABAMA  ...           210.920767           260.276441\n",
              "211     1996_ARIZONA     ARIZONA  ...           206.529788           263.283638\n",
              "212    1996_ARKANSAS    ARKANSAS  ...           208.837716           271.834590\n",
              "213  1996_CALIFORNIA  CALIFORNIA  ...           201.912591           269.197451\n",
              "214    1996_COLORADO    COLORADO  ...           221.653243           268.168154\n",
              "\n",
              "[5 rows x 25 columns]"
            ]
          },
          "metadata": {
            "tags": []
          },
          "execution_count": 80
        }
      ]
    },
    {
      "cell_type": "code",
      "metadata": {
        "id": "Mu2se07LF1eZ",
        "colab_type": "code",
        "colab": {}
      },
      "source": [
        "#1. Create a new score variable from the weighted averages of the all score variables in the datasets. Notice that the number of students in the fourth grade isn't the same with the number of students in the eighth grade. So, you should weight the scores appropriately!.\n",
        "education_df[\"overall_score\"] = (education_df[\"GRADES_4_G\"]*(education_df[\"AVG_MATH_4_SCORE\"] + education_df[\"AVG_READING_4_SCORE\"]) + \n",
        "                                 education_df[\"GRADES_8_G\"]*(education_df[\"AVG_MATH_8_SCORE\"] + education_df[\"AVG_READING_8_SCORE\"]))/(education_df[\"GRADES_4_G\"] + education_df[\"GRADES_8_G\"])"
      ],
      "execution_count": 0,
      "outputs": []
    },
    {
      "cell_type": "markdown",
      "metadata": {
        "id": "Guj2Mbi6M-g_",
        "colab_type": "text"
      },
      "source": [
        "We weighted the score variables using the number of students in the respective grades."
      ]
    },
    {
      "cell_type": "code",
      "metadata": {
        "id": "yNkK8XowMAuG",
        "colab_type": "code",
        "colab": {
          "base_uri": "https://localhost:8080/",
          "height": 255
        },
        "outputId": "4cc42695-6421-43f8-9acc-83bb5118380a"
      },
      "source": [
        "#2. What are the correlations between this newly created score variable and the expenditure types? Which one of the expenditure type is more correlated than the others?\n",
        "education_df[[\"overall_score\", \"TOTAL_EXPENDITURE\", \"INSTRUCTION_EXPENDITURE\", \"SUPPORT_SERVICES_EXPENDITURE\", \"OTHER_EXPENDITURE\", \"CAPITAL_OUTLAY_EXPENDITURE\"]].corr()\n"
      ],
      "execution_count": 82,
      "outputs": [
        {
          "output_type": "execute_result",
          "data": {
            "text/html": [
              "<div>\n",
              "<style scoped>\n",
              "    .dataframe tbody tr th:only-of-type {\n",
              "        vertical-align: middle;\n",
              "    }\n",
              "\n",
              "    .dataframe tbody tr th {\n",
              "        vertical-align: top;\n",
              "    }\n",
              "\n",
              "    .dataframe thead th {\n",
              "        text-align: right;\n",
              "    }\n",
              "</style>\n",
              "<table border=\"1\" class=\"dataframe\">\n",
              "  <thead>\n",
              "    <tr style=\"text-align: right;\">\n",
              "      <th></th>\n",
              "      <th>overall_score</th>\n",
              "      <th>TOTAL_EXPENDITURE</th>\n",
              "      <th>INSTRUCTION_EXPENDITURE</th>\n",
              "      <th>SUPPORT_SERVICES_EXPENDITURE</th>\n",
              "      <th>OTHER_EXPENDITURE</th>\n",
              "      <th>CAPITAL_OUTLAY_EXPENDITURE</th>\n",
              "    </tr>\n",
              "  </thead>\n",
              "  <tbody>\n",
              "    <tr>\n",
              "      <th>overall_score</th>\n",
              "      <td>1.000000</td>\n",
              "      <td>0.086797</td>\n",
              "      <td>0.100311</td>\n",
              "      <td>0.092225</td>\n",
              "      <td>0.015186</td>\n",
              "      <td>0.001657</td>\n",
              "    </tr>\n",
              "    <tr>\n",
              "      <th>TOTAL_EXPENDITURE</th>\n",
              "      <td>0.086797</td>\n",
              "      <td>1.000000</td>\n",
              "      <td>0.989849</td>\n",
              "      <td>0.993285</td>\n",
              "      <td>0.941120</td>\n",
              "      <td>0.928628</td>\n",
              "    </tr>\n",
              "    <tr>\n",
              "      <th>INSTRUCTION_EXPENDITURE</th>\n",
              "      <td>0.100311</td>\n",
              "      <td>0.989849</td>\n",
              "      <td>1.000000</td>\n",
              "      <td>0.974872</td>\n",
              "      <td>0.898766</td>\n",
              "      <td>0.885351</td>\n",
              "    </tr>\n",
              "    <tr>\n",
              "      <th>SUPPORT_SERVICES_EXPENDITURE</th>\n",
              "      <td>0.092225</td>\n",
              "      <td>0.993285</td>\n",
              "      <td>0.974872</td>\n",
              "      <td>1.000000</td>\n",
              "      <td>0.948014</td>\n",
              "      <td>0.915436</td>\n",
              "    </tr>\n",
              "    <tr>\n",
              "      <th>OTHER_EXPENDITURE</th>\n",
              "      <td>0.015186</td>\n",
              "      <td>0.941120</td>\n",
              "      <td>0.898766</td>\n",
              "      <td>0.948014</td>\n",
              "      <td>1.000000</td>\n",
              "      <td>0.921652</td>\n",
              "    </tr>\n",
              "    <tr>\n",
              "      <th>CAPITAL_OUTLAY_EXPENDITURE</th>\n",
              "      <td>0.001657</td>\n",
              "      <td>0.928628</td>\n",
              "      <td>0.885351</td>\n",
              "      <td>0.915436</td>\n",
              "      <td>0.921652</td>\n",
              "      <td>1.000000</td>\n",
              "    </tr>\n",
              "  </tbody>\n",
              "</table>\n",
              "</div>"
            ],
            "text/plain": [
              "                              overall_score  ...  CAPITAL_OUTLAY_EXPENDITURE\n",
              "overall_score                      1.000000  ...                    0.001657\n",
              "TOTAL_EXPENDITURE                  0.086797  ...                    0.928628\n",
              "INSTRUCTION_EXPENDITURE            0.100311  ...                    0.885351\n",
              "SUPPORT_SERVICES_EXPENDITURE       0.092225  ...                    0.915436\n",
              "OTHER_EXPENDITURE                  0.015186  ...                    0.921652\n",
              "CAPITAL_OUTLAY_EXPENDITURE         0.001657  ...                    1.000000\n",
              "\n",
              "[6 rows x 6 columns]"
            ]
          },
          "metadata": {
            "tags": []
          },
          "execution_count": 82
        }
      ]
    },
    {
      "cell_type": "code",
      "metadata": {
        "id": "l5b7oPaXNJk4",
        "colab_type": "code",
        "colab": {
          "base_uri": "https://localhost:8080/",
          "height": 471
        },
        "outputId": "848269f8-26a5-4f38-f775-e00b07152f5b"
      },
      "source": [
        "sns.heatmap(education_df[[\"overall_score\", \"TOTAL_EXPENDITURE\", \"INSTRUCTION_EXPENDITURE\", \"SUPPORT_SERVICES_EXPENDITURE\", \"OTHER_EXPENDITURE\", \"CAPITAL_OUTLAY_EXPENDITURE\"]].corr(),annot=True)"
      ],
      "execution_count": 83,
      "outputs": [
        {
          "output_type": "execute_result",
          "data": {
            "text/plain": [
              "<matplotlib.axes._subplots.AxesSubplot at 0x7efeaea405f8>"
            ]
          },
          "metadata": {
            "tags": []
          },
          "execution_count": 83
        },
        {
          "output_type": "display_data",
          "data": {
            "image/png": "[encoded data removed]",
            "text/plain": [
              "<Figure size 432x288 with 2 Axes>"
            ]
          },
          "metadata": {
            "tags": []
          }
        }
      ]
    },
    {
      "cell_type": "markdown",
      "metadata": {
        "id": "80l45pD3QTio",
        "colab_type": "text"
      },
      "source": [
        "The most correlated variable with the overall score is the instruction expenditure"
      ]
    },
    {
      "cell_type": "code",
      "metadata": {
        "id": "jemhE820S9yd",
        "colab_type": "code",
        "colab": {
          "base_uri": "https://localhost:8080/",
          "height": 51
        },
        "outputId": "ff74b72b-19c4-49bf-dcea-0b51bf9e8969"
      },
      "source": [
        "#3. Now, apply PCA to the four expenditure types. How much of the total variance is explained by the first component?\n",
        "from sklearn.decomposition import PCA\n",
        "from sklearn.preprocessing import StandardScaler\n",
        "\n",
        "x = education_df[[\"INSTRUCTION_EXPENDITURE\", \"SUPPORT_SERVICES_EXPENDITURE\",\"OTHER_EXPENDITURE\", \"CAPITAL_OUTLAY_EXPENDITURE\"]]\n",
        "\n",
        "x = StandardScaler().fit_transform(x)\n",
        "\n",
        "sklearn_pca = PCA(n_components=1)\n",
        "education_df[\"PCA_1\"] = sklearn_pca.fit_transform(x)\n",
        "\n",
        "print('The percentage of total variance in the dataset explained by each','component from Sklearn PCA.\\n',sklearn_pca.explained_variance_ratio_)"
      ],
      "execution_count": 89,
      "outputs": [
        {
          "output_type": "stream",
          "text": [
            "The percentage of total variance in the dataset explained by each component from Sklearn PCA.\n",
            " [0.94312987]\n"
          ],
          "name": "stdout"
        }
      ]
    },
    {
      "cell_type": "markdown",
      "metadata": {
        "id": "y4X5rrSsWHlg",
        "colab_type": "text"
      },
      "source": [
        "\n",
        "More than 94% of the total variance is explained by the first principal component."
      ]
    },
    {
      "cell_type": "code",
      "metadata": {
        "id": "fNkJFKPsVn2H",
        "colab_type": "code",
        "colab": {
          "base_uri": "https://localhost:8080/",
          "height": 286
        },
        "outputId": "e8bc4417-717f-4f06-c119-b79849b56260"
      },
      "source": [
        "#4. What is the correlation between the overall score variable and the first principal component?\n",
        "education_df[[\"PCA_1\", \"overall_score\", \"TOTAL_EXPENDITURE\", \"INSTRUCTION_EXPENDITURE\", \"SUPPORT_SERVICES_EXPENDITURE\", \"OTHER_EXPENDITURE\", \"CAPITAL_OUTLAY_EXPENDITURE\"]].corr()"
      ],
      "execution_count": 96,
      "outputs": [
        {
          "output_type": "execute_result",
          "data": {
            "text/html": [
              "<div>\n",
              "<style scoped>\n",
              "    .dataframe tbody tr th:only-of-type {\n",
              "        vertical-align: middle;\n",
              "    }\n",
              "\n",
              "    .dataframe tbody tr th {\n",
              "        vertical-align: top;\n",
              "    }\n",
              "\n",
              "    .dataframe thead th {\n",
              "        text-align: right;\n",
              "    }\n",
              "</style>\n",
              "<table border=\"1\" class=\"dataframe\">\n",
              "  <thead>\n",
              "    <tr style=\"text-align: right;\">\n",
              "      <th></th>\n",
              "      <th>PCA_1</th>\n",
              "      <th>overall_score</th>\n",
              "      <th>TOTAL_EXPENDITURE</th>\n",
              "      <th>INSTRUCTION_EXPENDITURE</th>\n",
              "      <th>SUPPORT_SERVICES_EXPENDITURE</th>\n",
              "      <th>OTHER_EXPENDITURE</th>\n",
              "      <th>CAPITAL_OUTLAY_EXPENDITURE</th>\n",
              "    </tr>\n",
              "  </thead>\n",
              "  <tbody>\n",
              "    <tr>\n",
              "      <th>PCA_1</th>\n",
              "      <td>1.000000</td>\n",
              "      <td>0.054225</td>\n",
              "      <td>0.992014</td>\n",
              "      <td>0.967914</td>\n",
              "      <td>0.988354</td>\n",
              "      <td>0.970155</td>\n",
              "      <td>0.957924</td>\n",
              "    </tr>\n",
              "    <tr>\n",
              "      <th>overall_score</th>\n",
              "      <td>0.054225</td>\n",
              "      <td>1.000000</td>\n",
              "      <td>0.086797</td>\n",
              "      <td>0.100311</td>\n",
              "      <td>0.092225</td>\n",
              "      <td>0.015186</td>\n",
              "      <td>0.001657</td>\n",
              "    </tr>\n",
              "    <tr>\n",
              "      <th>TOTAL_EXPENDITURE</th>\n",
              "      <td>0.992014</td>\n",
              "      <td>0.086797</td>\n",
              "      <td>1.000000</td>\n",
              "      <td>0.989849</td>\n",
              "      <td>0.993285</td>\n",
              "      <td>0.941120</td>\n",
              "      <td>0.928628</td>\n",
              "    </tr>\n",
              "    <tr>\n",
              "      <th>INSTRUCTION_EXPENDITURE</th>\n",
              "      <td>0.967914</td>\n",
              "      <td>0.100311</td>\n",
              "      <td>0.989849</td>\n",
              "      <td>1.000000</td>\n",
              "      <td>0.974872</td>\n",
              "      <td>0.898766</td>\n",
              "      <td>0.885351</td>\n",
              "    </tr>\n",
              "    <tr>\n",
              "      <th>SUPPORT_SERVICES_EXPENDITURE</th>\n",
              "      <td>0.988354</td>\n",
              "      <td>0.092225</td>\n",
              "      <td>0.993285</td>\n",
              "      <td>0.974872</td>\n",
              "      <td>1.000000</td>\n",
              "      <td>0.948014</td>\n",
              "      <td>0.915436</td>\n",
              "    </tr>\n",
              "    <tr>\n",
              "      <th>OTHER_EXPENDITURE</th>\n",
              "      <td>0.970155</td>\n",
              "      <td>0.015186</td>\n",
              "      <td>0.941120</td>\n",
              "      <td>0.898766</td>\n",
              "      <td>0.948014</td>\n",
              "      <td>1.000000</td>\n",
              "      <td>0.921652</td>\n",
              "    </tr>\n",
              "    <tr>\n",
              "      <th>CAPITAL_OUTLAY_EXPENDITURE</th>\n",
              "      <td>0.957924</td>\n",
              "      <td>0.001657</td>\n",
              "      <td>0.928628</td>\n",
              "      <td>0.885351</td>\n",
              "      <td>0.915436</td>\n",
              "      <td>0.921652</td>\n",
              "      <td>1.000000</td>\n",
              "    </tr>\n",
              "  </tbody>\n",
              "</table>\n",
              "</div>"
            ],
            "text/plain": [
              "                                 PCA_1  ...  CAPITAL_OUTLAY_EXPENDITURE\n",
              "PCA_1                         1.000000  ...                    0.957924\n",
              "overall_score                 0.054225  ...                    0.001657\n",
              "TOTAL_EXPENDITURE             0.992014  ...                    0.928628\n",
              "INSTRUCTION_EXPENDITURE       0.967914  ...                    0.885351\n",
              "SUPPORT_SERVICES_EXPENDITURE  0.988354  ...                    0.915436\n",
              "OTHER_EXPENDITURE             0.970155  ...                    0.921652\n",
              "CAPITAL_OUTLAY_EXPENDITURE    0.957924  ...                    1.000000\n",
              "\n",
              "[7 rows x 7 columns]"
            ]
          },
          "metadata": {
            "tags": []
          },
          "execution_count": 96
        }
      ]
    },
    {
      "cell_type": "code",
      "metadata": {
        "id": "GMFmALs-WXYg",
        "colab_type": "code",
        "colab": {
          "base_uri": "https://localhost:8080/",
          "height": 471
        },
        "outputId": "ca77aa7b-c5e9-46c7-80c6-9222fecd7a5f"
      },
      "source": [
        "sns.heatmap(education_df[[\"PCA_1\", \"overall_score\", \"TOTAL_EXPENDITURE\", \"INSTRUCTION_EXPENDITURE\", \"SUPPORT_SERVICES_EXPENDITURE\", \"OTHER_EXPENDITURE\", \"CAPITAL_OUTLAY_EXPENDITURE\"]].corr(), annot=True)"
      ],
      "execution_count": 95,
      "outputs": [
        {
          "output_type": "execute_result",
          "data": {
            "text/plain": [
              "<matplotlib.axes._subplots.AxesSubplot at 0x7efeae79dc18>"
            ]
          },
          "metadata": {
            "tags": []
          },
          "execution_count": 95
        },
        {
          "output_type": "display_data",
          "data": {
            "image/png": "[encoded data removed]",
            "text/plain": [
              "<Figure size 432x288 with 2 Axes>"
            ]
          },
          "metadata": {
            "tags": []
          }
        }
      ]
    },
    {
      "cell_type": "markdown",
      "metadata": {
        "id": "yu-gtOn1XRA5",
        "colab_type": "text"
      },
      "source": [
        "he correlation of the first principal component is less than the instruction expenditure and the support service expenditure variables"
      ]
    },
    {
      "cell_type": "code",
      "metadata": {
        "id": "U2n_9fcdWltE",
        "colab_type": "code",
        "colab": {}
      },
      "source": [
        "#5. If you were to choose the best variables for your model, would you prefer using the first principal component instead of the expenditure variables? Why?"
      ],
      "execution_count": 0,
      "outputs": []
    },
    {
      "cell_type": "markdown",
      "metadata": {
        "id": "w54xvdcYXX46",
        "colab_type": "text"
      },
      "source": [
        "Instruction expenditure variable is more correlated with the overall score than the first principal component. Hence using instruction expenditure makes more sense. PCA works best when the correlation between the variables are less than and equal to 0.8. In our case, all of the expenditure variables are highly correlated with each other. This may result in instable principal component estimations"
      ]
    },
    {
      "cell_type": "code",
      "metadata": {
        "id": "5VfNY1wzXjTV",
        "colab_type": "code",
        "colab": {}
      },
      "source": [
        ""
      ],
      "execution_count": 0,
      "outputs": []
    }
  ]
}