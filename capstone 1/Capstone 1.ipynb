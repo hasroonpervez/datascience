{
 "cells": [
  {
   "cell_type": "markdown",
   "metadata": {},
   "source": [
    "# Kickstarter Projects"
   ]
  },
  {
   "cell_type": "markdown",
   "metadata": {},
   "source": [
    "Kickstarter has been a hub for crowdfunding since 2009 and has launched numerous projects globally. Aside from working to bring ideas to life, entrepreneurs wonder how likely their projects are to succeed or fail, even on an individual platform like Kickstarter.\n",
    "\n",
    "The document describes an approach to building a tool that an entrepreneur can use to identify chances of success or failure for their Kickstarter project. A tool in the general sense can take in any features that relate to the project, but as far as Kickstarter is concerned, there are a few features that were collected from their website, whether through scraping pages or an API.\n",
    "\n",
    "It is known that a business idea is not necessarily measured by the features mentioned here, but as long as any Kickstarter project is launched, it should have values for these features that, if used, will help an entrepreneur calibrate their efforts to align with those of project that have already proven their success.\n",
    "\n",
    "As we go, we will talk about the dataset that we have and methods in which we clean the data, engineer features, and select prediction models.\n",
    "\n",
    "Let's begin by our usual import statements and document-wise preferences:"
   ]
  },
  {
   "cell_type": "code",
   "execution_count": 1,
   "metadata": {},
   "outputs": [],
   "source": [
    "## Import statements\n",
    "from currency_converter import CurrencyConverter\n",
    "from collections import Counter\n",
    "from datetime import date\n",
    "from imblearn.over_sampling import SMOTE\n",
    "import matplotlib.pyplot as plt\n",
    "import numpy as np\n",
    "import pandas as pd\n",
    "import random\n",
    "from scipy.stats.mstats import winsorize\n",
    "from scipy.stats import boxcox\n",
    "import seaborn as sns\n",
    "from sklearn.ensemble import RandomForestClassifier\n",
    "from sklearn.linear_model import LinearRegression \n",
    "from sklearn.metrics import confusion_matrix, roc_curve, roc_auc_score\n",
    "from sklearn.model_selection import GridSearchCV, train_test_split, cross_val_score\n",
    "from sklearn.neighbors import KNeighborsClassifier\n",
    "from sklearn.svm import LinearSVC\n",
    "from sklearn.tree import DecisionTreeClassifier\n",
    "from IPython.display import Markdown, display\n",
    "\n",
    "import warnings\n",
    "warnings.filterwarnings(action=\"ignore\")"
   ]
  },
  {
   "cell_type": "markdown",
   "metadata": {},
   "source": [
    "# Important Analytical Questions"
   ]
  },
  {
   "cell_type": "markdown",
   "metadata": {},
   "source": [
    "To get a feel of what this project intends to produce, we will ask three analytical questions that should fixate our efforts and reveal what the reader can expect to find after reading and walking through our project:\n",
    "\n",
    "**1. What features, within the provided dataset, are most determinant of a project's success or failure?**\n",
    "\n",
    "**2. Which prediction models - or algorithms- perform best in terms of speed, accuracy, and explainability combined?**\n",
    "\n",
    "**3. How good is our trained model in predicting future projects (2018 vs. 2016)?**\n",
    "\n",
    "The first question will be answered once we are done with the feature engineering phase, where we derive, transform and select features from the variables -or columns- we have in this dataset.\n",
    "\n",
    "The latter two questions will be answered in the last phase, where we select and test our prediction models on both the 2016 and the 2018 datasets."
   ]
  },
  {
   "cell_type": "markdown",
   "metadata": {},
   "source": [
    "# Data files"
   ]
  },
  {
   "cell_type": "markdown",
   "metadata": {},
   "source": [
    "We have two data files, 2016.csv and 2018.csv. We will be using the 2016 data to train our prediction model, and the 2018 data to test for prediction.\n",
    "\n",
    "Let's start by importing the data:"
   ]
  },
  {
   "cell_type": "code",
   "execution_count": 2,
   "metadata": {},
   "outputs": [],
   "source": [
    "# Import the data\n",
    "data_2016 = pd.read_csv('2016.csv', encoding='Windows-1252')\n",
    "data_2018 = pd.read_csv('2018.csv')"
   ]
  },
  {
   "cell_type": "code",
   "execution_count": 3,
   "metadata": {},
   "outputs": [
    {
     "data": {
      "text/plain": [
       "(323750, 17)"
      ]
     },
     "execution_count": 3,
     "metadata": {},
     "output_type": "execute_result"
    }
   ],
   "source": [
    "data_2016.shape"
   ]
  },
  {
   "cell_type": "code",
   "execution_count": 4,
   "metadata": {},
   "outputs": [
    {
     "data": {
      "text/html": [
       "<div>\n",
       "<style scoped>\n",
       "    .dataframe tbody tr th:only-of-type {\n",
       "        vertical-align: middle;\n",
       "    }\n",
       "\n",
       "    .dataframe tbody tr th {\n",
       "        vertical-align: top;\n",
       "    }\n",
       "\n",
       "    .dataframe thead th {\n",
       "        text-align: right;\n",
       "    }\n",
       "</style>\n",
       "<table border=\"1\" class=\"dataframe\">\n",
       "  <thead>\n",
       "    <tr style=\"text-align: right;\">\n",
       "      <th></th>\n",
       "      <th>ID</th>\n",
       "      <th>name</th>\n",
       "      <th>category</th>\n",
       "      <th>main_category</th>\n",
       "      <th>currency</th>\n",
       "      <th>deadline</th>\n",
       "      <th>goal</th>\n",
       "      <th>launched</th>\n",
       "      <th>pledged</th>\n",
       "      <th>state</th>\n",
       "      <th>backers</th>\n",
       "      <th>country</th>\n",
       "      <th>usd pledged</th>\n",
       "      <th>Unnamed: 13</th>\n",
       "      <th>Unnamed: 14</th>\n",
       "      <th>Unnamed: 15</th>\n",
       "      <th>Unnamed: 16</th>\n",
       "    </tr>\n",
       "  </thead>\n",
       "  <tbody>\n",
       "    <tr>\n",
       "      <th>0</th>\n",
       "      <td>1000002330</td>\n",
       "      <td>The Songs of Adelaide &amp; Abullah</td>\n",
       "      <td>Poetry</td>\n",
       "      <td>Publishing</td>\n",
       "      <td>GBP</td>\n",
       "      <td>2015-10-09 11:36:00</td>\n",
       "      <td>1000</td>\n",
       "      <td>2015-08-11 12:12:28</td>\n",
       "      <td>0</td>\n",
       "      <td>failed</td>\n",
       "      <td>0</td>\n",
       "      <td>GB</td>\n",
       "      <td>0</td>\n",
       "      <td>NaN</td>\n",
       "      <td>NaN</td>\n",
       "      <td>NaN</td>\n",
       "      <td>NaN</td>\n",
       "    </tr>\n",
       "    <tr>\n",
       "      <th>1</th>\n",
       "      <td>1000004038</td>\n",
       "      <td>Where is Hank?</td>\n",
       "      <td>Narrative Film</td>\n",
       "      <td>Film &amp; Video</td>\n",
       "      <td>USD</td>\n",
       "      <td>2013-02-26 00:20:50</td>\n",
       "      <td>45000</td>\n",
       "      <td>2013-01-12 00:20:50</td>\n",
       "      <td>220</td>\n",
       "      <td>failed</td>\n",
       "      <td>3</td>\n",
       "      <td>US</td>\n",
       "      <td>220</td>\n",
       "      <td>NaN</td>\n",
       "      <td>NaN</td>\n",
       "      <td>NaN</td>\n",
       "      <td>NaN</td>\n",
       "    </tr>\n",
       "    <tr>\n",
       "      <th>2</th>\n",
       "      <td>1000007540</td>\n",
       "      <td>ToshiCapital Rekordz Needs Help to Complete Album</td>\n",
       "      <td>Music</td>\n",
       "      <td>Music</td>\n",
       "      <td>USD</td>\n",
       "      <td>2012-04-16 04:24:11</td>\n",
       "      <td>5000</td>\n",
       "      <td>2012-03-17 03:24:11</td>\n",
       "      <td>1</td>\n",
       "      <td>failed</td>\n",
       "      <td>1</td>\n",
       "      <td>US</td>\n",
       "      <td>1</td>\n",
       "      <td>NaN</td>\n",
       "      <td>NaN</td>\n",
       "      <td>NaN</td>\n",
       "      <td>NaN</td>\n",
       "    </tr>\n",
       "    <tr>\n",
       "      <th>3</th>\n",
       "      <td>1000011046</td>\n",
       "      <td>Community Film Project: The Art of Neighborhoo...</td>\n",
       "      <td>Film &amp; Video</td>\n",
       "      <td>Film &amp; Video</td>\n",
       "      <td>USD</td>\n",
       "      <td>2015-08-29 01:00:00</td>\n",
       "      <td>19500</td>\n",
       "      <td>2015-07-04 08:35:03</td>\n",
       "      <td>1283</td>\n",
       "      <td>canceled</td>\n",
       "      <td>14</td>\n",
       "      <td>US</td>\n",
       "      <td>1283</td>\n",
       "      <td>NaN</td>\n",
       "      <td>NaN</td>\n",
       "      <td>NaN</td>\n",
       "      <td>NaN</td>\n",
       "    </tr>\n",
       "    <tr>\n",
       "      <th>4</th>\n",
       "      <td>1000014025</td>\n",
       "      <td>Monarch Espresso Bar</td>\n",
       "      <td>Restaurants</td>\n",
       "      <td>Food</td>\n",
       "      <td>USD</td>\n",
       "      <td>2016-04-01 13:38:27</td>\n",
       "      <td>50000</td>\n",
       "      <td>2016-02-26 13:38:27</td>\n",
       "      <td>52375</td>\n",
       "      <td>successful</td>\n",
       "      <td>224</td>\n",
       "      <td>US</td>\n",
       "      <td>52375</td>\n",
       "      <td>NaN</td>\n",
       "      <td>NaN</td>\n",
       "      <td>NaN</td>\n",
       "      <td>NaN</td>\n",
       "    </tr>\n",
       "  </tbody>\n",
       "</table>\n",
       "</div>"
      ],
      "text/plain": [
       "          ID                                               name   \\\n",
       "0  1000002330                    The Songs of Adelaide & Abullah   \n",
       "1  1000004038                                     Where is Hank?   \n",
       "2  1000007540  ToshiCapital Rekordz Needs Help to Complete Album   \n",
       "3  1000011046  Community Film Project: The Art of Neighborhoo...   \n",
       "4  1000014025                               Monarch Espresso Bar   \n",
       "\n",
       "        category  main_category  currency             deadline   goal   \\\n",
       "0          Poetry     Publishing       GBP  2015-10-09 11:36:00   1000   \n",
       "1  Narrative Film   Film & Video       USD  2013-02-26 00:20:50  45000   \n",
       "2           Music          Music       USD  2012-04-16 04:24:11   5000   \n",
       "3    Film & Video   Film & Video       USD  2015-08-29 01:00:00  19500   \n",
       "4     Restaurants           Food       USD  2016-04-01 13:38:27  50000   \n",
       "\n",
       "             launched  pledged       state  backers  country  usd pledged   \\\n",
       "0  2015-08-11 12:12:28        0      failed        0       GB            0   \n",
       "1  2013-01-12 00:20:50      220      failed        3       US          220   \n",
       "2  2012-03-17 03:24:11        1      failed        1       US            1   \n",
       "3  2015-07-04 08:35:03     1283    canceled       14       US         1283   \n",
       "4  2016-02-26 13:38:27    52375  successful      224       US        52375   \n",
       "\n",
       "  Unnamed: 13 Unnamed: 14 Unnamed: 15  Unnamed: 16  \n",
       "0         NaN         NaN         NaN          NaN  \n",
       "1         NaN         NaN         NaN          NaN  \n",
       "2         NaN         NaN         NaN          NaN  \n",
       "3         NaN         NaN         NaN          NaN  \n",
       "4         NaN         NaN         NaN          NaN  "
      ]
     },
     "execution_count": 4,
     "metadata": {},
     "output_type": "execute_result"
    }
   ],
   "source": [
    "data_2016.head()"
   ]
  },
  {
   "cell_type": "code",
   "execution_count": 5,
   "metadata": {},
   "outputs": [
    {
     "data": {
      "text/plain": [
       "Index(['ID ', 'name ', 'category ', 'main_category ', 'currency ', 'deadline ',\n",
       "       'goal ', 'launched ', 'pledged ', 'state ', 'backers ', 'country ',\n",
       "       'usd pledged ', 'Unnamed: 13', 'Unnamed: 14', 'Unnamed: 15',\n",
       "       'Unnamed: 16'],\n",
       "      dtype='object')"
      ]
     },
     "execution_count": 5,
     "metadata": {},
     "output_type": "execute_result"
    }
   ],
   "source": [
    "# Checking the columns\n",
    "data_2016.columns"
   ]
  },
  {
   "cell_type": "markdown",
   "metadata": {},
   "source": [
    "# Variables\n"
   ]
  },
  {
   "cell_type": "markdown",
   "metadata": {},
   "source": [
    "**ID** - id number of the project\n",
    "\n",
    "**name** - name of the project\n",
    "\n",
    "**category** - contains the sub-category of the project\n",
    "\n",
    "**main_category** - contains the main category of the project\n",
    "\n",
    "**currency** - original currency the project goal was denominated in\n",
    "\n",
    "**deadline** - date and time of when the project will close for donations\n",
    "\n",
    "**goal** - funding goal\n",
    "\n",
    "**launched_at** - date and time of when the project was launched for funding\n",
    "\n",
    "**pledged** - amount pledged in the current_currency\n",
    "\n",
    "**state** - whether a project was successful, failed, canceled, suspending or still live\n",
    "\n",
    "**backers_count** - number of people who contributed funds to the project\n",
    "\n",
    "**country** - country the project creator is from\n",
    "\n",
    "**usd pledged** - amount pledged in the usd"
   ]
  },
  {
   "cell_type": "markdown",
   "metadata": {},
   "source": [
    "****We have 4 columns with no names and seemingly no values. Our first task is to find out what brought them to our dataset.**"
   ]
  },
  {
   "cell_type": "markdown",
   "metadata": {},
   "source": [
    "**Let's rename them to a, b, c, and d for ease of reference:**"
   ]
  },
  {
   "cell_type": "code",
   "execution_count": 6,
   "metadata": {},
   "outputs": [],
   "source": [
    "# Rename unnamed columns\n",
    "data_2016.rename(columns={'Unnamed: 13':'a','Unnamed: 14':'b','Unnamed: 15':'c','Unnamed: 16':'d'},inplace=True)"
   ]
  },
  {
   "cell_type": "code",
   "execution_count": 7,
   "metadata": {},
   "outputs": [
    {
     "name": "stdout",
     "output_type": "stream",
     "text": [
      "a:\n",
      "\n",
      "['0' '0.0' '0.75115847' '0.80140149' '1' '1.0' '1.45244126' '1.48867786'\n",
      " '10' '10.0' '100' '100.0' '1010' '103' '1035' '1042.03499794' '1056'\n",
      " '106' '106.2801604094' '1077.37173925' '10890.45' '109.0' '109301.56'\n",
      " '110.0' '1100' '11044' '11050' '1111.11' '111307.22' '113.5076443'\n",
      " '11315.5' '11397.1752216' '1146' '115.0' '11558' '11565' '11719'\n",
      " '1172.45147332' '118.0' '1181.0' '119.79380659999998' '1191.0' '12'\n",
      " '120.79453167' '1200' '1213.48105085' '12201' '123' '12306' '125' '125.0'\n",
      " '12590' '126.9669968' '1270' '1273.06045123' '1295' '1296' '1297.8116879'\n",
      " '13' '130' '130.0' '130.16' '130.443914' '1301.0' '1320' '1327.89' '1342'\n",
      " '13436.602656755' '13446.90533288' '135' '1366' '13675' '140.01' '1400'\n",
      " '14032.77' '1410' '14159' '1421' '14309.36' '145' '1495' '15' '15.0'\n",
      " '150' '150.0' '15096.0' '15097.07923963' '1520' '1526.6162255000002'\n",
      " '1528.82718156' '15361' '15665' '157.0' '157323.21' '1577' '15816.0'\n",
      " '1595.0' '16' '16.0157339' '160' '1600.0' '163.9631751' '165.0' '166'\n",
      " '1661.0' '1665' '1685' '1692.45035442' '170' '170.08617230000002'\n",
      " '1700.0' '171.7043691' '17169.0' '172.82898' '17350' '175' '1753.0'\n",
      " '17550.20207664' '1763.47' '178' '179' '18' '180.0' '1800.5'\n",
      " '18095.0925066' '1822' '1827' '1847.3965377' '1850' '187' '190.39394'\n",
      " '1900.0' '1901.01102436' '191.0' '195.00255516' '19548.98285684'\n",
      " '1985.80793719' '2' '20' '20.0' '200' '2000' '2006.0578219' '202'\n",
      " '20223.0' '2026' '2029.3781316' '2045.53187658' '2053.0' '20658.0' '208'\n",
      " '21' '21.0' '2107' '2161' '22.45584618' '2234.08927872' '225'\n",
      " '2275.2478569' '2290' '2308' '2312' '232.096824' '2331.0' '2334.8680022'\n",
      " '235' '2356' '239.0' '23924' '24.7573239507' '2408' '245' '246.798141785'\n",
      " '25' '25.0' '25.1320575' '250' '253' '255.0' '25651.99' '2571.31' '258'\n",
      " '26' '260' '2628.33836955' '2630' '2632' '2634' '266' '2675.76865561'\n",
      " '270' '2718' '272.19914123' '2721' '27353.96257545' '2742' '2759'\n",
      " '27660.0' '278' '2845' '2867' '290' '290.0' '290.7521442' '2920.0614495'\n",
      " '2927.0' '3.39594898' '30.0' '300.0' '301.0' '3035' '3036' '3041' '306'\n",
      " '3065.7' '3075' '31.0' '310' '312' '3141.0' '316' '31657' '31813' '3185'\n",
      " '3186.06238752' '320' '321.629504' '325' '325.0' '3285.11' '3288.0'\n",
      " '33.06' '331' '3363' '343.0' '345.0' '3490' '3495' '35' '35.0' '3501'\n",
      " '352' '357.66549924' '35723.0' '36.0' '360.0' '3605.13' '365'\n",
      " '3657.9864981' '3660' '3671' '37' '37.575508' '3711' '38.0' '381.0' '384'\n",
      " '3861.84447014' '39' '390.0' '3925.31746992' '396' '3972.85569552' '3984'\n",
      " '40' '41.0' '410.0' '4150' '416.29712868' '42.54581815' '422.38'\n",
      " '43.78442359' '43297.0' '433' '4354.0' '4367' '44.7846084'\n",
      " '44086.573986575' '4415' '4417.0' '4451' '4488.01' '45' '450' '4507'\n",
      " '451.0' '4522.4911842' '46' '4623.64996248' '46653' '4667.95649224'\n",
      " '4685' '4690' '475.0' '477' '485.0' '490' '497.0' '498.0' '4986.41798748'\n",
      " '5' '50' '50.0' '500' '504.0' '504.94765278' '505' '506.0' '51.85550699'\n",
      " '516.0' '52.859869999999994' '525' '5275.01' '53.2932162' '5303.55506508'\n",
      " '533' '535' '5425.64' '545' '55' '55.0' '5556.0' '560' '5600.65' '5621'\n",
      " '5656.43' '566.57479307' '5661' '57.9682386' '5746.54531605' '575' '5797'\n",
      " '5831' '59.67259632' '590' '5940' '6' '6.0' '6091' '61' '6126'\n",
      " '6136.677064' '615' '6189.0' '6207' '621' '625.0' '63' '630' '640'\n",
      " '640.0' '641.0' '6430' '6442.0' '6453.0' '65' '65.0' '650'\n",
      " '6507.05253517' '660.41728284' '687' '692' '6972.6' '6983.18' '7'\n",
      " '7.9006665' '70' '700' '708.0265863' '710.0' '7253.01' '7281.1' '7326.46'\n",
      " '741.0' '7492.0' '75' '7554' '7562' '763.0' '765' '766.15413078' '7703'\n",
      " '7839.0' '791.0' '797' '8' '8.26779725' '8.5104355' '80' '80.64516148'\n",
      " '800' '8040' '8047' '8084.0' '81.0' '811.82238635' '8157' '82' '8253'\n",
      " '8260' '829.35326358' '829.92373' '83.40854' '8402.8257573' '846.0' '85'\n",
      " '85.0' '850' '8542' '856' '86.0' '86.58412790000001' '860.0' '8609.6'\n",
      " '876' '890.0' '90' '900' '907.72276745' '9187.0' '921.75342092' '9210.69'\n",
      " '936.0' '938.0' '9430.8' '9444.43338774' '95' '950' '97' '9748'\n",
      " '9756.1852626624' '9857.8' '9951.0' 'GB' 'US' 'failed' 'nan']\n",
      "b:\n",
      "\n",
      "['0.0' '1' '128534.58772366401' '20.0' '26.0' '401.0' '435.0' 'US' 'nan']\n",
      "c:\n",
      "\n",
      "['0' '0.0' '9854.0' 'US' 'nan']\n",
      "d:\n",
      "\n",
      "['25.0' 'nan']\n"
     ]
    }
   ],
   "source": [
    "# Display unique values in each previously unnamed column\n",
    "for i in ['a','b','c','d']:\n",
    "    print (i+':\\n')\n",
    "    print (np.unique(data_2016[i].astype(str)))"
   ]
  },
  {
   "cell_type": "markdown",
   "metadata": {},
   "source": [
    "**Looking at their values and the portion of data displayed above, the additional unknown columns seem to represent rows where values have been misplaced. since we have a considerable number of misplaced rows that can help us in subsequent phases of this project, let's look at these rows and see if they can be put back in place:**"
   ]
  },
  {
   "cell_type": "code",
   "execution_count": 8,
   "metadata": {},
   "outputs": [
    {
     "data": {
      "text/html": [
       "<div>\n",
       "<style scoped>\n",
       "    .dataframe tbody tr th:only-of-type {\n",
       "        vertical-align: middle;\n",
       "    }\n",
       "\n",
       "    .dataframe tbody tr th {\n",
       "        vertical-align: top;\n",
       "    }\n",
       "\n",
       "    .dataframe thead th {\n",
       "        text-align: right;\n",
       "    }\n",
       "</style>\n",
       "<table border=\"1\" class=\"dataframe\">\n",
       "  <thead>\n",
       "    <tr style=\"text-align: right;\">\n",
       "      <th></th>\n",
       "      <th>ID</th>\n",
       "      <th>name</th>\n",
       "      <th>category</th>\n",
       "      <th>main_category</th>\n",
       "      <th>currency</th>\n",
       "      <th>deadline</th>\n",
       "      <th>goal</th>\n",
       "      <th>launched</th>\n",
       "      <th>pledged</th>\n",
       "      <th>state</th>\n",
       "      <th>backers</th>\n",
       "      <th>country</th>\n",
       "      <th>usd pledged</th>\n",
       "      <th>a</th>\n",
       "      <th>b</th>\n",
       "      <th>c</th>\n",
       "      <th>d</th>\n",
       "    </tr>\n",
       "  </thead>\n",
       "  <tbody>\n",
       "    <tr>\n",
       "      <th>1454</th>\n",
       "      <td>1008705746</td>\n",
       "      <td>Zephyra´s new full length</td>\n",
       "      <td>'As The World Collapses'</td>\n",
       "      <td>Metal</td>\n",
       "      <td>Music</td>\n",
       "      <td>SEK</td>\n",
       "      <td>2016-02-02 00:56:46</td>\n",
       "      <td>15000</td>\n",
       "      <td>2016-01-03 00:56:46</td>\n",
       "      <td>4262</td>\n",
       "      <td>failed</td>\n",
       "      <td>14</td>\n",
       "      <td>SE</td>\n",
       "      <td>504.94765278</td>\n",
       "      <td>NaN</td>\n",
       "      <td>NaN</td>\n",
       "      <td>NaN</td>\n",
       "    </tr>\n",
       "    <tr>\n",
       "      <th>1563</th>\n",
       "      <td>1009317190</td>\n",
       "      <td>French Cuisine</td>\n",
       "      <td>A Traditional Experience</td>\n",
       "      <td>Cookbooks</td>\n",
       "      <td>Food</td>\n",
       "      <td>USD</td>\n",
       "      <td>2014-09-08 00:46:23</td>\n",
       "      <td>13730</td>\n",
       "      <td>2014-08-09 03:16:02</td>\n",
       "      <td>3984</td>\n",
       "      <td>failed</td>\n",
       "      <td>46</td>\n",
       "      <td>US</td>\n",
       "      <td>3984</td>\n",
       "      <td>NaN</td>\n",
       "      <td>NaN</td>\n",
       "      <td>NaN</td>\n",
       "    </tr>\n",
       "    <tr>\n",
       "      <th>1794</th>\n",
       "      <td>1010871699</td>\n",
       "      <td>The Beginners Guide to being Unsuicidal</td>\n",
       "      <td>the one act</td>\n",
       "      <td>Theater</td>\n",
       "      <td>Theater</td>\n",
       "      <td>USD</td>\n",
       "      <td>2011-12-31 23:25:46</td>\n",
       "      <td>5000</td>\n",
       "      <td>2011-11-21 23:25:46</td>\n",
       "      <td>525</td>\n",
       "      <td>failed</td>\n",
       "      <td>10</td>\n",
       "      <td>US</td>\n",
       "      <td>525</td>\n",
       "      <td>NaN</td>\n",
       "      <td>NaN</td>\n",
       "      <td>NaN</td>\n",
       "    </tr>\n",
       "    <tr>\n",
       "      <th>1931</th>\n",
       "      <td>1011687764</td>\n",
       "      <td>Best OnLine Classifieds</td>\n",
       "      <td>Ever / No More Spam</td>\n",
       "      <td>Web</td>\n",
       "      <td>Technology</td>\n",
       "      <td>USD</td>\n",
       "      <td>2014-09-20 19:56:10</td>\n",
       "      <td>6300</td>\n",
       "      <td>2014-08-21 19:56:10</td>\n",
       "      <td>0</td>\n",
       "      <td>failed</td>\n",
       "      <td>0</td>\n",
       "      <td>US</td>\n",
       "      <td>0</td>\n",
       "      <td>NaN</td>\n",
       "      <td>NaN</td>\n",
       "      <td>NaN</td>\n",
       "    </tr>\n",
       "    <tr>\n",
       "      <th>2420</th>\n",
       "      <td>101453314</td>\n",
       "      <td>Social Media Ruined My Life</td>\n",
       "      <td>A Short Film from Adam S Curtis</td>\n",
       "      <td>Shorts</td>\n",
       "      <td>Film &amp; Video</td>\n",
       "      <td>USD</td>\n",
       "      <td>2013-03-14 20:11:57</td>\n",
       "      <td>3000</td>\n",
       "      <td>2013-02-25 21:11:57</td>\n",
       "      <td>3035</td>\n",
       "      <td>successful</td>\n",
       "      <td>42</td>\n",
       "      <td>US</td>\n",
       "      <td>3035</td>\n",
       "      <td>NaN</td>\n",
       "      <td>NaN</td>\n",
       "      <td>NaN</td>\n",
       "    </tr>\n",
       "  </tbody>\n",
       "</table>\n",
       "</div>"
      ],
      "text/plain": [
       "             ID                                     name   \\\n",
       "1454  1008705746                Zephyra´s new full length   \n",
       "1563  1009317190                           French Cuisine   \n",
       "1794  1010871699  The Beginners Guide to being Unsuicidal   \n",
       "1931  1011687764                  Best OnLine Classifieds   \n",
       "2420   101453314              Social Media Ruined My Life   \n",
       "\n",
       "                             category  main_category      currency  deadline   \\\n",
       "1454          'As The World Collapses'          Metal         Music       SEK   \n",
       "1563          A Traditional Experience      Cookbooks          Food       USD   \n",
       "1794                       the one act        Theater       Theater       USD   \n",
       "1931               Ever / No More Spam            Web    Technology       USD   \n",
       "2420   A Short Film from Adam S Curtis         Shorts  Film & Video       USD   \n",
       "\n",
       "                    goal  launched              pledged  state     backers   \\\n",
       "1454  2016-02-02 00:56:46     15000  2016-01-03 00:56:46   4262      failed   \n",
       "1563  2014-09-08 00:46:23     13730  2014-08-09 03:16:02   3984      failed   \n",
       "1794  2011-12-31 23:25:46      5000  2011-11-21 23:25:46    525      failed   \n",
       "1931  2014-09-20 19:56:10      6300  2014-08-21 19:56:10      0      failed   \n",
       "2420  2013-03-14 20:11:57      3000  2013-02-25 21:11:57   3035  successful   \n",
       "\n",
       "     country  usd pledged              a    b    c   d  \n",
       "1454       14           SE  504.94765278  NaN  NaN NaN  \n",
       "1563       46           US          3984  NaN  NaN NaN  \n",
       "1794       10           US           525  NaN  NaN NaN  \n",
       "1931        0           US             0  NaN  NaN NaN  \n",
       "2420       42           US          3035  NaN  NaN NaN  "
      ]
     },
     "execution_count": 8,
     "metadata": {},
     "output_type": "execute_result"
    }
   ],
   "source": [
    "# Show the part of dataframe where column a has no empty values\n",
    "data_2016[~data_2016['a'].isnull()].head()"
   ]
  },
  {
   "cell_type": "markdown",
   "metadata": {},
   "source": [
    "**The first thing we notice is that all original column names have trailing whitespaces, which will be removed. The problem seems to be that some projects have secondary titles, which were carried over to the category column, causing a rightward shift in subsequent values for each observation.**\n",
    "\n",
    "**We have 625 rows of misplaced data. The good thing is that the data is uniformly misplaced, meaning we can correct all of them in one block of code. Rows that have shifted further with values in columns b, c, or d, will be removed:**"
   ]
  },
  {
   "cell_type": "code",
   "execution_count": 9,
   "metadata": {},
   "outputs": [],
   "source": [
    "# Remove whitespace from column names\n",
    "data_2016.columns = data_2016.columns.str.strip()"
   ]
  },
  {
   "cell_type": "code",
   "execution_count": 10,
   "metadata": {},
   "outputs": [],
   "source": [
    "# Put misplaced rows back in place\n",
    "for index in data_2016[~data_2016['a'].isnull()].index:\n",
    "    \n",
    "    # Add secondary title to value in name column\n",
    "    data_2016.at[index, 'name'] = str(data_2016.at[index, 'name']) + str(data_2016.at[index, 'category'])\n",
    "    \n",
    "    # Shift values in subsequent columns to the left\n",
    "    for i in range(1,14):\n",
    "        if i == 13:\n",
    "            break\n",
    "        data_2016.at[index, data_2016.columns[i]] = data_2016.at[index, data_2016.columns[i+1]]"
   ]
  },
  {
   "cell_type": "markdown",
   "metadata": {},
   "source": [
    "**Let's take a look at what we have left:**"
   ]
  },
  {
   "cell_type": "code",
   "execution_count": 11,
   "metadata": {},
   "outputs": [
    {
     "data": {
      "text/html": [
       "<div>\n",
       "<style scoped>\n",
       "    .dataframe tbody tr th:only-of-type {\n",
       "        vertical-align: middle;\n",
       "    }\n",
       "\n",
       "    .dataframe tbody tr th {\n",
       "        vertical-align: top;\n",
       "    }\n",
       "\n",
       "    .dataframe thead th {\n",
       "        text-align: right;\n",
       "    }\n",
       "</style>\n",
       "<table border=\"1\" class=\"dataframe\">\n",
       "  <thead>\n",
       "    <tr style=\"text-align: right;\">\n",
       "      <th></th>\n",
       "      <th>ID</th>\n",
       "      <th>name</th>\n",
       "      <th>category</th>\n",
       "      <th>main_category</th>\n",
       "      <th>currency</th>\n",
       "      <th>deadline</th>\n",
       "      <th>goal</th>\n",
       "      <th>launched</th>\n",
       "      <th>pledged</th>\n",
       "      <th>state</th>\n",
       "      <th>backers</th>\n",
       "      <th>country</th>\n",
       "      <th>usd pledged</th>\n",
       "      <th>a</th>\n",
       "      <th>b</th>\n",
       "      <th>c</th>\n",
       "      <th>d</th>\n",
       "    </tr>\n",
       "  </thead>\n",
       "  <tbody>\n",
       "    <tr>\n",
       "      <th>1454</th>\n",
       "      <td>1008705746</td>\n",
       "      <td>'As The World Collapses'</td>\n",
       "      <td>Metal</td>\n",
       "      <td>Music</td>\n",
       "      <td>SEK</td>\n",
       "      <td>2016-02-02 00:56:46</td>\n",
       "      <td>15000</td>\n",
       "      <td>2016-01-03 00:56:46</td>\n",
       "      <td>4262</td>\n",
       "      <td>failed</td>\n",
       "      <td>14</td>\n",
       "      <td>SE</td>\n",
       "      <td>504.94765278</td>\n",
       "      <td>504.94765278</td>\n",
       "      <td>NaN</td>\n",
       "      <td>NaN</td>\n",
       "      <td>NaN</td>\n",
       "    </tr>\n",
       "    <tr>\n",
       "      <th>1563</th>\n",
       "      <td>1009317190</td>\n",
       "      <td>A Traditional Experience</td>\n",
       "      <td>Cookbooks</td>\n",
       "      <td>Food</td>\n",
       "      <td>USD</td>\n",
       "      <td>2014-09-08 00:46:23</td>\n",
       "      <td>13730</td>\n",
       "      <td>2014-08-09 03:16:02</td>\n",
       "      <td>3984</td>\n",
       "      <td>failed</td>\n",
       "      <td>46</td>\n",
       "      <td>US</td>\n",
       "      <td>3984</td>\n",
       "      <td>3984</td>\n",
       "      <td>NaN</td>\n",
       "      <td>NaN</td>\n",
       "      <td>NaN</td>\n",
       "    </tr>\n",
       "    <tr>\n",
       "      <th>1794</th>\n",
       "      <td>1010871699</td>\n",
       "      <td>the one act</td>\n",
       "      <td>Theater</td>\n",
       "      <td>Theater</td>\n",
       "      <td>USD</td>\n",
       "      <td>2011-12-31 23:25:46</td>\n",
       "      <td>5000</td>\n",
       "      <td>2011-11-21 23:25:46</td>\n",
       "      <td>525</td>\n",
       "      <td>failed</td>\n",
       "      <td>10</td>\n",
       "      <td>US</td>\n",
       "      <td>525</td>\n",
       "      <td>525</td>\n",
       "      <td>NaN</td>\n",
       "      <td>NaN</td>\n",
       "      <td>NaN</td>\n",
       "    </tr>\n",
       "    <tr>\n",
       "      <th>1931</th>\n",
       "      <td>1011687764</td>\n",
       "      <td>Ever / No More Spam</td>\n",
       "      <td>Web</td>\n",
       "      <td>Technology</td>\n",
       "      <td>USD</td>\n",
       "      <td>2014-09-20 19:56:10</td>\n",
       "      <td>6300</td>\n",
       "      <td>2014-08-21 19:56:10</td>\n",
       "      <td>0</td>\n",
       "      <td>failed</td>\n",
       "      <td>0</td>\n",
       "      <td>US</td>\n",
       "      <td>0</td>\n",
       "      <td>0</td>\n",
       "      <td>NaN</td>\n",
       "      <td>NaN</td>\n",
       "      <td>NaN</td>\n",
       "    </tr>\n",
       "    <tr>\n",
       "      <th>2420</th>\n",
       "      <td>101453314</td>\n",
       "      <td>A Short Film from Adam S Curtis</td>\n",
       "      <td>Shorts</td>\n",
       "      <td>Film &amp; Video</td>\n",
       "      <td>USD</td>\n",
       "      <td>2013-03-14 20:11:57</td>\n",
       "      <td>3000</td>\n",
       "      <td>2013-02-25 21:11:57</td>\n",
       "      <td>3035</td>\n",
       "      <td>successful</td>\n",
       "      <td>42</td>\n",
       "      <td>US</td>\n",
       "      <td>3035</td>\n",
       "      <td>3035</td>\n",
       "      <td>NaN</td>\n",
       "      <td>NaN</td>\n",
       "      <td>NaN</td>\n",
       "    </tr>\n",
       "  </tbody>\n",
       "</table>\n",
       "</div>"
      ],
      "text/plain": [
       "              ID                              name   category main_category  \\\n",
       "1454  1008705746          'As The World Collapses'      Metal         Music   \n",
       "1563  1009317190          A Traditional Experience  Cookbooks          Food   \n",
       "1794  1010871699                       the one act    Theater       Theater   \n",
       "1931  1011687764               Ever / No More Spam        Web    Technology   \n",
       "2420   101453314   A Short Film from Adam S Curtis     Shorts  Film & Video   \n",
       "\n",
       "     currency             deadline   goal             launched pledged  \\\n",
       "1454      SEK  2016-02-02 00:56:46  15000  2016-01-03 00:56:46    4262   \n",
       "1563      USD  2014-09-08 00:46:23  13730  2014-08-09 03:16:02    3984   \n",
       "1794      USD  2011-12-31 23:25:46   5000  2011-11-21 23:25:46     525   \n",
       "1931      USD  2014-09-20 19:56:10   6300  2014-08-21 19:56:10       0   \n",
       "2420      USD  2013-03-14 20:11:57   3000  2013-02-25 21:11:57    3035   \n",
       "\n",
       "           state backers country   usd pledged             a    b    c   d  \n",
       "1454      failed      14      SE  504.94765278  504.94765278  NaN  NaN NaN  \n",
       "1563      failed      46      US          3984          3984  NaN  NaN NaN  \n",
       "1794      failed      10      US           525           525  NaN  NaN NaN  \n",
       "1931      failed       0      US             0             0  NaN  NaN NaN  \n",
       "2420  successful      42      US          3035          3035  NaN  NaN NaN  "
      ]
     },
     "execution_count": 11,
     "metadata": {},
     "output_type": "execute_result"
    }
   ],
   "source": [
    "data_2016[~data_2016['a'].isnull()].head()"
   ]
  },
  {
   "cell_type": "markdown",
   "metadata": {},
   "source": [
    "**Row values are back in place and we are ready to proceed.**"
   ]
  },
  {
   "cell_type": "code",
   "execution_count": 12,
   "metadata": {},
   "outputs": [],
   "source": [
    "# Remove corrupt rows, in addition to columns a, b, c, and d:\n",
    "# For the index arg, we got indexes of rows that are not null in column b\n",
    "\n",
    "data_2016.drop(index=data_2016[~data_2016['b'].isnull()].index.to_list(),columns=['a','b','c','d'], inplace=True)\n",
    "\n",
    "# Drop some more misplaced rows\n",
    "data_2016.drop(index=data_2016[data_2016['country']=='0'].index.to_list(), inplace=True)"
   ]
  },
  {
   "cell_type": "code",
   "execution_count": 13,
   "metadata": {},
   "outputs": [
    {
     "name": "stdout",
     "output_type": "stream",
     "text": [
      "Missing Values:\n"
     ]
    },
    {
     "data": {
      "text/plain": [
       "ID                  0\n",
       "name                9\n",
       "category            0\n",
       "main_category       0\n",
       "currency            0\n",
       "deadline            0\n",
       "goal                0\n",
       "launched            0\n",
       "pledged             0\n",
       "state               0\n",
       "backers             0\n",
       "country             0\n",
       "usd pledged      3790\n",
       "dtype: int64"
      ]
     },
     "execution_count": 13,
     "metadata": {},
     "output_type": "execute_result"
    }
   ],
   "source": [
    "# Missing values\n",
    "print('Missing Values:')\n",
    "data_2016.isnull().sum()"
   ]
  },
  {
   "cell_type": "markdown",
   "metadata": {},
   "source": [
    "**We only have considerable missing values in the usd pledged column, which should ultimately contain the same amount in the pledged column converted to USD, the names column is not expected to be within the features. Let's look at the pledges regardless of currency and see how it currently looks:**"
   ]
  },
  {
   "cell_type": "code",
   "execution_count": 14,
   "metadata": {},
   "outputs": [],
   "source": [
    "# Assert float data type for the pledged column\n",
    "data_2016['pledged'] = data_2016['pledged'].astype(float)\n",
    "\n",
    "# Assert integer data type for the backers column\n",
    "data_2016['backers'] = data_2016['backers'].astype(int)"
   ]
  },
  {
   "cell_type": "code",
   "execution_count": 15,
   "metadata": {},
   "outputs": [
    {
     "data": {
      "image/png": "[encoded data removed]",
      "text/plain": [
       "<Figure size 1080x720 with 1 Axes>"
      ]
     },
     "metadata": {
      "needs_background": "light"
     },
     "output_type": "display_data"
    }
   ],
   "source": [
    "# Plot the pledged column\n",
    "data_2016['pledged'].plot(figsize=(15,10))\n",
    "plt.title('Distribution of Total Pledged Amounts Per Kickstarter Project (Different Currencies)')\n",
    "plt.xlabel('Amount')\n",
    "plt.ylabel('Projects')\n",
    "plt.show()"
   ]
  },
  {
   "cell_type": "code",
   "execution_count": 16,
   "metadata": {},
   "outputs": [
    {
     "data": {
      "text/html": [
       "<div>\n",
       "<style scoped>\n",
       "    .dataframe tbody tr th:only-of-type {\n",
       "        vertical-align: middle;\n",
       "    }\n",
       "\n",
       "    .dataframe tbody tr th {\n",
       "        vertical-align: top;\n",
       "    }\n",
       "\n",
       "    .dataframe thead th {\n",
       "        text-align: right;\n",
       "    }\n",
       "</style>\n",
       "<table border=\"1\" class=\"dataframe\">\n",
       "  <thead>\n",
       "    <tr style=\"text-align: right;\">\n",
       "      <th></th>\n",
       "      <th>ID</th>\n",
       "      <th>name</th>\n",
       "      <th>category</th>\n",
       "      <th>main_category</th>\n",
       "      <th>currency</th>\n",
       "      <th>deadline</th>\n",
       "      <th>goal</th>\n",
       "      <th>launched</th>\n",
       "      <th>pledged</th>\n",
       "      <th>state</th>\n",
       "      <th>backers</th>\n",
       "      <th>country</th>\n",
       "      <th>usd pledged</th>\n",
       "    </tr>\n",
       "  </thead>\n",
       "  <tbody>\n",
       "    <tr>\n",
       "      <th>150</th>\n",
       "      <td>1000694855</td>\n",
       "      <td>STREETFIGHTERZ WHEELIE MURICA</td>\n",
       "      <td>Film &amp; Video</td>\n",
       "      <td>Film &amp; Video</td>\n",
       "      <td>USD</td>\n",
       "      <td>2014-09-20 06:59:00</td>\n",
       "      <td>6500</td>\n",
       "      <td>2014-08-06 21:28:36</td>\n",
       "      <td>555.00</td>\n",
       "      <td>undefined</td>\n",
       "      <td>0</td>\n",
       "      <td>N,\"0</td>\n",
       "      <td>NaN</td>\n",
       "    </tr>\n",
       "    <tr>\n",
       "      <th>287</th>\n",
       "      <td>100149523</td>\n",
       "      <td>Duncan Woods - Chameleon EP</td>\n",
       "      <td>Music</td>\n",
       "      <td>Music</td>\n",
       "      <td>AUD</td>\n",
       "      <td>2015-08-25 23:00:00</td>\n",
       "      <td>4500</td>\n",
       "      <td>2015-08-04 12:05:17</td>\n",
       "      <td>4767.00</td>\n",
       "      <td>undefined</td>\n",
       "      <td>0</td>\n",
       "      <td>N,\"0</td>\n",
       "      <td>NaN</td>\n",
       "    </tr>\n",
       "    <tr>\n",
       "      <th>549</th>\n",
       "      <td>1003023003</td>\n",
       "      <td>The Making of Ashley Kelley's Debut Album</td>\n",
       "      <td>Music</td>\n",
       "      <td>Music</td>\n",
       "      <td>USD</td>\n",
       "      <td>2015-04-09 21:06:13</td>\n",
       "      <td>3500</td>\n",
       "      <td>2015-03-10 20:06:13</td>\n",
       "      <td>3576.00</td>\n",
       "      <td>undefined</td>\n",
       "      <td>0</td>\n",
       "      <td>N,\"0</td>\n",
       "      <td>NaN</td>\n",
       "    </tr>\n",
       "    <tr>\n",
       "      <th>561</th>\n",
       "      <td>1003130892</td>\n",
       "      <td>Butter Side Down Debut Album</td>\n",
       "      <td>Music</td>\n",
       "      <td>Music</td>\n",
       "      <td>USD</td>\n",
       "      <td>2015-11-26 10:59:00</td>\n",
       "      <td>6000</td>\n",
       "      <td>2015-11-02 22:09:19</td>\n",
       "      <td>7007.80</td>\n",
       "      <td>undefined</td>\n",
       "      <td>0</td>\n",
       "      <td>N,\"0</td>\n",
       "      <td>NaN</td>\n",
       "    </tr>\n",
       "    <tr>\n",
       "      <th>650</th>\n",
       "      <td>1003629045</td>\n",
       "      <td>Chase Goehring debut EP</td>\n",
       "      <td>Music</td>\n",
       "      <td>Music</td>\n",
       "      <td>USD</td>\n",
       "      <td>2016-03-21 06:00:00</td>\n",
       "      <td>3000</td>\n",
       "      <td>2016-02-23 03:09:49</td>\n",
       "      <td>3660.38</td>\n",
       "      <td>undefined</td>\n",
       "      <td>0</td>\n",
       "      <td>N,\"0</td>\n",
       "      <td>NaN</td>\n",
       "    </tr>\n",
       "  </tbody>\n",
       "</table>\n",
       "</div>"
      ],
      "text/plain": [
       "             ID                                       name      category  \\\n",
       "150  1000694855              STREETFIGHTERZ WHEELIE MURICA  Film & Video   \n",
       "287   100149523                Duncan Woods - Chameleon EP         Music   \n",
       "549  1003023003  The Making of Ashley Kelley's Debut Album         Music   \n",
       "561  1003130892               Butter Side Down Debut Album         Music   \n",
       "650  1003629045                    Chase Goehring debut EP         Music   \n",
       "\n",
       "    main_category currency             deadline  goal             launched  \\\n",
       "150  Film & Video      USD  2014-09-20 06:59:00  6500  2014-08-06 21:28:36   \n",
       "287         Music      AUD  2015-08-25 23:00:00  4500  2015-08-04 12:05:17   \n",
       "549         Music      USD  2015-04-09 21:06:13  3500  2015-03-10 20:06:13   \n",
       "561         Music      USD  2015-11-26 10:59:00  6000  2015-11-02 22:09:19   \n",
       "650         Music      USD  2016-03-21 06:00:00  3000  2016-02-23 03:09:49   \n",
       "\n",
       "     pledged      state  backers country usd pledged  \n",
       "150   555.00  undefined        0    N,\"0         NaN  \n",
       "287  4767.00  undefined        0    N,\"0         NaN  \n",
       "549  3576.00  undefined        0    N,\"0         NaN  \n",
       "561  7007.80  undefined        0    N,\"0         NaN  \n",
       "650  3660.38  undefined        0    N,\"0         NaN  "
      ]
     },
     "execution_count": 16,
     "metadata": {},
     "output_type": "execute_result"
    }
   ],
   "source": [
    "# For the usd pledged column, how do rows look like when values are null?\n",
    "data_2016[data_2016['usd pledged'].isnull()].head()"
   ]
  },
  {
   "cell_type": "markdown",
   "metadata": {},
   "source": [
    "The usd pledged column is nothing but the same value in the pledged column, only converted to USD. After using the different currencies we have to predict missing values in the country column (which do not show in the isnull().sum() call above), we will then convert all currencies to USD based on their launch date and will get rid of a few columns in the process:"
   ]
  },
  {
   "cell_type": "code",
   "execution_count": 17,
   "metadata": {},
   "outputs": [
    {
     "data": {
      "text/plain": [
       "<matplotlib.axes._subplots.AxesSubplot at 0x7fbeabae2750>"
      ]
     },
     "execution_count": 17,
     "metadata": {},
     "output_type": "execute_result"
    },
    {
     "data": {
      "image/png": "[encoded data removed]",
      "text/plain": [
       "<Figure size 1080x720 with 1 Axes>"
      ]
     },
     "metadata": {
      "needs_background": "light"
     },
     "output_type": "display_data"
    }
   ],
   "source": [
    "# Get value count of unique values in the state column\n",
    "data_2016['state'].value_counts().plot(kind='bar',figsize=(15,10))"
   ]
  },
  {
   "cell_type": "code",
   "execution_count": 18,
   "metadata": {},
   "outputs": [
    {
     "data": {
      "text/plain": [
       "state\n",
       "live             1\n",
       "suspended        2\n",
       "canceled        22\n",
       "failed         105\n",
       "successful     105\n",
       "undefined     3555\n",
       "Name: usd pledged, dtype: int64"
      ]
     },
     "execution_count": 18,
     "metadata": {},
     "output_type": "execute_result"
    }
   ],
   "source": [
    "# Show us a simplified count of each state where usd pledged is null\n",
    "data_2016['usd pledged'].isnull().groupby([data_2016['state']]).sum().astype(int).sort_values()"
   ]
  },
  {
   "cell_type": "markdown",
   "metadata": {},
   "source": [
    "**Not all of these projects are failures. Since we have a significant portion of the data with missing data here, we can try to fill up as much as we can:**\n",
    "\n",
    "- For the country column, we can use fill them in according to the corresponding value in the currency column.\n",
    "\n",
    "\n",
    "- Projects that are canceled or suspended can also be labeled as failed. Since our goal here to predict whether a project will go through or not, we do not really care whether it was canceled or suspended as long as it will not succeed. Also, projects that are live can be labeled as successful.\n",
    "\n",
    "\n",
    "- Projects with states that are undefined will be inspected closely before I make a decision on replacing their status.\n",
    "\n",
    "\n",
    "**Let's take a look at countries and currencies used, because the case may be that someone in a country uses another country's currency:**"
   ]
  },
  {
   "cell_type": "code",
   "execution_count": 19,
   "metadata": {},
   "outputs": [
    {
     "data": {
      "text/plain": [
       "currency\n",
       "HKD        97\n",
       "SGD       120\n",
       "MXN       214\n",
       "CHF       478\n",
       "NOK       540\n",
       "DKK       841\n",
       "NZD      1165\n",
       "SEK      1302\n",
       "AUD      6362\n",
       "EUR     11567\n",
       "CAD     12213\n",
       "GBP     28031\n",
       "USD    260801\n",
       "Name: country, dtype: int64"
      ]
     },
     "execution_count": 19,
     "metadata": {},
     "output_type": "execute_result"
    }
   ],
   "source": [
    "data_2016.groupby('currency')['country'].count().sort_values()"
   ]
  },
  {
   "cell_type": "code",
   "execution_count": 20,
   "metadata": {},
   "outputs": [
    {
     "data": {
      "text/plain": [
       "LU          40\n",
       "HK          97\n",
       "SG         120\n",
       "MX         214\n",
       "AT         377\n",
       "BE         402\n",
       "CH         471\n",
       "NO         526\n",
       "IE         576\n",
       "DK         825\n",
       "NZ        1137\n",
       "SE        1271\n",
       "ES        1373\n",
       "IT        1751\n",
       "FR        1912\n",
       "NL        2265\n",
       "DE        2685\n",
       "N,\"0      3790\n",
       "AU        6251\n",
       "CA       12008\n",
       "GB       27572\n",
       "US      258068\n",
       "Name: country, dtype: int64"
      ]
     },
     "execution_count": 20,
     "metadata": {},
     "output_type": "execute_result"
    }
   ],
   "source": [
    "data_2016['country'].value_counts().sort_values()"
   ]
  },
  {
   "cell_type": "code",
   "execution_count": 21,
   "metadata": {},
   "outputs": [],
   "source": [
    "# Weights for European countries\n",
    "weights = data_2016[data_2016['country']!= 'N,\"0']\n",
    "weights = weights[weights['currency']=='EUR']['country']\n",
    "weights = weights.value_counts(normalize=True)\n",
    "\n",
    "\n",
    "cntry_x_curr = {}\n",
    "\n",
    "for curr in np.unique(data_2016['currency']):\n",
    "    \n",
    "    # slice df containing it\n",
    "    temp_df = data_2016[data_2016['currency']==curr]\n",
    "    \n",
    "    # get unique vals of country, convert to list\n",
    "    countries = list(np.unique(temp_df['country']))\n",
    "    \n",
    "    # remove N,\"0 from list\n",
    "    if 'N,\"0' in countries:\n",
    "        countries.remove('N,\"0')\n",
    "    \n",
    "    # Set currency as key, countries as value in the dictionary\n",
    "    cntry_x_curr[curr] = countries\n",
    "\n",
    "\n",
    "# Loop over rows of N,\"0, fill values according to dict\n",
    "for index in data_2016[data_2016['country']=='N,\"0'].index:\n",
    "    \n",
    "    # if Euro, select a country randomly\n",
    "    if data_2016.at[index, 'currency'] == 'EUR':\n",
    "        data_2016.at[index, 'country'] = random.choices(cntry_x_curr['EUR'], weights=weights)\n",
    "        continue\n",
    "        \n",
    "    # fill country with corresponding currency value\n",
    "    data_2016.at[index, 'country'] = cntry_x_curr[data_2016.at[index, 'currency']]"
   ]
  },
  {
   "cell_type": "markdown",
   "metadata": {},
   "source": [
    "**Now that we have filled in values for the country column, let's move on to replacing undefined values for the state column:**"
   ]
  },
  {
   "cell_type": "code",
   "execution_count": 22,
   "metadata": {},
   "outputs": [
    {
     "name": "stdout",
     "output_type": "stream",
     "text": [
      "We are left with 3555 undefined rows.\n"
     ]
    }
   ],
   "source": [
    "bin_dict = {'canceled':'failed','failed':'failed', 'live':'successful','successful':'successful','suspended':'failed'}\n",
    "# Loop over rows of state and 'binarize' values\n",
    "for index in data_2016.index:\n",
    "    if data_2016.at[index, 'state'] != 'undefined':\n",
    "        data_2016.at[index, 'state'] = bin_dict[data_2016.at[index, 'state']]\n",
    "print('We are left with {} undefined rows.'.format(len(data_2016[data_2016['state']=='undefined'])))"
   ]
  },
  {
   "cell_type": "markdown",
   "metadata": {},
   "source": [
    "**Let's take a look at projects that failed and see whether we can set a threshold for the amount collected as a percentage of the goal amount:**"
   ]
  },
  {
   "cell_type": "code",
   "execution_count": 23,
   "metadata": {},
   "outputs": [
    {
     "name": "stdout",
     "output_type": "stream",
     "text": [
      "99th Percentile for failed projects: \n",
      "0.7516666666666667\n",
      "\n",
      "\n",
      "Failed projects quick stats:\n",
      "count    202492.000000\n",
      "mean          0.315816\n",
      "std          48.613609\n",
      "min           0.000000\n",
      "25%           0.000133\n",
      "50%           0.015696\n",
      "75%           0.108333\n",
      "max       16949.000000\n",
      "Name: raised, dtype: float64\n"
     ]
    }
   ],
   "source": [
    "# Assert data types\n",
    "data_2016['pledged'] = data_2016['pledged'].astype(float)\n",
    "data_2016['goal'] = data_2016['goal'].astype(float)\n",
    "\n",
    "# Slice a dataframe to contain only failed projects\n",
    "fail_df = data_2016[data_2016['state']=='failed']\n",
    "\n",
    "# Add a column containing percentage of raised funding called \"raised\"\n",
    "fail_df['raised'] = fail_df['pledged']/fail_df['goal']\n",
    "\n",
    "#print the 99th percentile for the raised column\n",
    "print('99th Percentile for failed projects: ')\n",
    "print(fail_df['raised'].quantile(q=0.99))\n",
    "print('\\n')\n",
    "print('Failed projects quick stats:')\n",
    "print(fail_df['raised'].describe())"
   ]
  },
  {
   "cell_type": "code",
   "execution_count": 24,
   "metadata": {},
   "outputs": [
    {
     "name": "stdout",
     "output_type": "stream",
     "text": [
      "99th Percentile for successful projects: \n",
      "22.516186636666667\n",
      "\n",
      "\n",
      "Successful projects quick stats:\n",
      "count    117684.000000\n",
      "mean          8.268055\n",
      "std         446.310991\n",
      "min           0.000000\n",
      "25%           1.037500\n",
      "50%           1.144444\n",
      "75%           1.532695\n",
      "max      104277.890000\n",
      "Name: raised, dtype: float64\n"
     ]
    }
   ],
   "source": [
    "# Repeat the same operation in the last code block\n",
    "success_df = data_2016[data_2016['state']=='successful']\n",
    "success_df['raised'] = success_df['pledged']/success_df['goal']\n",
    "print('99th Percentile for successful projects: ')\n",
    "print(success_df['raised'].quantile(q=0.99))\n",
    "print('\\n')\n",
    "print('Successful projects quick stats:')\n",
    "print(success_df['raised'].describe())"
   ]
  },
  {
   "cell_type": "markdown",
   "metadata": {},
   "source": [
    "**Seeing the statistics for both failed and successful projects, especially the 99th percentile, we can say with some confidence that successful projects in Kickstarter are defined as projects that meet their goal amount, and therefore we set a rule stating that projcts with raised amount equal to 1 (or 100%) are successful projects, and that other projects can be labeled as failed:**"
   ]
  },
  {
   "cell_type": "code",
   "execution_count": 25,
   "metadata": {},
   "outputs": [],
   "source": [
    "# Add the column \"raised\" to the main df\n",
    "data_2016['raised'] = data_2016['pledged']/data_2016['goal']\n",
    "\n",
    "# define undefined columns\n",
    "for index in data_2016[data_2016['state']=='undefined'].index:\n",
    "    if data_2016.at[index, 'raised'] >= 1:\n",
    "        data_2016.at[index, 'state'] = 'successful'\n",
    "    else:\n",
    "        data_2016.at[index, 'state'] = 'failed'\n",
    "\n",
    "def digitize(x):\n",
    "    \"\"\" convert failed and successful values to 0 and 1, respectively \"\"\"\n",
    "    if x.lower() == 'failed':\n",
    "        return 0\n",
    "    return 1\n",
    "\n",
    "# Call the digitize function on the state column\n",
    "data_2016['state'] = data_2016['state'].apply(digitize)"
   ]
  },
  {
   "cell_type": "markdown",
   "metadata": {},
   "source": [
    "**Now that we are done limiting project states to two outcomes. The final step of the data cleaning process is to convert the amount pledged to USD. This is because we have different currencies resulting in two columns, one of which has missing data that needs conversion.**\n",
    "\n",
    "**We will convert all currencies to USD and will remove the currency column, along with the usd pledged column to have one remaining column that is enough to sum up all three. This will be done using the currency_converter library, but first we will convert the currency column to include the currency name and the launch date as well the amount, all of which will be fed to the currency converter through the Pandas apply() function:**"
   ]
  },
  {
   "cell_type": "code",
   "execution_count": 26,
   "metadata": {},
   "outputs": [
    {
     "data": {
      "text/html": [
       "<div>\n",
       "<style scoped>\n",
       "    .dataframe tbody tr th:only-of-type {\n",
       "        vertical-align: middle;\n",
       "    }\n",
       "\n",
       "    .dataframe tbody tr th {\n",
       "        vertical-align: top;\n",
       "    }\n",
       "\n",
       "    .dataframe thead th {\n",
       "        text-align: right;\n",
       "    }\n",
       "</style>\n",
       "<table border=\"1\" class=\"dataframe\">\n",
       "  <thead>\n",
       "    <tr style=\"text-align: right;\">\n",
       "      <th></th>\n",
       "      <th>ID</th>\n",
       "      <th>name</th>\n",
       "      <th>category</th>\n",
       "      <th>main_category</th>\n",
       "      <th>currency</th>\n",
       "      <th>deadline</th>\n",
       "      <th>goal</th>\n",
       "      <th>launched</th>\n",
       "      <th>pledged</th>\n",
       "      <th>state</th>\n",
       "      <th>backers</th>\n",
       "      <th>country</th>\n",
       "      <th>usd pledged</th>\n",
       "      <th>raised</th>\n",
       "    </tr>\n",
       "  </thead>\n",
       "  <tbody>\n",
       "    <tr>\n",
       "      <th>0</th>\n",
       "      <td>1000002330</td>\n",
       "      <td>The Songs of Adelaide &amp; Abullah</td>\n",
       "      <td>Poetry</td>\n",
       "      <td>Publishing</td>\n",
       "      <td>GBP</td>\n",
       "      <td>2015-10-09 11:36:00</td>\n",
       "      <td>1000.0</td>\n",
       "      <td>2015-08-11 12:12:28</td>\n",
       "      <td>0.0</td>\n",
       "      <td>0</td>\n",
       "      <td>0</td>\n",
       "      <td>GB</td>\n",
       "      <td>0</td>\n",
       "      <td>0.000000</td>\n",
       "    </tr>\n",
       "    <tr>\n",
       "      <th>1</th>\n",
       "      <td>1000004038</td>\n",
       "      <td>Where is Hank?</td>\n",
       "      <td>Narrative Film</td>\n",
       "      <td>Film &amp; Video</td>\n",
       "      <td>USD</td>\n",
       "      <td>2013-02-26 00:20:50</td>\n",
       "      <td>45000.0</td>\n",
       "      <td>2013-01-12 00:20:50</td>\n",
       "      <td>220.0</td>\n",
       "      <td>0</td>\n",
       "      <td>3</td>\n",
       "      <td>US</td>\n",
       "      <td>220</td>\n",
       "      <td>0.004889</td>\n",
       "    </tr>\n",
       "    <tr>\n",
       "      <th>2</th>\n",
       "      <td>1000007540</td>\n",
       "      <td>ToshiCapital Rekordz Needs Help to Complete Album</td>\n",
       "      <td>Music</td>\n",
       "      <td>Music</td>\n",
       "      <td>USD</td>\n",
       "      <td>2012-04-16 04:24:11</td>\n",
       "      <td>5000.0</td>\n",
       "      <td>2012-03-17 03:24:11</td>\n",
       "      <td>1.0</td>\n",
       "      <td>0</td>\n",
       "      <td>1</td>\n",
       "      <td>US</td>\n",
       "      <td>1</td>\n",
       "      <td>0.000200</td>\n",
       "    </tr>\n",
       "    <tr>\n",
       "      <th>3</th>\n",
       "      <td>1000011046</td>\n",
       "      <td>Community Film Project: The Art of Neighborhoo...</td>\n",
       "      <td>Film &amp; Video</td>\n",
       "      <td>Film &amp; Video</td>\n",
       "      <td>USD</td>\n",
       "      <td>2015-08-29 01:00:00</td>\n",
       "      <td>19500.0</td>\n",
       "      <td>2015-07-04 08:35:03</td>\n",
       "      <td>1283.0</td>\n",
       "      <td>0</td>\n",
       "      <td>14</td>\n",
       "      <td>US</td>\n",
       "      <td>1283</td>\n",
       "      <td>0.065795</td>\n",
       "    </tr>\n",
       "    <tr>\n",
       "      <th>4</th>\n",
       "      <td>1000014025</td>\n",
       "      <td>Monarch Espresso Bar</td>\n",
       "      <td>Restaurants</td>\n",
       "      <td>Food</td>\n",
       "      <td>USD</td>\n",
       "      <td>2016-04-01 13:38:27</td>\n",
       "      <td>50000.0</td>\n",
       "      <td>2016-02-26 13:38:27</td>\n",
       "      <td>52375.0</td>\n",
       "      <td>1</td>\n",
       "      <td>224</td>\n",
       "      <td>US</td>\n",
       "      <td>52375</td>\n",
       "      <td>1.047500</td>\n",
       "    </tr>\n",
       "  </tbody>\n",
       "</table>\n",
       "</div>"
      ],
      "text/plain": [
       "           ID                                               name  \\\n",
       "0  1000002330                    The Songs of Adelaide & Abullah   \n",
       "1  1000004038                                     Where is Hank?   \n",
       "2  1000007540  ToshiCapital Rekordz Needs Help to Complete Album   \n",
       "3  1000011046  Community Film Project: The Art of Neighborhoo...   \n",
       "4  1000014025                               Monarch Espresso Bar   \n",
       "\n",
       "         category main_category currency             deadline     goal  \\\n",
       "0          Poetry    Publishing      GBP  2015-10-09 11:36:00   1000.0   \n",
       "1  Narrative Film  Film & Video      USD  2013-02-26 00:20:50  45000.0   \n",
       "2           Music         Music      USD  2012-04-16 04:24:11   5000.0   \n",
       "3    Film & Video  Film & Video      USD  2015-08-29 01:00:00  19500.0   \n",
       "4     Restaurants          Food      USD  2016-04-01 13:38:27  50000.0   \n",
       "\n",
       "              launched  pledged  state  backers country usd pledged    raised  \n",
       "0  2015-08-11 12:12:28      0.0      0        0      GB           0  0.000000  \n",
       "1  2013-01-12 00:20:50    220.0      0        3      US         220  0.004889  \n",
       "2  2012-03-17 03:24:11      1.0      0        1      US           1  0.000200  \n",
       "3  2015-07-04 08:35:03   1283.0      0       14      US        1283  0.065795  \n",
       "4  2016-02-26 13:38:27  52375.0      1      224      US       52375  1.047500  "
      ]
     },
     "execution_count": 26,
     "metadata": {},
     "output_type": "execute_result"
    }
   ],
   "source": [
    "data_2016.head()"
   ]
  },
  {
   "cell_type": "code",
   "execution_count": 27,
   "metadata": {},
   "outputs": [],
   "source": [
    "# Assert dates are in the datetime data type\n",
    "data_2016['launched'] = pd.to_datetime(data_2016['launched'])\n",
    "data_2016['deadline'] = pd.to_datetime(data_2016['deadline'])"
   ]
  },
  {
   "cell_type": "markdown",
   "metadata": {},
   "source": [
    "**With most currencies being relatively stable, picking a date in the middle of the year as a mean conversion rate for converting to USD should give us a stable USD equivalent. The exchange rate is picked from a date that suits most of these projects, which is in the middle of 2016. Once done converting, we will drop non useful columns:**"
   ]
  },
  {
   "cell_type": "code",
   "execution_count": 28,
   "metadata": {},
   "outputs": [
    {
     "data": {
      "text/html": [
       "<div>\n",
       "<style scoped>\n",
       "    .dataframe tbody tr th:only-of-type {\n",
       "        vertical-align: middle;\n",
       "    }\n",
       "\n",
       "    .dataframe tbody tr th {\n",
       "        vertical-align: top;\n",
       "    }\n",
       "\n",
       "    .dataframe thead th {\n",
       "        text-align: right;\n",
       "    }\n",
       "</style>\n",
       "<table border=\"1\" class=\"dataframe\">\n",
       "  <thead>\n",
       "    <tr style=\"text-align: right;\">\n",
       "      <th></th>\n",
       "      <th>category</th>\n",
       "      <th>main_category</th>\n",
       "      <th>deadline</th>\n",
       "      <th>goal</th>\n",
       "      <th>launched</th>\n",
       "      <th>pledged</th>\n",
       "      <th>state</th>\n",
       "      <th>backers</th>\n",
       "      <th>country</th>\n",
       "      <th>raised</th>\n",
       "    </tr>\n",
       "  </thead>\n",
       "  <tbody>\n",
       "    <tr>\n",
       "      <th>0</th>\n",
       "      <td>Poetry</td>\n",
       "      <td>Publishing</td>\n",
       "      <td>2015-10-09 11:36:00</td>\n",
       "      <td>1418.681624</td>\n",
       "      <td>2015-08-11 12:12:28</td>\n",
       "      <td>0.0</td>\n",
       "      <td>0</td>\n",
       "      <td>0</td>\n",
       "      <td>GB</td>\n",
       "      <td>0.000000</td>\n",
       "    </tr>\n",
       "    <tr>\n",
       "      <th>1</th>\n",
       "      <td>Narrative Film</td>\n",
       "      <td>Film &amp; Video</td>\n",
       "      <td>2013-02-26 00:20:50</td>\n",
       "      <td>45000.000000</td>\n",
       "      <td>2013-01-12 00:20:50</td>\n",
       "      <td>220.0</td>\n",
       "      <td>0</td>\n",
       "      <td>3</td>\n",
       "      <td>US</td>\n",
       "      <td>0.004889</td>\n",
       "    </tr>\n",
       "    <tr>\n",
       "      <th>2</th>\n",
       "      <td>Music</td>\n",
       "      <td>Music</td>\n",
       "      <td>2012-04-16 04:24:11</td>\n",
       "      <td>5000.000000</td>\n",
       "      <td>2012-03-17 03:24:11</td>\n",
       "      <td>1.0</td>\n",
       "      <td>0</td>\n",
       "      <td>1</td>\n",
       "      <td>US</td>\n",
       "      <td>0.000200</td>\n",
       "    </tr>\n",
       "    <tr>\n",
       "      <th>3</th>\n",
       "      <td>Film &amp; Video</td>\n",
       "      <td>Film &amp; Video</td>\n",
       "      <td>2015-08-29 01:00:00</td>\n",
       "      <td>19500.000000</td>\n",
       "      <td>2015-07-04 08:35:03</td>\n",
       "      <td>1283.0</td>\n",
       "      <td>0</td>\n",
       "      <td>14</td>\n",
       "      <td>US</td>\n",
       "      <td>0.065795</td>\n",
       "    </tr>\n",
       "    <tr>\n",
       "      <th>4</th>\n",
       "      <td>Restaurants</td>\n",
       "      <td>Food</td>\n",
       "      <td>2016-04-01 13:38:27</td>\n",
       "      <td>50000.000000</td>\n",
       "      <td>2016-02-26 13:38:27</td>\n",
       "      <td>52375.0</td>\n",
       "      <td>1</td>\n",
       "      <td>224</td>\n",
       "      <td>US</td>\n",
       "      <td>1.047500</td>\n",
       "    </tr>\n",
       "  </tbody>\n",
       "</table>\n",
       "</div>"
      ],
      "text/plain": [
       "         category main_category            deadline          goal  \\\n",
       "0          Poetry    Publishing 2015-10-09 11:36:00   1418.681624   \n",
       "1  Narrative Film  Film & Video 2013-02-26 00:20:50  45000.000000   \n",
       "2           Music         Music 2012-04-16 04:24:11   5000.000000   \n",
       "3    Film & Video  Film & Video 2015-08-29 01:00:00  19500.000000   \n",
       "4     Restaurants          Food 2016-04-01 13:38:27  50000.000000   \n",
       "\n",
       "             launched  pledged  state  backers country    raised  \n",
       "0 2015-08-11 12:12:28      0.0      0        0      GB  0.000000  \n",
       "1 2013-01-12 00:20:50    220.0      0        3      US  0.004889  \n",
       "2 2012-03-17 03:24:11      1.0      0        1      US  0.000200  \n",
       "3 2015-07-04 08:35:03   1283.0      0       14      US  0.065795  \n",
       "4 2016-02-26 13:38:27  52375.0      1      224      US  1.047500  "
      ]
     },
     "execution_count": 28,
     "metadata": {},
     "output_type": "execute_result"
    }
   ],
   "source": [
    "# a dictionary to hold exchange rate per currency\n",
    "rate_dict = {}\n",
    "\n",
    "# fill in the exchange rate dictionary\n",
    "for curr in np.unique(data_2016['currency']):\n",
    "    rate = CurrencyConverter(fallback_on_wrong_date=True).convert(1, curr, 'USD', date=date(2016,6,15))\n",
    "    rate_dict[curr] = rate\n",
    "    \n",
    "# convert the pledged and the goal columns\n",
    "for index in data_2016.index:\n",
    "    data_2016.at[index, 'pledged'] = data_2016.at[index, 'pledged']* rate_dict[data_2016.at[index, 'currency']]\n",
    "    data_2016.at[index, 'goal'] = data_2016.at[index, 'goal']* rate_dict[data_2016.at[index, 'currency']]\n",
    "    \n",
    "# drop no-longer-useful columns\n",
    "data_2016.drop(columns=['currency','usd pledged','ID','name'], inplace=True)\n",
    "data_2016.columns = data_2016.columns.str.strip()\n",
    "data_2016.head()"
   ]
  },
  {
   "cell_type": "code",
   "execution_count": 29,
   "metadata": {},
   "outputs": [
    {
     "data": {
      "image/png": "[encoded data removed]",
      "text/plain": [
       "<Figure size 1080x720 with 1 Axes>"
      ]
     },
     "metadata": {
      "needs_background": "light"
     },
     "output_type": "display_data"
    }
   ],
   "source": [
    "# Plot the pledged column\n",
    "data_2016['pledged'].plot(figsize=(15,10))\n",
    "plt.title('Total Pledged Amounts Per Kickstarter Project ($ USD)')\n",
    "plt.xlabel('Amount')\n",
    "plt.ylabel('Projects')\n",
    "plt.show()"
   ]
  },
  {
   "cell_type": "markdown",
   "metadata": {},
   "source": [
    "# 1. What features, within the provided dataset, are most determinant of a project's success or failure?"
   ]
  },
  {
   "cell_type": "markdown",
   "metadata": {},
   "source": [
    "## Feature Selection and Engineering"
   ]
  },
  {
   "cell_type": "markdown",
   "metadata": {},
   "source": [
    "**We are done cleaning our dataset, we move on to feature selection. There are columns that easily allow for deriving new columns from, such as deriving the fundraising period from the launched and deadline columns. Advanced techniques such as Principal Component Analysis may not apply to this dataset if we have too few columns.**\n",
    "\n",
    "**Let's start with fundraising duration column:**"
   ]
  },
  {
   "cell_type": "code",
   "execution_count": 30,
   "metadata": {},
   "outputs": [],
   "source": [
    "# Create the duration column and convert its value to integer days\n",
    "data_2016['duration'] = (data_2016['deadline'] - data_2016['launched']).astype(str)\n",
    "data_2016['duration'] = [int(str(val)[:-24]) for val in data_2016['duration']]"
   ]
  },
  {
   "cell_type": "code",
   "execution_count": 31,
   "metadata": {},
   "outputs": [],
   "source": [
    "def positive(x):\n",
    "    \"\"\" prepare values for box cox by ensuring they are positive\"\"\"\n",
    "    if x <= 0:\n",
    "        return .01\n",
    "    return x\n",
    "\n",
    "# Apply the positive function to values intended for box cox transformation\n",
    "data_2016['pledged'] = data_2016['pledged'].apply(positive)\n",
    "data_2016['goal'] = data_2016['goal'].apply(positive)\n",
    "data_2016['raised'] = data_2016['raised'].apply(positive)\n",
    "\n",
    "# Apply box cox and log transformations\n",
    "data_2016['pledged'] = boxcox(data_2016['pledged'])[0]\n",
    "data_2016['goal'] = np.log(data_2016['goal']+1)\n",
    "data_2016['raised'] = boxcox(data_2016['raised'])[0]\n",
    "data_2016['duration'] = np.log(data_2016['duration']+1)\n",
    "data_2016['backers'] = np.log(data_2016['backers']+1)"
   ]
  },
  {
   "cell_type": "markdown",
   "metadata": {},
   "source": [
    "**Having converted both the launched and deadline columns to a duration column, we may say that they can be removed and replaced by the duration column. However, the launch date may be beneficial in contributing to the model by telling us at which time of the year the fundraising was started and therefore can account for time where people in a certain country received tax returns, went through economic prices, or were on vacation.**\n",
    "\n",
    "**Initial judgement on the matter is best kept to a correlation matrix, represented by a heat map:**"
   ]
  },
  {
   "cell_type": "code",
   "execution_count": 32,
   "metadata": {},
   "outputs": [
    {
     "name": "stdout",
     "output_type": "stream",
     "text": [
      "['goal', 'pledged', 'state', 'backers', 'raised', 'duration']\n",
      "\n",
      "\n",
      "Correlation Matrix (filtered for correlation above 0.5):\n"
     ]
    },
    {
     "data": {
      "image/png": "[encoded data removed]",
      "text/plain": [
       "<Figure size 1080x720 with 2 Axes>"
      ]
     },
     "metadata": {
      "needs_background": "light"
     },
     "output_type": "display_data"
    },
    {
     "data": {
      "text/plain": [
       "<Figure size 1296x1080 with 0 Axes>"
      ]
     },
     "metadata": {},
     "output_type": "display_data"
    }
   ],
   "source": [
    "overall_correlation = data_2016.corr()\n",
    "cols = overall_correlation.columns.to_list()\n",
    "print(cols)\n",
    "print('\\n')\n",
    "\n",
    "# draw the heatmap using seaborn.\n",
    "plt.figure(figsize=(15,10))\n",
    "sns.heatmap(overall_correlation[(overall_correlation > .5)], square=True, annot=True, linewidths=.5)\n",
    "plt.title(\"Correlation Matrix (Kickstarter)\")\n",
    "print('Correlation Matrix (filtered for correlation above {}):'.format(.5))\n",
    "plt.figure(figsize=(18,15))\n",
    "plt.show()"
   ]
  },
  {
   "cell_type": "code",
   "execution_count": 33,
   "metadata": {},
   "outputs": [
    {
     "name": "stdout",
     "output_type": "stream",
     "text": [
      "Best features are: ['pledged', 'backers', 'raised']\n"
     ]
    }
   ],
   "source": [
    "# Features that correlate with the target equal to corr_thresh or higher\n",
    "features = overall_correlation[(overall_correlation > 0.5)]\n",
    "features = features.index[features['state'] >= 0.5].tolist()\n",
    "features.remove('state')\n",
    "print('Best features are: {}'.format(features))"
   ]
  },
  {
   "cell_type": "markdown",
   "metadata": {},
   "source": [
    "**Understandably and without a doubt, the raised feature correlates the most with the project state. Since our focus in on the Kickstarter platform - a fundraising platform that is-, it makes most sense that project success is judged by the percentage raised with respect to the project's funding goal.**\n",
    "\n",
    "**The backers and pledged features also highly correlate with the raised feature. First, because the percentage of raised funding is in part a function of the pledged amount, and secondly because the number of backers can tell much about the perceived status of funding expected. To remove collinearity from our model, we will have to keep raised as the only feature.**\n",
    "\n",
    "**Now that we have feature and target sets, we move on to answeing the second analytical question:**"
   ]
  },
  {
   "cell_type": "markdown",
   "metadata": {},
   "source": [
    "# 2. Which prediction models - or algorithms- perform best in terms of speed, accuracy, and explainability combined?"
   ]
  },
  {
   "cell_type": "markdown",
   "metadata": {},
   "source": [
    "## Model Selection"
   ]
  },
  {
   "cell_type": "markdown",
   "metadata": {},
   "source": [
    "**Now that we have chosen our feature(s), we move on to select models that will be trained on the data and, consequentially, tested on the new data. We will choose a slice from the data for training and testing on the 2016 data before we move on to predict data for 2018:**"
   ]
  },
  {
   "cell_type": "code",
   "execution_count": 34,
   "metadata": {},
   "outputs": [],
   "source": [
    "# slice dataframe for quicker algorithm selection\n",
    "data16 = data_2016.iloc[:10001,:]\n",
    "\n",
    "X = data16[['raised']]\n",
    "y = data16['state']\n",
    "\n",
    "X_train, X_test, y_train, y_test = train_test_split(X, y, test_size=0.25)"
   ]
  },
  {
   "cell_type": "markdown",
   "metadata": {},
   "source": [
    "**In order to compare model performance, we need all models to be initialized with their hyperparamters set according to our data. I will create a search space for use with the GridSearchCV function in order to find best values for key hyperparameters. Candidate algorithms here are DecisionTrees, RandomForestClassifier, KNeighborsClassifier, LinearSVC, and LinearRegression:**"
   ]
  },
  {
   "cell_type": "code",
   "execution_count": 35,
   "metadata": {},
   "outputs": [
    {
     "name": "stdout",
     "output_type": "stream",
     "text": [
      "RandomForestClassifier(max_depth=5, max_leaf_nodes=5, n_estimators=10)\n",
      "The mean accuracy of the model is: 0.9860055977608957 \n",
      "\n",
      "DecisionTreeClassifier(max_features='log2', min_samples_split=50, presort=False,\n",
      "                       splitter='random')\n",
      "The mean accuracy of the model is: 0.9860055977608957 \n",
      "\n",
      "KNeighborsClassifier(algorithm='ball_tree', leaf_size=2, n_jobs=-1, p=1)\n",
      "The mean accuracy of the model is: 0.9860055977608957 \n",
      "\n",
      "LinearSVC(C=1, fit_intercept=False, max_iter=300)\n",
      "The mean accuracy of the model is: 0.9728108756497401 \n",
      "\n",
      "LinearRegression(normalize=True)\n",
      "The mean accuracy of the model is: 0.6120156008904281 \n",
      "\n"
     ]
    }
   ],
   "source": [
    "# a list that contains algorithms and key hyperparameters\n",
    "search_space = [\n",
    "                {RandomForestClassifier():{\"n_estimators\": [10, 100, 1000],\n",
    "                 \"max_depth\":[5,8,15,25,30,None],\n",
    "                 \"min_samples_leaf\":[1,2,5,10,15,100],\n",
    "                 \"max_leaf_nodes\": [2, 5,10]}},\n",
    "                {DecisionTreeClassifier():{\"criterion\":['gini','entropy'],\n",
    "                 \"splitter\":['best','random'],\n",
    "                 \"min_samples_split\":[2,5,15,50],\n",
    "                 \"max_features\":[\"sqrt\",'log2','auto'],\n",
    "                 \"presort\":[True,False]}},\n",
    "                {KNeighborsClassifier():{\n",
    "                 \"n_neighbors\": [2,3,5],\n",
    "                 \"weights\": ['uniform','distance'],\n",
    "                 \"algorithm\": ['ball_tree','kd_tree','brute'],\n",
    "                 \"leaf_size\": [2,3,10],\n",
    "                 \"p\": [1,2],\n",
    "                 \"n_jobs\": [-1]}},    \n",
    "                {LinearSVC():{\"dual\": [True,False],\n",
    "                 \"tol\": [1e-4, 1e-2, 1e-1],\n",
    "                 \"C\": [1,0.6,0.4,0.1],\n",
    "                 \"fit_intercept\": [True,False],\n",
    "                 \"max_iter\": [300,500,1000,10000]}},\n",
    "                {LinearRegression():{\"fit_intercept\":[True,False],\n",
    "                 \"normalize\":[True,False]}}\n",
    "]\n",
    "\n",
    "# list containing only algorithms\n",
    "estimators = []\n",
    "for i in range(len(search_space)):\n",
    "    estimators += search_space[i].keys()\n",
    "\n",
    "# list containing only hyperparameters\n",
    "params = []\n",
    "for i in range(len(search_space)):\n",
    "    params += search_space[i].values()\n",
    "\n",
    "# create a gridsearch of each algorithm and its hyperparameters, the fit the best model\n",
    "for i in range(len(estimators)):\n",
    "    gridsearch = GridSearchCV(estimators[i], params[i], cv=5, verbose=0,n_jobs=-1) # Fit grid search\n",
    "    best_model = gridsearch.fit(X_train, y_train)\n",
    "    print(best_model.best_estimator_)\n",
    "    print(\"The mean accuracy of the model is:\",best_model.score(X_test, y_test),'\\n')\n",
    "    del gridsearch"
   ]
  },
  {
   "cell_type": "markdown",
   "metadata": {},
   "source": [
    "**Before we begin testing them individually, let's define a function to plot the AUC curve for each model:**"
   ]
  },
  {
   "cell_type": "code",
   "execution_count": 36,
   "metadata": {},
   "outputs": [],
   "source": [
    "def show_auc(X_test, y_test, model,model_name):\n",
    "    # generate a no skill prediction (majority class)\n",
    "    ns_probs = [0 for _ in range(len(y_test))]\n",
    "    # fit a model\n",
    "    # predict probabilities\n",
    "    lr_probs = model.predict_proba(X_test)\n",
    "    # keep probabilities for the positive outcome only\n",
    "    lr_probs = lr_probs[:, 1]\n",
    "    # calculate scores\n",
    "    ns_auc = roc_auc_score(y_test, ns_probs)\n",
    "    lr_auc = roc_auc_score(y_test, lr_probs)\n",
    "    # summarize scores\n",
    "    print('Baseline: ROC AUC=%.3f' % (ns_auc))\n",
    "    print('{}: ROC AUC={}+'.format(model_name,lr_auc))\n",
    "    # calculate roc curves\n",
    "    ns_fpr, ns_tpr, _ = roc_curve(y_test, ns_probs)\n",
    "    lr_fpr, lr_tpr, _ = roc_curve(y_test, lr_probs)\n",
    "    # plot the roc curve for the model\n",
    "    plt.figure(figsize=(7,7))\n",
    "    plt.plot(ns_fpr, ns_tpr, linestyle='--', label='Baseline')\n",
    "    plt.plot(lr_fpr, lr_tpr, marker='.', label=model_name)\n",
    "    # axis labels\n",
    "    plt.title('AUC Curve')\n",
    "    plt.xlabel('False Positive Rate')\n",
    "    plt.ylabel('True Positive Rate')\n",
    "    # show the legend\n",
    "    plt.legend()\n",
    "    # show the plot\n",
    "    plt.show()\n",
    "    \n",
    "    conf_mat = confusion_matrix(y_test, model.predict(X_test))\n",
    "    print('Confusion matrix:\\n')\n",
    "    print(conf_mat)"
   ]
  },
  {
   "cell_type": "markdown",
   "metadata": {},
   "source": [
    "**LinearRegression and LinearSVC did not perform well on our data, or as well as the others. The other three algorithms were able to predict y values with high accuracy. Now that we know the best models for our dataset, let's perform a final check of class imbalance on our dataset before we train the model that we will use for prediction:**"
   ]
  },
  {
   "cell_type": "code",
   "execution_count": 37,
   "metadata": {},
   "outputs": [
    {
     "data": {
      "text/plain": [
       "0    204397\n",
       "1    119334\n",
       "Name: state, dtype: int64"
      ]
     },
     "execution_count": 37,
     "metadata": {},
     "output_type": "execute_result"
    }
   ],
   "source": [
    "# check for class imbalance\n",
    "data_2016['state'].value_counts()"
   ]
  },
  {
   "cell_type": "markdown",
   "metadata": {},
   "source": [
    "**Data is certainly imbalanced, almost on a 2 to 1 ratio for failed to successful classes, respectively. We apply the SMOTE technique from imbalanced-learn to resolve this issue, then we re-run fitting and prediction to score each model individually. We will create a dataframe that stores accuracy and speed data to make an informed decision:**"
   ]
  },
  {
   "cell_type": "code",
   "execution_count": 38,
   "metadata": {},
   "outputs": [
    {
     "name": "stdout",
     "output_type": "stream",
     "text": [
      "CPU times: user 2.8 s, sys: 26.1 ms, total: 2.83 s\n",
      "Wall time: 2.87 s\n",
      "CPU times: user 2min 9s, sys: 378 ms, total: 2min 9s\n",
      "Wall time: 42.9 s\n",
      "Accuracy: 0.9822894837694371\n",
      "Baseline: ROC AUC=0.500\n",
      "KNeighborsClassifier: ROC AUC=0.984936913023089+\n"
     ]
    },
    {
     "data": {
      "image/png": "[encoded data removed]",
      "text/plain": [
       "<Figure size 504x504 with 1 Axes>"
      ]
     },
     "metadata": {
      "needs_background": "light"
     },
     "output_type": "display_data"
    },
    {
     "name": "stdout",
     "output_type": "stream",
     "text": [
      "Confusion matrix:\n",
      "\n",
      "[[61268   311]\n",
      " [ 1861 59199]]\n"
     ]
    }
   ],
   "source": [
    "performance = pd.DataFrame(columns=['algorithm','speed(ms)','accuracy'])\n",
    "\n",
    "X, y = data_2016['raised'].to_numpy().reshape(-1, 1), data_2016['state']\n",
    "\n",
    "X, y = SMOTE().fit_resample(X, y)\n",
    "X_train, X_test, y_train, y_test = train_test_split(X, y, test_size=0.30)\n",
    "clf_smote = KNeighborsClassifier(algorithm='ball_tree', leaf_size=2, metric='minkowski',\n",
    "                     metric_params=None, n_jobs=-1, n_neighbors=5, p=2,\n",
    "                     weights='uniform')\n",
    "%time clf_smote = clf_smote.fit(X_train, y_train)\n",
    "%time acc = clf_smote.score(X_test, y_test)\n",
    "print('Accuracy: {}'.format(acc))\n",
    "\n",
    "show_auc(X_test, y_test, clf_smote,'KNeighborsClassifier')"
   ]
  },
  {
   "cell_type": "code",
   "execution_count": 39,
   "metadata": {},
   "outputs": [
    {
     "name": "stdout",
     "output_type": "stream",
     "text": [
      "CPU times: user 2.17 s, sys: 70.2 ms, total: 2.24 s\n",
      "Wall time: 2.86 s\n",
      "CPU times: user 93.2 ms, sys: 7.55 ms, total: 101 ms\n",
      "Wall time: 102 ms\n",
      "Accuracy: 0.9827868785622844\n",
      "Baseline: ROC AUC=0.500\n",
      "RandomForestClassifier: ROC AUC=0.9848353543516571+\n"
     ]
    },
    {
     "data": {
      "image/png": "[encoded data removed]",
      "text/plain": [
       "<Figure size 504x504 with 1 Axes>"
      ]
     },
     "metadata": {
      "needs_background": "light"
     },
     "output_type": "display_data"
    },
    {
     "name": "stdout",
     "output_type": "stream",
     "text": [
      "Confusion matrix:\n",
      "\n",
      "[[61349   230]\n",
      " [ 1881 59179]]\n"
     ]
    }
   ],
   "source": [
    "performance = performance.append({'algorithm': 'KNeighborsClassifier', 'speed(ms)': 24500, 'accuracy': acc}, ignore_index=True)\n",
    "\n",
    "clf_smote = RandomForestClassifier(bootstrap=True, class_weight=None, criterion='gini',\n",
    "                       max_depth=5, max_features='auto', max_leaf_nodes=5,\n",
    "                       min_impurity_decrease=0.0, min_impurity_split=None,\n",
    "                       min_samples_leaf=10, min_samples_split=2,\n",
    "                       min_weight_fraction_leaf=0.0, n_estimators=10,\n",
    "                       n_jobs=None, oob_score=False, random_state=None,\n",
    "                       verbose=0, warm_start=False)\n",
    "\n",
    "%time clf_smote = clf_smote.fit(X_train, y_train)\n",
    "%time acc = clf_smote.score(X_test, y_test)\n",
    "print('Accuracy: {}'.format(acc))\n",
    "show_auc(X_test, y_test, clf_smote,'RandomForestClassifier')"
   ]
  },
  {
   "cell_type": "code",
   "execution_count": 40,
   "metadata": {},
   "outputs": [
    {
     "name": "stdout",
     "output_type": "stream",
     "text": [
      "CPU times: user 1.23 s, sys: 17.2 ms, total: 1.24 s\n",
      "Wall time: 1.29 s\n",
      "CPU times: user 39.1 ms, sys: 2.11 ms, total: 41.2 ms\n",
      "Wall time: 40.9 ms\n",
      "Accuracy: 0.9802591345330605\n",
      "Baseline: ROC AUC=0.500\n",
      "DecisionTreeClassifier: ROC AUC=0.9830112779055962+\n"
     ]
    },
    {
     "data": {
      "image/png": "[encoded data removed]",
      "text/plain": [
       "<Figure size 504x504 with 1 Axes>"
      ]
     },
     "metadata": {
      "needs_background": "light"
     },
     "output_type": "display_data"
    },
    {
     "name": "stdout",
     "output_type": "stream",
     "text": [
      "Confusion matrix:\n",
      "\n",
      "[[61089   490]\n",
      " [ 1931 59129]]\n"
     ]
    }
   ],
   "source": [
    "performance = performance.append({'algorithm': 'RandomForestClassifier', 'speed(ms)': 66.8, 'accuracy': acc}, ignore_index=True)\n",
    "clf_smote = DecisionTreeClassifier(class_weight=None, criterion='gini', max_depth=None,\n",
    "                       max_features='sqrt', max_leaf_nodes=None,\n",
    "                       min_impurity_decrease=0.0, min_impurity_split=None,\n",
    "                       min_samples_leaf=1, min_samples_split=50,\n",
    "                       min_weight_fraction_leaf=0.0, presort=True,\n",
    "                       random_state=None, splitter='best')\n",
    "\n",
    "%time clf_smote = clf_smote.fit(X_train, y_train)\n",
    "%time acc = clf_smote.score(X_test, y_test)\n",
    "print('Accuracy: {}'.format(acc))\n",
    "show_auc(X_test, y_test, clf_smote,'DecisionTreeClassifier')"
   ]
  },
  {
   "cell_type": "markdown",
   "metadata": {},
   "source": [
    "## Model Comparison"
   ]
  },
  {
   "cell_type": "markdown",
   "metadata": {},
   "source": [
    "**The KNN model is great at predicting outcomes from our feature; the AUC is very spacious with a very high true positive rate for predictions. This is also confirmed by the confusion matrix, where true positive and negative predictions are both over 18000 where false predictions for both are 587 and 95, respectively. This makes false predictions almost incomparable to true predictions, showing superiority for our KNN model.**\n",
    "\n",
    "**The Random Forest classifier behaves quite similar to the KNN model above; the AUC is also very spacious with a very high true positive rate. The difference is almost non existent in false predictions since false prediction for failed project is a bit less than KNN, but false prediction for successful projects is higher.**\n",
    "\n",
    "**Decision trees also has a high AUC but compared to the other two models it has a higher false prediction rate for both positive and negative. Its speed is an added advantage over the preceding models, with its accuracy score being close to theirs as well.**"
   ]
  },
  {
   "cell_type": "code",
   "execution_count": 41,
   "metadata": {},
   "outputs": [
    {
     "data": {
      "text/html": [
       "<div>\n",
       "<style scoped>\n",
       "    .dataframe tbody tr th:only-of-type {\n",
       "        vertical-align: middle;\n",
       "    }\n",
       "\n",
       "    .dataframe tbody tr th {\n",
       "        vertical-align: top;\n",
       "    }\n",
       "\n",
       "    .dataframe thead th {\n",
       "        text-align: right;\n",
       "    }\n",
       "</style>\n",
       "<table border=\"1\" class=\"dataframe\">\n",
       "  <thead>\n",
       "    <tr style=\"text-align: right;\">\n",
       "      <th></th>\n",
       "      <th>algorithm</th>\n",
       "      <th>speed(ms)</th>\n",
       "      <th>accuracy</th>\n",
       "    </tr>\n",
       "  </thead>\n",
       "  <tbody>\n",
       "    <tr>\n",
       "      <th>1</th>\n",
       "      <td>RandomForestClassifier</td>\n",
       "      <td>66.8</td>\n",
       "      <td>0.982787</td>\n",
       "    </tr>\n",
       "    <tr>\n",
       "      <th>0</th>\n",
       "      <td>KNeighborsClassifier</td>\n",
       "      <td>24500</td>\n",
       "      <td>0.982289</td>\n",
       "    </tr>\n",
       "    <tr>\n",
       "      <th>2</th>\n",
       "      <td>DecisionTreeClassifier</td>\n",
       "      <td>22.9</td>\n",
       "      <td>0.980259</td>\n",
       "    </tr>\n",
       "  </tbody>\n",
       "</table>\n",
       "</div>"
      ],
      "text/plain": [
       "                algorithm speed(ms)  accuracy\n",
       "1  RandomForestClassifier      66.8  0.982787\n",
       "0    KNeighborsClassifier     24500  0.982289\n",
       "2  DecisionTreeClassifier      22.9  0.980259"
      ]
     },
     "execution_count": 41,
     "metadata": {},
     "output_type": "execute_result"
    }
   ],
   "source": [
    "performance = performance.append({'algorithm': 'DecisionTreeClassifier', 'speed(ms)': 22.9, 'accuracy': acc}, ignore_index=True)\n",
    "\n",
    "performance.sort_values(['accuracy','speed(ms)'],ascending=False)"
   ]
  },
  {
   "cell_type": "markdown",
   "metadata": {},
   "source": [
    "A first look at this dataframe can tell that the RandomForestClassifier performs better than KNeighborsClassifier. However, Random Forest falls short on the explainability aspect, being a black box algorithm.\n",
    "\n",
    "As far as answering our third question, here is the detailed answer:\n",
    "\n",
    "- If we cared about model speed but can let off a little bit of the accuracy, then Decision Trees is the algorithm to use; it can explain the reason behind its classification method while quickly training and testing data.\n",
    "\n",
    "- If we cared about accuracy and explainability then the model we should pick is KNN; it may perform slower than Random Forest, but it achieves the same accuracy while explaining its predictions with similarity between Kickstarter projects.\n",
    "\n",
    "- If we did not care about explainability, then Random Forests is the way to go; it is on par with KNN while being much faster to execute.\n",
    "\n",
    "That being said, I will go forward with our 2018 data prediction using KNN."
   ]
  },
  {
   "cell_type": "markdown",
   "metadata": {},
   "source": [
    "## Trying with One-Hot Encoding"
   ]
  },
  {
   "cell_type": "markdown",
   "metadata": {},
   "source": [
    "**Since we have the categories column included, describing actually subcategories of Kickstarted projects, it may be worth seeing if one-hot encoding these would do the model any good by enhancing prediction:**"
   ]
  },
  {
   "cell_type": "code",
   "execution_count": 42,
   "metadata": {},
   "outputs": [
    {
     "name": "stdout",
     "output_type": "stream",
     "text": [
      "We have 158 unique categories.\n"
     ]
    }
   ],
   "source": [
    "# How many subcategories do we have?\n",
    "print('We have {} unique categories.'.format(len(np.unique(data_2016['category']))))\n",
    "\n",
    "# A dataframe that includes dummy variables + the raised column --> All features\n",
    "one_hot_enc = pd.get_dummies(data_2016['category'],drop_first=True)\n",
    "trial_df = pd.concat([data_2016['raised'],one_hot_enc])\n",
    "trial_df = trial_df.fillna(0)"
   ]
  },
  {
   "cell_type": "code",
   "execution_count": 43,
   "metadata": {},
   "outputs": [
    {
     "data": {
      "text/plain": [
       "0.9816942408206198"
      ]
     },
     "execution_count": 43,
     "metadata": {},
     "output_type": "execute_result"
    }
   ],
   "source": [
    "# Separate features and target\n",
    "X, y = trial_df[:len(data_2016['state'])], data_2016['state']\n",
    "\n",
    "# Balance prediction classes and assign training and testing data\n",
    "X, y = SMOTE().fit_resample(X, y)\n",
    "X_train, X_test, y_train, y_test = train_test_split(X, y, test_size=0.30)\n",
    "\n",
    "# Initiate classifier, fit and predict\n",
    "clf_smote = KNeighborsClassifier(algorithm='ball_tree', leaf_size=2, metric='minkowski',\n",
    "                     metric_params=None, n_jobs=-1, n_neighbors=5, p=2,\n",
    "                     weights='uniform')\n",
    "clf_smote = clf_smote.fit(X_train, y_train)\n",
    "clf_smote.score(X_test, y_test)"
   ]
  },
  {
   "cell_type": "markdown",
   "metadata": {},
   "source": [
    "**Alright, so dummy variables (one-hot encoded columns) did improve our model, but only by a very small percentage. This clearly makes for an insignificant improvement while being a significant burden on the time it takes to train a model. This means that the raised column is going to be all the features we need to predict our 2018 data:**"
   ]
  },
  {
   "cell_type": "markdown",
   "metadata": {},
   "source": [
    "## Preparation of testing data"
   ]
  },
  {
   "cell_type": "code",
   "execution_count": 44,
   "metadata": {},
   "outputs": [
    {
     "name": "stdout",
     "output_type": "stream",
     "text": [
      "ID                     0\n",
      "name                   4\n",
      "category               0\n",
      "main_category          0\n",
      "currency               0\n",
      "deadline               0\n",
      "goal                   0\n",
      "launched               0\n",
      "pledged                0\n",
      "state                  0\n",
      "backers                0\n",
      "country                0\n",
      "usd pledged         3797\n",
      "usd_pledged_real       0\n",
      "usd_goal_real          0\n",
      "dtype: int64\n"
     ]
    }
   ],
   "source": [
    "data_2018.head(3)\n",
    "print(data_2018.isnull().sum())"
   ]
  },
  {
   "cell_type": "markdown",
   "metadata": {},
   "source": [
    "**Nothing seems out of the usual. Let's prepare testing data so it matches the training data:**"
   ]
  },
  {
   "cell_type": "code",
   "execution_count": 45,
   "metadata": {},
   "outputs": [
    {
     "name": "stdout",
     "output_type": "stream",
     "text": [
      "*** 2018 data is ready for testing ***\n"
     ]
    }
   ],
   "source": [
    "# Assert data types\n",
    "data_2018['pledged'] = data_2018['pledged'].astype(float)\n",
    "data_2018['goal'] = data_2018['goal'].astype(float)\n",
    "data_2018['backers'] = data_2018['backers'].astype(int)\n",
    "data_2018['launched'] = pd.to_datetime(data_2018['launched'])\n",
    "data_2018['deadline'] = pd.to_datetime(data_2018['deadline'])\n",
    "\n",
    "# Add the column \"raised\" to the df\n",
    "data_2018['raised'] = data_2018['pledged']/data_2018['goal']\n",
    "\n",
    "\n",
    "# Loop over rows of state and binarize values\n",
    "for index in data_2018.index:\n",
    "    if data_2018.at[index, 'state'] != 'undefined':\n",
    "        data_2018.at[index, 'state'] = bin_dict[data_2018.at[index, 'state']]\n",
    "\n",
    "# Call the digitize function on the state column\n",
    "data_2018['state'] = data_2018['state'].apply(digitize)\n",
    "\n",
    "# a dictionary to hold exchange rate per currency for 2018 data\n",
    "rate_dict = {}\n",
    "\n",
    "# fill in the exchange rate dictionary\n",
    "for curr in np.unique(data_2018['currency']):\n",
    "    rate = CurrencyConverter(fallback_on_wrong_date=True).convert(1, curr, 'USD', date=date(2017,6,15))\n",
    "    rate_dict[curr] = rate\n",
    "    \n",
    "# convert the pledged and the goal columns\n",
    "for index in data_2018.index:\n",
    "    data_2018.at[index, 'pledged'] = data_2018.at[index, 'pledged']* rate_dict[data_2018.at[index, 'currency']]\n",
    "    data_2018.at[index, 'goal'] = data_2018.at[index, 'goal']* rate_dict[data_2018.at[index, 'currency']]\n",
    "    \n",
    "# drop no-longer-useful columns\n",
    "data_2018.drop(columns=['currency','usd pledged','ID','name'], inplace=True)\n",
    "data_2018.columns = data_2018.columns.str.strip()\n",
    "data_2018.head()\n",
    "\n",
    "def positive(x):\n",
    "    \"\"\" prepare values for box cox by ensuring they are positive\"\"\"\n",
    "    if x <= 0:\n",
    "        return .01\n",
    "    return x\n",
    "\n",
    "# Apply the positive function to values intended for box cox transformation\n",
    "data_2018['raised'] = data_2018['raised'].apply(positive)\n",
    "\n",
    "# Apply box cox transformation\n",
    "data_2018['raised'] = boxcox(data_2018['raised'])[0]\n",
    "\n",
    "print('*** 2018 data is ready for testing ***')"
   ]
  },
  {
   "cell_type": "markdown",
   "metadata": {},
   "source": [
    "**2018 data is ready for testing**\n",
    "\n",
    "**In the following code block, we will be answering our final analytical question...**"
   ]
  },
  {
   "cell_type": "markdown",
   "metadata": {},
   "source": [
    "# 3. How good is our trained model in predicting future projects (2018 vs. 2016)?"
   ]
  },
  {
   "cell_type": "code",
   "execution_count": 46,
   "metadata": {},
   "outputs": [
    {
     "name": "stdout",
     "output_type": "stream",
     "text": [
      "CPU times: user 7.62 ms, sys: 947 µs, total: 8.56 ms\n",
      "Wall time: 11.2 ms\n",
      "Our KNN model can predict future projects with an accuracy of 0.987\n",
      "Baseline: ROC AUC=0.500\n",
      "KNeighborsClassifier: ROC AUC=0.9866858355816125+\n"
     ]
    },
    {
     "data": {
      "image/png": "[encoded data removed]",
      "text/plain": [
       "<Figure size 504x504 with 1 Axes>"
      ]
     },
     "metadata": {
      "needs_background": "light"
     },
     "output_type": "display_data"
    },
    {
     "name": "stdout",
     "output_type": "stream",
     "text": [
      "Confusion matrix:\n",
      "\n",
      "[[1862    7]\n",
      " [  32 1099]]\n",
      "CPU times: user 54.4 ms, sys: 3.15 ms, total: 57.6 ms\n",
      "Wall time: 60.2 ms\n",
      "Our Random Forest model can predict future projects with an accuracy of 0.987\n",
      "Baseline: ROC AUC=0.500\n",
      "RandomForestClassifier: ROC AUC=0.9829258519688584+\n"
     ]
    },
    {
     "data": {
      "image/png": "[encoded data removed]",
      "text/plain": [
       "<Figure size 504x504 with 1 Axes>"
      ]
     },
     "metadata": {
      "needs_background": "light"
     },
     "output_type": "display_data"
    },
    {
     "name": "stdout",
     "output_type": "stream",
     "text": [
      "Confusion matrix:\n",
      "\n",
      "[[1862    7]\n",
      " [  32 1099]]\n"
     ]
    }
   ],
   "source": [
    "# Slice our data to a third of its size\n",
    "data_2016 = data_2016.iloc[:10000,:]\n",
    "data_2018 = data_2018.iloc[:10000,:]\n",
    "\n",
    "# Training data\n",
    "X, y = data_2016['raised'].to_numpy().reshape(-1, 1), data_2016['state']\n",
    "X_train, del_0, y_train, del_1 = train_test_split(X, y, test_size=0.30)\n",
    "\n",
    "# Testing data\n",
    "X, y = data_2018['raised'].to_numpy().reshape(-1, 1), data_2018['state']\n",
    "del_2, X_test, del_3, y_test = train_test_split(X, y, test_size=0.30)\n",
    "\n",
    "# Cleanup\n",
    "for obj in [del_0, del_1, del_2,  del_3]:\n",
    "    del obj\n",
    "\n",
    "# Balance prediction classes and assign training and testing data\n",
    "X, y = SMOTE().fit_resample(X, y)\n",
    "\n",
    "# Train and test data using KNN\n",
    "clf_smote = KNeighborsClassifier(algorithm='ball_tree', leaf_size=2, metric='minkowski',\n",
    "                     metric_params=None, n_jobs=-1, n_neighbors=5, p=2,\n",
    "                     weights='uniform')\n",
    "%time clf_smote = clf_smote.fit(X_train, y_train)\n",
    "print('Our KNN model can predict future projects with an accuracy of {}'.format(round(clf_smote.score(X_test, y_test),3)))\n",
    "show_auc(X_test, y_test, clf_smote,'KNeighborsClassifier')\n",
    "# Train and test data using Random Forest\n",
    "clf_smote = RandomForestClassifier(bootstrap=True, class_weight=None, criterion='gini',\n",
    "                       max_depth=25, max_features='auto', max_leaf_nodes=10,\n",
    "                       min_impurity_decrease=0.0, min_impurity_split=None,\n",
    "                       min_samples_leaf=2, min_samples_split=2,\n",
    "                       min_weight_fraction_leaf=0.0, n_estimators=10,\n",
    "                       n_jobs=None, oob_score=False, random_state=None,\n",
    "                       verbose=0, warm_start=False)\n",
    "%time clf_smote = clf_smote.fit(X_train, y_train)\n",
    "print('Our Random Forest model can predict future projects with an accuracy of {}'.format(round(clf_smote.score(X_test, y_test),3)))\n",
    "show_auc(X_test, y_test, clf_smote,'RandomForestClassifier')"
   ]
  },
  {
   "cell_type": "markdown",
   "metadata": {},
   "source": [
    "# Limitations"
   ]
  },
  {
   "cell_type": "markdown",
   "metadata": {},
   "source": [
    "Before I conclude this document, limitations to our conclusions must be mentioned and considered.\n",
    "\n",
    "- Kickstarter project states are not confined to successful and failed, but that confinement is more in the mind of an entrepreneur seeking to launch a successful project. Limiting project states to binary outcomes is only for reasons of simplification and initial model building, making this tool a great add-on to an entrepreneur who has already started their funding campaign on Kickstarter, but not one who is still planning for it.\n",
    "\n",
    "\n",
    "- Real determinant factors of a project's success include comprehensive planning and execution. Measuring this can yield other variables that may not necessarily correlate with the percentage of funding raised, but still add information to the model. These include variables like cost control, how close the product or service is to real market need, and competitive advantage."
   ]
  },
  {
   "cell_type": "markdown",
   "metadata": {},
   "source": [
    "# Further Research Proposed"
   ]
  },
  {
   "cell_type": "markdown",
   "metadata": {},
   "source": [
    "- Time limitation did not allow for one more analysis that focuses on project names as keywords. Names can attract viewers to view the project and may lead to more funding. This is especially hypothesized in two cases:\n",
    "\n",
    "    - The name directly addresses a market need while giving the impression of higher efficiency (lower cost, shorter time...etc) to the customer/pledger.\n",
    "\n",
    "    - Given the project is solid at its core, meaning it can deliver what is promised, names using buzzwords for the respective year of the project funding campaign may pop up more in searches on search engines and on the Kickstarter platform.\n",
    "\n",
    "- A unified user profile for Kickstarter visitors can also tell us much about what most of them are seeking to fund. This can give weights to categories, and set expectations for projects that do not fall within the preferred categories, such as extending a campaign's duration or setting a lower funding goal."
   ]
  },
  {
   "cell_type": "markdown",
   "metadata": {},
   "source": [
    "# Conclusion"
   ]
  },
  {
   "cell_type": "markdown",
   "metadata": {},
   "source": [
    "Our project included cleaning data for several columns, feature extraction, transformation and selection, in addition to training and testing several supervised learning models on data. The top two models were Random Forests and KNN in terms of accuracy, explainability and speed. Although Random Forest was significantly faster than KNN, KNN still got higher AUC, making it more suitable for accurate prediction. Moreover, since Random Forest is considered a black box model, this really leaves KNN with the winner's cup.\n",
    "\n",
    "We tested these models on both the 2016 and 2018 datasets and found no generalization gap (with 2016 being the training dataset). We also tried one-hot encoding categorical variables and did not achieve significant model improvement.\n",
    "\n",
    "One may say that a single feature that represents percentages may not warrant using machine learning to predict success or failure, but the work put in producing such a feature was not merely dividing one variable by another; it has also included transformation of the target variable, another transformation for the feature itself that was featured by numerous operations perfomed on variables this feature was derived from. It was not clear initially that we may arrive at the usage of one feature, but this feature turned out to have an excellent accuracy score.\n",
    "\n",
    "The reader needs to remember that project states were converted to a binary possibility of successful and failed, where the real states used in Kickstarter include 3 other states. This was done for the purposes of developing a binary supervised model capable of accurately predicting the two most important outcomes in real life.\n",
    "\n",
    "Optimal usage of this tool is expected after a project's initial launch period, where usual advertising of such a fundraising campaign is at its highest, and where response from pledgers peaks in response. Its predictions are to be understood as an answer to the question: \"How does my project look like in terms of success of fundraising on Kickstarter?\""
   ]
  },
  {
   "cell_type": "code",
   "execution_count": null,
   "metadata": {},
   "outputs": [],
   "source": []
  }
 ],
 "metadata": {
  "kernelspec": {
   "display_name": "Python 3",
   "language": "python",
   "name": "python3"
  },
  "language_info": {
   "codemirror_mode": {
    "name": "ipython",
    "version": 3
   },
   "file_extension": ".py",
   "mimetype": "text/x-python",
   "name": "python",
   "nbconvert_exporter": "python",
   "pygments_lexer": "ipython3",
   "version": "3.7.6"
  }
 },
 "nbformat": 4,
 "nbformat_minor": 4
}
