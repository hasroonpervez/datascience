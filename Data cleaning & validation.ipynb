{
 "cells": [
  {
   "cell_type": "code",
   "execution_count": 10,
   "metadata": {},
   "outputs": [],
   "source": [
    "import pandas as pd\n",
    "import numpy as np\n",
    "import scipy\n",
    "import os\n",
    "import matplotlib.pyplot as plt\n",
    "%matplotlib inline"
   ]
  },
  {
   "cell_type": "code",
   "execution_count": 11,
   "metadata": {},
   "outputs": [],
   "source": [
    "apc_data = pd.read_csv('apcspend2013.csv')"
   ]
  },
  {
   "cell_type": "code",
   "execution_count": 12,
   "metadata": {},
   "outputs": [
    {
     "data": {
      "text/html": [
       "<div>\n",
       "<style scoped>\n",
       "    .dataframe tbody tr th:only-of-type {\n",
       "        vertical-align: middle;\n",
       "    }\n",
       "\n",
       "    .dataframe tbody tr th {\n",
       "        vertical-align: top;\n",
       "    }\n",
       "\n",
       "    .dataframe thead th {\n",
       "        text-align: right;\n",
       "    }\n",
       "</style>\n",
       "<table border=\"1\" class=\"dataframe\">\n",
       "  <thead>\n",
       "    <tr style=\"text-align: right;\">\n",
       "      <th></th>\n",
       "      <th>PMID/PMCID</th>\n",
       "      <th>Publisher</th>\n",
       "      <th>Journal title</th>\n",
       "      <th>Article title</th>\n",
       "      <th>COST (£) charged to Wellcome (inc VAT when charged)</th>\n",
       "    </tr>\n",
       "  </thead>\n",
       "  <tbody>\n",
       "    <tr>\n",
       "      <th>0</th>\n",
       "      <td>NaN</td>\n",
       "      <td>CUP</td>\n",
       "      <td>Psychological Medicine</td>\n",
       "      <td>Reduced parahippocampal cortical thickness in ...</td>\n",
       "      <td>£0.00</td>\n",
       "    </tr>\n",
       "    <tr>\n",
       "      <th>1</th>\n",
       "      <td>PMC3679557</td>\n",
       "      <td>ACS</td>\n",
       "      <td>Biomacromolecules</td>\n",
       "      <td>Structural characterization of a Model Gram-ne...</td>\n",
       "      <td>£2381.04</td>\n",
       "    </tr>\n",
       "    <tr>\n",
       "      <th>2</th>\n",
       "      <td>23043264  PMC3506128</td>\n",
       "      <td>ACS</td>\n",
       "      <td>J Med Chem</td>\n",
       "      <td>Fumaroylamino-4,5-epoxymorphinans and related ...</td>\n",
       "      <td>£642.56</td>\n",
       "    </tr>\n",
       "    <tr>\n",
       "      <th>3</th>\n",
       "      <td>23438330 PMC3646402</td>\n",
       "      <td>ACS</td>\n",
       "      <td>J Med Chem</td>\n",
       "      <td>Orvinols with mixed kappa/mu opioid receptor a...</td>\n",
       "      <td>£669.64</td>\n",
       "    </tr>\n",
       "    <tr>\n",
       "      <th>4</th>\n",
       "      <td>23438216 PMC3601604</td>\n",
       "      <td>ACS</td>\n",
       "      <td>J Org Chem</td>\n",
       "      <td>Regioselective opening of myo-inositol orthoes...</td>\n",
       "      <td>£685.88</td>\n",
       "    </tr>\n",
       "  </tbody>\n",
       "</table>\n",
       "</div>"
      ],
      "text/plain": [
       "              PMID/PMCID Publisher           Journal title  \\\n",
       "0                    NaN       CUP  Psychological Medicine   \n",
       "1             PMC3679557       ACS       Biomacromolecules   \n",
       "2  23043264  PMC3506128        ACS              J Med Chem   \n",
       "3    23438330 PMC3646402       ACS              J Med Chem   \n",
       "4   23438216 PMC3601604        ACS              J Org Chem   \n",
       "\n",
       "                                       Article title  \\\n",
       "0  Reduced parahippocampal cortical thickness in ...   \n",
       "1  Structural characterization of a Model Gram-ne...   \n",
       "2  Fumaroylamino-4,5-epoxymorphinans and related ...   \n",
       "3  Orvinols with mixed kappa/mu opioid receptor a...   \n",
       "4  Regioselective opening of myo-inositol orthoes...   \n",
       "\n",
       "  COST (£) charged to Wellcome (inc VAT when charged)  \n",
       "0                                              £0.00   \n",
       "1                                           £2381.04   \n",
       "2                                            £642.56   \n",
       "3                                            £669.64   \n",
       "4                                            £685.88   "
      ]
     },
     "execution_count": 12,
     "metadata": {},
     "output_type": "execute_result"
    }
   ],
   "source": [
    "apc_data.head()"
   ]
  },
  {
   "cell_type": "code",
   "execution_count": 13,
   "metadata": {},
   "outputs": [],
   "source": [
    "apc_data.columns = ['pmid', 'publisher', 'journal_name','article_title','cost']"
   ]
  },
  {
   "cell_type": "code",
   "execution_count": 14,
   "metadata": {},
   "outputs": [],
   "source": [
    "apc_data.pmid=apc_data.pmid.str.lower()\n",
    "apc_data.publisher=apc_data.publisher.str.lower()\n",
    "apc_data.journal_name=apc_data.journal_name.str.lower()\n",
    "apc_data.article_title=apc_data.article_title.str.lower()\n",
    "apc_data.cost=apc_data.cost.str.lower()"
   ]
  },
  {
   "cell_type": "code",
   "execution_count": 79,
   "metadata": {},
   "outputs": [],
   "source": [
    "apc_data.loc[apc_data['publisher'].astype(str).str.contains(\"asc\"),'publisher']='asc'"
   ]
  },
  {
   "cell_type": "code",
   "execution_count": 81,
   "metadata": {},
   "outputs": [],
   "source": [
    "apc_data[\"publisher\"]= apc_data[\"publisher\"].str.replace(\"asc\", \"Amercian Chemical Society\", case = False) "
   ]
  },
  {
   "cell_type": "code",
   "execution_count": 82,
   "metadata": {},
   "outputs": [],
   "source": [
    "apc_data.loc[apc_data['publisher'].astype(str).str.contains(\"asbmb\"),'publisher']='asbmb'"
   ]
  },
  {
   "cell_type": "code",
   "execution_count": 83,
   "metadata": {},
   "outputs": [],
   "source": [
    "apc_data[\"publisher\"]= apc_data[\"publisher\"].str.replace(\"asbmb\", \"American Society for Biochemistry and Molecular Biolgy\", case = False)\n"
   ]
  },
  {
   "cell_type": "code",
   "execution_count": 84,
   "metadata": {},
   "outputs": [],
   "source": [
    "apc_data.loc[apc_data['publisher'].astype(str).str.contains(\"biomed central\"),'publisher']='biomed central'"
   ]
  },
  {
   "cell_type": "code",
   "execution_count": 85,
   "metadata": {},
   "outputs": [],
   "source": [
    "apc_data[\"publisher\"]= apc_data[\"publisher\"].str.replace(\"biomed central\", \"BioMed Central\", case = False) "
   ]
  },
  {
   "cell_type": "code",
   "execution_count": 23,
   "metadata": {},
   "outputs": [],
   "source": [
    "apc_data.loc[apc_data['publisher'].astype(str).str.contains(\"bmj\"),'publisher']='bmj'"
   ]
  },
  {
   "cell_type": "code",
   "execution_count": 90,
   "metadata": {},
   "outputs": [],
   "source": [
    "apc_data[\"publisher\"]= apc_data[\"publisher\"].str.replace(\"bmj\", \"BMJ Group\", case = False) "
   ]
  },
  {
   "cell_type": "code",
   "execution_count": 91,
   "metadata": {},
   "outputs": [],
   "source": [
    "apc_data.loc[apc_data['publisher'].astype(str).str.contains(\"cadmus\"),'publisher']='cadmus'"
   ]
  },
  {
   "cell_type": "code",
   "execution_count": 92,
   "metadata": {},
   "outputs": [],
   "source": [
    "apc_data[\"publisher\"]= apc_data[\"publisher\"].str.replace(\"cadmus\", \"Cadmus Journal Services\", case = False)"
   ]
  },
  {
   "cell_type": "code",
   "execution_count": 93,
   "metadata": {},
   "outputs": [],
   "source": [
    "apc_data.loc[apc_data['publisher'].astype(str).str.contains(\"cambridge\"),'publisher']='cambridge'"
   ]
  },
  {
   "cell_type": "code",
   "execution_count": 94,
   "metadata": {},
   "outputs": [],
   "source": [
    "apc_data[\"publisher\"]= apc_data[\"publisher\"].str.replace(\"cambridge\", \"Cambridge University Press\", case = False)"
   ]
  },
  {
   "cell_type": "code",
   "execution_count": 95,
   "metadata": {},
   "outputs": [],
   "source": [
    "apc_data.loc[apc_data['publisher'].astype(str).str.contains(\"company of biologists\"),'publisher']='company of biologists'"
   ]
  },
  {
   "cell_type": "code",
   "execution_count": 96,
   "metadata": {},
   "outputs": [],
   "source": [
    "apc_data[\"publisher\"]= apc_data[\"publisher\"].str.replace(\"company of biologists\", \"Company of Biologists\", case = False)"
   ]
  },
  {
   "cell_type": "code",
   "execution_count": 97,
   "metadata": {},
   "outputs": [],
   "source": [
    "apc_data.loc[apc_data['publisher'].astype(str).str.contains(\"elsevier\"),'publisher']='elsevier'"
   ]
  },
  {
   "cell_type": "code",
   "execution_count": 98,
   "metadata": {},
   "outputs": [],
   "source": [
    "apc_data[\"publisher\"]= apc_data[\"publisher\"].str.replace(\"elsevier\", \"Elseveier Science\", case = False)"
   ]
  },
  {
   "cell_type": "code",
   "execution_count": 99,
   "metadata": {},
   "outputs": [],
   "source": [
    "apc_data.loc[apc_data['publisher'].astype(str).str.contains(\"dartmouth\"),'publisher']='dartmouth'"
   ]
  },
  {
   "cell_type": "code",
   "execution_count": 100,
   "metadata": {},
   "outputs": [],
   "source": [
    "apc_data[\"publisher\"]= apc_data[\"publisher\"].str.replace(\"dartmouth\", \"Dartmouth Journal Services\", case = False)"
   ]
  },
  {
   "cell_type": "code",
   "execution_count": 101,
   "metadata": {},
   "outputs": [],
   "source": [
    "apc_data.loc[apc_data['publisher'].astype(str).str.contains(\"faseb\"),'publisher']='faseb'"
   ]
  },
  {
   "cell_type": "code",
   "execution_count": 102,
   "metadata": {},
   "outputs": [],
   "source": [
    "apc_data[\"publisher\"]= apc_data[\"publisher\"].str.replace(\"faseb\", \"Federation of American Societies for Experimental Biology\", case = False)"
   ]
  },
  {
   "cell_type": "code",
   "execution_count": 103,
   "metadata": {},
   "outputs": [],
   "source": [
    "apc_data.loc[apc_data['publisher'].astype(str).str.contains(\"hindawi\"),'publisher']='hindawi'"
   ]
  },
  {
   "cell_type": "code",
   "execution_count": 104,
   "metadata": {},
   "outputs": [],
   "source": [
    "apc_data[\"publisher\"]= apc_data[\"publisher\"].str.replace(\"hindawi\", \"Hindawi Publishing Corporation\", case = False)"
   ]
  },
  {
   "cell_type": "code",
   "execution_count": 105,
   "metadata": {},
   "outputs": [],
   "source": [
    "apc_data.loc[apc_data['publisher'].astype(str).str.contains(\"impact journals\"),'publisher']='impact journals'"
   ]
  },
  {
   "cell_type": "code",
   "execution_count": 106,
   "metadata": {},
   "outputs": [],
   "source": [
    "apc_data[\"publisher\"]= apc_data[\"publisher\"].str.replace(\"impact journals\", \"Impact Journals\", case = False)"
   ]
  },
  {
   "cell_type": "code",
   "execution_count": 107,
   "metadata": {},
   "outputs": [],
   "source": [
    "apc_data.loc[apc_data['publisher'].astype(str).str.contains(\"informa healthcare\"),'publisher']='informa healthcare'"
   ]
  },
  {
   "cell_type": "code",
   "execution_count": 108,
   "metadata": {},
   "outputs": [],
   "source": [
    "apc_data[\"publisher\"]= apc_data[\"publisher\"].str.replace(\"informa healthcare\", \"Informa Healthcare communications\", case = False)"
   ]
  },
  {
   "cell_type": "code",
   "execution_count": 109,
   "metadata": {},
   "outputs": [],
   "source": [
    "apc_data.loc[apc_data['publisher'].astype(str).str.contains(\"ios\"),'publisher']='ios'"
   ]
  },
  {
   "cell_type": "code",
   "execution_count": 110,
   "metadata": {},
   "outputs": [],
   "source": [
    "apc_data[\"publisher\"]= apc_data[\"publisher\"].str.replace(\"ios\", \"IOP Publishing\", case = False)"
   ]
  },
  {
   "cell_type": "code",
   "execution_count": 111,
   "metadata": {},
   "outputs": [],
   "source": [
    "apc_data.loc[apc_data['publisher'].astype(str).str.contains(\"john wiley\"),'publisher']='john wiley'"
   ]
  },
  {
   "cell_type": "code",
   "execution_count": 112,
   "metadata": {},
   "outputs": [],
   "source": [
    "apc_data[\"publisher\"]= apc_data[\"publisher\"].str.replace(\"john wiley\", \"John Wiley & Sons\", case = False)"
   ]
  },
  {
   "cell_type": "code",
   "execution_count": null,
   "metadata": {},
   "outputs": [],
   "source": [
    "apc_data.loc[apc_data['publisher'].astype(str).str.contains(\"mary ann\"),'publisher']='mary ann'"
   ]
  },
  {
   "cell_type": "code",
   "execution_count": 113,
   "metadata": {},
   "outputs": [],
   "source": [
    "apc_data[\"publisher\"]= apc_data[\"publisher\"].str.replace(\"mary ann\", \"Mary Ann Liebert\", case = False)"
   ]
  },
  {
   "cell_type": "code",
   "execution_count": 114,
   "metadata": {},
   "outputs": [],
   "source": [
    "apc_data.loc[apc_data['publisher'].astype(str).str.contains(\"jove\"),'publisher']='jove'"
   ]
  },
  {
   "cell_type": "code",
   "execution_count": 62,
   "metadata": {},
   "outputs": [],
   "source": [
    "apc_data[\"publisher\"]= apc_data[\"publisher\"].str.replace(\"jove\", \"My JOVE corporation\", case = False)"
   ]
  },
  {
   "cell_type": "code",
   "execution_count": 63,
   "metadata": {},
   "outputs": [],
   "source": [
    "apc_data.loc[apc_data['publisher'].astype(str).str.contains(\"national academy\"),'publisher']='national academy'"
   ]
  },
  {
   "cell_type": "code",
   "execution_count": 115,
   "metadata": {},
   "outputs": [],
   "source": [
    "apc_data[\"publisher\"]= apc_data[\"publisher\"].str.replace(\"national academy\", \"National Academy of Sciences\", case = False)"
   ]
  },
  {
   "cell_type": "code",
   "execution_count": 116,
   "metadata": {},
   "outputs": [],
   "source": [
    "apc_data.loc[apc_data['publisher'].astype(str).str.contains(\"nature\"),'publisher']='nature'"
   ]
  },
  {
   "cell_type": "code",
   "execution_count": 117,
   "metadata": {},
   "outputs": [],
   "source": [
    "apc_data[\"publisher\"]= apc_data[\"publisher\"].str.replace(\"nature\", \"Nature Publishing Group\", case = False)"
   ]
  },
  {
   "cell_type": "code",
   "execution_count": 119,
   "metadata": {},
   "outputs": [],
   "source": [
    "apc_data.loc[apc_data['publisher'].astype(str).str.contains(\"oup\"),'publisher']='oup'"
   ]
  },
  {
   "cell_type": "code",
   "execution_count": 120,
   "metadata": {},
   "outputs": [],
   "source": [
    "apc_data.loc[apc_data['publisher'].astype(str).str.contains(\"o.u.p\"),'publisher']='oup'"
   ]
  },
  {
   "cell_type": "code",
   "execution_count": 121,
   "metadata": {},
   "outputs": [],
   "source": [
    "apc_data[\"publisher\"]= apc_data[\"publisher\"].str.replace(\"oup\", \"Oxford University Press\", case = False)"
   ]
  },
  {
   "cell_type": "code",
   "execution_count": null,
   "metadata": {},
   "outputs": [],
   "source": [
    "apc_data.loc[apc_data['journal_name'].astype(str).str.contains(\"plos\"),'journal_name']='plos'"
   ]
  },
  {
   "cell_type": "code",
   "execution_count": 122,
   "metadata": {},
   "outputs": [],
   "source": [
    "apc_data[\"journal_name\"]= apc_data[\"journal_name\"].str.replace(\"plos\", \"Public Library of Science\", case = False)"
   ]
  },
  {
   "cell_type": "code",
   "execution_count": 123,
   "metadata": {},
   "outputs": [],
   "source": [
    "apc_data.loc[apc_data['journal_name'].astype(str).str.contains(\"febs\"),'journal_name']='febs'"
   ]
  },
  {
   "cell_type": "code",
   "execution_count": 124,
   "metadata": {},
   "outputs": [],
   "source": [
    "apc_data[\"journal_name\"]= apc_data[\"journal_name\"].str.replace(\"febs\", \"FASEB Journal\", case = False)"
   ]
  },
  {
   "cell_type": "code",
   "execution_count": 125,
   "metadata": {},
   "outputs": [],
   "source": [
    "apc_data.loc[apc_data['journal_name'].astype(str).str.contains(\"j biol\"),'journal_name']='j biol'"
   ]
  },
  {
   "cell_type": "code",
   "execution_count": 126,
   "metadata": {},
   "outputs": [],
   "source": [
    "apc_data[\"journal_name\"]= apc_data[\"journal_name\"].str.replace(\"j biol\", \"J Biol Chemistry\", case = False)"
   ]
  },
  {
   "cell_type": "code",
   "execution_count": 127,
   "metadata": {},
   "outputs": [],
   "source": [
    "apc_data.loc[apc_data['journal_name'].astype(str).str.contains(\"pnas\"),'journal_name']='pnas'"
   ]
  },
  {
   "cell_type": "code",
   "execution_count": 128,
   "metadata": {},
   "outputs": [],
   "source": [
    "apc_data[\"journal_name\"]= apc_data[\"journal_name\"].str.replace(\"pnas\", \"Proceedings of the National Academy of Sciences of the United States of America\", case = False)"
   ]
  },
  {
   "cell_type": "code",
   "execution_count": 131,
   "metadata": {},
   "outputs": [],
   "source": [
    "apc_data.loc[apc_data['journal_name'].astype(str).str.contains(\"pnas\"),'journal_name']='pnas'"
   ]
  },
  {
   "cell_type": "code",
   "execution_count": 132,
   "metadata": {},
   "outputs": [],
   "source": [
    "apc_data.loc[apc_data['journal_name'].astype(str).str.contains(\"biological chemistry\"),'journal_name']='biological chemistry'"
   ]
  },
  {
   "cell_type": "code",
   "execution_count": 137,
   "metadata": {},
   "outputs": [],
   "source": [
    "apc_data[\"journal_name\"]= apc_data[\"journal_name\"].str.replace(\"biological chemistry\", \"Journal of Biological Chemistry\", case = False)\n"
   ]
  },
  {
   "cell_type": "code",
   "execution_count": 138,
   "metadata": {},
   "outputs": [],
   "source": [
    "apc_data.loc[apc_data['journal_name'].astype(str).str.contains(\"pnas\"),'journal_name']='pnas'"
   ]
  },
  {
   "cell_type": "code",
   "execution_count": 139,
   "metadata": {},
   "outputs": [],
   "source": [
    "apc_data.loc[apc_data['journal_name'].astype(str).str.contains(\"neuroimage\"),'journal_name']='neuroimage '"
   ]
  },
  {
   "cell_type": "code",
   "execution_count": 140,
   "metadata": {},
   "outputs": [],
   "source": [
    "apc_data[\"journal_name\"]= apc_data[\"journal_name\"].str.replace(\"neuroimage\", \"Neuroimage\", case = False)"
   ]
  },
  {
   "cell_type": "code",
   "execution_count": 141,
   "metadata": {},
   "outputs": [],
   "source": [
    "apc_data.pmid=apc_data.pmid.str.lower()\n",
    "apc_data.publisher=apc_data.publisher.str.lower()\n",
    "apc_data.journal_name=apc_data.journal_name.str.lower()\n",
    "apc_data.article_title=apc_data.article_title.str.lower()\n",
    "apc_data.cost=apc_data.cost.str.lower()"
   ]
  },
  {
   "cell_type": "code",
   "execution_count": 142,
   "metadata": {},
   "outputs": [
    {
     "data": {
      "text/plain": [
       "Text(0.5, 1.0, 'Five Most Common Journal')"
      ]
     },
     "execution_count": 142,
     "metadata": {},
     "output_type": "execute_result"
    },
    {
     "data": {
      "image/png": "[encoded data removed]",
      "text/plain": [
       "<Figure size 1080x360 with 1 Axes>"
      ]
     },
     "metadata": {
      "needs_background": "light"
     },
     "output_type": "display_data"
    }
   ],
   "source": [
    "apc_data.journal_name.value_counts().head(5).plot(kind='bar',figsize=(15,5))\n",
    "plt.ylabel('Numbers of Journal')\n",
    "plt.title('Five Most Common Journal')"
   ]
  },
  {
   "cell_type": "code",
   "execution_count": 143,
   "metadata": {},
   "outputs": [
    {
     "data": {
      "text/html": [
       "<div>\n",
       "<style scoped>\n",
       "    .dataframe tbody tr th:only-of-type {\n",
       "        vertical-align: middle;\n",
       "    }\n",
       "\n",
       "    .dataframe tbody tr th {\n",
       "        vertical-align: top;\n",
       "    }\n",
       "\n",
       "    .dataframe thead th {\n",
       "        text-align: right;\n",
       "    }\n",
       "</style>\n",
       "<table border=\"1\" class=\"dataframe\">\n",
       "  <thead>\n",
       "    <tr style=\"text-align: right;\">\n",
       "      <th></th>\n",
       "      <th>pmid</th>\n",
       "      <th>publisher</th>\n",
       "      <th>journal_name</th>\n",
       "      <th>article_title</th>\n",
       "      <th>cost</th>\n",
       "    </tr>\n",
       "  </thead>\n",
       "  <tbody>\n",
       "    <tr>\n",
       "      <th>0</th>\n",
       "      <td>NaN</td>\n",
       "      <td>cup</td>\n",
       "      <td>psychological medicine</td>\n",
       "      <td>reduced parahippocampal cortical thickness in ...</td>\n",
       "      <td>£0.00</td>\n",
       "    </tr>\n",
       "    <tr>\n",
       "      <th>1</th>\n",
       "      <td>pmc3679557</td>\n",
       "      <td>acs</td>\n",
       "      <td>biomacromolecules</td>\n",
       "      <td>structural characterization of a model gram-ne...</td>\n",
       "      <td>£2381.04</td>\n",
       "    </tr>\n",
       "    <tr>\n",
       "      <th>2</th>\n",
       "      <td>23043264  pmc3506128</td>\n",
       "      <td>acs</td>\n",
       "      <td>j med chem</td>\n",
       "      <td>fumaroylamino-4,5-epoxymorphinans and related ...</td>\n",
       "      <td>£642.56</td>\n",
       "    </tr>\n",
       "    <tr>\n",
       "      <th>3</th>\n",
       "      <td>23438330 pmc3646402</td>\n",
       "      <td>acs</td>\n",
       "      <td>j med chem</td>\n",
       "      <td>orvinols with mixed kappa/mu opioid receptor a...</td>\n",
       "      <td>£669.64</td>\n",
       "    </tr>\n",
       "    <tr>\n",
       "      <th>4</th>\n",
       "      <td>23438216 pmc3601604</td>\n",
       "      <td>acs</td>\n",
       "      <td>j org chem</td>\n",
       "      <td>regioselective opening of myo-inositol orthoes...</td>\n",
       "      <td>£685.88</td>\n",
       "    </tr>\n",
       "  </tbody>\n",
       "</table>\n",
       "</div>"
      ],
      "text/plain": [
       "                    pmid publisher            journal_name  \\\n",
       "0                    NaN       cup  psychological medicine   \n",
       "1             pmc3679557       acs       biomacromolecules   \n",
       "2  23043264  pmc3506128        acs              j med chem   \n",
       "3    23438330 pmc3646402       acs              j med chem   \n",
       "4   23438216 pmc3601604        acs              j org chem   \n",
       "\n",
       "                                       article_title      cost  \n",
       "0  reduced parahippocampal cortical thickness in ...     £0.00  \n",
       "1  structural characterization of a model gram-ne...  £2381.04  \n",
       "2  fumaroylamino-4,5-epoxymorphinans and related ...   £642.56  \n",
       "3  orvinols with mixed kappa/mu opioid receptor a...   £669.64  \n",
       "4  regioselective opening of myo-inositol orthoes...   £685.88  "
      ]
     },
     "execution_count": 143,
     "metadata": {},
     "output_type": "execute_result"
    }
   ],
   "source": [
    "apc_data.head()"
   ]
  },
  {
   "cell_type": "code",
   "execution_count": 144,
   "metadata": {},
   "outputs": [
    {
     "data": {
      "text/html": [
       "<div>\n",
       "<style scoped>\n",
       "    .dataframe tbody tr th:only-of-type {\n",
       "        vertical-align: middle;\n",
       "    }\n",
       "\n",
       "    .dataframe tbody tr th {\n",
       "        vertical-align: top;\n",
       "    }\n",
       "\n",
       "    .dataframe thead th {\n",
       "        text-align: right;\n",
       "    }\n",
       "</style>\n",
       "<table border=\"1\" class=\"dataframe\">\n",
       "  <thead>\n",
       "    <tr style=\"text-align: right;\">\n",
       "      <th></th>\n",
       "      <th>journal_name</th>\n",
       "      <th>pmid</th>\n",
       "      <th>publisher</th>\n",
       "      <th>article_title</th>\n",
       "      <th>cost</th>\n",
       "    </tr>\n",
       "  </thead>\n",
       "  <tbody>\n",
       "    <tr>\n",
       "      <th>800</th>\n",
       "      <td>public library of science one</td>\n",
       "      <td>189</td>\n",
       "      <td>191</td>\n",
       "      <td>191</td>\n",
       "      <td>191</td>\n",
       "    </tr>\n",
       "    <tr>\n",
       "      <th>553</th>\n",
       "      <td>journal of journal of biological chemistry</td>\n",
       "      <td>64</td>\n",
       "      <td>65</td>\n",
       "      <td>65</td>\n",
       "      <td>65</td>\n",
       "    </tr>\n",
       "    <tr>\n",
       "      <th>696</th>\n",
       "      <td>neuroimage</td>\n",
       "      <td>28</td>\n",
       "      <td>34</td>\n",
       "      <td>34</td>\n",
       "      <td>34</td>\n",
       "    </tr>\n",
       "    <tr>\n",
       "      <th>794</th>\n",
       "      <td>public library of science genetics</td>\n",
       "      <td>23</td>\n",
       "      <td>24</td>\n",
       "      <td>24</td>\n",
       "      <td>24</td>\n",
       "    </tr>\n",
       "    <tr>\n",
       "      <th>801</th>\n",
       "      <td>public library of science pathogens</td>\n",
       "      <td>24</td>\n",
       "      <td>24</td>\n",
       "      <td>24</td>\n",
       "      <td>24</td>\n",
       "    </tr>\n",
       "  </tbody>\n",
       "</table>\n",
       "</div>"
      ],
      "text/plain": [
       "                                   journal_name  pmid  publisher  \\\n",
       "800               public library of science one   189        191   \n",
       "553  journal of journal of biological chemistry    64         65   \n",
       "696                                 neuroimage     28         34   \n",
       "794          public library of science genetics    23         24   \n",
       "801         public library of science pathogens    24         24   \n",
       "\n",
       "     article_title  cost  \n",
       "800            191   191  \n",
       "553             65    65  \n",
       "696             34    34  \n",
       "794             24    24  \n",
       "801             24    24  "
      ]
     },
     "execution_count": 144,
     "metadata": {},
     "output_type": "execute_result"
    }
   ],
   "source": [
    "by_journal_name = apc_data.groupby(['journal_name']).agg('count').reset_index()\n",
    "by_journal_name.sort_values('article_title',ascending=False).head(5)"
   ]
  },
  {
   "cell_type": "code",
   "execution_count": 146,
   "metadata": {},
   "outputs": [],
   "source": [
    "apc_data['cost'] = apc_data.loc[apc_data['cost'].str.contains(\"£\"),'cost'].str.replace('£','').astype(float)"
   ]
  },
  {
   "cell_type": "code",
   "execution_count": 147,
   "metadata": {},
   "outputs": [
    {
     "data": {
      "text/plain": [
       "journal_name\n",
       "academy of nutrition and dietetics                                                           2379.540000\n",
       "acs chemical biology                                                                         1418.186000\n",
       "acs chemical neuroscience                                                                    1186.800000\n",
       "acs nano                                                                                      668.140000\n",
       "acta crystallographica section d,  biological crystallography                                 771.420000\n",
       "acta crystallographica section d: biological crystallography                                  773.740000\n",
       "acta crystallographica section f: structural biology and crystallization communications       796.635000\n",
       "acta crystallographica, section d                                                             757.180000\n",
       "acta crystallography d                                                                        774.190000\n",
       "acta d                                                                                        750.160000\n",
       "acta dermato venereologica                                                                    653.960000\n",
       "acta diabetologica                                                                           2336.280000\n",
       "acta f                                                                                        754.900000\n",
       "acta neuropathol                                                                             1901.040000\n",
       "acta neuropathologica                                                                        2161.063333\n",
       "acta opthalmologica                                                                          2270.160000\n",
       "acta physiol                                                                                 1991.500000\n",
       "addiction                                                                                    2136.225000\n",
       "advances in experimental medicine and biology                                                1928.457500\n",
       "age                                                                                          2170.140000\n",
       "age and ageing                                                                               2040.000000\n",
       "ageing & society                                                                             1695.000000\n",
       "aging cell                                                                                   1970.570000\n",
       "aids                                                                                         2059.306667\n",
       "aids behav                                                                                   1834.770000\n",
       "aids care                                                                                    2294.225000\n",
       "aids journal                                                                                 2015.720000\n",
       "aids research and therapy                                                                    1240.000000\n",
       "aids uk                                                                                      1836.920000\n",
       "alcohol and alcoholism                                                                       2040.000000\n",
       "                                                                                               ...      \n",
       "traffic                                                                                      2129.338333\n",
       "transactions of the royal society of tropical medicine and hygiene                           1524.080000\n",
       "translational psychiatry                                                                     2880.000000\n",
       "trends in cognitive science                                                                  2340.630000\n",
       "trends in genetics                                                                           2370.935000\n",
       "trends in microbiology                                                                       2291.330000\n",
       "trends in molecular medicine                                                                 2248.330000\n",
       "trends in neuroscience                                                                       2402.810000\n",
       "trends in neurosciences                                                                    501212.980000\n",
       "trends in parasitology                                                                     251692.990000\n",
       "trials                                                                                     250908.975000\n",
       "trials                                                                                       1165.000000\n",
       "trop med int health                                                                          1834.770000\n",
       "tropical animal health & production                                                          2054.780000\n",
       "tropical medicine and international health                                                   1843.163333\n",
       "tuberculosis                                                                                 2161.255000\n",
       "urban history                                                                                2034.000000\n",
       "urolithiasis                                                                                 1112.400000\n",
       "vaccine                                                                                      1623.394000\n",
       "vascular pharmacology                                                                        2352.530000\n",
       "veterinary microbiology                                                                      2451.490000\n",
       "veterinary parasitology                                                                    501243.585000\n",
       "veterinary record                                                                            2040.000000\n",
       "veterinary research                                                                             9.930000\n",
       "virology                                                                                     1928.505000\n",
       "virology journal                                                                             1242.000000\n",
       "virus research                                                                               1947.090000\n",
       "vision research                                                                            500727.590000\n",
       "visual neuroscience                                                                          2034.000000\n",
       "zoonoses and public health                                                                   2272.150000\n",
       "Name: cost, Length: 918, dtype: float64"
      ]
     },
     "execution_count": 147,
     "metadata": {},
     "output_type": "execute_result"
    }
   ],
   "source": [
    "apc_data.groupby('journal_name')['cost'].mean()"
   ]
  },
  {
   "cell_type": "code",
   "execution_count": 148,
   "metadata": {},
   "outputs": [
    {
     "data": {
      "text/plain": [
       "journal_name\n",
       "academy of nutrition and dietetics                                                           2379.540\n",
       "acs chemical biology                                                                         1294.590\n",
       "acs chemical neuroscience                                                                    1186.800\n",
       "acs nano                                                                                      668.140\n",
       "acta crystallographica section d,  biological crystallography                                 771.420\n",
       "acta crystallographica section d: biological crystallography                                  773.740\n",
       "acta crystallographica section f: structural biology and crystallization communications       796.635\n",
       "acta crystallographica, section d                                                             757.180\n",
       "acta crystallography d                                                                        774.190\n",
       "acta d                                                                                        750.160\n",
       "acta dermato venereologica                                                                    653.960\n",
       "acta diabetologica                                                                           2336.280\n",
       "acta f                                                                                        754.900\n",
       "acta neuropathol                                                                             1901.040\n",
       "acta neuropathologica                                                                        2250.970\n",
       "acta opthalmologica                                                                          2270.160\n",
       "acta physiol                                                                                 1991.500\n",
       "addiction                                                                                    2136.225\n",
       "advances in experimental medicine and biology                                                1928.460\n",
       "age                                                                                          2170.140\n",
       "age and ageing                                                                               2040.000\n",
       "ageing & society                                                                             1695.000\n",
       "aging cell                                                                                   1970.570\n",
       "aids                                                                                         1968.630\n",
       "aids behav                                                                                   1834.770\n",
       "aids care                                                                                    2316.010\n",
       "aids journal                                                                                 2015.720\n",
       "aids research and therapy                                                                    1240.000\n",
       "aids uk                                                                                      1836.920\n",
       "alcohol and alcoholism                                                                       2040.000\n",
       "                                                                                              ...    \n",
       "traffic                                                                                      2273.455\n",
       "transactions of the royal society of tropical medicine and hygiene                           1524.080\n",
       "translational psychiatry                                                                     2880.000\n",
       "trends in cognitive science                                                                  2340.630\n",
       "trends in genetics                                                                           2370.935\n",
       "trends in microbiology                                                                       2291.330\n",
       "trends in molecular medicine                                                                 2248.330\n",
       "trends in neuroscience                                                                       2402.810\n",
       "trends in neurosciences                                                                    501212.980\n",
       "trends in parasitology                                                                       2384.110\n",
       "trials                                                                                       1253.250\n",
       "trials                                                                                       1165.000\n",
       "trop med int health                                                                          1834.770\n",
       "tropical animal health & production                                                          2054.780\n",
       "tropical medicine and international health                                                   1883.625\n",
       "tuberculosis                                                                                 2161.255\n",
       "urban history                                                                                2034.000\n",
       "urolithiasis                                                                                 1112.400\n",
       "vaccine                                                                                      1448.380\n",
       "vascular pharmacology                                                                        2352.530\n",
       "veterinary microbiology                                                                      2451.490\n",
       "veterinary parasitology                                                                    501243.585\n",
       "veterinary record                                                                            2040.000\n",
       "veterinary research                                                                             9.930\n",
       "virology                                                                                     1928.505\n",
       "virology journal                                                                             1242.000\n",
       "virus research                                                                               1947.090\n",
       "vision research                                                                            500727.590\n",
       "visual neuroscience                                                                          2034.000\n",
       "zoonoses and public health                                                                   2272.150\n",
       "Name: cost, Length: 918, dtype: float64"
      ]
     },
     "execution_count": 148,
     "metadata": {},
     "output_type": "execute_result"
    }
   ],
   "source": [
    "apc_data.groupby('journal_name')['cost'].median()"
   ]
  },
  {
   "cell_type": "code",
   "execution_count": 152,
   "metadata": {},
   "outputs": [
    {
     "data": {
      "text/plain": [
       "journal_name\n",
       "academy of nutrition and dietetics                                                                   NaN\n",
       "acs chemical biology                                                                          507.309560\n",
       "acs chemical neuroscience                                                                            NaN\n",
       "acs nano                                                                                       35.708892\n",
       "acta crystallographica section d,  biological crystallography                                        NaN\n",
       "acta crystallographica section d: biological crystallography                                         NaN\n",
       "acta crystallographica section f: structural biology and crystallization communications        15.605847\n",
       "acta crystallographica, section d                                                                    NaN\n",
       "acta crystallography d                                                                               NaN\n",
       "acta d                                                                                               NaN\n",
       "acta dermato venereologica                                                                           NaN\n",
       "acta diabetologica                                                                                   NaN\n",
       "acta f                                                                                               NaN\n",
       "acta neuropathol                                                                                     NaN\n",
       "acta neuropathologica                                                                         244.811798\n",
       "acta opthalmologica                                                                                  NaN\n",
       "acta physiol                                                                                         NaN\n",
       "addiction                                                                                     306.481292\n",
       "advances in experimental medicine and biology                                                   0.005000\n",
       "age                                                                                           237.785868\n",
       "age and ageing                                                                                       NaN\n",
       "ageing & society                                                                                     NaN\n",
       "aging cell                                                                                           NaN\n",
       "aids                                                                                          281.067979\n",
       "aids behav                                                                                           NaN\n",
       "aids care                                                                                     126.415851\n",
       "aids journal                                                                                         NaN\n",
       "aids research and therapy                                                                            NaN\n",
       "aids uk                                                                                         0.000000\n",
       "alcohol and alcoholism                                                                               NaN\n",
       "                                                                                               ...      \n",
       "traffic                                                                                       340.691688\n",
       "transactions of the royal society of tropical medicine and hygiene                                   NaN\n",
       "translational psychiatry                                                                        0.000000\n",
       "trends in cognitive science                                                                          NaN\n",
       "trends in genetics                                                                              3.995153\n",
       "trends in microbiology                                                                               NaN\n",
       "trends in molecular medicine                                                                         NaN\n",
       "trends in neuroscience                                                                               NaN\n",
       "trends in neurosciences                                                                    705389.954206\n",
       "trends in parasitology                                                                     498870.709384\n",
       "trials                                                                                     499393.359606\n",
       "trials                                                                                               NaN\n",
       "trop med int health                                                                                  NaN\n",
       "tropical animal health & production                                                                  NaN\n",
       "tropical medicine and international health                                                    161.141743\n",
       "tuberculosis                                                                                  228.133861\n",
       "urban history                                                                                        NaN\n",
       "urolithiasis                                                                                         NaN\n",
       "vaccine                                                                                       394.821486\n",
       "vascular pharmacology                                                                                NaN\n",
       "veterinary microbiology                                                                              NaN\n",
       "veterinary parasitology                                                                    705346.672200\n",
       "veterinary record                                                                                    NaN\n",
       "veterinary research                                                                                  NaN\n",
       "virology                                                                                      697.850753\n",
       "virology journal                                                                                     NaN\n",
       "virus research                                                                                       NaN\n",
       "vision research                                                                            706076.399327\n",
       "visual neuroscience                                                                                  NaN\n",
       "zoonoses and public health                                                                           NaN\n",
       "Name: cost, Length: 918, dtype: float64"
      ]
     },
     "execution_count": 152,
     "metadata": {},
     "output_type": "execute_result"
    }
   ],
   "source": [
    "apc_data.groupby('journal_name')['cost'].std()"
   ]
  },
  {
   "cell_type": "code",
   "execution_count": null,
   "metadata": {},
   "outputs": [],
   "source": []
  }
 ],
 "metadata": {
  "kernelspec": {
   "display_name": "Python 3",
   "language": "python",
   "name": "python3"
  },
  "language_info": {
   "codemirror_mode": {
    "name": "ipython",
    "version": 3
   },
   "file_extension": ".py",
   "mimetype": "text/x-python",
   "name": "python",
   "nbconvert_exporter": "python",
   "pygments_lexer": "ipython3",
   "version": "3.7.3"
  }
 },
 "nbformat": 4,
 "nbformat_minor": 2
}
