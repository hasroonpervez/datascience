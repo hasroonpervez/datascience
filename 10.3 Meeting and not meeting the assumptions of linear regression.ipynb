{
  "nbformat": 4,
  "nbformat_minor": 0,
  "metadata": {
    "colab": {
      "name": "Meeting and not meeting the assumptions of linear regression.ipynb",
      "provenance": [],
      "collapsed_sections": [],
      "authorship_tag": "ABX9TyPISA1yKHXFj8MjTE4XML3C"
    },
    "kernelspec": {
      "name": "python3",
      "display_name": "Python 3"
    }
  },
  "cells": [
    {
      "cell_type": "code",
      "metadata": {
        "id": "H7VLrs1R3Zby",
        "colab_type": "code",
        "colab": {
          "base_uri": "https://localhost:8080/",
          "height": 71
        },
        "outputId": "0aa5e51f-c381-46a8-e486-cee98a3f5acd"
      },
      "source": [
        "import matplotlib.pyplot as plt\n",
        "import numpy as np\n",
        "import pandas as pd\n",
        "from sklearn import linear_model\n",
        "import statsmodels.api as sm\n",
        "import statsmodels.formula.api as smf\n",
        "from statsmodels.tsa.stattools import acf\n",
        "from sqlalchemy import create_engine\n",
        "from scipy.stats import bartlett, jarque_bera, levene, normaltest\n",
        "\n",
        "import warnings\n",
        "warnings.filterwarnings('ignore')\n",
        "\n",
        "\n",
        "postgres_user = 'dsbc_student'\n",
        "postgres_pw = '7*.8G9QH21'\n",
        "postgres_host = '142.93.121.174'\n",
        "postgres_port = '5432'\n",
        "postgres_db = 'weatherinszeged'"
      ],
      "execution_count": 1,
      "outputs": [
        {
          "output_type": "stream",
          "text": [
            "/usr/local/lib/python3.6/dist-packages/statsmodels/tools/_testing.py:19: FutureWarning: pandas.util.testing is deprecated. Use the functions in the public API at pandas.testing instead.\n",
            "  import pandas.util.testing as tm\n"
          ],
          "name": "stderr"
        }
      ]
    },
    {
      "cell_type": "code",
      "metadata": {
        "id": "Ozef6IRf3iIC",
        "colab_type": "code",
        "colab": {}
      },
      "source": [
        "engine = create_engine('postgresql://{}:{}@{}:{}/{}'.format(\n",
        "    postgres_user, postgres_pw, postgres_host, postgres_port, postgres_db))\n",
        "weather = pd.read_sql_query('select * from weatherinszeged',con=engine)\n",
        "\n",
        "# no need for an open connection, as we're only doing a single query\n",
        "engine.dispose()\n"
      ],
      "execution_count": 2,
      "outputs": []
    },
    {
      "cell_type": "code",
      "metadata": {
        "id": "lt0ruAlN3os5",
        "colab_type": "code",
        "colab": {
          "base_uri": "https://localhost:8080/",
          "height": 374
        },
        "outputId": "c4c7f0de-7990-4b50-c2bc-be0b50997467"
      },
      "source": [
        "weather.head()"
      ],
      "execution_count": 3,
      "outputs": [
        {
          "output_type": "execute_result",
          "data": {
            "text/html": [
              "<div>\n",
              "<style scoped>\n",
              "    .dataframe tbody tr th:only-of-type {\n",
              "        vertical-align: middle;\n",
              "    }\n",
              "\n",
              "    .dataframe tbody tr th {\n",
              "        vertical-align: top;\n",
              "    }\n",
              "\n",
              "    .dataframe thead th {\n",
              "        text-align: right;\n",
              "    }\n",
              "</style>\n",
              "<table border=\"1\" class=\"dataframe\">\n",
              "  <thead>\n",
              "    <tr style=\"text-align: right;\">\n",
              "      <th></th>\n",
              "      <th>date</th>\n",
              "      <th>summary</th>\n",
              "      <th>preciptype</th>\n",
              "      <th>temperature</th>\n",
              "      <th>apparenttemperature</th>\n",
              "      <th>humidity</th>\n",
              "      <th>windspeed</th>\n",
              "      <th>windbearing</th>\n",
              "      <th>visibility</th>\n",
              "      <th>loudcover</th>\n",
              "      <th>pressure</th>\n",
              "      <th>dailysummary</th>\n",
              "    </tr>\n",
              "  </thead>\n",
              "  <tbody>\n",
              "    <tr>\n",
              "      <th>0</th>\n",
              "      <td>2006-03-31 22:00:00+00:00</td>\n",
              "      <td>Partly Cloudy</td>\n",
              "      <td>rain</td>\n",
              "      <td>9.472222</td>\n",
              "      <td>7.388889</td>\n",
              "      <td>0.89</td>\n",
              "      <td>14.1197</td>\n",
              "      <td>251.0</td>\n",
              "      <td>15.8263</td>\n",
              "      <td>0.0</td>\n",
              "      <td>1015.13</td>\n",
              "      <td>Partly cloudy throughout the day.</td>\n",
              "    </tr>\n",
              "    <tr>\n",
              "      <th>1</th>\n",
              "      <td>2006-03-31 23:00:00+00:00</td>\n",
              "      <td>Partly Cloudy</td>\n",
              "      <td>rain</td>\n",
              "      <td>9.355556</td>\n",
              "      <td>7.227778</td>\n",
              "      <td>0.86</td>\n",
              "      <td>14.2646</td>\n",
              "      <td>259.0</td>\n",
              "      <td>15.8263</td>\n",
              "      <td>0.0</td>\n",
              "      <td>1015.63</td>\n",
              "      <td>Partly cloudy throughout the day.</td>\n",
              "    </tr>\n",
              "    <tr>\n",
              "      <th>2</th>\n",
              "      <td>2006-04-01 00:00:00+00:00</td>\n",
              "      <td>Mostly Cloudy</td>\n",
              "      <td>rain</td>\n",
              "      <td>9.377778</td>\n",
              "      <td>9.377778</td>\n",
              "      <td>0.89</td>\n",
              "      <td>3.9284</td>\n",
              "      <td>204.0</td>\n",
              "      <td>14.9569</td>\n",
              "      <td>0.0</td>\n",
              "      <td>1015.94</td>\n",
              "      <td>Partly cloudy throughout the day.</td>\n",
              "    </tr>\n",
              "    <tr>\n",
              "      <th>3</th>\n",
              "      <td>2006-04-01 01:00:00+00:00</td>\n",
              "      <td>Partly Cloudy</td>\n",
              "      <td>rain</td>\n",
              "      <td>8.288889</td>\n",
              "      <td>5.944444</td>\n",
              "      <td>0.83</td>\n",
              "      <td>14.1036</td>\n",
              "      <td>269.0</td>\n",
              "      <td>15.8263</td>\n",
              "      <td>0.0</td>\n",
              "      <td>1016.41</td>\n",
              "      <td>Partly cloudy throughout the day.</td>\n",
              "    </tr>\n",
              "    <tr>\n",
              "      <th>4</th>\n",
              "      <td>2006-04-01 02:00:00+00:00</td>\n",
              "      <td>Mostly Cloudy</td>\n",
              "      <td>rain</td>\n",
              "      <td>8.755556</td>\n",
              "      <td>6.977778</td>\n",
              "      <td>0.83</td>\n",
              "      <td>11.0446</td>\n",
              "      <td>259.0</td>\n",
              "      <td>15.8263</td>\n",
              "      <td>0.0</td>\n",
              "      <td>1016.51</td>\n",
              "      <td>Partly cloudy throughout the day.</td>\n",
              "    </tr>\n",
              "  </tbody>\n",
              "</table>\n",
              "</div>"
            ],
            "text/plain": [
              "                       date  ...                       dailysummary\n",
              "0 2006-03-31 22:00:00+00:00  ...  Partly cloudy throughout the day.\n",
              "1 2006-03-31 23:00:00+00:00  ...  Partly cloudy throughout the day.\n",
              "2 2006-04-01 00:00:00+00:00  ...  Partly cloudy throughout the day.\n",
              "3 2006-04-01 01:00:00+00:00  ...  Partly cloudy throughout the day.\n",
              "4 2006-04-01 02:00:00+00:00  ...  Partly cloudy throughout the day.\n",
              "\n",
              "[5 rows x 12 columns]"
            ]
          },
          "metadata": {
            "tags": []
          },
          "execution_count": 3
        }
      ]
    },
    {
      "cell_type": "markdown",
      "metadata": {
        "id": "25Z7Zdpd6kTm",
        "colab_type": "text"
      },
      "source": [
        "We have our dataframe ready. Since we also know our features let's begin by building a model:"
      ]
    },
    {
      "cell_type": "code",
      "metadata": {
        "id": "pbbynL5C3seN",
        "colab_type": "code",
        "colab": {
          "base_uri": "https://localhost:8080/",
          "height": 119
        },
        "outputId": "5a308d4c-c5f2-49e7-e3b4-3efdfafc801b"
      },
      "source": [
        "Y = weather['temperature']\n",
        "X = weather[['humidity','windspeed','windbearing','pressure']]\n",
        "\n",
        "# We create a LinearRegression model object\n",
        "# from scikit-learn's linear_model module.\n",
        "lrm = linear_model.LinearRegression()\n",
        "\n",
        "# fit method estimates the coefficients using OLS\n",
        "lrm.fit(X, Y)\n",
        "\n",
        "# Inspect the results.\n",
        "print('\\nCoefficients: \\n', lrm.coef_)\n",
        "print('\\nIntercept: \\n', lrm.intercept_)"
      ],
      "execution_count": 4,
      "outputs": [
        {
          "output_type": "stream",
          "text": [
            "\n",
            "Coefficients: \n",
            " [-3.24962454e+01 -2.01413742e-01  4.04836936e-03 -6.91759209e-04]\n",
            "\n",
            "Intercept: \n",
            " 37.92643818528538\n"
          ],
          "name": "stdout"
        }
      ]
    },
    {
      "cell_type": "code",
      "metadata": {
        "id": "lBxDiBMt6tl1",
        "colab_type": "code",
        "colab": {
          "base_uri": "https://localhost:8080/",
          "height": 520
        },
        "outputId": "e43db767-ca94-4cf4-a554-b2a214cc0fce"
      },
      "source": [
        "results = sm.OLS(Y, X).fit()\n",
        "results.summary()"
      ],
      "execution_count": 5,
      "outputs": [
        {
          "output_type": "execute_result",
          "data": {
            "text/html": [
              "<table class=\"simpletable\">\n",
              "<caption>OLS Regression Results</caption>\n",
              "<tr>\n",
              "  <th>Dep. Variable:</th>       <td>temperature</td>   <th>  R-squared (uncentered):</th>       <td>   0.712</td>  \n",
              "</tr>\n",
              "<tr>\n",
              "  <th>Model:</th>                   <td>OLS</td>       <th>  Adj. R-squared (uncentered):</th>  <td>   0.712</td>  \n",
              "</tr>\n",
              "<tr>\n",
              "  <th>Method:</th>             <td>Least Squares</td>  <th>  F-statistic:       </th>           <td>5.950e+04</td> \n",
              "</tr>\n",
              "<tr>\n",
              "  <th>Date:</th>             <td>Tue, 21 Jul 2020</td> <th>  Prob (F-statistic):</th>            <td>  0.00</td>   \n",
              "</tr>\n",
              "<tr>\n",
              "  <th>Time:</th>                 <td>02:42:17</td>     <th>  Log-Likelihood:    </th>          <td>-3.3991e+05</td>\n",
              "</tr>\n",
              "<tr>\n",
              "  <th>No. Observations:</th>      <td> 96453</td>      <th>  AIC:               </th>           <td>6.798e+05</td> \n",
              "</tr>\n",
              "<tr>\n",
              "  <th>Df Residuals:</th>          <td> 96449</td>      <th>  BIC:               </th>           <td>6.799e+05</td> \n",
              "</tr>\n",
              "<tr>\n",
              "  <th>Df Model:</th>              <td>     4</td>      <th>                     </th>               <td> </td>     \n",
              "</tr>\n",
              "<tr>\n",
              "  <th>Covariance Type:</th>      <td>nonrobust</td>    <th>                     </th>               <td> </td>     \n",
              "</tr>\n",
              "</table>\n",
              "<table class=\"simpletable\">\n",
              "<tr>\n",
              "       <td></td>          <th>coef</th>     <th>std err</th>      <th>t</th>      <th>P>|t|</th>  <th>[0.025</th>    <th>0.975]</th>  \n",
              "</tr>\n",
              "<tr>\n",
              "  <th>humidity</th>    <td>  -23.9965</td> <td>    0.126</td> <td> -190.964</td> <td> 0.000</td> <td>  -24.243</td> <td>  -23.750</td>\n",
              "</tr>\n",
              "<tr>\n",
              "  <th>windspeed</th>   <td>   -0.0460</td> <td>    0.004</td> <td>  -12.103</td> <td> 0.000</td> <td>   -0.053</td> <td>   -0.039</td>\n",
              "</tr>\n",
              "<tr>\n",
              "  <th>windbearing</th> <td>    0.0096</td> <td>    0.000</td> <td>   39.178</td> <td> 0.000</td> <td>    0.009</td> <td>    0.010</td>\n",
              "</tr>\n",
              "<tr>\n",
              "  <th>pressure</th>    <td>    0.0278</td> <td>    0.000</td> <td>  252.540</td> <td> 0.000</td> <td>    0.028</td> <td>    0.028</td>\n",
              "</tr>\n",
              "</table>\n",
              "<table class=\"simpletable\">\n",
              "<tr>\n",
              "  <th>Omnibus:</th>       <td>3331.234</td> <th>  Durbin-Watson:     </th> <td>   0.238</td>\n",
              "</tr>\n",
              "<tr>\n",
              "  <th>Prob(Omnibus):</th>  <td> 0.000</td>  <th>  Jarque-Bera (JB):  </th> <td>7796.776</td>\n",
              "</tr>\n",
              "<tr>\n",
              "  <th>Skew:</th>           <td> 0.191</td>  <th>  Prob(JB):          </th> <td>    0.00</td>\n",
              "</tr>\n",
              "<tr>\n",
              "  <th>Kurtosis:</th>       <td> 4.339</td>  <th>  Cond. No.          </th> <td>4.88e+03</td>\n",
              "</tr>\n",
              "</table><br/><br/>Warnings:<br/>[1] Standard Errors assume that the covariance matrix of the errors is correctly specified.<br/>[2] The condition number is large, 4.88e+03. This might indicate that there are<br/>strong multicollinearity or other numerical problems."
            ],
            "text/plain": [
              "<class 'statsmodels.iolib.summary.Summary'>\n",
              "\"\"\"\n",
              "                                 OLS Regression Results                                \n",
              "=======================================================================================\n",
              "Dep. Variable:            temperature   R-squared (uncentered):                   0.712\n",
              "Model:                            OLS   Adj. R-squared (uncentered):              0.712\n",
              "Method:                 Least Squares   F-statistic:                          5.950e+04\n",
              "Date:                Tue, 21 Jul 2020   Prob (F-statistic):                        0.00\n",
              "Time:                        02:42:17   Log-Likelihood:                     -3.3991e+05\n",
              "No. Observations:               96453   AIC:                                  6.798e+05\n",
              "Df Residuals:                   96449   BIC:                                  6.799e+05\n",
              "Df Model:                           4                                                  \n",
              "Covariance Type:            nonrobust                                                  \n",
              "===============================================================================\n",
              "                  coef    std err          t      P>|t|      [0.025      0.975]\n",
              "-------------------------------------------------------------------------------\n",
              "humidity      -23.9965      0.126   -190.964      0.000     -24.243     -23.750\n",
              "windspeed      -0.0460      0.004    -12.103      0.000      -0.053      -0.039\n",
              "windbearing     0.0096      0.000     39.178      0.000       0.009       0.010\n",
              "pressure        0.0278      0.000    252.540      0.000       0.028       0.028\n",
              "==============================================================================\n",
              "Omnibus:                     3331.234   Durbin-Watson:                   0.238\n",
              "Prob(Omnibus):                  0.000   Jarque-Bera (JB):             7796.776\n",
              "Skew:                           0.191   Prob(JB):                         0.00\n",
              "Kurtosis:                       4.339   Cond. No.                     4.88e+03\n",
              "==============================================================================\n",
              "\n",
              "Warnings:\n",
              "[1] Standard Errors assume that the covariance matrix of the errors is correctly specified.\n",
              "[2] The condition number is large, 4.88e+03. This might indicate that there are\n",
              "strong multicollinearity or other numerical problems.\n",
              "\"\"\""
            ]
          },
          "metadata": {
            "tags": []
          },
          "execution_count": 5
        }
      ]
    },
    {
      "cell_type": "markdown",
      "metadata": {
        "id": "1Ri9Mi0D7EJP",
        "colab_type": "text"
      },
      "source": [
        "##**Gauss-Markov assumptions:**"
      ]
    },
    {
      "cell_type": "markdown",
      "metadata": {
        "id": "bWpf61kH7JF4",
        "colab_type": "text"
      },
      "source": [
        "#1. Linearity of model in its coefficients:"
      ]
    },
    {
      "cell_type": "code",
      "metadata": {
        "id": "3cH4YQt_6-tB",
        "colab_type": "code",
        "colab": {
          "base_uri": "https://localhost:8080/",
          "height": 341
        },
        "outputId": "d47c1671-0067-48b7-f6be-a6933a8057a4"
      },
      "source": [
        "# predictions of the linear regression\n",
        "predictions = lrm.predict(X)\n",
        "\n",
        "# we plot the estimated Y and X\n",
        "# the relationship should be quadratic\n",
        "\n",
        "plt.figure(figsize=(20, 5))\n",
        "i = 0\n",
        "for column in X.columns:\n",
        "    i +=1\n",
        "    plt.tight_layout()\n",
        "    plt.subplot(1, 4, i)\n",
        "    plt.scatter(weather[column], predictions)\n",
        "    plt.xlabel(\"feature\")\n",
        "    plt.ylabel(\"target\")\n",
        "    plt.title('{} vs temperature'.format(column))\n",
        "plt.show()\n",
        "\n"
      ],
      "execution_count": 6,
      "outputs": [
        {
          "output_type": "display_data",
          "data": {
            "image/png": "[encoded data removed]",
            "text/plain": [
              "<Figure size 1440x360 with 4 Axes>"
            ]
          },
          "metadata": {
            "tags": [],
            "needs_background": "light"
          }
        }
      ]
    },
    {
      "cell_type": "markdown",
      "metadata": {
        "id": "R77hBoEZ9kY1",
        "colab_type": "text"
      },
      "source": [
        "The first plot shows that humidity has a negative linear relationship with temperature, manifesting in a declining trend.\n",
        "\n",
        "The second plot does show some linearity that leans toward the negative side, but since windspeed is not necessarily a phenomenon that relates to temperature, its linearity has its limits, e.g high wind speeds can occurr in hurricanes that occur during warmer periods.\n",
        "\n",
        "The last two plots show no linearity, windbearing is scattered all over the plot and looks more like noise than it is a relationship, and pressure shows two possible values (or narrow ranges of values) that have no visible relationship with temperature."
      ]
    },
    {
      "cell_type": "markdown",
      "metadata": {
        "id": "J0EwZyGt_LpI",
        "colab_type": "text"
      },
      "source": [
        "#2. The error term should be zero on average"
      ]
    },
    {
      "cell_type": "code",
      "metadata": {
        "id": "VP-3vKPq_Psg",
        "colab_type": "code",
        "colab": {
          "base_uri": "https://localhost:8080/",
          "height": 34
        },
        "outputId": "db594e82-19f9-4de9-92b9-4b792df93e7e"
      },
      "source": [
        "predictions = lrm.predict(X)\n",
        "errors = Y - predictions\n",
        "\n",
        "print(\"Mean of errors: {}\".format(np.mean(errors)))"
      ],
      "execution_count": 7,
      "outputs": [
        {
          "output_type": "stream",
          "text": [
            "Mean of errors: -3.732130268532674e-15\n"
          ],
          "name": "stdout"
        }
      ]
    },
    {
      "cell_type": "markdown",
      "metadata": {
        "id": "jnH4W4Gq_jqX",
        "colab_type": "text"
      },
      "source": [
        "We will be adding a constant to the model so that the average errors becomes zero."
      ]
    },
    {
      "cell_type": "markdown",
      "metadata": {
        "id": "7ofr7Qhk_p95",
        "colab_type": "text"
      },
      "source": [
        "#3. Homoscedasticity"
      ]
    },
    {
      "cell_type": "markdown",
      "metadata": {
        "id": "hhE5ZWf4AuCq",
        "colab_type": "text"
      },
      "source": [
        "Let's checkout whether our model suffers from heteroscedasticity by visualizing and Statistical tests:"
      ]
    },
    {
      "cell_type": "code",
      "metadata": {
        "id": "zJyh3ho-_gI4",
        "colab_type": "code",
        "colab": {
          "base_uri": "https://localhost:8080/",
          "height": 295
        },
        "outputId": "9e057bf8-94ea-4eae-8aba-a9cc5a5e8fb5"
      },
      "source": [
        "plt.scatter(predictions, errors)\n",
        "plt.xlabel('Predicted')\n",
        "plt.ylabel('Residual')\n",
        "plt.axhline(y=0)\n",
        "plt.title('Residual vs. Predicted')\n",
        "plt.show()"
      ],
      "execution_count": 8,
      "outputs": [
        {
          "output_type": "display_data",
          "data": {
            "image/png": "[encoded data removed]",
            "text/plain": [
              "<Figure size 432x288 with 1 Axes>"
            ]
          },
          "metadata": {
            "tags": [],
            "needs_background": "light"
          }
        }
      ]
    },
    {
      "cell_type": "markdown",
      "metadata": {
        "id": "-yFm9z-dD9Ku",
        "colab_type": "text"
      },
      "source": [
        "Let's use **Bartlett** and **Levene** tests. The null hypothesis for both tests is that the errors are homoscedastic.\n",
        "\n",
        "Let's use these tests to find out whether our error are homoscedastic or not:"
      ]
    },
    {
      "cell_type": "code",
      "metadata": {
        "id": "FuLOZXfL_x3j",
        "colab_type": "code",
        "colab": {
          "base_uri": "https://localhost:8080/",
          "height": 51
        },
        "outputId": "291458e3-5676-4647-c9af-b28d0369cf3d"
      },
      "source": [
        "from scipy.stats import bartlett\n",
        "from scipy.stats import levene\n",
        "\n",
        "bart_stats = bartlett(predictions, errors)\n",
        "lev_stats = levene(predictions, errors)\n",
        "\n",
        "print(\"Bartlett test statistic value is {} and p value is {}\".format(bart_stats[0], bart_stats[1]))\n",
        "print(\"Levene test statistic value is {} and p value is {}\".format(lev_stats[0], lev_stats[1]))"
      ],
      "execution_count": 9,
      "outputs": [
        {
          "output_type": "stream",
          "text": [
            "Bartlett test statistic value is 2464.844656867369 and p value is 0.0\n",
            "Levene test statistic value is 2321.2401008574006 and p value is 0.0\n"
          ],
          "name": "stdout"
        }
      ]
    },
    {
      "cell_type": "markdown",
      "metadata": {
        "id": "qH_P7-75Ba2r",
        "colab_type": "text"
      },
      "source": [
        "The p-values of both tests are 0. Which means our errors are not homoscedastic.."
      ]
    },
    {
      "cell_type": "markdown",
      "metadata": {
        "id": "8nm4LjYaBuz4",
        "colab_type": "text"
      },
      "source": [
        "#4. Low multicollinearity"
      ]
    },
    {
      "cell_type": "markdown",
      "metadata": {
        "id": "-lI0uz_4BzT9",
        "colab_type": "text"
      },
      "source": [
        "To check for multicollinearity, let's take a look at correlation of features:"
      ]
    },
    {
      "cell_type": "code",
      "metadata": {
        "id": "Sx9UVJgfBIEc",
        "colab_type": "code",
        "colab": {
          "base_uri": "https://localhost:8080/",
          "height": 173
        },
        "outputId": "9adf006d-b49b-4593-b06e-28ce7e0f93b3"
      },
      "source": [
        "X.corr()"
      ],
      "execution_count": 10,
      "outputs": [
        {
          "output_type": "execute_result",
          "data": {
            "text/html": [
              "<div>\n",
              "<style scoped>\n",
              "    .dataframe tbody tr th:only-of-type {\n",
              "        vertical-align: middle;\n",
              "    }\n",
              "\n",
              "    .dataframe tbody tr th {\n",
              "        vertical-align: top;\n",
              "    }\n",
              "\n",
              "    .dataframe thead th {\n",
              "        text-align: right;\n",
              "    }\n",
              "</style>\n",
              "<table border=\"1\" class=\"dataframe\">\n",
              "  <thead>\n",
              "    <tr style=\"text-align: right;\">\n",
              "      <th></th>\n",
              "      <th>humidity</th>\n",
              "      <th>windspeed</th>\n",
              "      <th>windbearing</th>\n",
              "      <th>pressure</th>\n",
              "    </tr>\n",
              "  </thead>\n",
              "  <tbody>\n",
              "    <tr>\n",
              "      <th>humidity</th>\n",
              "      <td>1.000000</td>\n",
              "      <td>-0.224951</td>\n",
              "      <td>0.000735</td>\n",
              "      <td>0.005454</td>\n",
              "    </tr>\n",
              "    <tr>\n",
              "      <th>windspeed</th>\n",
              "      <td>-0.224951</td>\n",
              "      <td>1.000000</td>\n",
              "      <td>0.103822</td>\n",
              "      <td>-0.049263</td>\n",
              "    </tr>\n",
              "    <tr>\n",
              "      <th>windbearing</th>\n",
              "      <td>0.000735</td>\n",
              "      <td>0.103822</td>\n",
              "      <td>1.000000</td>\n",
              "      <td>-0.011651</td>\n",
              "    </tr>\n",
              "    <tr>\n",
              "      <th>pressure</th>\n",
              "      <td>0.005454</td>\n",
              "      <td>-0.049263</td>\n",
              "      <td>-0.011651</td>\n",
              "      <td>1.000000</td>\n",
              "    </tr>\n",
              "  </tbody>\n",
              "</table>\n",
              "</div>"
            ],
            "text/plain": [
              "             humidity  windspeed  windbearing  pressure\n",
              "humidity     1.000000  -0.224951     0.000735  0.005454\n",
              "windspeed   -0.224951   1.000000     0.103822 -0.049263\n",
              "windbearing  0.000735   0.103822     1.000000 -0.011651\n",
              "pressure     0.005454  -0.049263    -0.011651  1.000000"
            ]
          },
          "metadata": {
            "tags": []
          },
          "execution_count": 10
        }
      ]
    },
    {
      "cell_type": "markdown",
      "metadata": {
        "id": "UjsI6LRwCTDy",
        "colab_type": "text"
      },
      "source": [
        "Our features have low multicollinearity. This matches the fourth assumption."
      ]
    },
    {
      "cell_type": "markdown",
      "metadata": {
        "id": "4LD3hp09CV8v",
        "colab_type": "text"
      },
      "source": [
        "#5. Error terms should be uncorrelated with one another"
      ]
    },
    {
      "cell_type": "code",
      "metadata": {
        "id": "gh7huNu3B44J",
        "colab_type": "code",
        "colab": {
          "base_uri": "https://localhost:8080/",
          "height": 265
        },
        "outputId": "7de7bc3b-1512-46ad-a8e4-99b358973981"
      },
      "source": [
        "plt.plot(errors)\n",
        "plt.show()"
      ],
      "execution_count": 11,
      "outputs": [
        {
          "output_type": "display_data",
          "data": {
            "image/png": "[encoded data removed]",
            "text/plain": [
              "<Figure size 432x288 with 1 Axes>"
            ]
          },
          "metadata": {
            "tags": [],
            "needs_background": "light"
          }
        }
      ]
    },
    {
      "cell_type": "code",
      "metadata": {
        "id": "aYD25Pm8CarG",
        "colab_type": "code",
        "colab": {
          "base_uri": "https://localhost:8080/",
          "height": 265
        },
        "outputId": "ddb5e635-b277-4cd3-9201-10eb77e6811b"
      },
      "source": [
        "acf_data = acf(errors)\n",
        "\n",
        "plt.plot(acf_data[1:])\n",
        "plt.show()"
      ],
      "execution_count": 12,
      "outputs": [
        {
          "output_type": "display_data",
          "data": {
            "image/png": "[encoded data removed]",
            "text/plain": [
              "<Figure size 432x288 with 1 Axes>"
            ]
          },
          "metadata": {
            "tags": [],
            "needs_background": "light"
          }
        }
      ]
    },
    {
      "cell_type": "markdown",
      "metadata": {
        "id": "I6D7t0jPCi9b",
        "colab_type": "text"
      },
      "source": [
        "Model errors seem to be correlated, which is against the fifth assumption."
      ]
    },
    {
      "cell_type": "markdown",
      "metadata": {
        "id": "bhBaah_nCzzT",
        "colab_type": "text"
      },
      "source": [
        "#6. Features shouldn't be correlated with the errors"
      ]
    },
    {
      "cell_type": "code",
      "metadata": {
        "id": "gab1SDh_Cd-c",
        "colab_type": "code",
        "colab": {
          "base_uri": "https://localhost:8080/",
          "height": 369
        },
        "outputId": "922a8544-8d92-4a81-b058-3e09d29876bd"
      },
      "source": [
        "rand_nums = np.random.normal(np.mean(errors), np.std(errors), len(errors))\n",
        "\n",
        "plt.figure(figsize=(12,5))\n",
        "\n",
        "plt.subplot(1,2,1)\n",
        "plt.scatter(np.sort(rand_nums), np.sort(errors)) # we sort the arrays\n",
        "plt.xlabel(\"the normally distributed random variable\")\n",
        "plt.ylabel(\"errors of the model\")\n",
        "plt.title(\"QQ plot\")\n",
        "\n",
        "plt.subplot(1,2,2)\n",
        "plt.hist(errors)\n",
        "plt.xlabel(\"errors\")\n",
        "plt.title(\"Histogram of the errors\")\n",
        "\n",
        "plt.tight_layout()\n",
        "plt.show()"
      ],
      "execution_count": 13,
      "outputs": [
        {
          "output_type": "display_data",
          "data": {
            "image/png": "[encoded data removed]",
            "text/plain": [
              "<Figure size 864x360 with 2 Axes>"
            ]
          },
          "metadata": {
            "tags": [],
            "needs_background": "light"
          }
        }
      ]
    },
    {
      "cell_type": "markdown",
      "metadata": {
        "id": "zPCSSyiIDF7e",
        "colab_type": "text"
      },
      "source": [
        "In the charts above, our errors are not normally distributed exactly. But the QQ plot and the histogram imply that the distribution is not very far away from normal."
      ]
    },
    {
      "cell_type": "markdown",
      "metadata": {
        "id": "3UvQjhMvDoS7",
        "colab_type": "text"
      },
      "source": [
        "Let's use **Jarque Bera** and **normal tests**. The null hypothesis of both tests is that the errors are normally distributed.\n",
        "\n",
        "Let's use these tests to find out whether our error terms are normally distributed or not:"
      ]
    },
    {
      "cell_type": "code",
      "metadata": {
        "id": "qI4-AHG7C6e1",
        "colab_type": "code",
        "colab": {
          "base_uri": "https://localhost:8080/",
          "height": 51
        },
        "outputId": "bb088e50-798b-4ad3-9ae8-70548898676c"
      },
      "source": [
        "jb_stats = jarque_bera(errors)\n",
        "norm_stats = normaltest(errors)\n",
        "\n",
        "print(\"Jarque-Bera test statistics is {0} and p value is {1}\".format(jb_stats[0], jb_stats[1]))\n",
        "print(\"Normality test statistics is {0} and p value is {1}\".format(norm_stats[0], norm_stats[1]))"
      ],
      "execution_count": 14,
      "outputs": [
        {
          "output_type": "stream",
          "text": [
            "Jarque-Bera test statistics is 3793.296735252357 and p value is 0.0\n",
            "Normality test statistics is 3375.4323076995743 and p value is 0.0\n"
          ],
          "name": "stdout"
        }
      ]
    },
    {
      "cell_type": "markdown",
      "metadata": {
        "id": "dph10koGD0Y1",
        "colab_type": "text"
      },
      "source": [
        "The p-values of both tests indicate that our errors are not normally distributed."
      ]
    }
  ]
}