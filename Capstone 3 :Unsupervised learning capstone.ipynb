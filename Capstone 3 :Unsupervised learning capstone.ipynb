{
  "nbformat": 4,
  "nbformat_minor": 0,
  "metadata": {
    "colab": {
      "name": "Unsupervised learning capstone.ipynb",
      "provenance": [],
      "authorship_tag": "ABX9TyN+84xoSNChZL+Hy6GGl9pA"
    },
    "kernelspec": {
      "name": "python3",
      "display_name": "Python 3"
    }
  },
  "cells": [
    {
      "cell_type": "markdown",
      "metadata": {
        "id": "0tkcs5Nd5-7w",
        "colab_type": "text"
      },
      "source": [
        "#**Credit Card Customers**"
      ]
    },
    {
      "cell_type": "markdown",
      "metadata": {
        "id": "wnxlTcSg5_j7",
        "colab_type": "text"
      },
      "source": [
        "\n",
        "The dataset for this project was obtained from an anonymous financial institute that provides loans for individuals, through [Kaggle](https://www.kaggle.com/arjunbhasin2013/ccdata). The objective from this project is to develop customer segmentation as a means to defining marketing strategy for the next campaign.\n",
        "\n",
        "The sample Dataset summarizes the usage behavior of about 9000 active credit card holders during the last 6 months. The file is at a customer level with 18 behavioral variables.\n",
        "\n"
      ]
    },
    {
      "cell_type": "markdown",
      "metadata": {
        "id": "j2ca-9jQBYJn",
        "colab_type": "text"
      },
      "source": [
        "Clustering is a task usually carried out when trying to explore the different groupings of customers for a business, based on shared features. Here we will be exploring kMeans and some of its variations, in addition to Affinity Propagation -all in order to support decision making efforts when deciding on a marketing strategy for the next campaign."
      ]
    },
    {
      "cell_type": "code",
      "metadata": {
        "id": "X3ruAEpt3vFn",
        "colab_type": "code",
        "colab": {
          "base_uri": "https://localhost:8080/",
          "height": 71
        },
        "outputId": "526e5dbb-c908-4202-831d-59ffa1ff1a48"
      },
      "source": [
        "import matplotlib.pyplot as plt\n",
        "import numpy as np \n",
        "import pandas as pd\n",
        "from scipy.stats.mstats import winsorize\n",
        "import seaborn as sns\n",
        "from sklearn.cluster import AffinityPropagation, estimate_bandwidth, KMeans, MeanShift, SpectralClustering\n",
        "from sklearn.decomposition import PCA\n",
        "from sklearn.metrics.pairwise import cosine_similarity\n",
        "from sklearn.preprocessing import StandardScaler\n",
        "from sklearn.model_selection import train_test_split\n",
        "import warnings\n",
        "warnings.filterwarnings(action=\"ignore\")"
      ],
      "execution_count": 1,
      "outputs": [
        {
          "output_type": "stream",
          "text": [
            "/usr/local/lib/python3.6/dist-packages/statsmodels/tools/_testing.py:19: FutureWarning: pandas.util.testing is deprecated. Use the functions in the public API at pandas.testing instead.\n",
            "  import pandas.util.testing as tm\n"
          ],
          "name": "stderr"
        }
      ]
    },
    {
      "cell_type": "markdown",
      "metadata": {
        "id": "HiXwfx-X7PJ4",
        "colab_type": "text"
      },
      "source": [
        "\n",
        "Let's upload a dataset into google colab"
      ]
    },
    {
      "cell_type": "code",
      "metadata": {
        "id": "KF2Ncx6E6Gom",
        "colab_type": "code",
        "colab": {
          "resources": {
            "http://localhost:8080/nbextensions/google.colab/files.js": {
              "data": "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",
              "ok": true,
              "headers": [
                [
                  "content-type",
                  "application/javascript"
                ]
              ],
              "status": 200,
              "status_text": ""
            }
          },
          "base_uri": "https://localhost:8080/",
          "height": 38
        },
        "outputId": "6fcb5f24-a819-4396-82cc-dff5a7633282"
      },
      "source": [
        "from google.colab import files\n",
        "uploaded = files.upload()"
      ],
      "execution_count": null,
      "outputs": [
        {
          "output_type": "display_data",
          "data": {
            "text/html": [
              "\n",
              "     <input type=\"file\" id=\"files-6b88d0e1-0b31-4c49-8721-547f2e76ff28\" name=\"files[]\" multiple disabled\n",
              "        style=\"border:none\" />\n",
              "     <output id=\"result-6b88d0e1-0b31-4c49-8721-547f2e76ff28\">\n",
              "      Upload widget is only available when the cell has been executed in the\n",
              "      current browser session. Please rerun this cell to enable.\n",
              "      </output>\n",
              "      <script src=\"/nbextensions/google.colab/files.js\"></script> "
            ],
            "text/plain": [
              "<IPython.core.display.HTML object>"
            ]
          },
          "metadata": {
            "tags": []
          }
        }
      ]
    },
    {
      "cell_type": "code",
      "metadata": {
        "id": "t47M4eYS7W5V",
        "colab_type": "code",
        "colab": {}
      },
      "source": [
        "import io\n",
        "data = pd.read_csv(io.BytesIO(uploaded['Credit Card Dataset for Clustering.csv']))\n",
        "# Dataset is now stored in a Pandas Dataframe"
      ],
      "execution_count": null,
      "outputs": []
    },
    {
      "cell_type": "code",
      "metadata": {
        "id": "LO8JVgwQ7qH4",
        "colab_type": "code",
        "colab": {}
      },
      "source": [
        "data.head()"
      ],
      "execution_count": null,
      "outputs": []
    },
    {
      "cell_type": "markdown",
      "metadata": {
        "id": "LTHl4-zjCCHA",
        "colab_type": "text"
      },
      "source": [
        "**Following is the Data Dictionary for Credit Card dataset :**\n",
        "\n",
        "\n",
        "\n",
        "**CUST_ID** : Identification of Credit Card holder (Categorical)\n",
        "\n",
        "**BALANCE** : Balance amount left in their account to make purchases\n",
        "\n",
        "**BALANCEFREQUENCY** : How frequently the Balance is updated, score between 0 and 1 (1 = frequently updated, 0 = not frequently updated)\n",
        "\n",
        "**PURCHASES** : Amount of purchases made from account\n",
        "\n",
        "**ONEOFFPURCHASES** : Maximum purchase amount done in one-go\n",
        "\n",
        "**INSTALLMENTSPURCHASES** : Amount of purchase done in installment\n",
        "\n",
        "**CASHADVANCE** : Cash in advance given by the user\n",
        "\n",
        "**PURCHASESFREQUENCY** : How frequently the Purchases are being made, score between 0 and 1 (1 = frequently purchased, 0 = not frequently purchased)\n",
        "\n",
        "**ONEOFFPURCHASESFREQUENCY** : How frequently Purchases are happening in one-go (1 = frequently purchased, 0 = not frequently purchased)\n",
        "\n",
        "**PURCHASESINSTALLMENTSFREQUENCY** : How frequently purchases in installments are being done (1 = frequently done, 0 = not frequently done)\n",
        "\n",
        "**CASHADVANCEFREQUENCY** : How frequently the cash in advance being paid\n",
        "\n",
        "**CASHADVANCETRX** : Number of Transactions made with \"Cash in Advanced\"\n",
        "\n",
        "**PURCHASESTRX** : Numbe of purchase transactions made\n",
        "\n",
        "**CREDITLIMIT** : Limit of Credit Card for user\n",
        "\n",
        "**PAYMENTS** : Amount of Payment done by user\n",
        "\n",
        "**MINIMUM_PAYMENTS** : Minimum amount of payments made by user\n",
        "\n",
        "**PRCFULLPAYMENT** : Percent of full payment paid by user\n",
        "\n",
        "**TENURE** : Tenure of credit card service for user"
      ]
    },
    {
      "cell_type": "markdown",
      "metadata": {
        "id": "VhNvIb8PDdCl",
        "colab_type": "text"
      },
      "source": [
        "#**Exploratory Data Analysis**"
      ]
    },
    {
      "cell_type": "markdown",
      "metadata": {
        "id": "Sj_uIqyBDh52",
        "colab_type": "text"
      },
      "source": [
        "Let's begin EDA by visualizing some of the variables we have in our dataset:"
      ]
    },
    {
      "cell_type": "code",
      "metadata": {
        "id": "mL-UMgAwDWzy",
        "colab_type": "code",
        "colab": {}
      },
      "source": [
        "plt.hist(winsorize(data['MINIMUM_PAYMENTS'],(0,0.09)))\n",
        "plt.title('Distribution of Minimum Payments Across Customers')\n",
        "plt.xlabel('Payment ($USD)')\n",
        "plt.ylabel('Frequency')\n",
        "plt.show()"
      ],
      "execution_count": null,
      "outputs": []
    },
    {
      "cell_type": "markdown",
      "metadata": {
        "id": "j5QyIRkgD0Po",
        "colab_type": "text"
      },
      "source": [
        "It would be normal to see most payments being in the lowest bin (0 - 250), and they are. But what about the highest bin where a significant number of customers have a minimum payment of more than $2300 a month?\n",
        "\n",
        "I would guess that there is a group of big spenders who have a high cap on credit limits within our dataset.\n",
        "\n",
        "Another question is how frequently customers take cash advances? let's take a look:"
      ]
    },
    {
      "cell_type": "code",
      "metadata": {
        "id": "waC-OnayDk9J",
        "colab_type": "code",
        "colab": {}
      },
      "source": [
        "plt.hist(winsorize(data['CASH_ADVANCE'],(0,0.05)))\n",
        "plt.title('Distribution of Cash Advances Across Customers')\n",
        "plt.xlabel('Cash Advance ($USD)')\n",
        "plt.ylabel('Frequency')\n",
        "plt.show()"
      ],
      "execution_count": null,
      "outputs": []
    },
    {
      "cell_type": "markdown",
      "metadata": {
        "id": "2y4Vn1yUEKWw",
        "colab_type": "text"
      },
      "source": [
        "Seems like many customers make use of this feature, and just like in the plot above, many take large amounts of cash in advance (over $4000)."
      ]
    },
    {
      "cell_type": "markdown",
      "metadata": {
        "id": "OqEidmqLEMrR",
        "colab_type": "text"
      },
      "source": [
        "##**Data Cleaning**"
      ]
    },
    {
      "cell_type": "markdown",
      "metadata": {
        "id": "6gw3eG8UERaw",
        "colab_type": "text"
      },
      "source": [
        "Since our data here is all numerical, let's begin by taking a look at its quick statistical description:"
      ]
    },
    {
      "cell_type": "code",
      "metadata": {
        "id": "pEeu9oozEIGJ",
        "colab_type": "code",
        "colab": {}
      },
      "source": [
        "data.describe()"
      ],
      "execution_count": null,
      "outputs": []
    },
    {
      "cell_type": "markdown",
      "metadata": {
        "id": "K65U7zsrEamP",
        "colab_type": "text"
      },
      "source": [
        "Columns like **BALANCE**, **PURCHASES**, **ONEOFF_PURCHASES** and others have outliers. These should be dealt with in order to have an easier and clearer definition of our clusters."
      ]
    },
    {
      "cell_type": "markdown",
      "metadata": {
        "id": "Ct6E7ZreEnBa",
        "colab_type": "text"
      },
      "source": [
        "**Missing Values**"
      ]
    },
    {
      "cell_type": "code",
      "metadata": {
        "id": "gBQh8QpsEX-f",
        "colab_type": "code",
        "colab": {}
      },
      "source": [
        "data.isnull().sum().sort_values(ascending=False)"
      ],
      "execution_count": null,
      "outputs": []
    },
    {
      "cell_type": "markdown",
      "metadata": {
        "id": "nyu2iLDxEtYn",
        "colab_type": "text"
      },
      "source": [
        "Although missing data in **MINIMUM_PAYMENTS** does not represent much of the dataset, being a numerical variable makes it easy to fill values with the mean of each column:"
      ]
    },
    {
      "cell_type": "code",
      "metadata": {
        "id": "wLr_zeowEq_i",
        "colab_type": "code",
        "colab": {}
      },
      "source": [
        "data.loc[(data['MINIMUM_PAYMENTS'].isnull()==True),'MINIMUM_PAYMENTS']=data['MINIMUM_PAYMENTS'].mean()\n",
        "data.loc[(data['CREDIT_LIMIT'].isnull()==True),'CREDIT_LIMIT']=data['CREDIT_LIMIT'].mean()\n",
        "\n",
        "data = data.drop(columns=['CUST_ID'])"
      ],
      "execution_count": null,
      "outputs": []
    },
    {
      "cell_type": "code",
      "metadata": {
        "id": "Z1HnE2oQE2mh",
        "colab_type": "code",
        "colab": {}
      },
      "source": [
        "data.isnull().sum().sort_values(ascending=False)"
      ],
      "execution_count": null,
      "outputs": []
    },
    {
      "cell_type": "markdown",
      "metadata": {
        "id": "qz-jJTcQE9Kh",
        "colab_type": "text"
      },
      "source": [
        "Now we have no missing values in our dataframe."
      ]
    },
    {
      "cell_type": "markdown",
      "metadata": {
        "id": "6cQfg24OFCLK",
        "colab_type": "text"
      },
      "source": [
        "##**Feature Engineering**"
      ]
    },
    {
      "cell_type": "markdown",
      "metadata": {
        "id": "ZdShMNYbFGLM",
        "colab_type": "text"
      },
      "source": [
        "The feature engineering section will focus on outliers since many of the columns in our dataset have outliers. The good thing is that we have different groups of columns with similar data types and even ranges, which means that binning these columns can help us cluster the data.\n",
        "\n",
        "\n",
        "These ranges will also prevent loss of data points since binning will help emphasize the difference that we have in our minds to the algorithm:"
      ]
    },
    {
      "cell_type": "code",
      "metadata": {
        "id": "ktylaQENFANN",
        "colab_type": "code",
        "colab": {}
      },
      "source": [
        "# The first group: with individual US dollars as units\n",
        "columns=['BALANCE', 'PURCHASES', 'ONEOFF_PURCHASES', 'INSTALLMENTS_PURCHASES', 'CASH_ADVANCE', 'CREDIT_LIMIT',\n",
        "        'PAYMENTS', 'MINIMUM_PAYMENTS']\n",
        "\n",
        "range_min = [0,500,1000,3000,5000]\n",
        "range_max = [500,1000,3000,5000,10000]\n",
        "for col in columns:\n",
        "    bin_col=col+'_BIN'\n",
        "    data[bin_col]=0\n",
        "    for i in range(5):\n",
        "        data.loc[((data[col]>range_min[i])&(data[col]<=range_max[i])),bin_col]=i+1\n",
        "    data.loc[((data[col]>10000)),bin_col]=6"
      ],
      "execution_count": null,
      "outputs": []
    },
    {
      "cell_type": "code",
      "metadata": {
        "id": "2liNoFL-GEi1",
        "colab_type": "code",
        "colab": {}
      },
      "source": [
        "data = data.drop(columns=['BALANCE', 'PURCHASES', 'ONEOFF_PURCHASES', 'INSTALLMENTS_PURCHASES', 'CASH_ADVANCE', 'CREDIT_LIMIT',\n",
        "        'PAYMENTS', 'MINIMUM_PAYMENTS']) "
      ],
      "execution_count": null,
      "outputs": []
    },
    {
      "cell_type": "code",
      "metadata": {
        "id": "i1LvxQhDGF5v",
        "colab_type": "code",
        "colab": {}
      },
      "source": [
        "# The second group: with frequencies between 0 and 1 as units\n",
        "columns=['BALANCE_FREQUENCY', 'PURCHASES_FREQUENCY', 'ONEOFF_PURCHASES_FREQUENCY', 'PURCHASES_INSTALLMENTS_FREQUENCY', \n",
        "         'CASH_ADVANCE_FREQUENCY', 'PRC_FULL_PAYMENT']\n",
        "\n",
        "for col in columns:\n",
        "    bin_col=col+'_BIN'\n",
        "    data[bin_col]=0\n",
        "    for i in range(0,10):\n",
        "        i = i/10\n",
        "        data.loc[((data[col]>i)&(data[col]<=i+0.1)),bin_col]=int((i+0.1)*10)"
      ],
      "execution_count": null,
      "outputs": []
    },
    {
      "cell_type": "code",
      "metadata": {
        "id": "sbqruygiGUcH",
        "colab_type": "code",
        "colab": {}
      },
      "source": [
        "data = data.drop(columns=['BALANCE_FREQUENCY', 'PURCHASES_FREQUENCY', 'ONEOFF_PURCHASES_FREQUENCY', 'PURCHASES_INSTALLMENTS_FREQUENCY', \n",
        "         'CASH_ADVANCE_FREQUENCY', 'PRC_FULL_PAYMENT'])"
      ],
      "execution_count": null,
      "outputs": []
    },
    {
      "cell_type": "code",
      "metadata": {
        "id": "d4Sc5SbGGW-Q",
        "colab_type": "code",
        "colab": {}
      },
      "source": [
        "# The 3rd group: with number of transactions as units\n",
        "columns=['PURCHASES_TRX', 'CASH_ADVANCE_TRX']  \n",
        "for col in columns:\n",
        "    bin_col=col+'_BIN'\n",
        "    data[bin_col]=0\n",
        "    for i in range(0,25,5):\n",
        "        data.loc[((data[col]>i)&(data[col]<=i+5)),bin_col]=int((i/5)+1)    \n",
        "    data.loc[((data[col]>25)&(data[col]<=50)),bin_col]=6\n",
        "    data.loc[((data[col]>50)&(data[col]<=100)),bin_col]=7\n",
        "    data.loc[((data[col]>100)),bin_col]=8"
      ],
      "execution_count": null,
      "outputs": []
    },
    {
      "cell_type": "code",
      "metadata": {
        "id": "nMmewTgeGZxb",
        "colab_type": "code",
        "colab": {}
      },
      "source": [
        "data = data.drop(columns=['PURCHASES_TRX', 'CASH_ADVANCE_TRX'])\n"
      ],
      "execution_count": null,
      "outputs": []
    },
    {
      "cell_type": "markdown",
      "metadata": {
        "id": "vMbiBTkFI-iV",
        "colab_type": "text"
      },
      "source": [
        "\n",
        "#**Clustering**"
      ]
    },
    {
      "cell_type": "markdown",
      "metadata": {
        "id": "00nqvqWZGevY",
        "colab_type": "text"
      },
      "source": [
        "Next, we define our features as a numpy array, then we scale the data using the Scikit-Learn StandardScaler in preparation to feed it to the kMeans algorithm:"
      ]
    },
    {
      "cell_type": "code",
      "metadata": {
        "id": "1AEVPDE_GbmK",
        "colab_type": "code",
        "colab": {}
      },
      "source": [
        "X= np.asarray(data)\n",
        "scale = StandardScaler()\n",
        "X = scale.fit_transform(X)"
      ],
      "execution_count": null,
      "outputs": []
    },
    {
      "cell_type": "markdown",
      "metadata": {
        "id": "DjNXoiafJD83",
        "colab_type": "text"
      },
      "source": [
        "##**Kmeans**\n"
      ]
    },
    {
      "cell_type": "markdown",
      "metadata": {
        "id": "BZ8JEqWxJHu9",
        "colab_type": "text"
      },
      "source": [
        "The way we will approach kMeans first is using inertia to evaluate its performance. Inertia is defined as the sum of squares within a cluster. Through comparing inertia among several values of k, we can have an idea on what value we will be choosing:"
      ]
    },
    {
      "cell_type": "code",
      "metadata": {
        "id": "3g8UlQOCGeJZ",
        "colab_type": "code",
        "colab": {}
      },
      "source": [
        "n_clusters=8\n",
        "inertia=[]\n",
        "k = []\n",
        "for i in range(1,n_clusters):\n",
        "    kmean= KMeans(i)\n",
        "    kmean.fit(X)\n",
        "    inertia.append(kmean.inertia_)  \n",
        "    k.append(i)\n"
      ],
      "execution_count": null,
      "outputs": []
    },
    {
      "cell_type": "code",
      "metadata": {
        "id": "GDwwoLsPJNXH",
        "colab_type": "code",
        "colab": {}
      },
      "source": [
        "plt.plot(inertia, 'o-')\n",
        "plt.title('Inertia for each value of k')\n",
        "plt.xlabel('Number of k')\n",
        "plt.ylabel('Inertia')\n",
        "plt.show()"
      ],
      "execution_count": null,
      "outputs": []
    },
    {
      "cell_type": "markdown",
      "metadata": {
        "id": "93TqdbJ1J2Mn",
        "colab_type": "text"
      },
      "source": [
        "\n",
        "It seems like 6 clusters is a good value to start from, having the least inertia, meaning it has the most coherent distribution of data points within 6 clusters.\n",
        "\n"
      ]
    },
    {
      "cell_type": "code",
      "metadata": {
        "id": "3wZ3FCEuJy19",
        "colab_type": "code",
        "colab": {}
      },
      "source": [
        "kmean= KMeans(6)\n",
        "dist = 1 - cosine_similarity(X)\n",
        "pca = PCA(2)\n",
        "pca.fit(dist)\n",
        "X_PCA = pca.transform(dist)\n",
        "\n",
        "kmean.fit(X)\n",
        "labels=kmean.labels_"
      ],
      "execution_count": null,
      "outputs": []
    },
    {
      "cell_type": "code",
      "metadata": {
        "id": "WUaHfHi1J8Ii",
        "colab_type": "code",
        "colab": {}
      },
      "source": [
        "clusters=pd.concat([data, pd.DataFrame({'cluster':labels})], axis=1)\n",
        "clusters.head()"
      ],
      "execution_count": null,
      "outputs": []
    },
    {
      "cell_type": "markdown",
      "metadata": {
        "id": "_ep3-ocGKDyU",
        "colab_type": "text"
      },
      "source": [
        "#**Visualization of Cluster Features**"
      ]
    },
    {
      "cell_type": "code",
      "metadata": {
        "id": "sTjRlGZtJ_T3",
        "colab_type": "code",
        "colab": {}
      },
      "source": [
        "for c in clusters:\n",
        "    grid= sns.FacetGrid(clusters, col='cluster')\n",
        "    grid.map(plt.hist, c)"
      ],
      "execution_count": null,
      "outputs": []
    },
    {
      "cell_type": "markdown",
      "metadata": {
        "id": "0cy5y73ZKPkC",
        "colab_type": "text"
      },
      "source": [
        "**Cluster Highlights**\n",
        "\n",
        "* **Cluster0** Average credit limit, mostly small to medium purchases, they often make use of cash advances.\n",
        "\n",
        "* **Cluster1** Rarely takes cash advances but makes a lot of purchases. Average to high credit limit and more payment amounts.\n",
        "\n",
        "* **Cluster2** Same credit limit as cluster 1. Usually doesn't purhcase with full payment and doesn't spend much in general.\n",
        "\n",
        "* **Cluster3** Average to high credit cluster with customers who take more cash in advance\n",
        "\n",
        "* **Cluster4** Average credit limit with a distributed purchase frequency.\n",
        "\n",
        "* **Cluster5** Average to high credit limit customers who do not make much use of their credit cards.\n",
        "\n",
        "Visualizing these clusters with PCA will make them into an isotropic shape that makes it clearer to see each cluster and where its customers fall within the larger sample:"
      ]
    },
    {
      "cell_type": "code",
      "metadata": {
        "id": "l494OrLfKHb5",
        "colab_type": "code",
        "colab": {}
      },
      "source": [
        "x, y = X_PCA[:, 0], X_PCA[:, 1]\n",
        "\n",
        "colors = {0: 'red',\n",
        "          1: 'blue',\n",
        "          2: 'green', \n",
        "          3: 'yellow', \n",
        "          4: 'orange',  \n",
        "          5:'purple'}\n",
        "\n",
        "names = {0: 'Small-Med purchases', \n",
        "         1: 'People with due payments', \n",
        "         2: 'Credit Purchasers', \n",
        "         3: 'Take more cash in advance', \n",
        "         4: 'Expensive purchases',\n",
        "         5:'Economical spenders'}\n",
        "  \n",
        "df = pd.DataFrame({'x': x, 'y':y, 'label':labels}) \n",
        "groups = df.groupby('label')\n",
        "\n",
        "fig, ax = plt.subplots(figsize=(14, 7)) \n",
        "\n",
        "for name, group in groups:\n",
        "    ax.plot(group.x, group.y, marker='o', linestyle='', ms=5,\n",
        "            label=names[name], mec='none')\n",
        "    ax.set_aspect('auto')\n",
        "    ax.tick_params(axis='x',which='both',bottom='off',top='off',labelbottom='off')\n",
        "    ax.tick_params(axis= 'y',which='both',left='off',top='off',labelleft='off')\n",
        "    \n",
        "ax.legend()\n",
        "ax.set_title(\"Customers Segmentation\")\n",
        "plt.show()"
      ],
      "execution_count": null,
      "outputs": []
    },
    {
      "cell_type": "markdown",
      "metadata": {
        "id": "u_lQYsDpKn7F",
        "colab_type": "text"
      },
      "source": [
        "We can see how clusters are dense around the shape in the plot, taking a different side each. The higher up we go in the y-axis, the more credit these clusters are availing."
      ]
    },
    {
      "cell_type": "markdown",
      "metadata": {
        "id": "84CEbExZKrHf",
        "colab_type": "text"
      },
      "source": [
        "**Usage**\n",
        "\n",
        "This document provides a way for financial institutes to cluster their individual credit customers into groups. As market needs evolve, the clusters in here may change accordingly. This clustering can result in beneficial input that can be used in targeting these customers within a marketing strategy and design services that fit their needs."
      ]
    },
    {
      "cell_type": "markdown",
      "metadata": {
        "id": "yltLi9XjKyIj",
        "colab_type": "text"
      },
      "source": [
        "#**Other Clustering Approaches**"
      ]
    },
    {
      "cell_type": "markdown",
      "metadata": {
        "id": "FnZltVVxK3QZ",
        "colab_type": "text"
      },
      "source": [
        "We will try other clustering approaches basing our analysis on purchase frequency:"
      ]
    },
    {
      "cell_type": "code",
      "metadata": {
        "id": "dNsj9mUcKk62",
        "colab_type": "code",
        "colab": {}
      },
      "source": [
        "X = data.drop(columns=['PURCHASES_FREQUENCY_BIN'])\n",
        "y = data['PURCHASES_FREQUENCY_BIN']\n",
        "\n",
        "X_train, X_test, y_train, y_test = train_test_split(\n",
        "    X,\n",
        "    y,\n",
        "    test_size=0.9,\n",
        "    random_state=42)"
      ],
      "execution_count": null,
      "outputs": []
    },
    {
      "cell_type": "markdown",
      "metadata": {
        "id": "RVmGfCLhK8Zx",
        "colab_type": "text"
      },
      "source": [
        "#**MeanShift**"
      ]
    },
    {
      "cell_type": "markdown",
      "metadata": {
        "id": "k8KzdYilLBk-",
        "colab_type": "text"
      },
      "source": [
        "Mean shift makes no assumptions about the nature of the data or the number of clusters, making it more versatile than 𝑘-means, but it creates clusters where data points form a \"globe\" around a central point. It works for data sets where many clusters are suspected.\n",
        "\n",
        "Let's see how MeanShift clusters our dataset based on purchase frequency:"
      ]
    },
    {
      "cell_type": "code",
      "metadata": {
        "id": "HpjP5lssK6AU",
        "colab_type": "code",
        "colab": {}
      },
      "source": [
        "# Here we set the bandwidth. This function automatically derives a bandwidth\n",
        "# number based on an inspection of the distances among points in the data.\n",
        "bandwidth = estimate_bandwidth(X_train, quantile=0.2, n_samples=500)\n",
        "\n",
        "# Declare and fit the model.\n",
        "ms = MeanShift(bandwidth=bandwidth, bin_seeding=True)\n",
        "ms.fit(X_train)\n",
        "\n",
        "# Extract cluster assignments for each data point.\n",
        "labels = ms.labels_\n",
        "\n",
        "# Coordinates of the cluster centers.\n",
        "cluster_centers = ms.cluster_centers_\n",
        "\n",
        "# Count our clusters.\n",
        "n_clusters_ = len(np.unique(labels))\n",
        "\n",
        "\n",
        "print(\"Number of estimated clusters: {}\".format(n_clusters_))"
      ],
      "execution_count": null,
      "outputs": []
    },
    {
      "cell_type": "markdown",
      "metadata": {
        "id": "2hIekqmsLIQQ",
        "colab_type": "text"
      },
      "source": [
        "The number of estimated clusters is certainly not 1. We know that through the values we have seen before and the differences in customer behavior throughout features in this dataset.\n",
        "\n",
        "Also logically, we cannot expect customers to have a uniform behavior given almost any community regardless of the size."
      ]
    },
    {
      "cell_type": "markdown",
      "metadata": {
        "id": "452LwyDtLL78",
        "colab_type": "text"
      },
      "source": [
        "#**Affinity Propagation**"
      ]
    },
    {
      "cell_type": "markdown",
      "metadata": {
        "id": "9vCoNlblLRPk",
        "colab_type": "text"
      },
      "source": [
        "This algorithm is based on the idea of data points' ability to represent each other through similarity.\n",
        "\n",
        "It defines a similarity matrix that helps in understanding similarity of these points to each other. Then there would be a clustering matrix where similarity has been decided and the algorithm goes towards maximizing similarity for cluster coherence.\n",
        "\n",
        "It uses availability and responsibility as parameters to deciding how cluster coherence is maximized. Candidate exemplar points send availability information to points which would be in its cluster, their response would be responsibility.\n",
        "\n",
        "All of this is encompassed in the next block of code, showing the work of Affinity Propagation:"
      ]
    },
    {
      "cell_type": "code",
      "metadata": {
        "id": "SGkPVR0hLEsL",
        "colab_type": "code",
        "colab": {}
      },
      "source": [
        "# Declare the model and fit it.\n",
        "af = AffinityPropagation().fit(X_train)\n",
        "print('Done')\n",
        "\n",
        "# Pull the number of clusters and cluster assignments for each data point.\n",
        "cluster_centers_indices = af.cluster_centers_indices_\n",
        "n_clusters_ = len(cluster_centers_indices)\n",
        "labels = af.labels_\n",
        "\n",
        "print('Estimated number of clusters: {}'.format(n_clusters_))"
      ],
      "execution_count": null,
      "outputs": []
    },
    {
      "cell_type": "markdown",
      "metadata": {
        "id": "vykcQB1ALWSd",
        "colab_type": "text"
      },
      "source": [
        "It is common for Affinity Propagation to overestimate the number of clusters, which is the case in our data.\n",
        "\n",
        "Logically, we cannot have 44 types of customers, even for a global company that literally has branches in each country. This case would only exist in companies that have customers for different product lines, but that would still make them incomparable."
      ]
    },
    {
      "cell_type": "markdown",
      "metadata": {
        "id": "udeHKPPPLaJU",
        "colab_type": "text"
      },
      "source": [
        "#**Conclusion**"
      ]
    },
    {
      "cell_type": "markdown",
      "metadata": {
        "id": "sOcvj4LdLYkm",
        "colab_type": "text"
      },
      "source": [
        "\n",
        "The reason that kMeans is most widely used in clustering may not be because it works every time, but probably due to its logical handling of data and logical output of clusters.\n",
        "\n",
        "Although there are benefits to using other clustering algorithms. These benefits may not come to light in such a small project, but more in a constant effort where clustering is really needed, and variations of clustering would come in handy to solve more specific issues in grouping data points.\n",
        "\n",
        "We did not even have to evaluate MeanShift and Affinity Propagation model clusters using metrics due to the cluster output being absurd and illogical, where the kMeans performed much better and gave output that could be interpreted by humans, businesses, and could produce value for a marketing manager trying to look at a high-level segmentation of their company's customers."
      ]
    }
  ]
}