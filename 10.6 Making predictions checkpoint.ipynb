{
  "nbformat": 4,
  "nbformat_minor": 0,
  "metadata": {
    "colab": {
      "name": "Making predictions - checkpoint.ipynb",
      "provenance": [],
      "collapsed_sections": [],
      "authorship_tag": "ABX9TyNOwxXX0Us6Y04zcKRvn5Ne"
    },
    "kernelspec": {
      "name": "python3",
      "display_name": "Python 3"
    }
  },
  "cells": [
    {
      "cell_type": "markdown",
      "metadata": {
        "id": "kwVDalvNUEIt",
        "colab_type": "text"
      },
      "source": [
        "#In this exercise, you'll predict house prices using your model.\n",
        "\n",
        "**1.** Load the housing prices data from Thinkful's database.\n",
        "\n",
        "**2.** Split your data into train and test sets.\n",
        "\n",
        "**3.** Estimate your model from the previous checkpoint in the train set. Assess the goodness of fit of your model.\n",
        "\n",
        "**4.** Predict the house prices in the test set, and evaluate the performance of your model using the metrics we mentioned in this checkpoint.\n",
        "Is the performance of your model satisfactory? Why?\n",
        "\n",
        "**5.** Try to improve your model in terms of predictive performance by adding or removing some variables."
      ]
    },
    {
      "cell_type": "markdown",
      "metadata": {
        "id": "_gcNj0EmUS8v",
        "colab_type": "text"
      },
      "source": [
        "## **1. Load the housing prices data from Thinkful's database.**"
      ]
    },
    {
      "cell_type": "code",
      "metadata": {
        "id": "z-ea36NvT_yy",
        "colab_type": "code",
        "colab": {
          "base_uri": "https://localhost:8080/",
          "height": 71
        },
        "outputId": "961f2a69-b946-48ac-fbb0-a29943a08dd9"
      },
      "source": [
        "import matplotlib.pyplot as plt\n",
        "import numpy as np\n",
        "import pandas as pd\n",
        "from sklearn.linear_model import LinearRegression\n",
        "from sklearn.model_selection import train_test_split\n",
        "from sklearn.metrics import mean_absolute_error\n",
        "import statsmodels.api as sm\n",
        "from statsmodels.tools.eval_measures import mse, rmse\n",
        "from sqlalchemy import create_engine\n",
        "import seaborn as sns\n",
        "\n",
        "import warnings\n",
        "warnings.filterwarnings(action=\"ignore\")"
      ],
      "execution_count": 1,
      "outputs": [
        {
          "output_type": "stream",
          "text": [
            "/usr/local/lib/python3.6/dist-packages/statsmodels/tools/_testing.py:19: FutureWarning: pandas.util.testing is deprecated. Use the functions in the public API at pandas.testing instead.\n",
            "  import pandas.util.testing as tm\n"
          ],
          "name": "stderr"
        }
      ]
    },
    {
      "cell_type": "code",
      "metadata": {
        "id": "NyE8VJGsVZCd",
        "colab_type": "code",
        "colab": {
          "base_uri": "https://localhost:8080/",
          "height": 253
        },
        "outputId": "6c772f7e-7446-40fd-fc50-8b2df2655500"
      },
      "source": [
        "postgres_user = 'dsbc_student'\n",
        "postgres_pw = '7*.8G9QH21'\n",
        "postgres_host = '142.93.121.174'\n",
        "postgres_port = '5432'\n",
        "postgres_db = 'houseprices'\n",
        "\n",
        "engine = create_engine('postgresql://{}:{}@{}:{}/{}'.format(\n",
        "    postgres_user, postgres_pw, postgres_host, postgres_port, postgres_db))\n",
        "\n",
        "house_prices_df = pd.read_sql_query('select * from houseprices',con=engine)\n",
        "\n",
        "# no need for an open connection, as we're only doing a single query\n",
        "engine.dispose()\n",
        "\n",
        "house_prices_df.head()\n"
      ],
      "execution_count": 2,
      "outputs": [
        {
          "output_type": "execute_result",
          "data": {
            "text/html": [
              "<div>\n",
              "<style scoped>\n",
              "    .dataframe tbody tr th:only-of-type {\n",
              "        vertical-align: middle;\n",
              "    }\n",
              "\n",
              "    .dataframe tbody tr th {\n",
              "        vertical-align: top;\n",
              "    }\n",
              "\n",
              "    .dataframe thead th {\n",
              "        text-align: right;\n",
              "    }\n",
              "</style>\n",
              "<table border=\"1\" class=\"dataframe\">\n",
              "  <thead>\n",
              "    <tr style=\"text-align: right;\">\n",
              "      <th></th>\n",
              "      <th>id</th>\n",
              "      <th>mssubclass</th>\n",
              "      <th>mszoning</th>\n",
              "      <th>lotfrontage</th>\n",
              "      <th>lotarea</th>\n",
              "      <th>street</th>\n",
              "      <th>alley</th>\n",
              "      <th>lotshape</th>\n",
              "      <th>landcontour</th>\n",
              "      <th>utilities</th>\n",
              "      <th>lotconfig</th>\n",
              "      <th>landslope</th>\n",
              "      <th>neighborhood</th>\n",
              "      <th>condition1</th>\n",
              "      <th>condition2</th>\n",
              "      <th>bldgtype</th>\n",
              "      <th>housestyle</th>\n",
              "      <th>overallqual</th>\n",
              "      <th>overallcond</th>\n",
              "      <th>yearbuilt</th>\n",
              "      <th>yearremodadd</th>\n",
              "      <th>roofstyle</th>\n",
              "      <th>roofmatl</th>\n",
              "      <th>exterior1st</th>\n",
              "      <th>exterior2nd</th>\n",
              "      <th>masvnrtype</th>\n",
              "      <th>masvnrarea</th>\n",
              "      <th>exterqual</th>\n",
              "      <th>extercond</th>\n",
              "      <th>foundation</th>\n",
              "      <th>bsmtqual</th>\n",
              "      <th>bsmtcond</th>\n",
              "      <th>bsmtexposure</th>\n",
              "      <th>bsmtfintype1</th>\n",
              "      <th>bsmtfinsf1</th>\n",
              "      <th>bsmtfintype2</th>\n",
              "      <th>bsmtfinsf2</th>\n",
              "      <th>bsmtunfsf</th>\n",
              "      <th>totalbsmtsf</th>\n",
              "      <th>heating</th>\n",
              "      <th>...</th>\n",
              "      <th>centralair</th>\n",
              "      <th>electrical</th>\n",
              "      <th>firstflrsf</th>\n",
              "      <th>secondflrsf</th>\n",
              "      <th>lowqualfinsf</th>\n",
              "      <th>grlivarea</th>\n",
              "      <th>bsmtfullbath</th>\n",
              "      <th>bsmthalfbath</th>\n",
              "      <th>fullbath</th>\n",
              "      <th>halfbath</th>\n",
              "      <th>bedroomabvgr</th>\n",
              "      <th>kitchenabvgr</th>\n",
              "      <th>kitchenqual</th>\n",
              "      <th>totrmsabvgrd</th>\n",
              "      <th>functional</th>\n",
              "      <th>fireplaces</th>\n",
              "      <th>fireplacequ</th>\n",
              "      <th>garagetype</th>\n",
              "      <th>garageyrblt</th>\n",
              "      <th>garagefinish</th>\n",
              "      <th>garagecars</th>\n",
              "      <th>garagearea</th>\n",
              "      <th>garagequal</th>\n",
              "      <th>garagecond</th>\n",
              "      <th>paveddrive</th>\n",
              "      <th>wooddecksf</th>\n",
              "      <th>openporchsf</th>\n",
              "      <th>enclosedporch</th>\n",
              "      <th>threessnporch</th>\n",
              "      <th>screenporch</th>\n",
              "      <th>poolarea</th>\n",
              "      <th>poolqc</th>\n",
              "      <th>fence</th>\n",
              "      <th>miscfeature</th>\n",
              "      <th>miscval</th>\n",
              "      <th>mosold</th>\n",
              "      <th>yrsold</th>\n",
              "      <th>saletype</th>\n",
              "      <th>salecondition</th>\n",
              "      <th>saleprice</th>\n",
              "    </tr>\n",
              "  </thead>\n",
              "  <tbody>\n",
              "    <tr>\n",
              "      <th>0</th>\n",
              "      <td>1</td>\n",
              "      <td>60</td>\n",
              "      <td>RL</td>\n",
              "      <td>65.0</td>\n",
              "      <td>8450</td>\n",
              "      <td>Pave</td>\n",
              "      <td>None</td>\n",
              "      <td>Reg</td>\n",
              "      <td>Lvl</td>\n",
              "      <td>AllPub</td>\n",
              "      <td>Inside</td>\n",
              "      <td>Gtl</td>\n",
              "      <td>CollgCr</td>\n",
              "      <td>Norm</td>\n",
              "      <td>Norm</td>\n",
              "      <td>1Fam</td>\n",
              "      <td>2Story</td>\n",
              "      <td>7</td>\n",
              "      <td>5</td>\n",
              "      <td>2003</td>\n",
              "      <td>2003</td>\n",
              "      <td>Gable</td>\n",
              "      <td>CompShg</td>\n",
              "      <td>VinylSd</td>\n",
              "      <td>VinylSd</td>\n",
              "      <td>BrkFace</td>\n",
              "      <td>196.0</td>\n",
              "      <td>Gd</td>\n",
              "      <td>TA</td>\n",
              "      <td>PConc</td>\n",
              "      <td>Gd</td>\n",
              "      <td>TA</td>\n",
              "      <td>No</td>\n",
              "      <td>GLQ</td>\n",
              "      <td>706</td>\n",
              "      <td>Unf</td>\n",
              "      <td>0</td>\n",
              "      <td>150</td>\n",
              "      <td>856</td>\n",
              "      <td>GasA</td>\n",
              "      <td>...</td>\n",
              "      <td>Y</td>\n",
              "      <td>SBrkr</td>\n",
              "      <td>856</td>\n",
              "      <td>854</td>\n",
              "      <td>0</td>\n",
              "      <td>1710</td>\n",
              "      <td>1</td>\n",
              "      <td>0</td>\n",
              "      <td>2</td>\n",
              "      <td>1</td>\n",
              "      <td>3</td>\n",
              "      <td>1</td>\n",
              "      <td>Gd</td>\n",
              "      <td>8</td>\n",
              "      <td>Typ</td>\n",
              "      <td>0</td>\n",
              "      <td>None</td>\n",
              "      <td>Attchd</td>\n",
              "      <td>2003.0</td>\n",
              "      <td>RFn</td>\n",
              "      <td>2</td>\n",
              "      <td>548</td>\n",
              "      <td>TA</td>\n",
              "      <td>TA</td>\n",
              "      <td>Y</td>\n",
              "      <td>0</td>\n",
              "      <td>61</td>\n",
              "      <td>0</td>\n",
              "      <td>0</td>\n",
              "      <td>0</td>\n",
              "      <td>0</td>\n",
              "      <td>None</td>\n",
              "      <td>None</td>\n",
              "      <td>None</td>\n",
              "      <td>0</td>\n",
              "      <td>2</td>\n",
              "      <td>2008</td>\n",
              "      <td>WD</td>\n",
              "      <td>Normal</td>\n",
              "      <td>208500</td>\n",
              "    </tr>\n",
              "    <tr>\n",
              "      <th>1</th>\n",
              "      <td>2</td>\n",
              "      <td>20</td>\n",
              "      <td>RL</td>\n",
              "      <td>80.0</td>\n",
              "      <td>9600</td>\n",
              "      <td>Pave</td>\n",
              "      <td>None</td>\n",
              "      <td>Reg</td>\n",
              "      <td>Lvl</td>\n",
              "      <td>AllPub</td>\n",
              "      <td>FR2</td>\n",
              "      <td>Gtl</td>\n",
              "      <td>Veenker</td>\n",
              "      <td>Feedr</td>\n",
              "      <td>Norm</td>\n",
              "      <td>1Fam</td>\n",
              "      <td>1Story</td>\n",
              "      <td>6</td>\n",
              "      <td>8</td>\n",
              "      <td>1976</td>\n",
              "      <td>1976</td>\n",
              "      <td>Gable</td>\n",
              "      <td>CompShg</td>\n",
              "      <td>MetalSd</td>\n",
              "      <td>MetalSd</td>\n",
              "      <td>None</td>\n",
              "      <td>0.0</td>\n",
              "      <td>TA</td>\n",
              "      <td>TA</td>\n",
              "      <td>CBlock</td>\n",
              "      <td>Gd</td>\n",
              "      <td>TA</td>\n",
              "      <td>Gd</td>\n",
              "      <td>ALQ</td>\n",
              "      <td>978</td>\n",
              "      <td>Unf</td>\n",
              "      <td>0</td>\n",
              "      <td>284</td>\n",
              "      <td>1262</td>\n",
              "      <td>GasA</td>\n",
              "      <td>...</td>\n",
              "      <td>Y</td>\n",
              "      <td>SBrkr</td>\n",
              "      <td>1262</td>\n",
              "      <td>0</td>\n",
              "      <td>0</td>\n",
              "      <td>1262</td>\n",
              "      <td>0</td>\n",
              "      <td>1</td>\n",
              "      <td>2</td>\n",
              "      <td>0</td>\n",
              "      <td>3</td>\n",
              "      <td>1</td>\n",
              "      <td>TA</td>\n",
              "      <td>6</td>\n",
              "      <td>Typ</td>\n",
              "      <td>1</td>\n",
              "      <td>TA</td>\n",
              "      <td>Attchd</td>\n",
              "      <td>1976.0</td>\n",
              "      <td>RFn</td>\n",
              "      <td>2</td>\n",
              "      <td>460</td>\n",
              "      <td>TA</td>\n",
              "      <td>TA</td>\n",
              "      <td>Y</td>\n",
              "      <td>298</td>\n",
              "      <td>0</td>\n",
              "      <td>0</td>\n",
              "      <td>0</td>\n",
              "      <td>0</td>\n",
              "      <td>0</td>\n",
              "      <td>None</td>\n",
              "      <td>None</td>\n",
              "      <td>None</td>\n",
              "      <td>0</td>\n",
              "      <td>5</td>\n",
              "      <td>2007</td>\n",
              "      <td>WD</td>\n",
              "      <td>Normal</td>\n",
              "      <td>181500</td>\n",
              "    </tr>\n",
              "    <tr>\n",
              "      <th>2</th>\n",
              "      <td>3</td>\n",
              "      <td>60</td>\n",
              "      <td>RL</td>\n",
              "      <td>68.0</td>\n",
              "      <td>11250</td>\n",
              "      <td>Pave</td>\n",
              "      <td>None</td>\n",
              "      <td>IR1</td>\n",
              "      <td>Lvl</td>\n",
              "      <td>AllPub</td>\n",
              "      <td>Inside</td>\n",
              "      <td>Gtl</td>\n",
              "      <td>CollgCr</td>\n",
              "      <td>Norm</td>\n",
              "      <td>Norm</td>\n",
              "      <td>1Fam</td>\n",
              "      <td>2Story</td>\n",
              "      <td>7</td>\n",
              "      <td>5</td>\n",
              "      <td>2001</td>\n",
              "      <td>2002</td>\n",
              "      <td>Gable</td>\n",
              "      <td>CompShg</td>\n",
              "      <td>VinylSd</td>\n",
              "      <td>VinylSd</td>\n",
              "      <td>BrkFace</td>\n",
              "      <td>162.0</td>\n",
              "      <td>Gd</td>\n",
              "      <td>TA</td>\n",
              "      <td>PConc</td>\n",
              "      <td>Gd</td>\n",
              "      <td>TA</td>\n",
              "      <td>Mn</td>\n",
              "      <td>GLQ</td>\n",
              "      <td>486</td>\n",
              "      <td>Unf</td>\n",
              "      <td>0</td>\n",
              "      <td>434</td>\n",
              "      <td>920</td>\n",
              "      <td>GasA</td>\n",
              "      <td>...</td>\n",
              "      <td>Y</td>\n",
              "      <td>SBrkr</td>\n",
              "      <td>920</td>\n",
              "      <td>866</td>\n",
              "      <td>0</td>\n",
              "      <td>1786</td>\n",
              "      <td>1</td>\n",
              "      <td>0</td>\n",
              "      <td>2</td>\n",
              "      <td>1</td>\n",
              "      <td>3</td>\n",
              "      <td>1</td>\n",
              "      <td>Gd</td>\n",
              "      <td>6</td>\n",
              "      <td>Typ</td>\n",
              "      <td>1</td>\n",
              "      <td>TA</td>\n",
              "      <td>Attchd</td>\n",
              "      <td>2001.0</td>\n",
              "      <td>RFn</td>\n",
              "      <td>2</td>\n",
              "      <td>608</td>\n",
              "      <td>TA</td>\n",
              "      <td>TA</td>\n",
              "      <td>Y</td>\n",
              "      <td>0</td>\n",
              "      <td>42</td>\n",
              "      <td>0</td>\n",
              "      <td>0</td>\n",
              "      <td>0</td>\n",
              "      <td>0</td>\n",
              "      <td>None</td>\n",
              "      <td>None</td>\n",
              "      <td>None</td>\n",
              "      <td>0</td>\n",
              "      <td>9</td>\n",
              "      <td>2008</td>\n",
              "      <td>WD</td>\n",
              "      <td>Normal</td>\n",
              "      <td>223500</td>\n",
              "    </tr>\n",
              "    <tr>\n",
              "      <th>3</th>\n",
              "      <td>4</td>\n",
              "      <td>70</td>\n",
              "      <td>RL</td>\n",
              "      <td>60.0</td>\n",
              "      <td>9550</td>\n",
              "      <td>Pave</td>\n",
              "      <td>None</td>\n",
              "      <td>IR1</td>\n",
              "      <td>Lvl</td>\n",
              "      <td>AllPub</td>\n",
              "      <td>Corner</td>\n",
              "      <td>Gtl</td>\n",
              "      <td>Crawfor</td>\n",
              "      <td>Norm</td>\n",
              "      <td>Norm</td>\n",
              "      <td>1Fam</td>\n",
              "      <td>2Story</td>\n",
              "      <td>7</td>\n",
              "      <td>5</td>\n",
              "      <td>1915</td>\n",
              "      <td>1970</td>\n",
              "      <td>Gable</td>\n",
              "      <td>CompShg</td>\n",
              "      <td>Wd Sdng</td>\n",
              "      <td>Wd Shng</td>\n",
              "      <td>None</td>\n",
              "      <td>0.0</td>\n",
              "      <td>TA</td>\n",
              "      <td>TA</td>\n",
              "      <td>BrkTil</td>\n",
              "      <td>TA</td>\n",
              "      <td>Gd</td>\n",
              "      <td>No</td>\n",
              "      <td>ALQ</td>\n",
              "      <td>216</td>\n",
              "      <td>Unf</td>\n",
              "      <td>0</td>\n",
              "      <td>540</td>\n",
              "      <td>756</td>\n",
              "      <td>GasA</td>\n",
              "      <td>...</td>\n",
              "      <td>Y</td>\n",
              "      <td>SBrkr</td>\n",
              "      <td>961</td>\n",
              "      <td>756</td>\n",
              "      <td>0</td>\n",
              "      <td>1717</td>\n",
              "      <td>1</td>\n",
              "      <td>0</td>\n",
              "      <td>1</td>\n",
              "      <td>0</td>\n",
              "      <td>3</td>\n",
              "      <td>1</td>\n",
              "      <td>Gd</td>\n",
              "      <td>7</td>\n",
              "      <td>Typ</td>\n",
              "      <td>1</td>\n",
              "      <td>Gd</td>\n",
              "      <td>Detchd</td>\n",
              "      <td>1998.0</td>\n",
              "      <td>Unf</td>\n",
              "      <td>3</td>\n",
              "      <td>642</td>\n",
              "      <td>TA</td>\n",
              "      <td>TA</td>\n",
              "      <td>Y</td>\n",
              "      <td>0</td>\n",
              "      <td>35</td>\n",
              "      <td>272</td>\n",
              "      <td>0</td>\n",
              "      <td>0</td>\n",
              "      <td>0</td>\n",
              "      <td>None</td>\n",
              "      <td>None</td>\n",
              "      <td>None</td>\n",
              "      <td>0</td>\n",
              "      <td>2</td>\n",
              "      <td>2006</td>\n",
              "      <td>WD</td>\n",
              "      <td>Abnorml</td>\n",
              "      <td>140000</td>\n",
              "    </tr>\n",
              "    <tr>\n",
              "      <th>4</th>\n",
              "      <td>5</td>\n",
              "      <td>60</td>\n",
              "      <td>RL</td>\n",
              "      <td>84.0</td>\n",
              "      <td>14260</td>\n",
              "      <td>Pave</td>\n",
              "      <td>None</td>\n",
              "      <td>IR1</td>\n",
              "      <td>Lvl</td>\n",
              "      <td>AllPub</td>\n",
              "      <td>FR2</td>\n",
              "      <td>Gtl</td>\n",
              "      <td>NoRidge</td>\n",
              "      <td>Norm</td>\n",
              "      <td>Norm</td>\n",
              "      <td>1Fam</td>\n",
              "      <td>2Story</td>\n",
              "      <td>8</td>\n",
              "      <td>5</td>\n",
              "      <td>2000</td>\n",
              "      <td>2000</td>\n",
              "      <td>Gable</td>\n",
              "      <td>CompShg</td>\n",
              "      <td>VinylSd</td>\n",
              "      <td>VinylSd</td>\n",
              "      <td>BrkFace</td>\n",
              "      <td>350.0</td>\n",
              "      <td>Gd</td>\n",
              "      <td>TA</td>\n",
              "      <td>PConc</td>\n",
              "      <td>Gd</td>\n",
              "      <td>TA</td>\n",
              "      <td>Av</td>\n",
              "      <td>GLQ</td>\n",
              "      <td>655</td>\n",
              "      <td>Unf</td>\n",
              "      <td>0</td>\n",
              "      <td>490</td>\n",
              "      <td>1145</td>\n",
              "      <td>GasA</td>\n",
              "      <td>...</td>\n",
              "      <td>Y</td>\n",
              "      <td>SBrkr</td>\n",
              "      <td>1145</td>\n",
              "      <td>1053</td>\n",
              "      <td>0</td>\n",
              "      <td>2198</td>\n",
              "      <td>1</td>\n",
              "      <td>0</td>\n",
              "      <td>2</td>\n",
              "      <td>1</td>\n",
              "      <td>4</td>\n",
              "      <td>1</td>\n",
              "      <td>Gd</td>\n",
              "      <td>9</td>\n",
              "      <td>Typ</td>\n",
              "      <td>1</td>\n",
              "      <td>TA</td>\n",
              "      <td>Attchd</td>\n",
              "      <td>2000.0</td>\n",
              "      <td>RFn</td>\n",
              "      <td>3</td>\n",
              "      <td>836</td>\n",
              "      <td>TA</td>\n",
              "      <td>TA</td>\n",
              "      <td>Y</td>\n",
              "      <td>192</td>\n",
              "      <td>84</td>\n",
              "      <td>0</td>\n",
              "      <td>0</td>\n",
              "      <td>0</td>\n",
              "      <td>0</td>\n",
              "      <td>None</td>\n",
              "      <td>None</td>\n",
              "      <td>None</td>\n",
              "      <td>0</td>\n",
              "      <td>12</td>\n",
              "      <td>2008</td>\n",
              "      <td>WD</td>\n",
              "      <td>Normal</td>\n",
              "      <td>250000</td>\n",
              "    </tr>\n",
              "  </tbody>\n",
              "</table>\n",
              "<p>5 rows × 81 columns</p>\n",
              "</div>"
            ],
            "text/plain": [
              "   id  mssubclass mszoning  ...  saletype  salecondition saleprice\n",
              "0   1          60       RL  ...        WD         Normal    208500\n",
              "1   2          20       RL  ...        WD         Normal    181500\n",
              "2   3          60       RL  ...        WD         Normal    223500\n",
              "3   4          70       RL  ...        WD        Abnorml    140000\n",
              "4   5          60       RL  ...        WD         Normal    250000\n",
              "\n",
              "[5 rows x 81 columns]"
            ]
          },
          "metadata": {
            "tags": []
          },
          "execution_count": 2
        }
      ]
    },
    {
      "cell_type": "markdown",
      "metadata": {
        "id": "6lKMu7E8Yyk7",
        "colab_type": "text"
      },
      "source": [
        "## **2. Split your data into train and test sets.**"
      ]
    },
    {
      "cell_type": "code",
      "metadata": {
        "id": "v1CEU9yNWe1l",
        "colab_type": "code",
        "colab": {}
      },
      "source": [
        "# Y is the target variable\n",
        "Y = house_prices_df['saleprice']\n",
        "\n",
        "# X is the feature set\n",
        "X = house_prices_df[['overallqual', 'grlivarea', 'garagecars', 'totalbsmtsf', 'yearremodadd', 'yearbuilt']]\n",
        "#X = house_prices_df[['overallqual', 'grlivarea', 'garagecars', 'totalbsmtsf', 'yearremodadd', 'yearbuilt', 'fullbath', 'firstflrsf']]\n"
      ],
      "execution_count": 3,
      "outputs": []
    },
    {
      "cell_type": "code",
      "metadata": {
        "id": "2nYKVNNoZl9P",
        "colab_type": "code",
        "colab": {
          "base_uri": "https://localhost:8080/",
          "height": 51
        },
        "outputId": "72cad889-c636-4e53-fc87-57c3d4fc029c"
      },
      "source": [
        "# add a constant to the model\n",
        "X = sm.add_constant(X)\n",
        "\n",
        "X_train, X_test, y_train, y_test = train_test_split(X, Y, test_size = 0.2, random_state = 465)\n",
        "\n",
        "print(\"The number of observations in training set is {}\".format(X_train.shape[0]))\n",
        "print(\"The number of observations in test set is {}\".format(X_test.shape[0]))\n"
      ],
      "execution_count": 4,
      "outputs": [
        {
          "output_type": "stream",
          "text": [
            "The number of observations in training set is 1168\n",
            "The number of observations in test set is 292\n"
          ],
          "name": "stdout"
        }
      ]
    },
    {
      "cell_type": "markdown",
      "metadata": {
        "id": "tDGQNJTHbPMK",
        "colab_type": "text"
      },
      "source": [
        "## **3. Estimate your model from the previous checkpoint in the train set. Assess the goodness of fit of your model.**"
      ]
    },
    {
      "cell_type": "code",
      "metadata": {
        "id": "7IcBPCrZbHH6",
        "colab_type": "code",
        "colab": {
          "base_uri": "https://localhost:8080/",
          "height": 583
        },
        "outputId": "43f89927-b71b-4c38-9654-303832afa71e"
      },
      "source": [
        "# add a constant to the model, the “baseline” of the data in case all of your features values are 0.\n",
        "\n",
        "X_train = sm.add_constant(X_train)\n",
        "\n",
        "# Let's train the model\n",
        "\n",
        "results = sm.OLS(y_train, X_train).fit()\n",
        "\n",
        "results.summary()\n"
      ],
      "execution_count": 5,
      "outputs": [
        {
          "output_type": "execute_result",
          "data": {
            "text/html": [
              "<table class=\"simpletable\">\n",
              "<caption>OLS Regression Results</caption>\n",
              "<tr>\n",
              "  <th>Dep. Variable:</th>        <td>saleprice</td>    <th>  R-squared:         </th> <td>   0.767</td> \n",
              "</tr>\n",
              "<tr>\n",
              "  <th>Model:</th>                   <td>OLS</td>       <th>  Adj. R-squared:    </th> <td>   0.766</td> \n",
              "</tr>\n",
              "<tr>\n",
              "  <th>Method:</th>             <td>Least Squares</td>  <th>  F-statistic:       </th> <td>   638.5</td> \n",
              "</tr>\n",
              "<tr>\n",
              "  <th>Date:</th>             <td>Mon, 20 Jul 2020</td> <th>  Prob (F-statistic):</th>  <td>  0.00</td>  \n",
              "</tr>\n",
              "<tr>\n",
              "  <th>Time:</th>                 <td>01:53:42</td>     <th>  Log-Likelihood:    </th> <td> -13974.</td> \n",
              "</tr>\n",
              "<tr>\n",
              "  <th>No. Observations:</th>      <td>  1168</td>      <th>  AIC:               </th> <td>2.796e+04</td>\n",
              "</tr>\n",
              "<tr>\n",
              "  <th>Df Residuals:</th>          <td>  1161</td>      <th>  BIC:               </th> <td>2.800e+04</td>\n",
              "</tr>\n",
              "<tr>\n",
              "  <th>Df Model:</th>              <td>     6</td>      <th>                     </th>     <td> </td>    \n",
              "</tr>\n",
              "<tr>\n",
              "  <th>Covariance Type:</th>      <td>nonrobust</td>    <th>                     </th>     <td> </td>    \n",
              "</tr>\n",
              "</table>\n",
              "<table class=\"simpletable\">\n",
              "<tr>\n",
              "        <td></td>          <th>coef</th>     <th>std err</th>      <th>t</th>      <th>P>|t|</th>  <th>[0.025</th>    <th>0.975]</th>  \n",
              "</tr>\n",
              "<tr>\n",
              "  <th>const</th>        <td>-9.884e+05</td> <td> 1.37e+05</td> <td>   -7.214</td> <td> 0.000</td> <td>-1.26e+06</td> <td> -7.2e+05</td>\n",
              "</tr>\n",
              "<tr>\n",
              "  <th>overallqual</th>  <td>  2.02e+04</td> <td> 1353.263</td> <td>   14.926</td> <td> 0.000</td> <td> 1.75e+04</td> <td> 2.29e+04</td>\n",
              "</tr>\n",
              "<tr>\n",
              "  <th>grlivarea</th>    <td>   48.0328</td> <td>    2.877</td> <td>   16.695</td> <td> 0.000</td> <td>   42.388</td> <td>   53.678</td>\n",
              "</tr>\n",
              "<tr>\n",
              "  <th>garagecars</th>   <td> 1.592e+04</td> <td> 2045.774</td> <td>    7.783</td> <td> 0.000</td> <td> 1.19e+04</td> <td> 1.99e+04</td>\n",
              "</tr>\n",
              "<tr>\n",
              "  <th>totalbsmtsf</th>  <td>   26.5240</td> <td>    3.061</td> <td>    8.665</td> <td> 0.000</td> <td>   20.518</td> <td>   32.530</td>\n",
              "</tr>\n",
              "<tr>\n",
              "  <th>yearremodadd</th> <td>  255.2548</td> <td>   71.201</td> <td>    3.585</td> <td> 0.000</td> <td>  115.559</td> <td>  394.951</td>\n",
              "</tr>\n",
              "<tr>\n",
              "  <th>yearbuilt</th>    <td>  208.0900</td> <td>   53.838</td> <td>    3.865</td> <td> 0.000</td> <td>  102.459</td> <td>  313.721</td>\n",
              "</tr>\n",
              "</table>\n",
              "<table class=\"simpletable\">\n",
              "<tr>\n",
              "  <th>Omnibus:</th>       <td>391.321</td> <th>  Durbin-Watson:     </th> <td>   1.865</td> \n",
              "</tr>\n",
              "<tr>\n",
              "  <th>Prob(Omnibus):</th> <td> 0.000</td>  <th>  Jarque-Bera (JB):  </th> <td>35254.008</td>\n",
              "</tr>\n",
              "<tr>\n",
              "  <th>Skew:</th>          <td>-0.555</td>  <th>  Prob(JB):          </th> <td>    0.00</td> \n",
              "</tr>\n",
              "<tr>\n",
              "  <th>Kurtosis:</th>      <td>29.892</td>  <th>  Cond. No.          </th> <td>4.14e+05</td> \n",
              "</tr>\n",
              "</table><br/><br/>Warnings:<br/>[1] Standard Errors assume that the covariance matrix of the errors is correctly specified.<br/>[2] The condition number is large, 4.14e+05. This might indicate that there are<br/>strong multicollinearity or other numerical problems."
            ],
            "text/plain": [
              "<class 'statsmodels.iolib.summary.Summary'>\n",
              "\"\"\"\n",
              "                            OLS Regression Results                            \n",
              "==============================================================================\n",
              "Dep. Variable:              saleprice   R-squared:                       0.767\n",
              "Model:                            OLS   Adj. R-squared:                  0.766\n",
              "Method:                 Least Squares   F-statistic:                     638.5\n",
              "Date:                Mon, 20 Jul 2020   Prob (F-statistic):               0.00\n",
              "Time:                        01:53:42   Log-Likelihood:                -13974.\n",
              "No. Observations:                1168   AIC:                         2.796e+04\n",
              "Df Residuals:                    1161   BIC:                         2.800e+04\n",
              "Df Model:                           6                                         \n",
              "Covariance Type:            nonrobust                                         \n",
              "================================================================================\n",
              "                   coef    std err          t      P>|t|      [0.025      0.975]\n",
              "--------------------------------------------------------------------------------\n",
              "const        -9.884e+05   1.37e+05     -7.214      0.000   -1.26e+06    -7.2e+05\n",
              "overallqual    2.02e+04   1353.263     14.926      0.000    1.75e+04    2.29e+04\n",
              "grlivarea       48.0328      2.877     16.695      0.000      42.388      53.678\n",
              "garagecars    1.592e+04   2045.774      7.783      0.000    1.19e+04    1.99e+04\n",
              "totalbsmtsf     26.5240      3.061      8.665      0.000      20.518      32.530\n",
              "yearremodadd   255.2548     71.201      3.585      0.000     115.559     394.951\n",
              "yearbuilt      208.0900     53.838      3.865      0.000     102.459     313.721\n",
              "==============================================================================\n",
              "Omnibus:                      391.321   Durbin-Watson:                   1.865\n",
              "Prob(Omnibus):                  0.000   Jarque-Bera (JB):            35254.008\n",
              "Skew:                          -0.555   Prob(JB):                         0.00\n",
              "Kurtosis:                      29.892   Cond. No.                     4.14e+05\n",
              "==============================================================================\n",
              "\n",
              "Warnings:\n",
              "[1] Standard Errors assume that the covariance matrix of the errors is correctly specified.\n",
              "[2] The condition number is large, 4.14e+05. This might indicate that there are\n",
              "strong multicollinearity or other numerical problems.\n",
              "\"\"\""
            ]
          },
          "metadata": {
            "tags": []
          },
          "execution_count": 5
        }
      ]
    },
    {
      "cell_type": "markdown",
      "metadata": {
        "id": "fh-dDHoud80Q",
        "colab_type": "text"
      },
      "source": [
        "## **4. Predict the house prices in the test set, and evaluate the performance of your model using the metrics we mentioned in this checkpoint.**"
      ]
    },
    {
      "cell_type": "code",
      "metadata": {
        "id": "6naccveXd3SK",
        "colab_type": "code",
        "colab": {
          "base_uri": "https://localhost:8080/",
          "height": 363
        },
        "outputId": "9de80d59-f065-45f2-feee-7ddd2709d058"
      },
      "source": [
        "# add constant to the model\n",
        "X_test = sm.add_constant(X_test)\n",
        "\n",
        "# making predictions here\n",
        "y_preds = results.predict(X_test)\n",
        "\n",
        "plt.scatter(y_test, y_preds)\n",
        "plt.plot(y_test, y_test, color = 'red')\n",
        "plt.xlabel(\"true values\")\n",
        "plt.ylabel(\"predicted values\")\n",
        "plt.title(\"Charges: true and predicted values\")\n",
        "plt.show()\n",
        "\n",
        "\n",
        "print(\"Mean absolute error of the prediction is: '{}'\".format(mean_absolute_error(y_test, y_preds)))\n",
        "print(\"Mean squared error of the prediction is: '{}'\".format(mse(y_test, y_preds)))\n",
        "print(\"Root mean squared error of the prediction is: '{}'\".format(rmse(y_test, y_preds)))\n",
        "print(\"Mean absolute percentage error of the prediction is: '{}'\".format(np.mean(np.abs((y_test - y_preds) / y_test)) * 100))\n",
        "\n"
      ],
      "execution_count": 6,
      "outputs": [
        {
          "output_type": "display_data",
          "data": {
            "image/png": "[encoded data removed]",
            "text/plain": [
              "<Figure size 432x288 with 1 Axes>"
            ]
          },
          "metadata": {
            "tags": [],
            "needs_background": "light"
          }
        },
        {
          "output_type": "stream",
          "text": [
            "Mean absolute error of the prediction is: '24923.939684553097'\n",
            "Mean squared error of the prediction is: '1474012588.6522439'\n",
            "Root mean squared error of the prediction is: '38392.87158643182'\n",
            "Mean absolute percentage error of the prediction is: '15.017988590621522'\n"
          ],
          "name": "stdout"
        }
      ]
    },
    {
      "cell_type": "markdown",
      "metadata": {
        "id": "xKgzZmgNj3TP",
        "colab_type": "text"
      },
      "source": [
        "These numbers are all so big, but this model is dealing with relatively large values in the first place. The MAPE is only 15%, which doesn't seem bad.\n",
        "\n",
        "This model seems to do a decent job of prediction, except for a few large outliers.The model seems to make close predictions for true values that are under almost \\$350,000. Saying that that the MAE, or average error per prediction is off by $24,923\n"
      ]
    },
    {
      "cell_type": "markdown",
      "metadata": {
        "id": "GcjtNl_dkUHS",
        "colab_type": "text"
      },
      "source": [
        "## **5. Is the performance of your model satisfactory? Why? Try to improve your model in terms of predictive performance by adding or removing some variables.**"
      ]
    },
    {
      "cell_type": "markdown",
      "metadata": {
        "id": "LlI5p5h1k4zI",
        "colab_type": "text"
      },
      "source": [
        "**Lets add some other features and see**"
      ]
    },
    {
      "cell_type": "code",
      "metadata": {
        "id": "Wd3QJY98tHY9",
        "colab_type": "code",
        "colab": {
          "base_uri": "https://localhost:8080/",
          "height": 85
        },
        "outputId": "2eb06172-8f93-4b6c-db84-aff81ae35d1e"
      },
      "source": [
        "corr = house_prices_df.corr()\n",
        "corr[corr['saleprice']>0.5].index"
      ],
      "execution_count": 7,
      "outputs": [
        {
          "output_type": "execute_result",
          "data": {
            "text/plain": [
              "Index(['overallqual', 'yearbuilt', 'yearremodadd', 'totalbsmtsf', 'firstflrsf',\n",
              "       'grlivarea', 'fullbath', 'totrmsabvgrd', 'garagecars', 'garagearea',\n",
              "       'saleprice'],\n",
              "      dtype='object')"
            ]
          },
          "metadata": {
            "tags": []
          },
          "execution_count": 7
        }
      ]
    },
    {
      "cell_type": "markdown",
      "metadata": {
        "id": "IDnjWAnqvhND",
        "colab_type": "text"
      },
      "source": [
        "Add firstflrsf, fullbath and totrmsabvgrd features in our model and see what happend\n"
      ]
    },
    {
      "cell_type": "code",
      "metadata": {
        "id": "Wy0e95YuhQ93",
        "colab_type": "code",
        "colab": {
          "base_uri": "https://localhost:8080/",
          "height": 51
        },
        "outputId": "74aece78-37b2-44a9-dd65-81a8e4938998"
      },
      "source": [
        "# Y is the target variable\n",
        "Y = house_prices_df['saleprice']\n",
        "\n",
        "# X is the feature set\n",
        "X = house_prices_df[['overallqual', 'grlivarea', 'garagecars', 'totalbsmtsf', 'yearremodadd', 'yearbuilt', 'firstflrsf', 'fullbath', 'totrmsabvgrd']]\n",
        "\n",
        "# add a constant to the model\n",
        "X = sm.add_constant(X)\n",
        "print(\"The number of observations in training set is {}\".format(X_train.shape[0]))\n",
        "print(\"The number of observations in test set is {}\".format(X_test.shape[0]))"
      ],
      "execution_count": 8,
      "outputs": [
        {
          "output_type": "stream",
          "text": [
            "The number of observations in training set is 1168\n",
            "The number of observations in test set is 292\n"
          ],
          "name": "stdout"
        }
      ]
    },
    {
      "cell_type": "code",
      "metadata": {
        "id": "fqTcMfC-lK7r",
        "colab_type": "code",
        "colab": {
          "base_uri": "https://localhost:8080/",
          "height": 583
        },
        "outputId": "56cb7b3f-7dbc-4cbf-c525-e75754ad80ec"
      },
      "source": [
        "# add a constant to the model, the “baseline” of the data in case all of your features values are 0.\n",
        "\n",
        "X_train = sm.add_constant(X_train)\n",
        "\n",
        "# Let's train the model\n",
        "\n",
        "results = sm.OLS(y_train, X_train).fit()\n",
        "\n",
        "results.summary()\n"
      ],
      "execution_count": 9,
      "outputs": [
        {
          "output_type": "execute_result",
          "data": {
            "text/html": [
              "<table class=\"simpletable\">\n",
              "<caption>OLS Regression Results</caption>\n",
              "<tr>\n",
              "  <th>Dep. Variable:</th>        <td>saleprice</td>    <th>  R-squared:         </th> <td>   0.767</td> \n",
              "</tr>\n",
              "<tr>\n",
              "  <th>Model:</th>                   <td>OLS</td>       <th>  Adj. R-squared:    </th> <td>   0.766</td> \n",
              "</tr>\n",
              "<tr>\n",
              "  <th>Method:</th>             <td>Least Squares</td>  <th>  F-statistic:       </th> <td>   638.5</td> \n",
              "</tr>\n",
              "<tr>\n",
              "  <th>Date:</th>             <td>Mon, 20 Jul 2020</td> <th>  Prob (F-statistic):</th>  <td>  0.00</td>  \n",
              "</tr>\n",
              "<tr>\n",
              "  <th>Time:</th>                 <td>01:53:42</td>     <th>  Log-Likelihood:    </th> <td> -13974.</td> \n",
              "</tr>\n",
              "<tr>\n",
              "  <th>No. Observations:</th>      <td>  1168</td>      <th>  AIC:               </th> <td>2.796e+04</td>\n",
              "</tr>\n",
              "<tr>\n",
              "  <th>Df Residuals:</th>          <td>  1161</td>      <th>  BIC:               </th> <td>2.800e+04</td>\n",
              "</tr>\n",
              "<tr>\n",
              "  <th>Df Model:</th>              <td>     6</td>      <th>                     </th>     <td> </td>    \n",
              "</tr>\n",
              "<tr>\n",
              "  <th>Covariance Type:</th>      <td>nonrobust</td>    <th>                     </th>     <td> </td>    \n",
              "</tr>\n",
              "</table>\n",
              "<table class=\"simpletable\">\n",
              "<tr>\n",
              "        <td></td>          <th>coef</th>     <th>std err</th>      <th>t</th>      <th>P>|t|</th>  <th>[0.025</th>    <th>0.975]</th>  \n",
              "</tr>\n",
              "<tr>\n",
              "  <th>const</th>        <td>-9.884e+05</td> <td> 1.37e+05</td> <td>   -7.214</td> <td> 0.000</td> <td>-1.26e+06</td> <td> -7.2e+05</td>\n",
              "</tr>\n",
              "<tr>\n",
              "  <th>overallqual</th>  <td>  2.02e+04</td> <td> 1353.263</td> <td>   14.926</td> <td> 0.000</td> <td> 1.75e+04</td> <td> 2.29e+04</td>\n",
              "</tr>\n",
              "<tr>\n",
              "  <th>grlivarea</th>    <td>   48.0328</td> <td>    2.877</td> <td>   16.695</td> <td> 0.000</td> <td>   42.388</td> <td>   53.678</td>\n",
              "</tr>\n",
              "<tr>\n",
              "  <th>garagecars</th>   <td> 1.592e+04</td> <td> 2045.774</td> <td>    7.783</td> <td> 0.000</td> <td> 1.19e+04</td> <td> 1.99e+04</td>\n",
              "</tr>\n",
              "<tr>\n",
              "  <th>totalbsmtsf</th>  <td>   26.5240</td> <td>    3.061</td> <td>    8.665</td> <td> 0.000</td> <td>   20.518</td> <td>   32.530</td>\n",
              "</tr>\n",
              "<tr>\n",
              "  <th>yearremodadd</th> <td>  255.2548</td> <td>   71.201</td> <td>    3.585</td> <td> 0.000</td> <td>  115.559</td> <td>  394.951</td>\n",
              "</tr>\n",
              "<tr>\n",
              "  <th>yearbuilt</th>    <td>  208.0900</td> <td>   53.838</td> <td>    3.865</td> <td> 0.000</td> <td>  102.459</td> <td>  313.721</td>\n",
              "</tr>\n",
              "</table>\n",
              "<table class=\"simpletable\">\n",
              "<tr>\n",
              "  <th>Omnibus:</th>       <td>391.321</td> <th>  Durbin-Watson:     </th> <td>   1.865</td> \n",
              "</tr>\n",
              "<tr>\n",
              "  <th>Prob(Omnibus):</th> <td> 0.000</td>  <th>  Jarque-Bera (JB):  </th> <td>35254.008</td>\n",
              "</tr>\n",
              "<tr>\n",
              "  <th>Skew:</th>          <td>-0.555</td>  <th>  Prob(JB):          </th> <td>    0.00</td> \n",
              "</tr>\n",
              "<tr>\n",
              "  <th>Kurtosis:</th>      <td>29.892</td>  <th>  Cond. No.          </th> <td>4.14e+05</td> \n",
              "</tr>\n",
              "</table><br/><br/>Warnings:<br/>[1] Standard Errors assume that the covariance matrix of the errors is correctly specified.<br/>[2] The condition number is large, 4.14e+05. This might indicate that there are<br/>strong multicollinearity or other numerical problems."
            ],
            "text/plain": [
              "<class 'statsmodels.iolib.summary.Summary'>\n",
              "\"\"\"\n",
              "                            OLS Regression Results                            \n",
              "==============================================================================\n",
              "Dep. Variable:              saleprice   R-squared:                       0.767\n",
              "Model:                            OLS   Adj. R-squared:                  0.766\n",
              "Method:                 Least Squares   F-statistic:                     638.5\n",
              "Date:                Mon, 20 Jul 2020   Prob (F-statistic):               0.00\n",
              "Time:                        01:53:42   Log-Likelihood:                -13974.\n",
              "No. Observations:                1168   AIC:                         2.796e+04\n",
              "Df Residuals:                    1161   BIC:                         2.800e+04\n",
              "Df Model:                           6                                         \n",
              "Covariance Type:            nonrobust                                         \n",
              "================================================================================\n",
              "                   coef    std err          t      P>|t|      [0.025      0.975]\n",
              "--------------------------------------------------------------------------------\n",
              "const        -9.884e+05   1.37e+05     -7.214      0.000   -1.26e+06    -7.2e+05\n",
              "overallqual    2.02e+04   1353.263     14.926      0.000    1.75e+04    2.29e+04\n",
              "grlivarea       48.0328      2.877     16.695      0.000      42.388      53.678\n",
              "garagecars    1.592e+04   2045.774      7.783      0.000    1.19e+04    1.99e+04\n",
              "totalbsmtsf     26.5240      3.061      8.665      0.000      20.518      32.530\n",
              "yearremodadd   255.2548     71.201      3.585      0.000     115.559     394.951\n",
              "yearbuilt      208.0900     53.838      3.865      0.000     102.459     313.721\n",
              "==============================================================================\n",
              "Omnibus:                      391.321   Durbin-Watson:                   1.865\n",
              "Prob(Omnibus):                  0.000   Jarque-Bera (JB):            35254.008\n",
              "Skew:                          -0.555   Prob(JB):                         0.00\n",
              "Kurtosis:                      29.892   Cond. No.                     4.14e+05\n",
              "==============================================================================\n",
              "\n",
              "Warnings:\n",
              "[1] Standard Errors assume that the covariance matrix of the errors is correctly specified.\n",
              "[2] The condition number is large, 4.14e+05. This might indicate that there are\n",
              "strong multicollinearity or other numerical problems.\n",
              "\"\"\""
            ]
          },
          "metadata": {
            "tags": []
          },
          "execution_count": 9
        }
      ]
    },
    {
      "cell_type": "code",
      "metadata": {
        "id": "a1PitZQ6lSJJ",
        "colab_type": "code",
        "colab": {
          "base_uri": "https://localhost:8080/",
          "height": 363
        },
        "outputId": "f7c0fdd7-55a6-4208-a0f6-ee6ec8816f87"
      },
      "source": [
        "# add constant to the model\n",
        "X_test = sm.add_constant(X_test)\n",
        "\n",
        "# making predictions here\n",
        "y_preds = results.predict(X_test)\n",
        "\n",
        "plt.scatter(y_test, y_preds)\n",
        "plt.plot(y_test, y_test, color = 'red')\n",
        "plt.xlabel(\"true values\")\n",
        "plt.ylabel(\"predicted values\")\n",
        "plt.title(\"Charges: true and predicted values\")\n",
        "plt.show()\n",
        "\n",
        "\n",
        "print(\"Mean absolute error of the prediction is: '{}'\".format(mean_absolute_error(y_test, y_preds)))\n",
        "print(\"Mean squared error of the prediction is: '{}'\".format(mse(y_test, y_preds)))\n",
        "print(\"Root mean squared error of the prediction is: '{}'\".format(rmse(y_test, y_preds)))\n",
        "print(\"Mean absolute percentage error of the prediction is: '{}'\".format(np.mean(np.abs((y_test - y_preds) / y_test)) * 100))\n",
        "\n"
      ],
      "execution_count": 10,
      "outputs": [
        {
          "output_type": "display_data",
          "data": {
            "image/png": "[encoded data removed]",
            "text/plain": [
              "<Figure size 432x288 with 1 Axes>"
            ]
          },
          "metadata": {
            "tags": [],
            "needs_background": "light"
          }
        },
        {
          "output_type": "stream",
          "text": [
            "Mean absolute error of the prediction is: '24923.939684553097'\n",
            "Mean squared error of the prediction is: '1474012588.6522439'\n",
            "Root mean squared error of the prediction is: '38392.87158643182'\n",
            "Mean absolute percentage error of the prediction is: '15.017988590621522'\n"
          ],
          "name": "stdout"
        }
      ]
    },
    {
      "cell_type": "markdown",
      "metadata": {
        "id": "ighFJ9dRwKLY",
        "colab_type": "text"
      },
      "source": [
        "We are getting the same results. Now let's check and remove the outlier"
      ]
    },
    {
      "cell_type": "code",
      "metadata": {
        "id": "TqU5cilclUy1",
        "colab_type": "code",
        "colab": {
          "base_uri": "https://localhost:8080/",
          "height": 170
        },
        "outputId": "12f83b07-b04a-48c2-961a-f6c5850fda0f"
      },
      "source": [
        "house_prices_df['saleprice'].describe()"
      ],
      "execution_count": 11,
      "outputs": [
        {
          "output_type": "execute_result",
          "data": {
            "text/plain": [
              "count      1460.000000\n",
              "mean     180921.195890\n",
              "std       79442.502883\n",
              "min       34900.000000\n",
              "25%      129975.000000\n",
              "50%      163000.000000\n",
              "75%      214000.000000\n",
              "max      755000.000000\n",
              "Name: saleprice, dtype: float64"
            ]
          },
          "metadata": {
            "tags": []
          },
          "execution_count": 11
        }
      ]
    },
    {
      "cell_type": "code",
      "metadata": {
        "id": "aJjl8sXG4r2z",
        "colab_type": "code",
        "colab": {
          "base_uri": "https://localhost:8080/",
          "height": 333
        },
        "outputId": "844170c6-a463-45e9-e2b2-3852324d1f3a"
      },
      "source": [
        "plt.hist(house_prices_df['saleprice'])"
      ],
      "execution_count": 12,
      "outputs": [
        {
          "output_type": "execute_result",
          "data": {
            "text/plain": [
              "(array([148., 723., 373., 135.,  51.,  19.,   4.,   3.,   2.,   2.]),\n",
              " array([ 34900., 106910., 178920., 250930., 322940., 394950., 466960.,\n",
              "        538970., 610980., 682990., 755000.]),\n",
              " <a list of 10 Patch objects>)"
            ]
          },
          "metadata": {
            "tags": []
          },
          "execution_count": 12
        },
        {
          "output_type": "display_data",
          "data": {
            "image/png": "[encoded data removed]",
            "text/plain": [
              "<Figure size 432x288 with 1 Axes>"
            ]
          },
          "metadata": {
            "tags": [],
            "needs_background": "light"
          }
        }
      ]
    },
    {
      "cell_type": "code",
      "metadata": {
        "id": "im_egbsLw0SY",
        "colab_type": "code",
        "colab": {
          "base_uri": "https://localhost:8080/",
          "height": 296
        },
        "outputId": "f2df36ac-33d1-403e-97f6-4f081634b0c4"
      },
      "source": [
        "sns.boxplot(house_prices_df['saleprice'])"
      ],
      "execution_count": 13,
      "outputs": [
        {
          "output_type": "execute_result",
          "data": {
            "text/plain": [
              "<matplotlib.axes._subplots.AxesSubplot at 0x7f77a7c4f208>"
            ]
          },
          "metadata": {
            "tags": []
          },
          "execution_count": 13
        },
        {
          "output_type": "display_data",
          "data": {
            "image/png": "[encoded data removed]",
            "text/plain": [
              "<Figure size 432x288 with 1 Axes>"
            ]
          },
          "metadata": {
            "tags": [],
            "needs_background": "light"
          }
        }
      ]
    },
    {
      "cell_type": "markdown",
      "metadata": {
        "id": "Dmh8oZmm0esr",
        "colab_type": "text"
      },
      "source": [
        "As we can see there is a lot of outliers. I think I am going to have to call the high-priced homes outliers, remove them, and rerun."
      ]
    },
    {
      "cell_type": "code",
      "metadata": {
        "id": "npLTJuTmzycg",
        "colab_type": "code",
        "colab": {}
      },
      "source": [
        "house_prices_df1 = house_prices_df.loc[house_prices_df['saleprice'] < 350000]"
      ],
      "execution_count": 15,
      "outputs": []
    },
    {
      "cell_type": "code",
      "metadata": {
        "id": "fGNanJAX3iJJ",
        "colab_type": "code",
        "colab": {
          "base_uri": "https://localhost:8080/",
          "height": 51
        },
        "outputId": "b3241cd5-8587-4313-b4de-13e720bb7027"
      },
      "source": [
        "# Y is the target variable\n",
        "Y = house_prices_df1['saleprice']\n",
        "\n",
        "# X is the feature set\n",
        "X = house_prices_df1[['overallqual', 'grlivarea', 'garagecars', 'totalbsmtsf', 'yearremodadd', 'yearbuilt']]\n",
        "#X = house_prices_df[['overallqual', 'grlivarea', 'garagecars', 'totalbsmtsf', 'yearremodadd', 'yearbuilt', 'fullbath', 'firstflrsf']]\n",
        "\n",
        "# add a constant to the model\n",
        "X = sm.add_constant(X)\n",
        "\n",
        "X_train, X_test, y_train, y_test = train_test_split(X, Y, test_size = 0.2, random_state = 465)\n",
        "\n",
        "print(\"The number of observations in training set is {}\".format(X_train.shape[0]))\n",
        "print(\"The number of observations in test set is {}\".format(X_test.shape[0]))"
      ],
      "execution_count": 16,
      "outputs": [
        {
          "output_type": "stream",
          "text": [
            "The number of observations in training set is 1123\n",
            "The number of observations in test set is 281\n"
          ],
          "name": "stdout"
        }
      ]
    },
    {
      "cell_type": "code",
      "metadata": {
        "id": "s9fKy2q04KUm",
        "colab_type": "code",
        "colab": {
          "base_uri": "https://localhost:8080/",
          "height": 583
        },
        "outputId": "25508349-8327-469f-e705-b9c5d40d068b"
      },
      "source": [
        "# add a constant to the model, the “baseline” of the data in case all of your features values are 0.\n",
        "\n",
        "X_train = sm.add_constant(X_train)\n",
        "\n",
        "# Let's train the model\n",
        "\n",
        "results = sm.OLS(y_train, X_train).fit()\n",
        "\n",
        "results.summary()"
      ],
      "execution_count": 17,
      "outputs": [
        {
          "output_type": "execute_result",
          "data": {
            "text/html": [
              "<table class=\"simpletable\">\n",
              "<caption>OLS Regression Results</caption>\n",
              "<tr>\n",
              "  <th>Dep. Variable:</th>        <td>saleprice</td>    <th>  R-squared:         </th> <td>   0.773</td> \n",
              "</tr>\n",
              "<tr>\n",
              "  <th>Model:</th>                   <td>OLS</td>       <th>  Adj. R-squared:    </th> <td>   0.771</td> \n",
              "</tr>\n",
              "<tr>\n",
              "  <th>Method:</th>             <td>Least Squares</td>  <th>  F-statistic:       </th> <td>   632.2</td> \n",
              "</tr>\n",
              "<tr>\n",
              "  <th>Date:</th>             <td>Mon, 20 Jul 2020</td> <th>  Prob (F-statistic):</th>  <td>  0.00</td>  \n",
              "</tr>\n",
              "<tr>\n",
              "  <th>Time:</th>                 <td>01:53:43</td>     <th>  Log-Likelihood:    </th> <td> -13112.</td> \n",
              "</tr>\n",
              "<tr>\n",
              "  <th>No. Observations:</th>      <td>  1123</td>      <th>  AIC:               </th> <td>2.624e+04</td>\n",
              "</tr>\n",
              "<tr>\n",
              "  <th>Df Residuals:</th>          <td>  1116</td>      <th>  BIC:               </th> <td>2.627e+04</td>\n",
              "</tr>\n",
              "<tr>\n",
              "  <th>Df Model:</th>              <td>     6</td>      <th>                     </th>     <td> </td>    \n",
              "</tr>\n",
              "<tr>\n",
              "  <th>Covariance Type:</th>      <td>nonrobust</td>    <th>                     </th>     <td> </td>    \n",
              "</tr>\n",
              "</table>\n",
              "<table class=\"simpletable\">\n",
              "<tr>\n",
              "        <td></td>          <th>coef</th>     <th>std err</th>      <th>t</th>      <th>P>|t|</th>  <th>[0.025</th>    <th>0.975]</th>  \n",
              "</tr>\n",
              "<tr>\n",
              "  <th>const</th>        <td>-1.157e+06</td> <td> 1.03e+05</td> <td>  -11.223</td> <td> 0.000</td> <td>-1.36e+06</td> <td>-9.54e+05</td>\n",
              "</tr>\n",
              "<tr>\n",
              "  <th>overallqual</th>  <td> 1.618e+04</td> <td> 1018.238</td> <td>   15.886</td> <td> 0.000</td> <td> 1.42e+04</td> <td> 1.82e+04</td>\n",
              "</tr>\n",
              "<tr>\n",
              "  <th>grlivarea</th>    <td>   36.3774</td> <td>    2.259</td> <td>   16.106</td> <td> 0.000</td> <td>   31.946</td> <td>   40.809</td>\n",
              "</tr>\n",
              "<tr>\n",
              "  <th>garagecars</th>   <td> 1.384e+04</td> <td> 1512.212</td> <td>    9.155</td> <td> 0.000</td> <td> 1.09e+04</td> <td> 1.68e+04</td>\n",
              "</tr>\n",
              "<tr>\n",
              "  <th>totalbsmtsf</th>  <td>   17.5254</td> <td>    2.466</td> <td>    7.107</td> <td> 0.000</td> <td>   12.687</td> <td>   22.364</td>\n",
              "</tr>\n",
              "<tr>\n",
              "  <th>yearremodadd</th> <td>  316.5483</td> <td>   52.585</td> <td>    6.020</td> <td> 0.000</td> <td>  213.372</td> <td>  419.724</td>\n",
              "</tr>\n",
              "<tr>\n",
              "  <th>yearbuilt</th>    <td>  257.2559</td> <td>   40.398</td> <td>    6.368</td> <td> 0.000</td> <td>  177.991</td> <td>  336.521</td>\n",
              "</tr>\n",
              "</table>\n",
              "<table class=\"simpletable\">\n",
              "<tr>\n",
              "  <th>Omnibus:</th>       <td>583.428</td> <th>  Durbin-Watson:     </th> <td>   2.037</td> \n",
              "</tr>\n",
              "<tr>\n",
              "  <th>Prob(Omnibus):</th> <td> 0.000</td>  <th>  Jarque-Bera (JB):  </th> <td>22861.124</td>\n",
              "</tr>\n",
              "<tr>\n",
              "  <th>Skew:</th>          <td>-1.716</td>  <th>  Prob(JB):          </th> <td>    0.00</td> \n",
              "</tr>\n",
              "<tr>\n",
              "  <th>Kurtosis:</th>      <td>24.836</td>  <th>  Cond. No.          </th> <td>4.03e+05</td> \n",
              "</tr>\n",
              "</table><br/><br/>Warnings:<br/>[1] Standard Errors assume that the covariance matrix of the errors is correctly specified.<br/>[2] The condition number is large, 4.03e+05. This might indicate that there are<br/>strong multicollinearity or other numerical problems."
            ],
            "text/plain": [
              "<class 'statsmodels.iolib.summary.Summary'>\n",
              "\"\"\"\n",
              "                            OLS Regression Results                            \n",
              "==============================================================================\n",
              "Dep. Variable:              saleprice   R-squared:                       0.773\n",
              "Model:                            OLS   Adj. R-squared:                  0.771\n",
              "Method:                 Least Squares   F-statistic:                     632.2\n",
              "Date:                Mon, 20 Jul 2020   Prob (F-statistic):               0.00\n",
              "Time:                        01:53:43   Log-Likelihood:                -13112.\n",
              "No. Observations:                1123   AIC:                         2.624e+04\n",
              "Df Residuals:                    1116   BIC:                         2.627e+04\n",
              "Df Model:                           6                                         \n",
              "Covariance Type:            nonrobust                                         \n",
              "================================================================================\n",
              "                   coef    std err          t      P>|t|      [0.025      0.975]\n",
              "--------------------------------------------------------------------------------\n",
              "const        -1.157e+06   1.03e+05    -11.223      0.000   -1.36e+06   -9.54e+05\n",
              "overallqual   1.618e+04   1018.238     15.886      0.000    1.42e+04    1.82e+04\n",
              "grlivarea       36.3774      2.259     16.106      0.000      31.946      40.809\n",
              "garagecars    1.384e+04   1512.212      9.155      0.000    1.09e+04    1.68e+04\n",
              "totalbsmtsf     17.5254      2.466      7.107      0.000      12.687      22.364\n",
              "yearremodadd   316.5483     52.585      6.020      0.000     213.372     419.724\n",
              "yearbuilt      257.2559     40.398      6.368      0.000     177.991     336.521\n",
              "==============================================================================\n",
              "Omnibus:                      583.428   Durbin-Watson:                   2.037\n",
              "Prob(Omnibus):                  0.000   Jarque-Bera (JB):            22861.124\n",
              "Skew:                          -1.716   Prob(JB):                         0.00\n",
              "Kurtosis:                      24.836   Cond. No.                     4.03e+05\n",
              "==============================================================================\n",
              "\n",
              "Warnings:\n",
              "[1] Standard Errors assume that the covariance matrix of the errors is correctly specified.\n",
              "[2] The condition number is large, 4.03e+05. This might indicate that there are\n",
              "strong multicollinearity or other numerical problems.\n",
              "\"\"\""
            ]
          },
          "metadata": {
            "tags": []
          },
          "execution_count": 17
        }
      ]
    },
    {
      "cell_type": "code",
      "metadata": {
        "id": "oHJ83FeM4OC3",
        "colab_type": "code",
        "colab": {
          "base_uri": "https://localhost:8080/",
          "height": 363
        },
        "outputId": "145ee3fd-d362-422e-d010-85d9452bca8f"
      },
      "source": [
        "# add constant to the model\n",
        "X_test = sm.add_constant(X_test)\n",
        "\n",
        "# making predictions here\n",
        "y_preds = results.predict(X_test)\n",
        "\n",
        "plt.scatter(y_test, y_preds)\n",
        "plt.plot(y_test, y_test, color = 'red')\n",
        "plt.xlabel(\"true values\")\n",
        "plt.ylabel(\"predicted values\")\n",
        "plt.title(\"Charges: true and predicted values\")\n",
        "plt.show()\n",
        "\n",
        "\n",
        "print(\"Mean absolute error of the prediction is: '{}'\".format(mean_absolute_error(y_test, y_preds)))\n",
        "print(\"Mean squared error of the prediction is: '{}'\".format(mse(y_test, y_preds)))\n",
        "print(\"Root mean squared error of the prediction is: '{}'\".format(rmse(y_test, y_preds)))\n",
        "print(\"Mean absolute percentage error of the prediction is: '{}'\".format(np.mean(np.abs((y_test - y_preds) / y_test)) * 100))"
      ],
      "execution_count": 18,
      "outputs": [
        {
          "output_type": "display_data",
          "data": {
            "image/png": "[encoded data removed]",
            "text/plain": [
              "<Figure size 432x288 with 1 Axes>"
            ]
          },
          "metadata": {
            "tags": [],
            "needs_background": "light"
          }
        },
        {
          "output_type": "stream",
          "text": [
            "Mean absolute error of the prediction is: '20096.918470465742'\n",
            "Mean squared error of the prediction is: '775513252.3694929'\n",
            "Root mean squared error of the prediction is: '27848.038573111266'\n",
            "Mean absolute percentage error of the prediction is: '12.489039797654826'\n"
          ],
          "name": "stdout"
        }
      ]
    },
    {
      "cell_type": "markdown",
      "metadata": {
        "id": "pXtCFPK34c7i",
        "colab_type": "text"
      },
      "source": [
        "Looks pretty good!\n",
        "\n",
        "**So far this may be the best.**"
      ]
    },
    {
      "cell_type": "code",
      "metadata": {
        "id": "l7aqEHdU7MmZ",
        "colab_type": "code",
        "colab": {}
      },
      "source": [
        ""
      ],
      "execution_count": 18,
      "outputs": []
    }
  ]
}
