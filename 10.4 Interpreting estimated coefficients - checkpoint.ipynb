{
  "nbformat": 4,
  "nbformat_minor": 0,
  "metadata": {
    "colab": {
      "name": "Interpreting estimated coefficients - checkpoint.ipynb",
      "provenance": [],
      "authorship_tag": "ABX9TyOIICtYZV1YRJgd4m0qubhm"
    },
    "kernelspec": {
      "name": "python3",
      "display_name": "Python 3"
    }
  },
  "cells": [
    {
      "cell_type": "markdown",
      "metadata": {
        "id": "1Mu4QZu3ewVE",
        "colab_type": "text"
      },
      "source": [
        "#Exercise 1: Interpretation and significance\n",
        "\n",
        "Suppose that we would like to know how much families in the US are spending on recreation annually. We've estimated the following model:\n",
        "\n",
        "$$ expenditure = 873 + 0.0012\\ annual\\_income + 0.00002\\ annual\\_income^2 - 223.57\\ have\\_kids $$\n",
        "\n",
        "expenditure is the annual spending on recreation in US dollars, annual_income is the annual income in US dollars, and have_kids is a dummy variable indicating the families with children. Interpret the estimated coefficients. What additional statistics should be given in order to make sure that your interpretations make sense statistically. Write up your answer.\n"
      ]
    },
    {
      "cell_type": "markdown",
      "metadata": {
        "id": "j8gLI9D2h9VK",
        "colab_type": "text"
      },
      "source": [
        "**Solution:**\n",
        "\n",
        "The constant 873 is considered a bias value. It is a factor that is prevalent in most situations(different row values). The first annual income for the household has a minor effect on recreation expenditure, about 0.12%. A second income has even less of an effect, which is close to zero.\n",
        "\n",
        "Families with kids can expect to pay $223.57 less on average.\n",
        "\n",
        "Since two of the continuous variables in this model are relatively insignificant, we can run statistical tests with p-values to determine their significance to the model and whether we should drop any.\n",
        "\n",
        "The graph below demonstrates the relation between the annual reacreation expenditure and the annual income seperately for the families with children and without children."
      ]
    },
    {
      "cell_type": "code",
      "metadata": {
        "id": "LfT9IuPIekR9",
        "colab_type": "code",
        "colab": {
          "base_uri": "https://localhost:8080/",
          "height": 0
        },
        "outputId": "bccc78b5-e59c-40d6-f655-fa94d1d0c9fb"
      },
      "source": [
        "import numpy as np\n",
        "import matplotlib.pyplot as plt\n",
        "\n",
        "# X represents annual income\n",
        "X = np.arange(20000, 60000, 100)\n",
        "# Y represents annual expenditure on recreation\n",
        "# for families with no children\n",
        "Y = 873 + 0.0012*X + 0.000002*(X**2)\n",
        "# Y_kids represents annual expenditure on recreation\n",
        "# for families with children\n",
        "Y_kids = (873 - 223.57) + 0.0012*X + 0.000002*(X**2)\n",
        "\n",
        "\n",
        "plt1 = plt.plot(X, Y, label=\"with no children\")\n",
        "plt2 = plt.plot(X, Y_kids, label=\"with children\")\n",
        "plt.xlabel(\"income\")\n",
        "plt.ylabel(\"recreation expenditure\")\n",
        "plt.title(\"The relation between income and recreation expenditure\")\n",
        "plt.legend()\n",
        "plt.show()"
      ],
      "execution_count": 1,
      "outputs": [
        {
          "output_type": "display_data",
          "data": {
            "image/png": "[encoded data removed]",
            "text/plain": [
              "<Figure size 432x288 with 1 Axes>"
            ]
          },
          "metadata": {
            "tags": [],
            "needs_background": "light"
          }
        }
      ]
    },
    {
      "cell_type": "markdown",
      "metadata": {
        "id": "XZdVDeDzivcS",
        "colab_type": "text"
      },
      "source": [
        "#Exercise 2: Weather model\n",
        "\n",
        "In this exercise, you'll work with the historical temperature data from the previous checkpoint. To complete this assignment, submit a link to a Jupyter notebook containing your solutions to the following tasks:\n",
        "\n",
        "**2.1** First, load the dataset from the weatherinszeged table from Thinkful's database.\n",
        "\n",
        "**2.2** Build a linear regression model where your target variable is the difference between the apparenttemperature and the temperature. As explanatory variables, use humidity and windspeed. Now, estimate your model using OLS. Are the estimated coefficients statistically significant? Are the signs of the estimated coefficients in line with your previous expectations? Interpret the estimated coefficients. What are the relations between the target and the explanatory variables?\n",
        "\n",
        "**2.3** Next, include the interaction of humidity and windspeed to the model above and estimate the model using OLS. Are the coefficients statistically significant? Did the signs of the estimated coefficients for humidity and windspeed change? Interpret the estimated coefficients.\n",
        "\n",
        "\n",
        "\n"
      ]
    },
    {
      "cell_type": "markdown",
      "metadata": {
        "id": "M6viKNNAh04g",
        "colab_type": "text"
      },
      "source": [
        "*   **2.1 First, load the dataset from the weatherinszeged table from Thinkful's database.** \n",
        "\n"
      ]
    },
    {
      "cell_type": "code",
      "metadata": {
        "id": "1juq9J1TirNw",
        "colab_type": "code",
        "colab": {
          "base_uri": "https://localhost:8080/",
          "height": 71
        },
        "outputId": "4c3da623-c23c-4674-fc49-ac569303335e"
      },
      "source": [
        "import matplotlib.pyplot as plt\n",
        "import numpy as np\n",
        "import pandas as pd\n",
        "import seaborn as sns\n",
        "from sklearn import linear_model\n",
        "import statsmodels.api as sm\n",
        "import statsmodels.formula.api as smf\n",
        "from statsmodels.tsa.stattools import acf\n",
        "from sqlalchemy import create_engine\n",
        "from scipy.stats import bartlett, jarque_bera, levene, normaltest\n",
        "\n",
        "import warnings\n",
        "warnings.filterwarnings('ignore')\n",
        "\n",
        "postgres_user = 'dsbc_student'\n",
        "postgres_pw = '7*.8G9QH21'\n",
        "postgres_host = '142.93.121.174'\n",
        "postgres_port = '5432'\n",
        "postgres_db = 'weatherinszeged'"
      ],
      "execution_count": 2,
      "outputs": [
        {
          "output_type": "stream",
          "text": [
            "/usr/local/lib/python3.6/dist-packages/statsmodels/tools/_testing.py:19: FutureWarning: pandas.util.testing is deprecated. Use the functions in the public API at pandas.testing instead.\n",
            "  import pandas.util.testing as tm\n"
          ],
          "name": "stderr"
        }
      ]
    },
    {
      "cell_type": "code",
      "metadata": {
        "id": "Rjbw7lbci7O3",
        "colab_type": "code",
        "colab": {
          "base_uri": "https://localhost:8080/",
          "height": 374
        },
        "outputId": "de58280c-0ae6-4351-be87-a16e62b315dc"
      },
      "source": [
        "engine = create_engine('postgresql://{}:{}@{}:{}/{}'.format(\n",
        "    postgres_user, postgres_pw, postgres_host, postgres_port, postgres_db))\n",
        "weather_df = pd.read_sql_query('select * from weatherinszeged',con=engine)\n",
        "\n",
        "# no need for an open connection, as we're only doing a single query\n",
        "engine.dispose()\n",
        "\n",
        "weather_df.head()"
      ],
      "execution_count": 3,
      "outputs": [
        {
          "output_type": "execute_result",
          "data": {
            "text/html": [
              "<div>\n",
              "<style scoped>\n",
              "    .dataframe tbody tr th:only-of-type {\n",
              "        vertical-align: middle;\n",
              "    }\n",
              "\n",
              "    .dataframe tbody tr th {\n",
              "        vertical-align: top;\n",
              "    }\n",
              "\n",
              "    .dataframe thead th {\n",
              "        text-align: right;\n",
              "    }\n",
              "</style>\n",
              "<table border=\"1\" class=\"dataframe\">\n",
              "  <thead>\n",
              "    <tr style=\"text-align: right;\">\n",
              "      <th></th>\n",
              "      <th>date</th>\n",
              "      <th>summary</th>\n",
              "      <th>preciptype</th>\n",
              "      <th>temperature</th>\n",
              "      <th>apparenttemperature</th>\n",
              "      <th>humidity</th>\n",
              "      <th>windspeed</th>\n",
              "      <th>windbearing</th>\n",
              "      <th>visibility</th>\n",
              "      <th>loudcover</th>\n",
              "      <th>pressure</th>\n",
              "      <th>dailysummary</th>\n",
              "    </tr>\n",
              "  </thead>\n",
              "  <tbody>\n",
              "    <tr>\n",
              "      <th>0</th>\n",
              "      <td>2006-03-31 22:00:00+00:00</td>\n",
              "      <td>Partly Cloudy</td>\n",
              "      <td>rain</td>\n",
              "      <td>9.472222</td>\n",
              "      <td>7.388889</td>\n",
              "      <td>0.89</td>\n",
              "      <td>14.1197</td>\n",
              "      <td>251.0</td>\n",
              "      <td>15.8263</td>\n",
              "      <td>0.0</td>\n",
              "      <td>1015.13</td>\n",
              "      <td>Partly cloudy throughout the day.</td>\n",
              "    </tr>\n",
              "    <tr>\n",
              "      <th>1</th>\n",
              "      <td>2006-03-31 23:00:00+00:00</td>\n",
              "      <td>Partly Cloudy</td>\n",
              "      <td>rain</td>\n",
              "      <td>9.355556</td>\n",
              "      <td>7.227778</td>\n",
              "      <td>0.86</td>\n",
              "      <td>14.2646</td>\n",
              "      <td>259.0</td>\n",
              "      <td>15.8263</td>\n",
              "      <td>0.0</td>\n",
              "      <td>1015.63</td>\n",
              "      <td>Partly cloudy throughout the day.</td>\n",
              "    </tr>\n",
              "    <tr>\n",
              "      <th>2</th>\n",
              "      <td>2006-04-01 00:00:00+00:00</td>\n",
              "      <td>Mostly Cloudy</td>\n",
              "      <td>rain</td>\n",
              "      <td>9.377778</td>\n",
              "      <td>9.377778</td>\n",
              "      <td>0.89</td>\n",
              "      <td>3.9284</td>\n",
              "      <td>204.0</td>\n",
              "      <td>14.9569</td>\n",
              "      <td>0.0</td>\n",
              "      <td>1015.94</td>\n",
              "      <td>Partly cloudy throughout the day.</td>\n",
              "    </tr>\n",
              "    <tr>\n",
              "      <th>3</th>\n",
              "      <td>2006-04-01 01:00:00+00:00</td>\n",
              "      <td>Partly Cloudy</td>\n",
              "      <td>rain</td>\n",
              "      <td>8.288889</td>\n",
              "      <td>5.944444</td>\n",
              "      <td>0.83</td>\n",
              "      <td>14.1036</td>\n",
              "      <td>269.0</td>\n",
              "      <td>15.8263</td>\n",
              "      <td>0.0</td>\n",
              "      <td>1016.41</td>\n",
              "      <td>Partly cloudy throughout the day.</td>\n",
              "    </tr>\n",
              "    <tr>\n",
              "      <th>4</th>\n",
              "      <td>2006-04-01 02:00:00+00:00</td>\n",
              "      <td>Mostly Cloudy</td>\n",
              "      <td>rain</td>\n",
              "      <td>8.755556</td>\n",
              "      <td>6.977778</td>\n",
              "      <td>0.83</td>\n",
              "      <td>11.0446</td>\n",
              "      <td>259.0</td>\n",
              "      <td>15.8263</td>\n",
              "      <td>0.0</td>\n",
              "      <td>1016.51</td>\n",
              "      <td>Partly cloudy throughout the day.</td>\n",
              "    </tr>\n",
              "  </tbody>\n",
              "</table>\n",
              "</div>"
            ],
            "text/plain": [
              "                       date  ...                       dailysummary\n",
              "0 2006-03-31 22:00:00+00:00  ...  Partly cloudy throughout the day.\n",
              "1 2006-03-31 23:00:00+00:00  ...  Partly cloudy throughout the day.\n",
              "2 2006-04-01 00:00:00+00:00  ...  Partly cloudy throughout the day.\n",
              "3 2006-04-01 01:00:00+00:00  ...  Partly cloudy throughout the day.\n",
              "4 2006-04-01 02:00:00+00:00  ...  Partly cloudy throughout the day.\n",
              "\n",
              "[5 rows x 12 columns]"
            ]
          },
          "metadata": {
            "tags": []
          },
          "execution_count": 3
        }
      ]
    },
    {
      "cell_type": "markdown",
      "metadata": {
        "id": "u5S2bujohp2H",
        "colab_type": "text"
      },
      "source": [
        "*  **2.2 Build a linear regression model where your target variable is the difference between the apparenttemperature and the temperature. As explanatory variables, use humidity and windspeed. Now, estimate your model using OLS. Are the estimated coefficients statistically significant? Are the signs of the estimated coefficients in line with your previous expectations? Interpret the estimated coefficients. What are the relations between the target and the explanatory variables?**\n",
        "\n",
        "\n"
      ]
    },
    {
      "cell_type": "code",
      "metadata": {
        "id": "jf9QH5M0i89I",
        "colab_type": "code",
        "colab": {
          "base_uri": "https://localhost:8080/",
          "height": 465
        },
        "outputId": "daaf8702-633f-4564-bd00-857bbc1d3a82"
      },
      "source": [
        "# Y is the target variable\n",
        "Y = weather_df['apparenttemperature'] - weather_df['temperature']\n",
        "# X is the feature set\n",
        "X = weather_df[['humidity','windspeed']]\n",
        "\n",
        "# add a constant to the features\n",
        "X = sm.add_constant(X)\n",
        "\n",
        "results = sm.OLS(Y, X).fit()\n",
        "\n",
        "results.summary()\n"
      ],
      "execution_count": 4,
      "outputs": [
        {
          "output_type": "execute_result",
          "data": {
            "text/html": [
              "<table class=\"simpletable\">\n",
              "<caption>OLS Regression Results</caption>\n",
              "<tr>\n",
              "  <th>Dep. Variable:</th>            <td>y</td>        <th>  R-squared:         </th>  <td>   0.288</td>  \n",
              "</tr>\n",
              "<tr>\n",
              "  <th>Model:</th>                   <td>OLS</td>       <th>  Adj. R-squared:    </th>  <td>   0.288</td>  \n",
              "</tr>\n",
              "<tr>\n",
              "  <th>Method:</th>             <td>Least Squares</td>  <th>  F-statistic:       </th>  <td>1.949e+04</td> \n",
              "</tr>\n",
              "<tr>\n",
              "  <th>Date:</th>             <td>Sun, 19 Jul 2020</td> <th>  Prob (F-statistic):</th>   <td>  0.00</td>   \n",
              "</tr>\n",
              "<tr>\n",
              "  <th>Time:</th>                 <td>02:05:07</td>     <th>  Log-Likelihood:    </th> <td>-1.7046e+05</td>\n",
              "</tr>\n",
              "<tr>\n",
              "  <th>No. Observations:</th>      <td> 96453</td>      <th>  AIC:               </th>  <td>3.409e+05</td> \n",
              "</tr>\n",
              "<tr>\n",
              "  <th>Df Residuals:</th>          <td> 96450</td>      <th>  BIC:               </th>  <td>3.409e+05</td> \n",
              "</tr>\n",
              "<tr>\n",
              "  <th>Df Model:</th>              <td>     2</td>      <th>                     </th>      <td> </td>     \n",
              "</tr>\n",
              "<tr>\n",
              "  <th>Covariance Type:</th>      <td>nonrobust</td>    <th>                     </th>      <td> </td>     \n",
              "</tr>\n",
              "</table>\n",
              "<table class=\"simpletable\">\n",
              "<tr>\n",
              "      <td></td>         <th>coef</th>     <th>std err</th>      <th>t</th>      <th>P>|t|</th>  <th>[0.025</th>    <th>0.975]</th>  \n",
              "</tr>\n",
              "<tr>\n",
              "  <th>const</th>     <td>    2.4381</td> <td>    0.021</td> <td>  115.948</td> <td> 0.000</td> <td>    2.397</td> <td>    2.479</td>\n",
              "</tr>\n",
              "<tr>\n",
              "  <th>humidity</th>  <td>   -3.0292</td> <td>    0.024</td> <td> -126.479</td> <td> 0.000</td> <td>   -3.076</td> <td>   -2.982</td>\n",
              "</tr>\n",
              "<tr>\n",
              "  <th>windspeed</th> <td>   -0.1193</td> <td>    0.001</td> <td> -176.164</td> <td> 0.000</td> <td>   -0.121</td> <td>   -0.118</td>\n",
              "</tr>\n",
              "</table>\n",
              "<table class=\"simpletable\">\n",
              "<tr>\n",
              "  <th>Omnibus:</th>       <td>3935.747</td> <th>  Durbin-Watson:     </th> <td>   0.267</td>\n",
              "</tr>\n",
              "<tr>\n",
              "  <th>Prob(Omnibus):</th>  <td> 0.000</td>  <th>  Jarque-Bera (JB):  </th> <td>4613.311</td>\n",
              "</tr>\n",
              "<tr>\n",
              "  <th>Skew:</th>           <td>-0.478</td>  <th>  Prob(JB):          </th> <td>    0.00</td>\n",
              "</tr>\n",
              "<tr>\n",
              "  <th>Kurtosis:</th>       <td> 3.484</td>  <th>  Cond. No.          </th> <td>    88.1</td>\n",
              "</tr>\n",
              "</table><br/><br/>Warnings:<br/>[1] Standard Errors assume that the covariance matrix of the errors is correctly specified."
            ],
            "text/plain": [
              "<class 'statsmodels.iolib.summary.Summary'>\n",
              "\"\"\"\n",
              "                            OLS Regression Results                            \n",
              "==============================================================================\n",
              "Dep. Variable:                      y   R-squared:                       0.288\n",
              "Model:                            OLS   Adj. R-squared:                  0.288\n",
              "Method:                 Least Squares   F-statistic:                 1.949e+04\n",
              "Date:                Sun, 19 Jul 2020   Prob (F-statistic):               0.00\n",
              "Time:                        02:05:07   Log-Likelihood:            -1.7046e+05\n",
              "No. Observations:               96453   AIC:                         3.409e+05\n",
              "Df Residuals:                   96450   BIC:                         3.409e+05\n",
              "Df Model:                           2                                         \n",
              "Covariance Type:            nonrobust                                         \n",
              "==============================================================================\n",
              "                 coef    std err          t      P>|t|      [0.025      0.975]\n",
              "------------------------------------------------------------------------------\n",
              "const          2.4381      0.021    115.948      0.000       2.397       2.479\n",
              "humidity      -3.0292      0.024   -126.479      0.000      -3.076      -2.982\n",
              "windspeed     -0.1193      0.001   -176.164      0.000      -0.121      -0.118\n",
              "==============================================================================\n",
              "Omnibus:                     3935.747   Durbin-Watson:                   0.267\n",
              "Prob(Omnibus):                  0.000   Jarque-Bera (JB):             4613.311\n",
              "Skew:                          -0.478   Prob(JB):                         0.00\n",
              "Kurtosis:                       3.484   Cond. No.                         88.1\n",
              "==============================================================================\n",
              "\n",
              "Warnings:\n",
              "[1] Standard Errors assume that the covariance matrix of the errors is correctly specified.\n",
              "\"\"\""
            ]
          },
          "metadata": {
            "tags": []
          },
          "execution_count": 4
        }
      ]
    },
    {
      "cell_type": "markdown",
      "metadata": {
        "id": "iUH4j_QzjArQ",
        "colab_type": "text"
      },
      "source": [
        "\n",
        "\n",
        "All of the estimated coefficients are statistically significant as their p-values are way less than 0.05.\n",
        "\n",
        "We can expect that as humidity increases the difference between the apparent temperature and the temperature also increases. However, according to our estimations the sign of the coefficient of the humidity is negative. We may also expect that the difference of the apparent tempereture and the temperature negatively related with the wind speed as our estimation says so.\n",
        "\n",
        "According to the estimated model, 1 point increase in the humidity results in 3.03 points decrease in the target. 1 point increase in the windspeed is associated with 0.12 point decrease in our target.\n",
        "\n",
        "\n",
        "\n",
        "\n",
        "\n"
      ]
    },
    {
      "cell_type": "markdown",
      "metadata": {
        "id": "53fkRAkslMjy",
        "colab_type": "text"
      },
      "source": [
        "*   **2.3 Next, include the interaction of humidity and windspeed to the model above and estimate the model using OLS. Are the coefficients statistically significant? Did the signs of the estimated coefficients for humidity and windspeed change? Interpret the estimated coefficients.**\n",
        "\n",
        "\n"
      ]
    },
    {
      "cell_type": "code",
      "metadata": {
        "id": "iRG58ePhi-pc",
        "colab_type": "code",
        "colab": {
          "base_uri": "https://localhost:8080/",
          "height": 486
        },
        "outputId": "369930ab-8904-49d5-a7ad-818d3ebb1188"
      },
      "source": [
        "\n",
        "weather_df['humidity_windspeed_interaction'] = weather_df.humidity * weather_df.windspeed\n",
        "\n",
        "# Y is the target variable\n",
        "Y = weather_df['apparenttemperature'] - weather_df['temperature']\n",
        "# X is the feature set\n",
        "X = weather_df[['humidity','windspeed', 'humidity_windspeed_interaction']]\n",
        "\n",
        "X = sm.add_constant(X)\n",
        "\n",
        "results = sm.OLS(Y, X).fit()\n",
        "\n",
        "results.summary()"
      ],
      "execution_count": 5,
      "outputs": [
        {
          "output_type": "execute_result",
          "data": {
            "text/html": [
              "<table class=\"simpletable\">\n",
              "<caption>OLS Regression Results</caption>\n",
              "<tr>\n",
              "  <th>Dep. Variable:</th>            <td>y</td>        <th>  R-squared:         </th>  <td>   0.341</td>  \n",
              "</tr>\n",
              "<tr>\n",
              "  <th>Model:</th>                   <td>OLS</td>       <th>  Adj. R-squared:    </th>  <td>   0.341</td>  \n",
              "</tr>\n",
              "<tr>\n",
              "  <th>Method:</th>             <td>Least Squares</td>  <th>  F-statistic:       </th>  <td>1.666e+04</td> \n",
              "</tr>\n",
              "<tr>\n",
              "  <th>Date:</th>             <td>Sun, 19 Jul 2020</td> <th>  Prob (F-statistic):</th>   <td>  0.00</td>   \n",
              "</tr>\n",
              "<tr>\n",
              "  <th>Time:</th>                 <td>02:05:08</td>     <th>  Log-Likelihood:    </th> <td>-1.6669e+05</td>\n",
              "</tr>\n",
              "<tr>\n",
              "  <th>No. Observations:</th>      <td> 96453</td>      <th>  AIC:               </th>  <td>3.334e+05</td> \n",
              "</tr>\n",
              "<tr>\n",
              "  <th>Df Residuals:</th>          <td> 96449</td>      <th>  BIC:               </th>  <td>3.334e+05</td> \n",
              "</tr>\n",
              "<tr>\n",
              "  <th>Df Model:</th>              <td>     3</td>      <th>                     </th>      <td> </td>     \n",
              "</tr>\n",
              "<tr>\n",
              "  <th>Covariance Type:</th>      <td>nonrobust</td>    <th>                     </th>      <td> </td>     \n",
              "</tr>\n",
              "</table>\n",
              "<table class=\"simpletable\">\n",
              "<tr>\n",
              "                 <td></td>                   <th>coef</th>     <th>std err</th>      <th>t</th>      <th>P>|t|</th>  <th>[0.025</th>    <th>0.975]</th>  \n",
              "</tr>\n",
              "<tr>\n",
              "  <th>const</th>                          <td>    0.0839</td> <td>    0.033</td> <td>    2.511</td> <td> 0.012</td> <td>    0.018</td> <td>    0.149</td>\n",
              "</tr>\n",
              "<tr>\n",
              "  <th>humidity</th>                       <td>    0.1775</td> <td>    0.043</td> <td>    4.133</td> <td> 0.000</td> <td>    0.093</td> <td>    0.262</td>\n",
              "</tr>\n",
              "<tr>\n",
              "  <th>windspeed</th>                      <td>    0.0905</td> <td>    0.002</td> <td>   36.797</td> <td> 0.000</td> <td>    0.086</td> <td>    0.095</td>\n",
              "</tr>\n",
              "<tr>\n",
              "  <th>humidity_windspeed_interaction</th> <td>   -0.2971</td> <td>    0.003</td> <td>  -88.470</td> <td> 0.000</td> <td>   -0.304</td> <td>   -0.291</td>\n",
              "</tr>\n",
              "</table>\n",
              "<table class=\"simpletable\">\n",
              "<tr>\n",
              "  <th>Omnibus:</th>       <td>4849.937</td> <th>  Durbin-Watson:     </th> <td>   0.265</td>\n",
              "</tr>\n",
              "<tr>\n",
              "  <th>Prob(Omnibus):</th>  <td> 0.000</td>  <th>  Jarque-Bera (JB):  </th> <td>9295.404</td>\n",
              "</tr>\n",
              "<tr>\n",
              "  <th>Skew:</th>           <td>-0.378</td>  <th>  Prob(JB):          </th> <td>    0.00</td>\n",
              "</tr>\n",
              "<tr>\n",
              "  <th>Kurtosis:</th>       <td> 4.320</td>  <th>  Cond. No.          </th> <td>    193.</td>\n",
              "</tr>\n",
              "</table><br/><br/>Warnings:<br/>[1] Standard Errors assume that the covariance matrix of the errors is correctly specified."
            ],
            "text/plain": [
              "<class 'statsmodels.iolib.summary.Summary'>\n",
              "\"\"\"\n",
              "                            OLS Regression Results                            \n",
              "==============================================================================\n",
              "Dep. Variable:                      y   R-squared:                       0.341\n",
              "Model:                            OLS   Adj. R-squared:                  0.341\n",
              "Method:                 Least Squares   F-statistic:                 1.666e+04\n",
              "Date:                Sun, 19 Jul 2020   Prob (F-statistic):               0.00\n",
              "Time:                        02:05:08   Log-Likelihood:            -1.6669e+05\n",
              "No. Observations:               96453   AIC:                         3.334e+05\n",
              "Df Residuals:                   96449   BIC:                         3.334e+05\n",
              "Df Model:                           3                                         \n",
              "Covariance Type:            nonrobust                                         \n",
              "==================================================================================================\n",
              "                                     coef    std err          t      P>|t|      [0.025      0.975]\n",
              "--------------------------------------------------------------------------------------------------\n",
              "const                              0.0839      0.033      2.511      0.012       0.018       0.149\n",
              "humidity                           0.1775      0.043      4.133      0.000       0.093       0.262\n",
              "windspeed                          0.0905      0.002     36.797      0.000       0.086       0.095\n",
              "humidity_windspeed_interaction    -0.2971      0.003    -88.470      0.000      -0.304      -0.291\n",
              "==============================================================================\n",
              "Omnibus:                     4849.937   Durbin-Watson:                   0.265\n",
              "Prob(Omnibus):                  0.000   Jarque-Bera (JB):             9295.404\n",
              "Skew:                          -0.378   Prob(JB):                         0.00\n",
              "Kurtosis:                       4.320   Cond. No.                         193.\n",
              "==============================================================================\n",
              "\n",
              "Warnings:\n",
              "[1] Standard Errors assume that the covariance matrix of the errors is correctly specified.\n",
              "\"\"\""
            ]
          },
          "metadata": {
            "tags": []
          },
          "execution_count": 5
        }
      ]
    },
    {
      "cell_type": "markdown",
      "metadata": {
        "id": "B_u0NOdujPvd",
        "colab_type": "text"
      },
      "source": [
        "\n",
        "\n",
        "*   Similar to the previous model, all of the coefficients are statistically significant as their p-values are less than 0.05.\n",
        "\n",
        "*   Signs of the both humidity and windspeed changed from negative to the positive when we include the intereaction term.\n",
        "\n",
        "*   According to the model, 1 point increase in the humidity and windspeed results in 0.18 and 0.09 point increases in the target respectively.\n",
        "\n",
        "*   The combined effect of wind and humidity has changed coefficients a lot. The constant is a 0.839 degrees bias, humidity has a much lower effect on temperature difference. This time, 1 point increase in the humidity and windspeed results in 0.18 and 0.09 point increases in the target respectively.\n",
        "\n"
      ]
    },
    {
      "cell_type": "markdown",
      "metadata": {
        "id": "NBC6FJKcjnXm",
        "colab_type": "text"
      },
      "source": [
        "#Exercise 3: House prices model\n",
        "In this exercise, you'll interpret your house prices model. To complete this assignment, submit a link to a Jupyter notebook containing your solutions to the following tasks:\n",
        "\n",
        "**3.1** Load the houseprices data from Thinkful's database.\n",
        "\n",
        "**3.2** Run your house prices model again and interpret the results. Which features are statistically significant, and which are not?\n",
        "\n",
        "**3.3** Now, exclude the insignificant features from your model. Did anything change?\n",
        "\n",
        "**3.4** Interpret the statistically significant coefficients by quantifying their relations with the house prices. Which features have a more prominent effect on house prices?\n",
        "\n",
        "\n",
        "\n",
        "\n"
      ]
    },
    {
      "cell_type": "markdown",
      "metadata": {
        "id": "lIouuOCUr6rV",
        "colab_type": "text"
      },
      "source": [
        "*   **3.1 Load the houseprices data from Thinkful's database.**"
      ]
    },
    {
      "cell_type": "code",
      "metadata": {
        "id": "eV5BdBbFjOOD",
        "colab_type": "code",
        "colab": {}
      },
      "source": [
        "\n",
        "import numpy as np\n",
        "import pandas as pd\n",
        "import matplotlib.pyplot as plt\n",
        "from sqlalchemy import create_engine\n",
        "import statsmodels.api as sm\n",
        "\n",
        "import warnings\n",
        "warnings.filterwarnings('ignore')\n",
        "\n",
        "postgres_user = 'dsbc_student'\n",
        "postgres_pw = '7*.8G9QH21'\n",
        "postgres_host = '142.93.121.174'\n",
        "postgres_port = '5432'\n",
        "postgres_db = 'houseprices'"
      ],
      "execution_count": 6,
      "outputs": []
    },
    {
      "cell_type": "code",
      "metadata": {
        "id": "N2OELN56jucV",
        "colab_type": "code",
        "colab": {}
      },
      "source": [
        "engine = create_engine('postgresql://{}:{}@{}:{}/{}'.format(\n",
        "    postgres_user, postgres_pw, postgres_host, postgres_port, postgres_db))\n",
        "house_prices_df = pd.read_sql_query('select * from houseprices',con=engine)\n",
        "\n",
        "# no need for an open connection, as we're only doing a single query\n",
        "engine.dispose()"
      ],
      "execution_count": 7,
      "outputs": []
    },
    {
      "cell_type": "markdown",
      "metadata": {
        "id": "S-nSi5UZuU4s",
        "colab_type": "text"
      },
      "source": [
        "\n",
        "*   **3.2 Run your house prices model again and interpret the results. Which features are statistically significant, and which are not?**\n",
        "\n",
        "\n"
      ]
    },
    {
      "cell_type": "code",
      "metadata": {
        "id": "BPufxPYbjwcO",
        "colab_type": "code",
        "colab": {}
      },
      "source": [
        "house_prices_df = pd.concat([house_prices_df,pd.get_dummies(house_prices_df.mszoning, prefix=\"mszoning\", drop_first=True)], axis=1)\n",
        "house_prices_df = pd.concat([house_prices_df,pd.get_dummies(house_prices_df.street, prefix=\"street\", drop_first=True)], axis=1)\n",
        "dummy_column_names = list(pd.get_dummies(house_prices_df.mszoning, prefix=\"mszoning\", drop_first=True).columns)\n",
        "dummy_column_names = dummy_column_names + list(pd.get_dummies(house_prices_df.street, prefix=\"street\", drop_first=True).columns)"
      ],
      "execution_count": 8,
      "outputs": []
    },
    {
      "cell_type": "code",
      "metadata": {
        "id": "OmcvL7lQjyda",
        "colab_type": "code",
        "colab": {
          "base_uri": "https://localhost:8080/",
          "height": 667
        },
        "outputId": "8732e9ce-60fc-40ef-b0d7-61039fb0210e"
      },
      "source": [
        "\n",
        "# Y is the target variable\n",
        "Y = house_prices_df['saleprice']\n",
        "# X is the feature set\n",
        "X = house_prices_df[['overallqual', 'grlivarea', 'garagecars', 'garagearea', 'totalbsmtsf'] + dummy_column_names]\n",
        "\n",
        "X = sm.add_constant(X)\n",
        "\n",
        "results = sm.OLS(Y, X).fit()\n",
        "\n",
        "results.summary()"
      ],
      "execution_count": 9,
      "outputs": [
        {
          "output_type": "execute_result",
          "data": {
            "text/html": [
              "<table class=\"simpletable\">\n",
              "<caption>OLS Regression Results</caption>\n",
              "<tr>\n",
              "  <th>Dep. Variable:</th>        <td>saleprice</td>    <th>  R-squared:         </th> <td>   0.769</td> \n",
              "</tr>\n",
              "<tr>\n",
              "  <th>Model:</th>                   <td>OLS</td>       <th>  Adj. R-squared:    </th> <td>   0.767</td> \n",
              "</tr>\n",
              "<tr>\n",
              "  <th>Method:</th>             <td>Least Squares</td>  <th>  F-statistic:       </th> <td>   482.0</td> \n",
              "</tr>\n",
              "<tr>\n",
              "  <th>Date:</th>             <td>Sun, 19 Jul 2020</td> <th>  Prob (F-statistic):</th>  <td>  0.00</td>  \n",
              "</tr>\n",
              "<tr>\n",
              "  <th>Time:</th>                 <td>02:05:10</td>     <th>  Log-Likelihood:    </th> <td> -17475.</td> \n",
              "</tr>\n",
              "<tr>\n",
              "  <th>No. Observations:</th>      <td>  1460</td>      <th>  AIC:               </th> <td>3.497e+04</td>\n",
              "</tr>\n",
              "<tr>\n",
              "  <th>Df Residuals:</th>          <td>  1449</td>      <th>  BIC:               </th> <td>3.503e+04</td>\n",
              "</tr>\n",
              "<tr>\n",
              "  <th>Df Model:</th>              <td>    10</td>      <th>                     </th>     <td> </td>    \n",
              "</tr>\n",
              "<tr>\n",
              "  <th>Covariance Type:</th>      <td>nonrobust</td>    <th>                     </th>     <td> </td>    \n",
              "</tr>\n",
              "</table>\n",
              "<table class=\"simpletable\">\n",
              "<tr>\n",
              "       <td></td>          <th>coef</th>     <th>std err</th>      <th>t</th>      <th>P>|t|</th>  <th>[0.025</th>    <th>0.975]</th>  \n",
              "</tr>\n",
              "<tr>\n",
              "  <th>const</th>       <td>-1.173e+05</td> <td>  1.8e+04</td> <td>   -6.502</td> <td> 0.000</td> <td>-1.53e+05</td> <td>-8.19e+04</td>\n",
              "</tr>\n",
              "<tr>\n",
              "  <th>overallqual</th> <td> 2.333e+04</td> <td> 1088.506</td> <td>   21.430</td> <td> 0.000</td> <td> 2.12e+04</td> <td> 2.55e+04</td>\n",
              "</tr>\n",
              "<tr>\n",
              "  <th>grlivarea</th>   <td>   45.6344</td> <td>    2.468</td> <td>   18.494</td> <td> 0.000</td> <td>   40.794</td> <td>   50.475</td>\n",
              "</tr>\n",
              "<tr>\n",
              "  <th>garagecars</th>  <td> 1.345e+04</td> <td> 2990.453</td> <td>    4.498</td> <td> 0.000</td> <td> 7584.056</td> <td> 1.93e+04</td>\n",
              "</tr>\n",
              "<tr>\n",
              "  <th>garagearea</th>  <td>   16.4082</td> <td>   10.402</td> <td>    1.577</td> <td> 0.115</td> <td>   -3.997</td> <td>   36.813</td>\n",
              "</tr>\n",
              "<tr>\n",
              "  <th>totalbsmtsf</th> <td>   28.3816</td> <td>    2.931</td> <td>    9.684</td> <td> 0.000</td> <td>   22.633</td> <td>   34.131</td>\n",
              "</tr>\n",
              "<tr>\n",
              "  <th>mszoning_FV</th> <td> 2.509e+04</td> <td> 1.37e+04</td> <td>    1.833</td> <td> 0.067</td> <td>-1761.679</td> <td> 5.19e+04</td>\n",
              "</tr>\n",
              "<tr>\n",
              "  <th>mszoning_RH</th> <td> 1.342e+04</td> <td> 1.58e+04</td> <td>    0.847</td> <td> 0.397</td> <td>-1.77e+04</td> <td> 4.45e+04</td>\n",
              "</tr>\n",
              "<tr>\n",
              "  <th>mszoning_RL</th> <td> 2.857e+04</td> <td> 1.27e+04</td> <td>    2.246</td> <td> 0.025</td> <td> 3612.782</td> <td> 5.35e+04</td>\n",
              "</tr>\n",
              "<tr>\n",
              "  <th>mszoning_RM</th> <td> 9047.7894</td> <td> 1.29e+04</td> <td>    0.702</td> <td> 0.483</td> <td>-1.62e+04</td> <td> 3.43e+04</td>\n",
              "</tr>\n",
              "<tr>\n",
              "  <th>street_Pave</th> <td>  151.0376</td> <td> 1.63e+04</td> <td>    0.009</td> <td> 0.993</td> <td>-3.18e+04</td> <td> 3.21e+04</td>\n",
              "</tr>\n",
              "</table>\n",
              "<table class=\"simpletable\">\n",
              "<tr>\n",
              "  <th>Omnibus:</th>       <td>415.883</td> <th>  Durbin-Watson:     </th> <td>   1.979</td> \n",
              "</tr>\n",
              "<tr>\n",
              "  <th>Prob(Omnibus):</th> <td> 0.000</td>  <th>  Jarque-Bera (JB):  </th> <td>41281.526</td>\n",
              "</tr>\n",
              "<tr>\n",
              "  <th>Skew:</th>          <td>-0.115</td>  <th>  Prob(JB):          </th> <td>    0.00</td> \n",
              "</tr>\n",
              "<tr>\n",
              "  <th>Kurtosis:</th>      <td>29.049</td>  <th>  Cond. No.          </th> <td>5.53e+04</td> \n",
              "</tr>\n",
              "</table><br/><br/>Warnings:<br/>[1] Standard Errors assume that the covariance matrix of the errors is correctly specified.<br/>[2] The condition number is large, 5.53e+04. This might indicate that there are<br/>strong multicollinearity or other numerical problems."
            ],
            "text/plain": [
              "<class 'statsmodels.iolib.summary.Summary'>\n",
              "\"\"\"\n",
              "                            OLS Regression Results                            \n",
              "==============================================================================\n",
              "Dep. Variable:              saleprice   R-squared:                       0.769\n",
              "Model:                            OLS   Adj. R-squared:                  0.767\n",
              "Method:                 Least Squares   F-statistic:                     482.0\n",
              "Date:                Sun, 19 Jul 2020   Prob (F-statistic):               0.00\n",
              "Time:                        02:05:10   Log-Likelihood:                -17475.\n",
              "No. Observations:                1460   AIC:                         3.497e+04\n",
              "Df Residuals:                    1449   BIC:                         3.503e+04\n",
              "Df Model:                          10                                         \n",
              "Covariance Type:            nonrobust                                         \n",
              "===============================================================================\n",
              "                  coef    std err          t      P>|t|      [0.025      0.975]\n",
              "-------------------------------------------------------------------------------\n",
              "const       -1.173e+05    1.8e+04     -6.502      0.000   -1.53e+05   -8.19e+04\n",
              "overallqual  2.333e+04   1088.506     21.430      0.000    2.12e+04    2.55e+04\n",
              "grlivarea      45.6344      2.468     18.494      0.000      40.794      50.475\n",
              "garagecars   1.345e+04   2990.453      4.498      0.000    7584.056    1.93e+04\n",
              "garagearea     16.4082     10.402      1.577      0.115      -3.997      36.813\n",
              "totalbsmtsf    28.3816      2.931      9.684      0.000      22.633      34.131\n",
              "mszoning_FV  2.509e+04   1.37e+04      1.833      0.067   -1761.679    5.19e+04\n",
              "mszoning_RH  1.342e+04   1.58e+04      0.847      0.397   -1.77e+04    4.45e+04\n",
              "mszoning_RL  2.857e+04   1.27e+04      2.246      0.025    3612.782    5.35e+04\n",
              "mszoning_RM  9047.7894   1.29e+04      0.702      0.483   -1.62e+04    3.43e+04\n",
              "street_Pave   151.0376   1.63e+04      0.009      0.993   -3.18e+04    3.21e+04\n",
              "==============================================================================\n",
              "Omnibus:                      415.883   Durbin-Watson:                   1.979\n",
              "Prob(Omnibus):                  0.000   Jarque-Bera (JB):            41281.526\n",
              "Skew:                          -0.115   Prob(JB):                         0.00\n",
              "Kurtosis:                      29.049   Cond. No.                     5.53e+04\n",
              "==============================================================================\n",
              "\n",
              "Warnings:\n",
              "[1] Standard Errors assume that the covariance matrix of the errors is correctly specified.\n",
              "[2] The condition number is large, 5.53e+04. This might indicate that there are\n",
              "strong multicollinearity or other numerical problems.\n",
              "\"\"\""
            ]
          },
          "metadata": {
            "tags": []
          },
          "execution_count": 9
        }
      ]
    },
    {
      "cell_type": "markdown",
      "metadata": {
        "id": "PETsBpWNj4H2",
        "colab_type": "text"
      },
      "source": [
        "\n",
        "The statistically significant variables are overallqual, grlivarea, garagecars, totalbsmtsf, mszoning_FV and mszoning_RL. All the other variables are statistically insignificant and hence their coefficients are statistically zero. According to the estimation results:\n",
        "\n",
        "1 point increase in overallqual results in \\$23330 increase in sale price.\n",
        "\n",
        "1 point increase in grlivarea results in \\$45.6344 increase in sale price.\n",
        "\n",
        "1 point increase in garagecars results in \\$13450 increase in sale price.\n",
        "\n",
        "1 point increase in totalbsmtsf results in \\$28.3816 increase in sale price.\n",
        "\n",
        "Average sale price is higher in mszoning_FV and mszoning_RL than the base zone by \\$25090 and \\$28570 respectively. So, the average house price is the highest in mszoning_RL.\n"
      ]
    },
    {
      "cell_type": "markdown",
      "metadata": {
        "id": "6jOZQCzlvTXO",
        "colab_type": "text"
      },
      "source": [
        "*   **3.2 Now, exclude the insignificant features from your model. Did anything change?**\n",
        "\n"
      ]
    },
    {
      "cell_type": "code",
      "metadata": {
        "id": "Zp14IYMQj3B6",
        "colab_type": "code",
        "colab": {
          "base_uri": "https://localhost:8080/",
          "height": 583
        },
        "outputId": "78976af1-0b0e-4ce8-8b2f-43a225d8e250"
      },
      "source": [
        "# Y is the target variable\n",
        "Y = house_prices_df['saleprice']\n",
        "# X is the feature set\n",
        "X = house_prices_df[['overallqual', 'grlivarea', 'garagecars', 'totalbsmtsf', 'mszoning_FV', 'mszoning_RL']]\n",
        "\n",
        "X = sm.add_constant(X)\n",
        "\n",
        "results = sm.OLS(Y, X).fit()\n",
        "\n",
        "results.summary()"
      ],
      "execution_count": 10,
      "outputs": [
        {
          "output_type": "execute_result",
          "data": {
            "text/html": [
              "<table class=\"simpletable\">\n",
              "<caption>OLS Regression Results</caption>\n",
              "<tr>\n",
              "  <th>Dep. Variable:</th>        <td>saleprice</td>    <th>  R-squared:         </th> <td>   0.768</td> \n",
              "</tr>\n",
              "<tr>\n",
              "  <th>Model:</th>                   <td>OLS</td>       <th>  Adj. R-squared:    </th> <td>   0.767</td> \n",
              "</tr>\n",
              "<tr>\n",
              "  <th>Method:</th>             <td>Least Squares</td>  <th>  F-statistic:       </th> <td>   803.3</td> \n",
              "</tr>\n",
              "<tr>\n",
              "  <th>Date:</th>             <td>Sun, 19 Jul 2020</td> <th>  Prob (F-statistic):</th>  <td>  0.00</td>  \n",
              "</tr>\n",
              "<tr>\n",
              "  <th>Time:</th>                 <td>02:05:10</td>     <th>  Log-Likelihood:    </th> <td> -17476.</td> \n",
              "</tr>\n",
              "<tr>\n",
              "  <th>No. Observations:</th>      <td>  1460</td>      <th>  AIC:               </th> <td>3.497e+04</td>\n",
              "</tr>\n",
              "<tr>\n",
              "  <th>Df Residuals:</th>          <td>  1453</td>      <th>  BIC:               </th> <td>3.500e+04</td>\n",
              "</tr>\n",
              "<tr>\n",
              "  <th>Df Model:</th>              <td>     6</td>      <th>                     </th>     <td> </td>    \n",
              "</tr>\n",
              "<tr>\n",
              "  <th>Covariance Type:</th>      <td>nonrobust</td>    <th>                     </th>     <td> </td>    \n",
              "</tr>\n",
              "</table>\n",
              "<table class=\"simpletable\">\n",
              "<tr>\n",
              "       <td></td>          <th>coef</th>     <th>std err</th>      <th>t</th>      <th>P>|t|</th>  <th>[0.025</th>    <th>0.975]</th>  \n",
              "</tr>\n",
              "<tr>\n",
              "  <th>const</th>       <td>-1.087e+05</td> <td> 4792.537</td> <td>  -22.674</td> <td> 0.000</td> <td>-1.18e+05</td> <td>-9.93e+04</td>\n",
              "</tr>\n",
              "<tr>\n",
              "  <th>overallqual</th> <td> 2.332e+04</td> <td> 1078.278</td> <td>   21.628</td> <td> 0.000</td> <td> 2.12e+04</td> <td> 2.54e+04</td>\n",
              "</tr>\n",
              "<tr>\n",
              "  <th>grlivarea</th>   <td>   45.9659</td> <td>    2.452</td> <td>   18.743</td> <td> 0.000</td> <td>   41.155</td> <td>   50.777</td>\n",
              "</tr>\n",
              "<tr>\n",
              "  <th>garagecars</th>  <td> 1.721e+04</td> <td> 1732.720</td> <td>    9.931</td> <td> 0.000</td> <td> 1.38e+04</td> <td> 2.06e+04</td>\n",
              "</tr>\n",
              "<tr>\n",
              "  <th>totalbsmtsf</th> <td>   29.3276</td> <td>    2.858</td> <td>   10.261</td> <td> 0.000</td> <td>   23.721</td> <td>   34.934</td>\n",
              "</tr>\n",
              "<tr>\n",
              "  <th>mszoning_FV</th> <td> 1.679e+04</td> <td> 5560.901</td> <td>    3.020</td> <td> 0.003</td> <td> 5885.005</td> <td> 2.77e+04</td>\n",
              "</tr>\n",
              "<tr>\n",
              "  <th>mszoning_RL</th> <td> 1.968e+04</td> <td> 2833.445</td> <td>    6.946</td> <td> 0.000</td> <td> 1.41e+04</td> <td> 2.52e+04</td>\n",
              "</tr>\n",
              "</table>\n",
              "<table class=\"simpletable\">\n",
              "<tr>\n",
              "  <th>Omnibus:</th>       <td>406.420</td> <th>  Durbin-Watson:     </th> <td>   1.977</td> \n",
              "</tr>\n",
              "<tr>\n",
              "  <th>Prob(Omnibus):</th> <td> 0.000</td>  <th>  Jarque-Bera (JB):  </th> <td>37605.498</td>\n",
              "</tr>\n",
              "<tr>\n",
              "  <th>Skew:</th>          <td>-0.057</td>  <th>  Prob(JB):          </th> <td>    0.00</td> \n",
              "</tr>\n",
              "<tr>\n",
              "  <th>Kurtosis:</th>      <td>27.863</td>  <th>  Cond. No.          </th> <td>1.11e+04</td> \n",
              "</tr>\n",
              "</table><br/><br/>Warnings:<br/>[1] Standard Errors assume that the covariance matrix of the errors is correctly specified.<br/>[2] The condition number is large, 1.11e+04. This might indicate that there are<br/>strong multicollinearity or other numerical problems."
            ],
            "text/plain": [
              "<class 'statsmodels.iolib.summary.Summary'>\n",
              "\"\"\"\n",
              "                            OLS Regression Results                            \n",
              "==============================================================================\n",
              "Dep. Variable:              saleprice   R-squared:                       0.768\n",
              "Model:                            OLS   Adj. R-squared:                  0.767\n",
              "Method:                 Least Squares   F-statistic:                     803.3\n",
              "Date:                Sun, 19 Jul 2020   Prob (F-statistic):               0.00\n",
              "Time:                        02:05:10   Log-Likelihood:                -17476.\n",
              "No. Observations:                1460   AIC:                         3.497e+04\n",
              "Df Residuals:                    1453   BIC:                         3.500e+04\n",
              "Df Model:                           6                                         \n",
              "Covariance Type:            nonrobust                                         \n",
              "===============================================================================\n",
              "                  coef    std err          t      P>|t|      [0.025      0.975]\n",
              "-------------------------------------------------------------------------------\n",
              "const       -1.087e+05   4792.537    -22.674      0.000   -1.18e+05   -9.93e+04\n",
              "overallqual  2.332e+04   1078.278     21.628      0.000    2.12e+04    2.54e+04\n",
              "grlivarea      45.9659      2.452     18.743      0.000      41.155      50.777\n",
              "garagecars   1.721e+04   1732.720      9.931      0.000    1.38e+04    2.06e+04\n",
              "totalbsmtsf    29.3276      2.858     10.261      0.000      23.721      34.934\n",
              "mszoning_FV  1.679e+04   5560.901      3.020      0.003    5885.005    2.77e+04\n",
              "mszoning_RL  1.968e+04   2833.445      6.946      0.000    1.41e+04    2.52e+04\n",
              "==============================================================================\n",
              "Omnibus:                      406.420   Durbin-Watson:                   1.977\n",
              "Prob(Omnibus):                  0.000   Jarque-Bera (JB):            37605.498\n",
              "Skew:                          -0.057   Prob(JB):                         0.00\n",
              "Kurtosis:                      27.863   Cond. No.                     1.11e+04\n",
              "==============================================================================\n",
              "\n",
              "Warnings:\n",
              "[1] Standard Errors assume that the covariance matrix of the errors is correctly specified.\n",
              "[2] The condition number is large, 1.11e+04. This might indicate that there are\n",
              "strong multicollinearity or other numerical problems.\n",
              "\"\"\""
            ]
          },
          "metadata": {
            "tags": []
          },
          "execution_count": 10
        }
      ]
    },
    {
      "cell_type": "markdown",
      "metadata": {
        "id": "tv0ZxzMAkH6N",
        "colab_type": "text"
      },
      "source": [
        "The results resemble the previous model's results. The estimated coefficients are close to the previous model except the dummy variables. The coefficients of the dummies changed relatively larger than the other variables."
      ]
    },
    {
      "cell_type": "markdown",
      "metadata": {
        "id": "jimzdl_JwtoZ",
        "colab_type": "text"
      },
      "source": [
        "* **3.4 Interpret the statistically significant coefficients by quantifying their relations with the house prices. Which features have a more prominent effect on house prices?**"
      ]
    },
    {
      "cell_type": "markdown",
      "metadata": {
        "id": "uMkazu8iwycU",
        "colab_type": "text"
      },
      "source": [
        "Considering the results, the most prominent factors affecting the sale price seem to be the overallqual and the mszoning."
      ]
    }
  ]
}
